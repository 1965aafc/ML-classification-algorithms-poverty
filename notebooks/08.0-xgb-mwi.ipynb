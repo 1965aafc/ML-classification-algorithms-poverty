{
 "cells": [
  {
   "cell_type": "markdown",
   "metadata": {},
   "source": [
    "<h1 style=\"text-align: center;\" markdown=\"1\">Machine Learning Algorithms for Poverty Prediction</h1> \n",
    "<h2 style=\"text-align: center;\" markdown=\"2\">A project of the World Bank's Knowledge for Change Program</h2>\n",
    "<h3 style=\"text-align: center;\" markdown=\"3\">(KCP, Grant TF0A4534)</h3>\n",
    "\n",
    "\n",
    "> *This notebook is part of a series that has been developed as an empirical comparative assessment of machine learning classification algorithms applied to poverty prediction. The objectives of this project are to explore how well machine learning algorithms perform when given the task to identify the poor in a given population, and to provide a resource of machine learning techniques for researchers, data scientists, and statisticians in developing countries.*"
   ]
  },
  {
   "cell_type": "markdown",
   "metadata": {},
   "source": [
    "<h1 style=\"text-align: center;\" markdown=\"3\">Algorithm 8 - XGBoost Classifier</h1> \n",
    "<h2 style=\"text-align: center;\" markdown=\"3\">Part 1: Malawi Poverty Prediction</h2> "
   ]
  },
  {
   "cell_type": "markdown",
   "metadata": {},
   "source": [
    "# Table of Contents\n",
    "[Introduction](#introduction)  \n",
    "&nbsp;&nbsp;&nbsp;[Explanation and Theory](#introduction-theory)  \n",
    "&nbsp;&nbsp;&nbsp;[Considerations](#introduction-considerations)  \n",
    "[Data Setup](#setup)  \n",
    "[XGBoost Classifier](#xgboost-model)  \n",
    "&nbsp;&nbsp;&nbsp;[Include All Features](#all-feats)  \n",
    "&nbsp;&nbsp;&nbsp;[Tune Parameters and Cross-Validate](#tune-cv)  \n",
    "[Feature Selection](#feature-selection)  \n",
    "[Summary](#summary)"
   ]
  },
  {
   "cell_type": "markdown",
   "metadata": {},
   "source": [
    "# XGBoost Classifier Introduction <a class=\"anchor\" id=\"introduction\"></a>\n",
    "\n",
    "XGBoost is a popular software package that implements a type of boosting called gradient boosting. The key idea here is that of _boosting_: an ensemble method in which contributions from many weak learners are combined to make a single strong learner. A weak learner is barely correlated with the truth, correct perhaps 53% of the time. Most approaches to boosting combine a weighted sum of many weak learners to yield a strong learner, highly correlated with the correct output. Gradient boosting provides a general framework in which an arbitrary differntiable loss function can be optimized. As with random forests, the methodology used in boosting is general and need not to refer to a decision tree context, but decision tree stumps (shallow trees) are a popular choice of weak learner. "
   ]
  },
  {
   "cell_type": "markdown",
   "metadata": {},
   "source": [
    "## Explanation and Theory <a class=\"anchor\" id=\"introduction-theory\"></a>\n",
    "\n",
    "**Assumptions and properties.** As mentioned above, the gradient boosting framework is not inherently related to decision trees. However, since trees are a popular choice of weak learner, the discussion here will assume a context of trees. This means that everything discussed in the [decision trees notebook](6.0-dt-mwi.ipynb) applies here, except that the gradient boosting approach mitigates problems with bias and variance.\n",
    "\n",
    "**Algorithm and Training.** We will first introduce boosting as stagewise additive modeling, and then consider the role of gradients.\n",
    "\n",
    "Boosting is an iterative process that starts with a simple base learner. For example, consider a decision tree with a single split (this is called a decision stump). That split is made on the basis of optimizing some loss function. Of course, the split doesn't get everything right. The difference between the predicted and true values is called a residual. There is a residual associated to each training point.\n",
    "\n",
    "The key idea in boosting is to utilize those residuals and their labels as training data to fit _another_ weak learner, or in our case another stump. Now we have two stumps, and each one uses all of the training data at hand (as opposed to a restricted subset of the data as in normal tree growing procedures). Next, we update the model by adding the new stump to the previous ones as a weighted sum. The weight $\\gamma_{m}$ of the $m^{th}$ weak learner is determined as the value that minimizes the loss function when used as the weight. The model is now updated with the new \"expert knowledge\" of the $m^{th}$ weak learner, and process is repeated until a stopping condition is met.\n",
    "\n",
    "Boosting becomes gradient boosting when, instead of fitting the next weak learner to the _residuals_ of the current model, one fits the next weak learner to the values produced by evaluating the gradient of the loss function (with respect to the predictions of the current model). These values are called _pseudo-residuals_ and we now say that the next base learner is fit to the pseudo-residuals of the previous step. As in regualr boosting, the addition of the next weak learner is weighted by a value that minimizes loss.\n",
    "\n",
    "\n",
    "The learning procedure continues in this fashion until a stopping condition is met. A common approach to stopping involves training on subsamples of data, measuring the out-of-bag (OOB) error at each step, and stopping once the error levels out. Another approach would be to simply stop after $m$ weak learners have been trained."
   ]
  },
  {
   "cell_type": "markdown",
   "metadata": {},
   "source": [
    "## Considerations <a class=\"anchor\" id=\"introduction-considerations\"></a>\n",
    "\n",
    "We have seen that boosting, although an ensemble method, is quite distinct from bagging. Boosting is thought to be superior in the quest to mitigate overfitting by trees. In the context of decision trees, the standard view that boosting is better than random forests, which are better than merely bagging, which is better than using a single tree. It should also be noted that, while the trees in a random forest may grow quite large and become quite bushy, the boosted trees typically have between 4 and 8 leaves, making them relatively shallow.\n",
    "\n",
    "A common regularization technique in boosting contexts involves using an additional \"shrinkage\" parameter, usually some value less than 0.1, to further weight contributions by new weak learners. This amounts to adding in a \"learning rate,\" and while it typically improves performance it comes at the cost of more computation. Other regularization techniques are those used in all tree contexts: minimum observations and penalty for tree complexity (number of nodes).\n",
    "\n",
    "It is possible to use a variant of the LASSO technique for tree post selection, and shrink the resulting collection of trees. A tree transforms an input to some number or class. If we pass all the inputs through a tree, we get a vector of numbers. If we build that vector for every tree in our boosted model, we get a collection of vectors. We can then treat those vectors as variables in a linear regression and seek to optimally weight them using an $l_{1}$ regularized loss function. In the process, some weights (and by extension some trees) will be zeroed out and a subset of trees will remain. "
   ]
  },
  {
   "cell_type": "markdown",
   "metadata": {},
   "source": [
    "# Data setup <a class=\"anchor\" id=\"setup\"></a>\n",
    "\n",
    "First, load in the standard libraries and inspect the training data. "
   ]
  },
  {
   "cell_type": "code",
   "execution_count": 1,
   "metadata": {
    "collapsed": false
   },
   "outputs": [
    {
     "name": "stderr",
     "output_type": "stream",
     "text": [
      "/home/bull/miniconda3/envs/worldbank-poverty-test/lib/python3.6/site-packages/h5py/__init__.py:36: FutureWarning: Conversion of the second argument of issubdtype from `float` to `np.floating` is deprecated. In future, it will be treated as `np.float64 == np.dtype(float).type`.\n",
      "  from ._conv import register_converters as _register_converters\n",
      "Using TensorFlow backend.\n"
     ]
    }
   ],
   "source": [
    "%matplotlib inline\n",
    "\n",
    "import os\n",
    "import sys\n",
    "import json\n",
    "\n",
    "import numpy as np\n",
    "import pandas as pd\n",
    "\n",
    "from matplotlib import pyplot as plt\n",
    "from IPython.display import display\n",
    "import seaborn as sns\n",
    "sns.set()\n",
    "\n",
    "# Add our local functions to the path\n",
    "sys.path.append(os.path.join(os.pardir, 'src'))\n",
    "from models import evaluation\n",
    "from data.load_data import (get_country_filepaths, \n",
    "                            split_features_labels_weights, \n",
    "                            load_data)\n",
    "from features.process_features import get_vif, standardize\n",
    "from features.process_features import MWI_BASIC_FEATURES\n",
    "\n",
    "ALGORITHM_NAME = 'xgb'\n",
    "COUNTRY = 'mwi'\n",
    "TRAIN_PATH, TEST_PATH, QUESTIONS_PATH = get_country_filepaths(COUNTRY)\n",
    "\n",
    "# load text of survey questions for reference\n",
    "with open(QUESTIONS_PATH, 'r') as fp:\n",
    "    questions = json.load(fp)"
   ]
  },
  {
   "cell_type": "code",
   "execution_count": 2,
   "metadata": {
    "collapsed": false
   },
   "outputs": [
    {
     "name": "stdout",
     "output_type": "stream",
     "text": [
      "Data has 9,183 rows and 484 columns\n",
      "Percent poor: 45.1% \tPercent non-poor: 54.9%\n"
     ]
    },
    {
     "data": {
      "text/html": [
       "<div>\n",
       "<style scoped>\n",
       "    .dataframe tbody tr th:only-of-type {\n",
       "        vertical-align: middle;\n",
       "    }\n",
       "\n",
       "    .dataframe tbody tr th {\n",
       "        vertical-align: top;\n",
       "    }\n",
       "\n",
       "    .dataframe thead th {\n",
       "        text-align: right;\n",
       "    }\n",
       "</style>\n",
       "<table border=\"1\" class=\"dataframe\">\n",
       "  <thead>\n",
       "    <tr style=\"text-align: right;\">\n",
       "      <th></th>\n",
       "      <th>der_hhsize</th>\n",
       "      <th>hld_rooms</th>\n",
       "      <th>hld_nbcellpho</th>\n",
       "      <th>hld_selfscale</th>\n",
       "      <th>der_nchild10under</th>\n",
       "      <th>der_nmalesover10</th>\n",
       "      <th>der_nfemalesover10</th>\n",
       "      <th>der_nliterate</th>\n",
       "      <th>der_nemployedpastyear</th>\n",
       "      <th>hld_dwelloccu__Employer provides</th>\n",
       "      <th>...</th>\n",
       "      <th>com_medicines__Yes</th>\n",
       "      <th>com_clinic__Yes</th>\n",
       "      <th>com_distclinic__11 to 15 kilometers</th>\n",
       "      <th>com_distclinic__16 to 20 kilometers</th>\n",
       "      <th>com_distclinic__21 to 25 kilometers</th>\n",
       "      <th>com_distclinic__26 to 30 kilometers</th>\n",
       "      <th>com_distclinic__6 to 10 kilometers</th>\n",
       "      <th>com_distclinic__Above 30 kilometers</th>\n",
       "      <th>com_distclinic__nan</th>\n",
       "      <th>com_bank__Yes</th>\n",
       "    </tr>\n",
       "    <tr>\n",
       "      <th>hid</th>\n",
       "      <th></th>\n",
       "      <th></th>\n",
       "      <th></th>\n",
       "      <th></th>\n",
       "      <th></th>\n",
       "      <th></th>\n",
       "      <th></th>\n",
       "      <th></th>\n",
       "      <th></th>\n",
       "      <th></th>\n",
       "      <th></th>\n",
       "      <th></th>\n",
       "      <th></th>\n",
       "      <th></th>\n",
       "      <th></th>\n",
       "      <th></th>\n",
       "      <th></th>\n",
       "      <th></th>\n",
       "      <th></th>\n",
       "      <th></th>\n",
       "      <th></th>\n",
       "    </tr>\n",
       "  </thead>\n",
       "  <tbody>\n",
       "    <tr>\n",
       "      <th>304044580160</th>\n",
       "      <td>5</td>\n",
       "      <td>3</td>\n",
       "      <td>0.0</td>\n",
       "      <td>1.0</td>\n",
       "      <td>3</td>\n",
       "      <td>1</td>\n",
       "      <td>1</td>\n",
       "      <td>2</td>\n",
       "      <td>0</td>\n",
       "      <td>0</td>\n",
       "      <td>...</td>\n",
       "      <td>0</td>\n",
       "      <td>0</td>\n",
       "      <td>0</td>\n",
       "      <td>0</td>\n",
       "      <td>0</td>\n",
       "      <td>0</td>\n",
       "      <td>0</td>\n",
       "      <td>0</td>\n",
       "      <td>0</td>\n",
       "      <td>0</td>\n",
       "    </tr>\n",
       "    <tr>\n",
       "      <th>205205820123</th>\n",
       "      <td>3</td>\n",
       "      <td>2</td>\n",
       "      <td>1.0</td>\n",
       "      <td>3.0</td>\n",
       "      <td>1</td>\n",
       "      <td>1</td>\n",
       "      <td>1</td>\n",
       "      <td>2</td>\n",
       "      <td>1</td>\n",
       "      <td>0</td>\n",
       "      <td>...</td>\n",
       "      <td>1</td>\n",
       "      <td>0</td>\n",
       "      <td>0</td>\n",
       "      <td>0</td>\n",
       "      <td>0</td>\n",
       "      <td>0</td>\n",
       "      <td>0</td>\n",
       "      <td>0</td>\n",
       "      <td>0</td>\n",
       "      <td>0</td>\n",
       "    </tr>\n",
       "    <tr>\n",
       "      <th>102016880095</th>\n",
       "      <td>6</td>\n",
       "      <td>5</td>\n",
       "      <td>0.0</td>\n",
       "      <td>2.0</td>\n",
       "      <td>3</td>\n",
       "      <td>1</td>\n",
       "      <td>2</td>\n",
       "      <td>2</td>\n",
       "      <td>0</td>\n",
       "      <td>0</td>\n",
       "      <td>...</td>\n",
       "      <td>0</td>\n",
       "      <td>0</td>\n",
       "      <td>0</td>\n",
       "      <td>0</td>\n",
       "      <td>0</td>\n",
       "      <td>0</td>\n",
       "      <td>0</td>\n",
       "      <td>0</td>\n",
       "      <td>0</td>\n",
       "      <td>0</td>\n",
       "    </tr>\n",
       "    <tr>\n",
       "      <th>315356330210</th>\n",
       "      <td>3</td>\n",
       "      <td>3</td>\n",
       "      <td>3.0</td>\n",
       "      <td>3.0</td>\n",
       "      <td>1</td>\n",
       "      <td>1</td>\n",
       "      <td>1</td>\n",
       "      <td>3</td>\n",
       "      <td>1</td>\n",
       "      <td>0</td>\n",
       "      <td>...</td>\n",
       "      <td>1</td>\n",
       "      <td>1</td>\n",
       "      <td>0</td>\n",
       "      <td>0</td>\n",
       "      <td>0</td>\n",
       "      <td>0</td>\n",
       "      <td>0</td>\n",
       "      <td>0</td>\n",
       "      <td>1</td>\n",
       "      <td>1</td>\n",
       "    </tr>\n",
       "    <tr>\n",
       "      <th>313061660067</th>\n",
       "      <td>2</td>\n",
       "      <td>1</td>\n",
       "      <td>0.0</td>\n",
       "      <td>2.0</td>\n",
       "      <td>0</td>\n",
       "      <td>1</td>\n",
       "      <td>1</td>\n",
       "      <td>2</td>\n",
       "      <td>0</td>\n",
       "      <td>0</td>\n",
       "      <td>...</td>\n",
       "      <td>1</td>\n",
       "      <td>0</td>\n",
       "      <td>0</td>\n",
       "      <td>1</td>\n",
       "      <td>0</td>\n",
       "      <td>0</td>\n",
       "      <td>0</td>\n",
       "      <td>0</td>\n",
       "      <td>0</td>\n",
       "      <td>0</td>\n",
       "    </tr>\n",
       "  </tbody>\n",
       "</table>\n",
       "<p>5 rows × 484 columns</p>\n",
       "</div>"
      ],
      "text/plain": [
       "              der_hhsize  hld_rooms  hld_nbcellpho  hld_selfscale  \\\n",
       "hid                                                                 \n",
       "304044580160           5          3            0.0            1.0   \n",
       "205205820123           3          2            1.0            3.0   \n",
       "102016880095           6          5            0.0            2.0   \n",
       "315356330210           3          3            3.0            3.0   \n",
       "313061660067           2          1            0.0            2.0   \n",
       "\n",
       "              der_nchild10under  der_nmalesover10  der_nfemalesover10  \\\n",
       "hid                                                                     \n",
       "304044580160                  3                 1                   1   \n",
       "205205820123                  1                 1                   1   \n",
       "102016880095                  3                 1                   2   \n",
       "315356330210                  1                 1                   1   \n",
       "313061660067                  0                 1                   1   \n",
       "\n",
       "              der_nliterate  der_nemployedpastyear  \\\n",
       "hid                                                  \n",
       "304044580160              2                      0   \n",
       "205205820123              2                      1   \n",
       "102016880095              2                      0   \n",
       "315356330210              3                      1   \n",
       "313061660067              2                      0   \n",
       "\n",
       "              hld_dwelloccu__Employer provides      ...        \\\n",
       "hid                                                 ...         \n",
       "304044580160                                 0      ...         \n",
       "205205820123                                 0      ...         \n",
       "102016880095                                 0      ...         \n",
       "315356330210                                 0      ...         \n",
       "313061660067                                 0      ...         \n",
       "\n",
       "              com_medicines__Yes  com_clinic__Yes  \\\n",
       "hid                                                 \n",
       "304044580160                   0                0   \n",
       "205205820123                   1                0   \n",
       "102016880095                   0                0   \n",
       "315356330210                   1                1   \n",
       "313061660067                   1                0   \n",
       "\n",
       "              com_distclinic__11 to 15 kilometers  \\\n",
       "hid                                                 \n",
       "304044580160                                    0   \n",
       "205205820123                                    0   \n",
       "102016880095                                    0   \n",
       "315356330210                                    0   \n",
       "313061660067                                    0   \n",
       "\n",
       "              com_distclinic__16 to 20 kilometers  \\\n",
       "hid                                                 \n",
       "304044580160                                    0   \n",
       "205205820123                                    0   \n",
       "102016880095                                    0   \n",
       "315356330210                                    0   \n",
       "313061660067                                    1   \n",
       "\n",
       "              com_distclinic__21 to 25 kilometers  \\\n",
       "hid                                                 \n",
       "304044580160                                    0   \n",
       "205205820123                                    0   \n",
       "102016880095                                    0   \n",
       "315356330210                                    0   \n",
       "313061660067                                    0   \n",
       "\n",
       "              com_distclinic__26 to 30 kilometers  \\\n",
       "hid                                                 \n",
       "304044580160                                    0   \n",
       "205205820123                                    0   \n",
       "102016880095                                    0   \n",
       "315356330210                                    0   \n",
       "313061660067                                    0   \n",
       "\n",
       "              com_distclinic__6 to 10 kilometers  \\\n",
       "hid                                                \n",
       "304044580160                                   0   \n",
       "205205820123                                   0   \n",
       "102016880095                                   0   \n",
       "315356330210                                   0   \n",
       "313061660067                                   0   \n",
       "\n",
       "              com_distclinic__Above 30 kilometers  com_distclinic__nan  \\\n",
       "hid                                                                      \n",
       "304044580160                                    0                    0   \n",
       "205205820123                                    0                    0   \n",
       "102016880095                                    0                    0   \n",
       "315356330210                                    0                    1   \n",
       "313061660067                                    0                    0   \n",
       "\n",
       "              com_bank__Yes  \n",
       "hid                          \n",
       "304044580160              0  \n",
       "205205820123              0  \n",
       "102016880095              0  \n",
       "315356330210              1  \n",
       "313061660067              0  \n",
       "\n",
       "[5 rows x 484 columns]"
      ]
     },
     "execution_count": 2,
     "metadata": {},
     "output_type": "execute_result"
    }
   ],
   "source": [
    "# load training data\n",
    "X_train, y_train, w_train = split_features_labels_weights(TRAIN_PATH)\n",
    "\n",
    "# summarize loaded data\n",
    "print('Data has {:,} rows and {:,} columns' \\\n",
    "        .format(*X_train.shape))\n",
    "\n",
    "print('Percent poor: {:0.1%} \\tPercent non-poor: {:0.1%}' \\\n",
    "        .format(*y_train.poor.value_counts(normalize=True, ascending=True)))\n",
    "\n",
    "# print first 5 rows of data\n",
    "X_train.head()"
   ]
  },
  {
   "cell_type": "markdown",
   "metadata": {},
   "source": [
    "# XGBoost Classifier Model <a class=\"anchor\" id=\"xgb-model\"></a>"
   ]
  },
  {
   "cell_type": "code",
   "execution_count": 3,
   "metadata": {
    "collapsed": false
   },
   "outputs": [
    {
     "name": "stdout",
     "output_type": "stream",
     "text": [
      "X shape with selected columns: (9183, 9)\n"
     ]
    }
   ],
   "source": [
    "selected_columns = MWI_BASIC_FEATURES\n",
    "print(\"X shape with selected columns:\", X_train[selected_columns].shape)"
   ]
  },
  {
   "cell_type": "code",
   "execution_count": 4,
   "metadata": {
    "collapsed": true
   },
   "outputs": [],
   "source": [
    "# Create DataFrame of feature importances\n",
    "def get_feat_imp_df(feat_imps, index=None, sort=True):\n",
    "    feat_imps = pd.DataFrame(feat_imps, columns=['importance'])\n",
    "    if index is not None:\n",
    "        feat_imps.index = index\n",
    "    if sort:\n",
    "        feat_imps = feat_imps.sort_values('importance', ascending=False)\n",
    "    return feat_imps"
   ]
  },
  {
   "cell_type": "code",
   "execution_count": 5,
   "metadata": {
    "collapsed": false
   },
   "outputs": [
    {
     "name": "stdout",
     "output_type": "stream",
     "text": [
      "CPU times: user 237 ms, sys: 774 µs, total: 238 ms\n",
      "Wall time: 238 ms\n",
      "CPU times: user 23.3 ms, sys: 1.92 ms, total: 25.2 ms\n",
      "Wall time: 24.6 ms\n",
      "In-sample score: 76.89%\n"
     ]
    },
    {
     "name": "stderr",
     "output_type": "stream",
     "text": [
      "/home/bull/miniconda3/envs/worldbank-poverty-test/lib/python3.6/site-packages/sklearn/preprocessing/label.py:151: DeprecationWarning: The truth value of an empty array is ambiguous. Returning False, but in future this will result in an error. Use `array.size > 0` to check that an array is not empty.\n",
      "  if diff:\n",
      "/home/bull/miniconda3/envs/worldbank-poverty-test/lib/python3.6/site-packages/sklearn/preprocessing/label.py:151: DeprecationWarning: The truth value of an empty array is ambiguous. Returning False, but in future this will result in an error. Use `array.size > 0` to check that an array is not empty.\n",
      "  if diff:\n",
      "/home/bull/miniconda3/envs/worldbank-poverty-test/lib/python3.6/site-packages/sklearn/preprocessing/label.py:151: DeprecationWarning: The truth value of an empty array is ambiguous. Returning False, but in future this will result in an error. Use `array.size > 0` to check that an array is not empty.\n",
      "  if diff:\n",
      "/home/bull/miniconda3/envs/worldbank-poverty-test/lib/python3.6/site-packages/matplotlib/cbook/deprecation.py:107: MatplotlibDeprecationWarning: Passing one of 'on', 'true', 'off', 'false' as a boolean is deprecated; use an actual boolean (True/False) instead.\n",
      "  warnings.warn(message, mplDeprecation, stacklevel=1)\n"
     ]
    },
    {
     "data": {
      "image/png": "[encoded data removed]",
      "text/plain": [
       "<Figure size 720x288 with 3 Axes>"
      ]
     },
     "metadata": {},
     "output_type": "display_data"
    },
    {
     "data": {
      "text/html": [
       "<style  type=\"text/css\" >\n",
       "    #T_3c90ce38_6c8f_11e8_97ef_0010c6b1e647row0_col1 {\n",
       "            background-color:  steelblue;\n",
       "        }    #T_3c90ce38_6c8f_11e8_97ef_0010c6b1e647row1_col0 {\n",
       "            background-color:  steelblue;\n",
       "        }    #T_3c90ce38_6c8f_11e8_97ef_0010c6b1e647row2_col1 {\n",
       "            background-color:  steelblue;\n",
       "        }    #T_3c90ce38_6c8f_11e8_97ef_0010c6b1e647row3_col0 {\n",
       "            background-color:  steelblue;\n",
       "        }    #T_3c90ce38_6c8f_11e8_97ef_0010c6b1e647row4_col0 {\n",
       "            background-color:  steelblue;\n",
       "        }    #T_3c90ce38_6c8f_11e8_97ef_0010c6b1e647row5_col1 {\n",
       "            background-color:  steelblue;\n",
       "        }    #T_3c90ce38_6c8f_11e8_97ef_0010c6b1e647row6_col1 {\n",
       "            background-color:  steelblue;\n",
       "        }</style>  \n",
       "<table id=\"T_3c90ce38_6c8f_11e8_97ef_0010c6b1e647\" ><caption>Model Scores</caption> \n",
       "<thead>    <tr> \n",
       "        <th class=\"blank level0\" ></th> \n",
       "        <th class=\"col_heading level0 col0\" >xgb_simple</th> \n",
       "        <th class=\"col_heading level0 col1\" >lr_simple</th> \n",
       "    </tr></thead> \n",
       "<tbody>    <tr> \n",
       "        <th id=\"T_3c90ce38_6c8f_11e8_97ef_0010c6b1e647level0_row0\" class=\"row_heading level0 row0\" >accuracy</th> \n",
       "        <td id=\"T_3c90ce38_6c8f_11e8_97ef_0010c6b1e647row0_col0\" class=\"data row0 col0\" >0.764783</td> \n",
       "        <td id=\"T_3c90ce38_6c8f_11e8_97ef_0010c6b1e647row0_col1\" class=\"data row0 col1\" >0.766743</td> \n",
       "    </tr>    <tr> \n",
       "        <th id=\"T_3c90ce38_6c8f_11e8_97ef_0010c6b1e647level0_row1\" class=\"row_heading level0 row1\" >recall</th> \n",
       "        <td id=\"T_3c90ce38_6c8f_11e8_97ef_0010c6b1e647row1_col0\" class=\"data row1 col0\" >0.752533</td> \n",
       "        <td id=\"T_3c90ce38_6c8f_11e8_97ef_0010c6b1e647row1_col1\" class=\"data row1 col1\" >0.738784</td> \n",
       "    </tr>    <tr> \n",
       "        <th id=\"T_3c90ce38_6c8f_11e8_97ef_0010c6b1e647level0_row2\" class=\"row_heading level0 row2\" >precision</th> \n",
       "        <td id=\"T_3c90ce38_6c8f_11e8_97ef_0010c6b1e647row2_col0\" class=\"data row2 col0\" >0.733427</td> \n",
       "        <td id=\"T_3c90ce38_6c8f_11e8_97ef_0010c6b1e647row2_col1\" class=\"data row2 col1\" >0.743086</td> \n",
       "    </tr>    <tr> \n",
       "        <th id=\"T_3c90ce38_6c8f_11e8_97ef_0010c6b1e647level0_row3\" class=\"row_heading level0 row3\" >f1</th> \n",
       "        <td id=\"T_3c90ce38_6c8f_11e8_97ef_0010c6b1e647row3_col0\" class=\"data row3 col0\" >0.742857</td> \n",
       "        <td id=\"T_3c90ce38_6c8f_11e8_97ef_0010c6b1e647row3_col1\" class=\"data row3 col1\" >0.740929</td> \n",
       "    </tr>    <tr> \n",
       "        <th id=\"T_3c90ce38_6c8f_11e8_97ef_0010c6b1e647level0_row4\" class=\"row_heading level0 row4\" >cross_entropy</th> \n",
       "        <td id=\"T_3c90ce38_6c8f_11e8_97ef_0010c6b1e647row4_col0\" class=\"data row4 col0\" >0.476656</td> \n",
       "        <td id=\"T_3c90ce38_6c8f_11e8_97ef_0010c6b1e647row4_col1\" class=\"data row4 col1\" >0.478969</td> \n",
       "    </tr>    <tr> \n",
       "        <th id=\"T_3c90ce38_6c8f_11e8_97ef_0010c6b1e647level0_row5\" class=\"row_heading level0 row5\" >roc_auc</th> \n",
       "        <td id=\"T_3c90ce38_6c8f_11e8_97ef_0010c6b1e647row5_col0\" class=\"data row5 col0\" >0.847671</td> \n",
       "        <td id=\"T_3c90ce38_6c8f_11e8_97ef_0010c6b1e647row5_col1\" class=\"data row5 col1\" >0.847856</td> \n",
       "    </tr>    <tr> \n",
       "        <th id=\"T_3c90ce38_6c8f_11e8_97ef_0010c6b1e647level0_row6\" class=\"row_heading level0 row6\" >cohen_kappa</th> \n",
       "        <td id=\"T_3c90ce38_6c8f_11e8_97ef_0010c6b1e647row6_col0\" class=\"data row6 col0\" >0.526186</td> \n",
       "        <td id=\"T_3c90ce38_6c8f_11e8_97ef_0010c6b1e647row6_col1\" class=\"data row6 col1\" >0.528811</td> \n",
       "    </tr></tbody> \n",
       "</table> "
      ],
      "text/plain": [
       "<pandas.io.formats.style.Styler at 0x7fbd2ce97dd8>"
      ]
     },
     "metadata": {},
     "output_type": "display_data"
    },
    {
     "name": "stdout",
     "output_type": "stream",
     "text": [
      "Actual poverty rate: 54.11% \n",
      "Predicted poverty rate: 59.65% \n"
     ]
    }
   ],
   "source": [
    "from xgboost import XGBClassifier\n",
    "\n",
    "# Load and transform the training data\n",
    "X_train, y_train, w_train = load_data(TRAIN_PATH, \n",
    "                                      selected_columns=selected_columns)\n",
    "\n",
    "# Fit the model\n",
    "model = XGBClassifier()\n",
    "%time model.fit(X_train.as_matrix(), y_train)\n",
    "\n",
    "# Get an initial score\n",
    "%time score = model.score(X_train.as_matrix(), y_train)\n",
    "print(\"In-sample score: {:0.2%}\".format(score))\n",
    "feat_imps = get_feat_imp_df(model.feature_importances_, index=X_train.columns)\n",
    "\n",
    "# Load the test set\n",
    "X_test, y_test, w_test = load_data(TEST_PATH, \n",
    "                                   selected_columns=selected_columns)\n",
    "\n",
    "# Run the model\n",
    "y_pred = model.predict(X_test.as_matrix())\n",
    "y_prob = model.predict_proba(X_test.as_matrix())[:,1]\n",
    "\n",
    "# Evaluate performance and store model\n",
    "metrics = evaluation.evaluate_model(y_test, y_pred, y_prob, \n",
    "                                    compare_models=['lr_simple'],\n",
    "                                    store_model=True,\n",
    "                                    model_name='simple', \n",
    "                                    prefix=ALGORITHM_NAME,\n",
    "                                    country=COUNTRY,\n",
    "                                    model=model,\n",
    "                                    features=feat_imps)"
   ]
  },
  {
   "cell_type": "markdown",
   "metadata": {},
   "source": [
    "The XGBClassifier model provides feature importances, so we can inspect and rank the features"
   ]
  },
  {
   "cell_type": "code",
   "execution_count": 6,
   "metadata": {
    "collapsed": false
   },
   "outputs": [
    {
     "data": {
      "text/html": [
       "<div>\n",
       "<style scoped>\n",
       "    .dataframe tbody tr th:only-of-type {\n",
       "        vertical-align: middle;\n",
       "    }\n",
       "\n",
       "    .dataframe tbody tr th {\n",
       "        vertical-align: top;\n",
       "    }\n",
       "\n",
       "    .dataframe thead th {\n",
       "        text-align: right;\n",
       "    }\n",
       "</style>\n",
       "<table border=\"1\" class=\"dataframe\">\n",
       "  <thead>\n",
       "    <tr style=\"text-align: right;\">\n",
       "      <th></th>\n",
       "      <th>importance</th>\n",
       "    </tr>\n",
       "  </thead>\n",
       "  <tbody>\n",
       "    <tr>\n",
       "      <th>der_nchild10under</th>\n",
       "      <td>0.250370</td>\n",
       "    </tr>\n",
       "    <tr>\n",
       "      <th>der_nliterate</th>\n",
       "      <td>0.174815</td>\n",
       "    </tr>\n",
       "    <tr>\n",
       "      <th>der_nmalesover10</th>\n",
       "      <td>0.160000</td>\n",
       "    </tr>\n",
       "    <tr>\n",
       "      <th>der_nfemalesover10</th>\n",
       "      <td>0.134815</td>\n",
       "    </tr>\n",
       "    <tr>\n",
       "      <th>cons_0508__Yes</th>\n",
       "      <td>0.091852</td>\n",
       "    </tr>\n",
       "    <tr>\n",
       "      <th>hld_electricity__Yes</th>\n",
       "      <td>0.060741</td>\n",
       "    </tr>\n",
       "    <tr>\n",
       "      <th>cons_0504__Yes</th>\n",
       "      <td>0.059259</td>\n",
       "    </tr>\n",
       "    <tr>\n",
       "      <th>der_nemployedpastyear</th>\n",
       "      <td>0.041481</td>\n",
       "    </tr>\n",
       "    <tr>\n",
       "      <th>hld_toilet__None</th>\n",
       "      <td>0.026667</td>\n",
       "    </tr>\n",
       "  </tbody>\n",
       "</table>\n",
       "</div>"
      ],
      "text/plain": [
       "                       importance\n",
       "der_nchild10under        0.250370\n",
       "der_nliterate            0.174815\n",
       "der_nmalesover10         0.160000\n",
       "der_nfemalesover10       0.134815\n",
       "cons_0508__Yes           0.091852\n",
       "hld_electricity__Yes     0.060741\n",
       "cons_0504__Yes           0.059259\n",
       "der_nemployedpastyear    0.041481\n",
       "hld_toilet__None         0.026667"
      ]
     },
     "execution_count": 6,
     "metadata": {},
     "output_type": "execute_result"
    }
   ],
   "source": [
    "feat_imps"
   ]
  },
  {
   "cell_type": "markdown",
   "metadata": {},
   "source": [
    "## XGBoost with all features <a class=\"anchor\" id=\"all-feats\"></a>\n",
    "\n",
    "Now let's try using the full feature set"
   ]
  },
  {
   "cell_type": "code",
   "execution_count": 7,
   "metadata": {
    "collapsed": false
   },
   "outputs": [
    {
     "name": "stdout",
     "output_type": "stream",
     "text": [
      "CPU times: user 7.77 s, sys: 66.2 ms, total: 7.84 s\n",
      "Wall time: 7.84 s\n",
      "CPU times: user 88.2 ms, sys: 42.9 ms, total: 131 ms\n",
      "Wall time: 130 ms\n",
      "In-sample score: 89.15%\n"
     ]
    },
    {
     "name": "stderr",
     "output_type": "stream",
     "text": [
      "/home/bull/miniconda3/envs/worldbank-poverty-test/lib/python3.6/site-packages/sklearn/preprocessing/label.py:151: DeprecationWarning: The truth value of an empty array is ambiguous. Returning False, but in future this will result in an error. Use `array.size > 0` to check that an array is not empty.\n",
      "  if diff:\n",
      "/home/bull/miniconda3/envs/worldbank-poverty-test/lib/python3.6/site-packages/sklearn/preprocessing/label.py:151: DeprecationWarning: The truth value of an empty array is ambiguous. Returning False, but in future this will result in an error. Use `array.size > 0` to check that an array is not empty.\n",
      "  if diff:\n",
      "/home/bull/miniconda3/envs/worldbank-poverty-test/lib/python3.6/site-packages/sklearn/preprocessing/label.py:151: DeprecationWarning: The truth value of an empty array is ambiguous. Returning False, but in future this will result in an error. Use `array.size > 0` to check that an array is not empty.\n",
      "  if diff:\n",
      "/home/bull/miniconda3/envs/worldbank-poverty-test/lib/python3.6/site-packages/matplotlib/cbook/deprecation.py:107: MatplotlibDeprecationWarning: Passing one of 'on', 'true', 'off', 'false' as a boolean is deprecated; use an actual boolean (True/False) instead.\n",
      "  warnings.warn(message, mplDeprecation, stacklevel=1)\n"
     ]
    },
    {
     "data": {
      "image/png": "[encoded data removed]",
      "text/plain": [
       "<Figure size 720x288 with 3 Axes>"
      ]
     },
     "metadata": {},
     "output_type": "display_data"
    },
    {
     "data": {
      "text/html": [
       "<style  type=\"text/css\" >\n",
       "    #T_41d39d94_6c8f_11e8_97ef_0010c6b1e647row0_col1 {\n",
       "            background-color:  steelblue;\n",
       "        }    #T_41d39d94_6c8f_11e8_97ef_0010c6b1e647row1_col0 {\n",
       "            background-color:  steelblue;\n",
       "        }    #T_41d39d94_6c8f_11e8_97ef_0010c6b1e647row2_col0 {\n",
       "            background-color:  steelblue;\n",
       "        }    #T_41d39d94_6c8f_11e8_97ef_0010c6b1e647row3_col0 {\n",
       "            background-color:  steelblue;\n",
       "        }    #T_41d39d94_6c8f_11e8_97ef_0010c6b1e647row4_col1 {\n",
       "            background-color:  steelblue;\n",
       "        }    #T_41d39d94_6c8f_11e8_97ef_0010c6b1e647row5_col1 {\n",
       "            background-color:  steelblue;\n",
       "        }    #T_41d39d94_6c8f_11e8_97ef_0010c6b1e647row6_col1 {\n",
       "            background-color:  steelblue;\n",
       "        }</style>  \n",
       "<table id=\"T_41d39d94_6c8f_11e8_97ef_0010c6b1e647\" ><caption>Model Scores</caption> \n",
       "<thead>    <tr> \n",
       "        <th class=\"blank level0\" ></th> \n",
       "        <th class=\"col_heading level0 col0\" >xgb_full</th> \n",
       "        <th class=\"col_heading level0 col1\" >lr_full</th> \n",
       "    </tr></thead> \n",
       "<tbody>    <tr> \n",
       "        <th id=\"T_41d39d94_6c8f_11e8_97ef_0010c6b1e647level0_row0\" class=\"row_heading level0 row0\" >accuracy</th> \n",
       "        <td id=\"T_41d39d94_6c8f_11e8_97ef_0010c6b1e647row0_col0\" class=\"data row0 col0\" >0.859814</td> \n",
       "        <td id=\"T_41d39d94_6c8f_11e8_97ef_0010c6b1e647row0_col1\" class=\"data row0 col1\" >0.873897</td> \n",
       "    </tr>    <tr> \n",
       "        <th id=\"T_41d39d94_6c8f_11e8_97ef_0010c6b1e647level0_row1\" class=\"row_heading level0 row1\" >recall</th> \n",
       "        <td id=\"T_41d39d94_6c8f_11e8_97ef_0010c6b1e647row1_col0\" class=\"data row1 col0\" >0.886085</td> \n",
       "        <td id=\"T_41d39d94_6c8f_11e8_97ef_0010c6b1e647row1_col1\" class=\"data row1 col1\" >0.869754</td> \n",
       "    </tr>    <tr> \n",
       "        <th id=\"T_41d39d94_6c8f_11e8_97ef_0010c6b1e647level0_row2\" class=\"row_heading level0 row2\" >precision</th> \n",
       "        <td id=\"T_41d39d94_6c8f_11e8_97ef_0010c6b1e647row2_col0\" class=\"data row2 col0\" >0.862249</td> \n",
       "        <td id=\"T_41d39d94_6c8f_11e8_97ef_0010c6b1e647row2_col1\" class=\"data row2 col1\" >0.853693</td> \n",
       "    </tr>    <tr> \n",
       "        <th id=\"T_41d39d94_6c8f_11e8_97ef_0010c6b1e647level0_row3\" class=\"row_heading level0 row3\" >f1</th> \n",
       "        <td id=\"T_41d39d94_6c8f_11e8_97ef_0010c6b1e647row3_col0\" class=\"data row3 col0\" >0.874005</td> \n",
       "        <td id=\"T_41d39d94_6c8f_11e8_97ef_0010c6b1e647row3_col1\" class=\"data row3 col1\" >0.861649</td> \n",
       "    </tr>    <tr> \n",
       "        <th id=\"T_41d39d94_6c8f_11e8_97ef_0010c6b1e647level0_row4\" class=\"row_heading level0 row4\" >cross_entropy</th> \n",
       "        <td id=\"T_41d39d94_6c8f_11e8_97ef_0010c6b1e647row4_col0\" class=\"data row4 col0\" >0.321812</td> \n",
       "        <td id=\"T_41d39d94_6c8f_11e8_97ef_0010c6b1e647row4_col1\" class=\"data row4 col1\" >0.288223</td> \n",
       "    </tr>    <tr> \n",
       "        <th id=\"T_41d39d94_6c8f_11e8_97ef_0010c6b1e647level0_row5\" class=\"row_heading level0 row5\" >roc_auc</th> \n",
       "        <td id=\"T_41d39d94_6c8f_11e8_97ef_0010c6b1e647row5_col0\" class=\"data row5 col0\" >0.937449</td> \n",
       "        <td id=\"T_41d39d94_6c8f_11e8_97ef_0010c6b1e647row5_col1\" class=\"data row5 col1\" >0.948658</td> \n",
       "    </tr>    <tr> \n",
       "        <th id=\"T_41d39d94_6c8f_11e8_97ef_0010c6b1e647level0_row6\" class=\"row_heading level0 row6\" >cohen_kappa</th> \n",
       "        <td id=\"T_41d39d94_6c8f_11e8_97ef_0010c6b1e647row6_col0\" class=\"data row6 col0\" >0.731838</td> \n",
       "        <td id=\"T_41d39d94_6c8f_11e8_97ef_0010c6b1e647row6_col1\" class=\"data row6 col1\" >0.745821</td> \n",
       "    </tr></tbody> \n",
       "</table> "
      ],
      "text/plain": [
       "<pandas.io.formats.style.Styler at 0x7fbd2c668cc0>"
      ]
     },
     "metadata": {},
     "output_type": "display_data"
    },
    {
     "name": "stdout",
     "output_type": "stream",
     "text": [
      "Actual poverty rate: 54.11% \n",
      "Predicted poverty rate: 56.00% \n"
     ]
    }
   ],
   "source": [
    "# Load and transform the training data\n",
    "X_train, y_train, w_train = load_data(TRAIN_PATH)\n",
    "\n",
    "# Fit the model\n",
    "model = XGBClassifier()\n",
    "%time model.fit(X_train.as_matrix(), y_train)\n",
    "\n",
    "# Get an initial score\n",
    "%time score = model.score(X_train.as_matrix(), y_train, w_train)\n",
    "print(\"In-sample score: {:0.2%}\".format(score))\n",
    "feat_imps = get_feat_imp_df(model.feature_importances_, index=X_train.columns)\n",
    "\n",
    "# Load the test set\n",
    "X_test, y_test, w_test = load_data(TEST_PATH)\n",
    "\n",
    "# Run the model\n",
    "y_pred = model.predict(X_test.as_matrix())\n",
    "y_prob = model.predict_proba(X_test.as_matrix())[:,1]\n",
    "\n",
    "# Evaluate performance and store model\n",
    "metrics = evaluation.evaluate_model(y_test, y_pred, y_prob, w_test,\n",
    "                                    compare_models='lr_full',\n",
    "                                    store_model=True,\n",
    "                                    model_name='full', \n",
    "                                    prefix=ALGORITHM_NAME,\n",
    "                                    country=COUNTRY,\n",
    "                                    model=model,\n",
    "                                    features=feat_imps)"
   ]
  },
  {
   "cell_type": "markdown",
   "metadata": {},
   "source": []
  },
  {
   "cell_type": "markdown",
   "metadata": {},
   "source": [
    "## Tune parameters and cross-validate <a class=\"anchor\" id=\"tune-cv\"></a>\n",
    "\n"
   ]
  },
  {
   "cell_type": "code",
   "execution_count": 8,
   "metadata": {
    "collapsed": false,
    "scrolled": false
   },
   "outputs": [
    {
     "name": "stdout",
     "output_type": "stream",
     "text": [
      "Fitting 5 folds for each of 2 candidates, totalling 10 fits\n",
      "[CV] colsample_bytree=0.7, learning_rate=0.05, max_depth=3, min_child_weight=11, n_estimators=1000, nthread=4, objective=binary:logistic, seed=1430, silent=0, subsample=0.8 \n"
     ]
    },
    {
     "name": "stderr",
     "output_type": "stream",
     "text": [
      "/home/bull/miniconda3/envs/worldbank-poverty-test/lib/python3.6/site-packages/sklearn/model_selection/_search.py:584: DeprecationWarning: \"fit_params\" as a constructor argument was deprecated in version 0.19 and will be removed in version 0.21. Pass fit parameters to the \"fit\" method instead.\n",
      "  '\"fit\" method instead.', DeprecationWarning)\n",
      "/home/bull/miniconda3/envs/worldbank-poverty-test/lib/python3.6/site-packages/sklearn/preprocessing/label.py:151: DeprecationWarning: The truth value of an empty array is ambiguous. Returning False, but in future this will result in an error. Use `array.size > 0` to check that an array is not empty.\n",
      "  if diff:\n",
      "/home/bull/miniconda3/envs/worldbank-poverty-test/lib/python3.6/site-packages/sklearn/preprocessing/label.py:151: DeprecationWarning: The truth value of an empty array is ambiguous. Returning False, but in future this will result in an error. Use `array.size > 0` to check that an array is not empty.\n",
      "  if diff:\n",
      "[Parallel(n_jobs=1)]: Done   1 out of   1 | elapsed:   13.7s remaining:    0.0s\n"
     ]
    },
    {
     "name": "stdout",
     "output_type": "stream",
     "text": [
      "[CV]  colsample_bytree=0.7, learning_rate=0.05, max_depth=3, min_child_weight=11, n_estimators=1000, nthread=4, objective=binary:logistic, seed=1430, silent=0, subsample=0.8, score=0.869352204681546, total=  13.5s\n",
      "[CV] colsample_bytree=0.7, learning_rate=0.05, max_depth=3, min_child_weight=11, n_estimators=1000, nthread=4, objective=binary:logistic, seed=1430, silent=0, subsample=0.8 \n"
     ]
    },
    {
     "name": "stderr",
     "output_type": "stream",
     "text": [
      "/home/bull/miniconda3/envs/worldbank-poverty-test/lib/python3.6/site-packages/sklearn/preprocessing/label.py:151: DeprecationWarning: The truth value of an empty array is ambiguous. Returning False, but in future this will result in an error. Use `array.size > 0` to check that an array is not empty.\n",
      "  if diff:\n",
      "/home/bull/miniconda3/envs/worldbank-poverty-test/lib/python3.6/site-packages/sklearn/preprocessing/label.py:151: DeprecationWarning: The truth value of an empty array is ambiguous. Returning False, but in future this will result in an error. Use `array.size > 0` to check that an array is not empty.\n",
      "  if diff:\n",
      "[Parallel(n_jobs=1)]: Done   2 out of   2 | elapsed:   27.4s remaining:    0.0s\n"
     ]
    },
    {
     "name": "stdout",
     "output_type": "stream",
     "text": [
      "[CV]  colsample_bytree=0.7, learning_rate=0.05, max_depth=3, min_child_weight=11, n_estimators=1000, nthread=4, objective=binary:logistic, seed=1430, silent=0, subsample=0.8, score=0.8671747414262384, total=  13.5s\n",
      "[CV] colsample_bytree=0.7, learning_rate=0.05, max_depth=3, min_child_weight=11, n_estimators=1000, nthread=4, objective=binary:logistic, seed=1430, silent=0, subsample=0.8 \n"
     ]
    },
    {
     "name": "stderr",
     "output_type": "stream",
     "text": [
      "/home/bull/miniconda3/envs/worldbank-poverty-test/lib/python3.6/site-packages/sklearn/preprocessing/label.py:151: DeprecationWarning: The truth value of an empty array is ambiguous. Returning False, but in future this will result in an error. Use `array.size > 0` to check that an array is not empty.\n",
      "  if diff:\n",
      "/home/bull/miniconda3/envs/worldbank-poverty-test/lib/python3.6/site-packages/sklearn/preprocessing/label.py:151: DeprecationWarning: The truth value of an empty array is ambiguous. Returning False, but in future this will result in an error. Use `array.size > 0` to check that an array is not empty.\n",
      "  if diff:\n"
     ]
    },
    {
     "name": "stdout",
     "output_type": "stream",
     "text": [
      "[CV]  colsample_bytree=0.7, learning_rate=0.05, max_depth=3, min_child_weight=11, n_estimators=1000, nthread=4, objective=binary:logistic, seed=1430, silent=0, subsample=0.8, score=0.8851388132825259, total=  13.3s\n",
      "[CV] colsample_bytree=0.7, learning_rate=0.05, max_depth=3, min_child_weight=11, n_estimators=1000, nthread=4, objective=binary:logistic, seed=1430, silent=0, subsample=0.8 \n"
     ]
    },
    {
     "name": "stderr",
     "output_type": "stream",
     "text": [
      "/home/bull/miniconda3/envs/worldbank-poverty-test/lib/python3.6/site-packages/sklearn/preprocessing/label.py:151: DeprecationWarning: The truth value of an empty array is ambiguous. Returning False, but in future this will result in an error. Use `array.size > 0` to check that an array is not empty.\n",
      "  if diff:\n",
      "/home/bull/miniconda3/envs/worldbank-poverty-test/lib/python3.6/site-packages/sklearn/preprocessing/label.py:151: DeprecationWarning: The truth value of an empty array is ambiguous. Returning False, but in future this will result in an error. Use `array.size > 0` to check that an array is not empty.\n",
      "  if diff:\n"
     ]
    },
    {
     "name": "stdout",
     "output_type": "stream",
     "text": [
      "[CV]  colsample_bytree=0.7, learning_rate=0.05, max_depth=3, min_child_weight=11, n_estimators=1000, nthread=4, objective=binary:logistic, seed=1430, silent=0, subsample=0.8, score=0.8812636165577342, total=  13.5s\n",
      "[CV] colsample_bytree=0.7, learning_rate=0.05, max_depth=3, min_child_weight=11, n_estimators=1000, nthread=4, objective=binary:logistic, seed=1430, silent=0, subsample=0.8 \n"
     ]
    },
    {
     "name": "stderr",
     "output_type": "stream",
     "text": [
      "/home/bull/miniconda3/envs/worldbank-poverty-test/lib/python3.6/site-packages/sklearn/preprocessing/label.py:151: DeprecationWarning: The truth value of an empty array is ambiguous. Returning False, but in future this will result in an error. Use `array.size > 0` to check that an array is not empty.\n",
      "  if diff:\n",
      "/home/bull/miniconda3/envs/worldbank-poverty-test/lib/python3.6/site-packages/sklearn/preprocessing/label.py:151: DeprecationWarning: The truth value of an empty array is ambiguous. Returning False, but in future this will result in an error. Use `array.size > 0` to check that an array is not empty.\n",
      "  if diff:\n"
     ]
    },
    {
     "name": "stdout",
     "output_type": "stream",
     "text": [
      "[CV]  colsample_bytree=0.7, learning_rate=0.05, max_depth=3, min_child_weight=11, n_estimators=1000, nthread=4, objective=binary:logistic, seed=1430, silent=0, subsample=0.8, score=0.883442265795207, total=  13.3s\n",
      "[CV] colsample_bytree=0.7, learning_rate=0.05, max_depth=5, min_child_weight=11, n_estimators=1000, nthread=4, objective=binary:logistic, seed=1430, silent=0, subsample=0.8 \n"
     ]
    },
    {
     "name": "stderr",
     "output_type": "stream",
     "text": [
      "/home/bull/miniconda3/envs/worldbank-poverty-test/lib/python3.6/site-packages/sklearn/preprocessing/label.py:151: DeprecationWarning: The truth value of an empty array is ambiguous. Returning False, but in future this will result in an error. Use `array.size > 0` to check that an array is not empty.\n",
      "  if diff:\n",
      "/home/bull/miniconda3/envs/worldbank-poverty-test/lib/python3.6/site-packages/sklearn/preprocessing/label.py:151: DeprecationWarning: The truth value of an empty array is ambiguous. Returning False, but in future this will result in an error. Use `array.size > 0` to check that an array is not empty.\n",
      "  if diff:\n"
     ]
    },
    {
     "name": "stdout",
     "output_type": "stream",
     "text": [
      "[CV]  colsample_bytree=0.7, learning_rate=0.05, max_depth=5, min_child_weight=11, n_estimators=1000, nthread=4, objective=binary:logistic, seed=1430, silent=0, subsample=0.8, score=0.8628198149156233, total=  21.2s\n",
      "[CV] colsample_bytree=0.7, learning_rate=0.05, max_depth=5, min_child_weight=11, n_estimators=1000, nthread=4, objective=binary:logistic, seed=1430, silent=0, subsample=0.8 \n"
     ]
    },
    {
     "name": "stderr",
     "output_type": "stream",
     "text": [
      "/home/bull/miniconda3/envs/worldbank-poverty-test/lib/python3.6/site-packages/sklearn/preprocessing/label.py:151: DeprecationWarning: The truth value of an empty array is ambiguous. Returning False, but in future this will result in an error. Use `array.size > 0` to check that an array is not empty.\n",
      "  if diff:\n",
      "/home/bull/miniconda3/envs/worldbank-poverty-test/lib/python3.6/site-packages/sklearn/preprocessing/label.py:151: DeprecationWarning: The truth value of an empty array is ambiguous. Returning False, but in future this will result in an error. Use `array.size > 0` to check that an array is not empty.\n",
      "  if diff:\n"
     ]
    },
    {
     "name": "stdout",
     "output_type": "stream",
     "text": [
      "[CV]  colsample_bytree=0.7, learning_rate=0.05, max_depth=5, min_child_weight=11, n_estimators=1000, nthread=4, objective=binary:logistic, seed=1430, silent=0, subsample=0.8, score=0.8666303756124115, total=  21.1s\n",
      "[CV] colsample_bytree=0.7, learning_rate=0.05, max_depth=5, min_child_weight=11, n_estimators=1000, nthread=4, objective=binary:logistic, seed=1430, silent=0, subsample=0.8 \n"
     ]
    },
    {
     "name": "stderr",
     "output_type": "stream",
     "text": [
      "/home/bull/miniconda3/envs/worldbank-poverty-test/lib/python3.6/site-packages/sklearn/preprocessing/label.py:151: DeprecationWarning: The truth value of an empty array is ambiguous. Returning False, but in future this will result in an error. Use `array.size > 0` to check that an array is not empty.\n",
      "  if diff:\n",
      "/home/bull/miniconda3/envs/worldbank-poverty-test/lib/python3.6/site-packages/sklearn/preprocessing/label.py:151: DeprecationWarning: The truth value of an empty array is ambiguous. Returning False, but in future this will result in an error. Use `array.size > 0` to check that an array is not empty.\n",
      "  if diff:\n"
     ]
    },
    {
     "name": "stdout",
     "output_type": "stream",
     "text": [
      "[CV]  colsample_bytree=0.7, learning_rate=0.05, max_depth=5, min_child_weight=11, n_estimators=1000, nthread=4, objective=binary:logistic, seed=1430, silent=0, subsample=0.8, score=0.8840500816548721, total=  21.0s\n",
      "[CV] colsample_bytree=0.7, learning_rate=0.05, max_depth=5, min_child_weight=11, n_estimators=1000, nthread=4, objective=binary:logistic, seed=1430, silent=0, subsample=0.8 \n"
     ]
    },
    {
     "name": "stderr",
     "output_type": "stream",
     "text": [
      "/home/bull/miniconda3/envs/worldbank-poverty-test/lib/python3.6/site-packages/sklearn/preprocessing/label.py:151: DeprecationWarning: The truth value of an empty array is ambiguous. Returning False, but in future this will result in an error. Use `array.size > 0` to check that an array is not empty.\n",
      "  if diff:\n",
      "/home/bull/miniconda3/envs/worldbank-poverty-test/lib/python3.6/site-packages/sklearn/preprocessing/label.py:151: DeprecationWarning: The truth value of an empty array is ambiguous. Returning False, but in future this will result in an error. Use `array.size > 0` to check that an array is not empty.\n",
      "  if diff:\n"
     ]
    },
    {
     "name": "stdout",
     "output_type": "stream",
     "text": [
      "[CV]  colsample_bytree=0.7, learning_rate=0.05, max_depth=5, min_child_weight=11, n_estimators=1000, nthread=4, objective=binary:logistic, seed=1430, silent=0, subsample=0.8, score=0.8850762527233116, total=  21.1s\n",
      "[CV] colsample_bytree=0.7, learning_rate=0.05, max_depth=5, min_child_weight=11, n_estimators=1000, nthread=4, objective=binary:logistic, seed=1430, silent=0, subsample=0.8 \n"
     ]
    },
    {
     "name": "stderr",
     "output_type": "stream",
     "text": [
      "/home/bull/miniconda3/envs/worldbank-poverty-test/lib/python3.6/site-packages/sklearn/preprocessing/label.py:151: DeprecationWarning: The truth value of an empty array is ambiguous. Returning False, but in future this will result in an error. Use `array.size > 0` to check that an array is not empty.\n",
      "  if diff:\n",
      "/home/bull/miniconda3/envs/worldbank-poverty-test/lib/python3.6/site-packages/sklearn/preprocessing/label.py:151: DeprecationWarning: The truth value of an empty array is ambiguous. Returning False, but in future this will result in an error. Use `array.size > 0` to check that an array is not empty.\n",
      "  if diff:\n",
      "[Parallel(n_jobs=1)]: Done  10 out of  10 | elapsed:  2.9min finished\n"
     ]
    },
    {
     "name": "stdout",
     "output_type": "stream",
     "text": [
      "[CV]  colsample_bytree=0.7, learning_rate=0.05, max_depth=5, min_child_weight=11, n_estimators=1000, nthread=4, objective=binary:logistic, seed=1430, silent=0, subsample=0.8, score=0.8850762527233116, total=  21.2s\n",
      "CPU times: user 12min 31s, sys: 1.97 s, total: 12min 33s\n",
      "Wall time: 3min 12s\n"
     ]
    },
    {
     "name": "stderr",
     "output_type": "stream",
     "text": [
      "/home/bull/miniconda3/envs/worldbank-poverty-test/lib/python3.6/site-packages/sklearn/preprocessing/label.py:151: DeprecationWarning: The truth value of an empty array is ambiguous. Returning False, but in future this will result in an error. Use `array.size > 0` to check that an array is not empty.\n",
      "  if diff:\n",
      "/home/bull/miniconda3/envs/worldbank-poverty-test/lib/python3.6/site-packages/sklearn/preprocessing/label.py:151: DeprecationWarning: The truth value of an empty array is ambiguous. Returning False, but in future this will result in an error. Use `array.size > 0` to check that an array is not empty.\n",
      "  if diff:\n"
     ]
    },
    {
     "name": "stdout",
     "output_type": "stream",
     "text": [
      "CPU times: user 323 ms, sys: 40 ms, total: 363 ms\n",
      "Wall time: 360 ms\n",
      "In-sample score: 93.78%\n",
      "Best model parameters: {'colsample_bytree': 0.7, 'learning_rate': 0.05, 'max_depth': 3, 'min_child_weight': 11, 'n_estimators': 1000, 'nthread': 4, 'objective': 'binary:logistic', 'seed': 1430, 'silent': 0, 'subsample': 0.8}\n"
     ]
    },
    {
     "name": "stderr",
     "output_type": "stream",
     "text": [
      "/home/bull/miniconda3/envs/worldbank-poverty-test/lib/python3.6/site-packages/sklearn/preprocessing/label.py:151: DeprecationWarning: The truth value of an empty array is ambiguous. Returning False, but in future this will result in an error. Use `array.size > 0` to check that an array is not empty.\n",
      "  if diff:\n",
      "/home/bull/miniconda3/envs/worldbank-poverty-test/lib/python3.6/site-packages/matplotlib/cbook/deprecation.py:107: MatplotlibDeprecationWarning: Passing one of 'on', 'true', 'off', 'false' as a boolean is deprecated; use an actual boolean (True/False) instead.\n",
      "  warnings.warn(message, mplDeprecation, stacklevel=1)\n"
     ]
    },
    {
     "data": {
      "image/png": "[encoded data removed]",
      "text/plain": [
       "<Figure size 720x288 with 3 Axes>"
      ]
     },
     "metadata": {},
     "output_type": "display_data"
    },
    {
     "data": {
      "text/html": [
       "<style  type=\"text/css\" >\n",
       "    #T_b5c3b540_6c8f_11e8_97ef_0010c6b1e647row0_col2 {\n",
       "            background-color:  steelblue;\n",
       "        }    #T_b5c3b540_6c8f_11e8_97ef_0010c6b1e647row1_col0 {\n",
       "            background-color:  steelblue;\n",
       "        }    #T_b5c3b540_6c8f_11e8_97ef_0010c6b1e647row2_col2 {\n",
       "            background-color:  steelblue;\n",
       "        }    #T_b5c3b540_6c8f_11e8_97ef_0010c6b1e647row3_col2 {\n",
       "            background-color:  steelblue;\n",
       "        }    #T_b5c3b540_6c8f_11e8_97ef_0010c6b1e647row4_col0 {\n",
       "            background-color:  steelblue;\n",
       "        }    #T_b5c3b540_6c8f_11e8_97ef_0010c6b1e647row5_col0 {\n",
       "            background-color:  steelblue;\n",
       "        }    #T_b5c3b540_6c8f_11e8_97ef_0010c6b1e647row6_col0 {\n",
       "            background-color:  steelblue;\n",
       "        }</style>  \n",
       "<table id=\"T_b5c3b540_6c8f_11e8_97ef_0010c6b1e647\" ><caption>Model Scores</caption> \n",
       "<thead>    <tr> \n",
       "        <th class=\"blank level0\" ></th> \n",
       "        <th class=\"col_heading level0 col0\" >xgb_full_cv</th> \n",
       "        <th class=\"col_heading level0 col1\" >xgb_full</th> \n",
       "        <th class=\"col_heading level0 col2\" >lr_full_wts_cv</th> \n",
       "    </tr></thead> \n",
       "<tbody>    <tr> \n",
       "        <th id=\"T_b5c3b540_6c8f_11e8_97ef_0010c6b1e647level0_row0\" class=\"row_heading level0 row0\" >accuracy</th> \n",
       "        <td id=\"T_b5c3b540_6c8f_11e8_97ef_0010c6b1e647row0_col0\" class=\"data row0 col0\" >0.868765</td> \n",
       "        <td id=\"T_b5c3b540_6c8f_11e8_97ef_0010c6b1e647row0_col1\" class=\"data row0 col1\" >0.859814</td> \n",
       "        <td id=\"T_b5c3b540_6c8f_11e8_97ef_0010c6b1e647row0_col2\" class=\"data row0 col2\" >0.873458</td> \n",
       "    </tr>    <tr> \n",
       "        <th id=\"T_b5c3b540_6c8f_11e8_97ef_0010c6b1e647level0_row1\" class=\"row_heading level0 row1\" >recall</th> \n",
       "        <td id=\"T_b5c3b540_6c8f_11e8_97ef_0010c6b1e647row1_col0\" class=\"data row1 col0\" >0.894152</td> \n",
       "        <td id=\"T_b5c3b540_6c8f_11e8_97ef_0010c6b1e647row1_col1\" class=\"data row1 col1\" >0.886085</td> \n",
       "        <td id=\"T_b5c3b540_6c8f_11e8_97ef_0010c6b1e647row1_col2\" class=\"data row1 col2\" >0.891581</td> \n",
       "    </tr>    <tr> \n",
       "        <th id=\"T_b5c3b540_6c8f_11e8_97ef_0010c6b1e647level0_row2\" class=\"row_heading level0 row2\" >precision</th> \n",
       "        <td id=\"T_b5c3b540_6c8f_11e8_97ef_0010c6b1e647row2_col0\" class=\"data row2 col0\" >0.87025</td> \n",
       "        <td id=\"T_b5c3b540_6c8f_11e8_97ef_0010c6b1e647row2_col1\" class=\"data row2 col1\" >0.862249</td> \n",
       "        <td id=\"T_b5c3b540_6c8f_11e8_97ef_0010c6b1e647row2_col2\" class=\"data row2 col2\" >0.87947</td> \n",
       "    </tr>    <tr> \n",
       "        <th id=\"T_b5c3b540_6c8f_11e8_97ef_0010c6b1e647level0_row3\" class=\"row_heading level0 row3\" >f1</th> \n",
       "        <td id=\"T_b5c3b540_6c8f_11e8_97ef_0010c6b1e647row3_col0\" class=\"data row3 col0\" >0.882039</td> \n",
       "        <td id=\"T_b5c3b540_6c8f_11e8_97ef_0010c6b1e647row3_col1\" class=\"data row3 col1\" >0.874005</td> \n",
       "        <td id=\"T_b5c3b540_6c8f_11e8_97ef_0010c6b1e647row3_col2\" class=\"data row3 col2\" >0.885484</td> \n",
       "    </tr>    <tr> \n",
       "        <th id=\"T_b5c3b540_6c8f_11e8_97ef_0010c6b1e647level0_row4\" class=\"row_heading level0 row4\" >cross_entropy</th> \n",
       "        <td id=\"T_b5c3b540_6c8f_11e8_97ef_0010c6b1e647row4_col0\" class=\"data row4 col0\" >0.295551</td> \n",
       "        <td id=\"T_b5c3b540_6c8f_11e8_97ef_0010c6b1e647row4_col1\" class=\"data row4 col1\" >0.321812</td> \n",
       "        <td id=\"T_b5c3b540_6c8f_11e8_97ef_0010c6b1e647row4_col2\" class=\"data row4 col2\" >0.300498</td> \n",
       "    </tr>    <tr> \n",
       "        <th id=\"T_b5c3b540_6c8f_11e8_97ef_0010c6b1e647level0_row5\" class=\"row_heading level0 row5\" >roc_auc</th> \n",
       "        <td id=\"T_b5c3b540_6c8f_11e8_97ef_0010c6b1e647row5_col0\" class=\"data row5 col0\" >0.947721</td> \n",
       "        <td id=\"T_b5c3b540_6c8f_11e8_97ef_0010c6b1e647row5_col1\" class=\"data row5 col1\" >0.937449</td> \n",
       "        <td id=\"T_b5c3b540_6c8f_11e8_97ef_0010c6b1e647row5_col2\" class=\"data row5 col2\" >0.944474</td> \n",
       "    </tr>    <tr> \n",
       "        <th id=\"T_b5c3b540_6c8f_11e8_97ef_0010c6b1e647level0_row6\" class=\"row_heading level0 row6\" >cohen_kappa</th> \n",
       "        <td id=\"T_b5c3b540_6c8f_11e8_97ef_0010c6b1e647row6_col0\" class=\"data row6 col0\" >0.750765</td> \n",
       "        <td id=\"T_b5c3b540_6c8f_11e8_97ef_0010c6b1e647row6_col1\" class=\"data row6 col1\" >0.731838</td> \n",
       "        <td id=\"T_b5c3b540_6c8f_11e8_97ef_0010c6b1e647row6_col2\" class=\"data row6 col2\" >0.734446</td> \n",
       "    </tr></tbody> \n",
       "</table> "
      ],
      "text/plain": [
       "<pandas.io.formats.style.Styler at 0x7fbd2cecd828>"
      ]
     },
     "metadata": {},
     "output_type": "display_data"
    },
    {
     "name": "stdout",
     "output_type": "stream",
     "text": [
      "Actual poverty rate: 54.11% \n",
      "Predicted poverty rate: 55.14% \n"
     ]
    }
   ],
   "source": [
    "from sklearn.model_selection import GridSearchCV\n",
    "\n",
    "# Load and transform the training data\n",
    "X_train, y_train, w_train = load_data(TRAIN_PATH)\n",
    "\n",
    "# build the model\n",
    "estimator = XGBClassifier()\n",
    "parameters = {'max_depth': np.arange(3,6,2),\n",
    "              'nthread':[4],\n",
    "              'objective':['binary:logistic'],\n",
    "              'learning_rate': [0.05], #so called `eta` value\n",
    "              'min_child_weight': [11],\n",
    "              'silent': [0],\n",
    "              'subsample': [0.8],\n",
    "              'colsample_bytree': [0.7],\n",
    "              'n_estimators': [1000],\n",
    "              'seed': [1430]\n",
    "             }\n",
    "fit_params = {'sample_weight': w_train}\n",
    "model = GridSearchCV(estimator, parameters, fit_params=fit_params, verbose=3, cv=5)\n",
    "%time model.fit(X_train.as_matrix(), y_train)\n",
    "\n",
    "# Get an initial score\n",
    "%time score = model.score(X_train.as_matrix(), y_train)\n",
    "print(\"In-sample score: {:0.2%}\".format(score))\n",
    "print(\"Best model parameters:\", model.best_params_)\n",
    "feat_imps = get_feat_imp_df(model.best_estimator_.feature_importances_, index=X_train.columns)\n",
    "\n",
    "# Load the test set\n",
    "X_test, y_test, w_test = load_data(TEST_PATH)\n",
    "\n",
    "# Run the model\n",
    "y_pred = model.predict(X_test.as_matrix())\n",
    "y_prob = model.predict_proba(X_test.as_matrix())[:,1]\n",
    "\n",
    "# Evaluate performance and store model\n",
    "metrics = evaluation.evaluate_model(y_test, y_pred, y_prob, w_test,\n",
    "                                    compare_models=['xgb_full', \n",
    "                                                    'lr_full_wts_cv'],\n",
    "                                    store_model=True,\n",
    "                                    model_name='full_cv', \n",
    "                                    prefix=ALGORITHM_NAME,\n",
    "                                    country=COUNTRY,\n",
    "                                    model=model,\n",
    "                                    features=feat_imps)\n",
    "best_model = model.best_estimator_"
   ]
  },
  {
   "cell_type": "markdown",
   "metadata": {},
   "source": [
    "This gives us a noticeable boost in performance, with a better recall and much lower cross-entropy than the default model. "
   ]
  },
  {
   "cell_type": "code",
   "execution_count": 9,
   "metadata": {
    "collapsed": false
   },
   "outputs": [
    {
     "data": {
      "text/html": [
       "<div>\n",
       "<style scoped>\n",
       "    .dataframe tbody tr th:only-of-type {\n",
       "        vertical-align: middle;\n",
       "    }\n",
       "\n",
       "    .dataframe tbody tr th {\n",
       "        vertical-align: top;\n",
       "    }\n",
       "\n",
       "    .dataframe thead th {\n",
       "        text-align: right;\n",
       "    }\n",
       "</style>\n",
       "<table border=\"1\" class=\"dataframe\">\n",
       "  <thead>\n",
       "    <tr style=\"text-align: right;\">\n",
       "      <th></th>\n",
       "      <th>importance</th>\n",
       "    </tr>\n",
       "  </thead>\n",
       "  <tbody>\n",
       "    <tr>\n",
       "      <th>der_hhsize</th>\n",
       "      <td>0.071325</td>\n",
       "    </tr>\n",
       "    <tr>\n",
       "      <th>hld_rooms</th>\n",
       "      <td>0.022859</td>\n",
       "    </tr>\n",
       "    <tr>\n",
       "      <th>der_nchild10under</th>\n",
       "      <td>0.020978</td>\n",
       "    </tr>\n",
       "    <tr>\n",
       "      <th>hld_nbcellpho</th>\n",
       "      <td>0.015191</td>\n",
       "    </tr>\n",
       "    <tr>\n",
       "      <th>cons_0508__Yes</th>\n",
       "      <td>0.011863</td>\n",
       "    </tr>\n",
       "    <tr>\n",
       "      <th>der_nliterate</th>\n",
       "      <td>0.011574</td>\n",
       "    </tr>\n",
       "    <tr>\n",
       "      <th>cons_0505__Yes</th>\n",
       "      <td>0.010706</td>\n",
       "    </tr>\n",
       "    <tr>\n",
       "      <th>der_nmalesover10</th>\n",
       "      <td>0.010417</td>\n",
       "    </tr>\n",
       "    <tr>\n",
       "      <th>der_nfemalesover10</th>\n",
       "      <td>0.009983</td>\n",
       "    </tr>\n",
       "    <tr>\n",
       "      <th>cons_0410__Yes</th>\n",
       "      <td>0.009693</td>\n",
       "    </tr>\n",
       "    <tr>\n",
       "      <th>cons_0912__Yes</th>\n",
       "      <td>0.009259</td>\n",
       "    </tr>\n",
       "    <tr>\n",
       "      <th>cons_0105__Yes</th>\n",
       "      <td>0.008247</td>\n",
       "    </tr>\n",
       "    <tr>\n",
       "      <th>cons_0102__Yes</th>\n",
       "      <td>0.008102</td>\n",
       "    </tr>\n",
       "    <tr>\n",
       "      <th>hld_selfscale</th>\n",
       "      <td>0.007378</td>\n",
       "    </tr>\n",
       "    <tr>\n",
       "      <th>cons_0106__Yes</th>\n",
       "      <td>0.007234</td>\n",
       "    </tr>\n",
       "    <tr>\n",
       "      <th>cons_1108__Yes</th>\n",
       "      <td>0.007089</td>\n",
       "    </tr>\n",
       "    <tr>\n",
       "      <th>cons_0301__Yes</th>\n",
       "      <td>0.006655</td>\n",
       "    </tr>\n",
       "    <tr>\n",
       "      <th>cons_1101__Yes</th>\n",
       "      <td>0.006366</td>\n",
       "    </tr>\n",
       "    <tr>\n",
       "      <th>geo_district__Kasungu</th>\n",
       "      <td>0.006076</td>\n",
       "    </tr>\n",
       "    <tr>\n",
       "      <th>cons_0803__Yes</th>\n",
       "      <td>0.006076</td>\n",
       "    </tr>\n",
       "  </tbody>\n",
       "</table>\n",
       "</div>"
      ],
      "text/plain": [
       "                       importance\n",
       "der_hhsize               0.071325\n",
       "hld_rooms                0.022859\n",
       "der_nchild10under        0.020978\n",
       "hld_nbcellpho            0.015191\n",
       "cons_0508__Yes           0.011863\n",
       "der_nliterate            0.011574\n",
       "cons_0505__Yes           0.010706\n",
       "der_nmalesover10         0.010417\n",
       "der_nfemalesover10       0.009983\n",
       "cons_0410__Yes           0.009693\n",
       "cons_0912__Yes           0.009259\n",
       "cons_0105__Yes           0.008247\n",
       "cons_0102__Yes           0.008102\n",
       "hld_selfscale            0.007378\n",
       "cons_0106__Yes           0.007234\n",
       "cons_1108__Yes           0.007089\n",
       "cons_0301__Yes           0.006655\n",
       "cons_1101__Yes           0.006366\n",
       "geo_district__Kasungu    0.006076\n",
       "cons_0803__Yes           0.006076"
      ]
     },
     "execution_count": 9,
     "metadata": {},
     "output_type": "execute_result"
    }
   ],
   "source": [
    "feat_imps.head(20)"
   ]
  },
  {
   "cell_type": "markdown",
   "metadata": {},
   "source": [
    "# Feature selection <a class=\"anchor\" id=\"feature-selection\"></a>\n",
    "\n",
    "Since this model provides feature importances, we can easily remove features that do not contribute much to the model. For example, we can filter our features to only those that contribute 80% of the model importance. In the case of filtering consumable features, we can quickly see which are most useful and filter it to the top 50 or less."
   ]
  },
  {
   "cell_type": "code",
   "execution_count": 10,
   "metadata": {
    "collapsed": false
   },
   "outputs": [
    {
     "name": "stdout",
     "output_type": "stream",
     "text": [
      "X shape after feature selection:  (9183, 257)\n",
      "CPU times: user 35.8 s, sys: 68 ms, total: 35.8 s\n",
      "Wall time: 8.99 s\n"
     ]
    },
    {
     "name": "stderr",
     "output_type": "stream",
     "text": [
      "/home/bull/miniconda3/envs/worldbank-poverty-test/lib/python3.6/site-packages/sklearn/preprocessing/label.py:151: DeprecationWarning: The truth value of an empty array is ambiguous. Returning False, but in future this will result in an error. Use `array.size > 0` to check that an array is not empty.\n",
      "  if diff:\n"
     ]
    },
    {
     "name": "stdout",
     "output_type": "stream",
     "text": [
      "CPU times: user 330 ms, sys: 3.99 ms, total: 334 ms\n",
      "Wall time: 332 ms\n",
      "In-sample score: 92.64%\n"
     ]
    },
    {
     "name": "stderr",
     "output_type": "stream",
     "text": [
      "/home/bull/miniconda3/envs/worldbank-poverty-test/lib/python3.6/site-packages/sklearn/preprocessing/label.py:151: DeprecationWarning: The truth value of an empty array is ambiguous. Returning False, but in future this will result in an error. Use `array.size > 0` to check that an array is not empty.\n",
      "  if diff:\n",
      "/home/bull/miniconda3/envs/worldbank-poverty-test/lib/python3.6/site-packages/sklearn/preprocessing/label.py:151: DeprecationWarning: The truth value of an empty array is ambiguous. Returning False, but in future this will result in an error. Use `array.size > 0` to check that an array is not empty.\n",
      "  if diff:\n",
      "/home/bull/miniconda3/envs/worldbank-poverty-test/lib/python3.6/site-packages/matplotlib/cbook/deprecation.py:107: MatplotlibDeprecationWarning: Passing one of 'on', 'true', 'off', 'false' as a boolean is deprecated; use an actual boolean (True/False) instead.\n",
      "  warnings.warn(message, mplDeprecation, stacklevel=1)\n"
     ]
    },
    {
     "data": {
      "image/png": "[encoded data removed]",
      "text/plain": [
       "<Figure size 720x288 with 3 Axes>"
      ]
     },
     "metadata": {},
     "output_type": "display_data"
    },
    {
     "data": {
      "text/html": [
       "<style  type=\"text/css\" >\n",
       "    #T_bc56278a_6c8f_11e8_97ef_0010c6b1e647row0_col3 {\n",
       "            background-color:  steelblue;\n",
       "        }    #T_bc56278a_6c8f_11e8_97ef_0010c6b1e647row1_col1 {\n",
       "            background-color:  steelblue;\n",
       "        }    #T_bc56278a_6c8f_11e8_97ef_0010c6b1e647row2_col3 {\n",
       "            background-color:  steelblue;\n",
       "        }    #T_bc56278a_6c8f_11e8_97ef_0010c6b1e647row3_col3 {\n",
       "            background-color:  steelblue;\n",
       "        }    #T_bc56278a_6c8f_11e8_97ef_0010c6b1e647row4_col0 {\n",
       "            background-color:  steelblue;\n",
       "        }    #T_bc56278a_6c8f_11e8_97ef_0010c6b1e647row5_col0 {\n",
       "            background-color:  steelblue;\n",
       "        }    #T_bc56278a_6c8f_11e8_97ef_0010c6b1e647row6_col0 {\n",
       "            background-color:  steelblue;\n",
       "        }</style>  \n",
       "<table id=\"T_bc56278a_6c8f_11e8_97ef_0010c6b1e647\" ><caption>Model Scores</caption> \n",
       "<thead>    <tr> \n",
       "        <th class=\"blank level0\" ></th> \n",
       "        <th class=\"col_heading level0 col0\" >xgb_feats</th> \n",
       "        <th class=\"col_heading level0 col1\" >xgb_full_cv</th> \n",
       "        <th class=\"col_heading level0 col2\" >xgb_full</th> \n",
       "        <th class=\"col_heading level0 col3\" >lr_full_wts_cv</th> \n",
       "    </tr></thead> \n",
       "<tbody>    <tr> \n",
       "        <th id=\"T_bc56278a_6c8f_11e8_97ef_0010c6b1e647level0_row0\" class=\"row_heading level0 row0\" >accuracy</th> \n",
       "        <td id=\"T_bc56278a_6c8f_11e8_97ef_0010c6b1e647row0_col0\" class=\"data row0 col0\" >0.872109</td> \n",
       "        <td id=\"T_bc56278a_6c8f_11e8_97ef_0010c6b1e647row0_col1\" class=\"data row0 col1\" >0.868765</td> \n",
       "        <td id=\"T_bc56278a_6c8f_11e8_97ef_0010c6b1e647row0_col2\" class=\"data row0 col2\" >0.859814</td> \n",
       "        <td id=\"T_bc56278a_6c8f_11e8_97ef_0010c6b1e647row0_col3\" class=\"data row0 col3\" >0.873458</td> \n",
       "    </tr>    <tr> \n",
       "        <th id=\"T_bc56278a_6c8f_11e8_97ef_0010c6b1e647level0_row1\" class=\"row_heading level0 row1\" >recall</th> \n",
       "        <td id=\"T_bc56278a_6c8f_11e8_97ef_0010c6b1e647row1_col0\" class=\"data row1 col0\" >0.891584</td> \n",
       "        <td id=\"T_bc56278a_6c8f_11e8_97ef_0010c6b1e647row1_col1\" class=\"data row1 col1\" >0.894152</td> \n",
       "        <td id=\"T_bc56278a_6c8f_11e8_97ef_0010c6b1e647row1_col2\" class=\"data row1 col2\" >0.886085</td> \n",
       "        <td id=\"T_bc56278a_6c8f_11e8_97ef_0010c6b1e647row1_col3\" class=\"data row1 col3\" >0.891581</td> \n",
       "    </tr>    <tr> \n",
       "        <th id=\"T_bc56278a_6c8f_11e8_97ef_0010c6b1e647level0_row2\" class=\"row_heading level0 row2\" >precision</th> \n",
       "        <td id=\"T_bc56278a_6c8f_11e8_97ef_0010c6b1e647row2_col0\" class=\"data row2 col0\" >0.87734</td> \n",
       "        <td id=\"T_bc56278a_6c8f_11e8_97ef_0010c6b1e647row2_col1\" class=\"data row2 col1\" >0.87025</td> \n",
       "        <td id=\"T_bc56278a_6c8f_11e8_97ef_0010c6b1e647row2_col2\" class=\"data row2 col2\" >0.862249</td> \n",
       "        <td id=\"T_bc56278a_6c8f_11e8_97ef_0010c6b1e647row2_col3\" class=\"data row2 col3\" >0.87947</td> \n",
       "    </tr>    <tr> \n",
       "        <th id=\"T_bc56278a_6c8f_11e8_97ef_0010c6b1e647level0_row3\" class=\"row_heading level0 row3\" >f1</th> \n",
       "        <td id=\"T_bc56278a_6c8f_11e8_97ef_0010c6b1e647row3_col0\" class=\"data row3 col0\" >0.884405</td> \n",
       "        <td id=\"T_bc56278a_6c8f_11e8_97ef_0010c6b1e647row3_col1\" class=\"data row3 col1\" >0.882039</td> \n",
       "        <td id=\"T_bc56278a_6c8f_11e8_97ef_0010c6b1e647row3_col2\" class=\"data row3 col2\" >0.874005</td> \n",
       "        <td id=\"T_bc56278a_6c8f_11e8_97ef_0010c6b1e647row3_col3\" class=\"data row3 col3\" >0.885484</td> \n",
       "    </tr>    <tr> \n",
       "        <th id=\"T_bc56278a_6c8f_11e8_97ef_0010c6b1e647level0_row4\" class=\"row_heading level0 row4\" >cross_entropy</th> \n",
       "        <td id=\"T_bc56278a_6c8f_11e8_97ef_0010c6b1e647row4_col0\" class=\"data row4 col0\" >0.289181</td> \n",
       "        <td id=\"T_bc56278a_6c8f_11e8_97ef_0010c6b1e647row4_col1\" class=\"data row4 col1\" >0.295551</td> \n",
       "        <td id=\"T_bc56278a_6c8f_11e8_97ef_0010c6b1e647row4_col2\" class=\"data row4 col2\" >0.321812</td> \n",
       "        <td id=\"T_bc56278a_6c8f_11e8_97ef_0010c6b1e647row4_col3\" class=\"data row4 col3\" >0.300498</td> \n",
       "    </tr>    <tr> \n",
       "        <th id=\"T_bc56278a_6c8f_11e8_97ef_0010c6b1e647level0_row5\" class=\"row_heading level0 row5\" >roc_auc</th> \n",
       "        <td id=\"T_bc56278a_6c8f_11e8_97ef_0010c6b1e647row5_col0\" class=\"data row5 col0\" >0.948603</td> \n",
       "        <td id=\"T_bc56278a_6c8f_11e8_97ef_0010c6b1e647row5_col1\" class=\"data row5 col1\" >0.947721</td> \n",
       "        <td id=\"T_bc56278a_6c8f_11e8_97ef_0010c6b1e647row5_col2\" class=\"data row5 col2\" >0.937449</td> \n",
       "        <td id=\"T_bc56278a_6c8f_11e8_97ef_0010c6b1e647row5_col3\" class=\"data row5 col3\" >0.944474</td> \n",
       "    </tr>    <tr> \n",
       "        <th id=\"T_bc56278a_6c8f_11e8_97ef_0010c6b1e647level0_row6\" class=\"row_heading level0 row6\" >cohen_kappa</th> \n",
       "        <td id=\"T_bc56278a_6c8f_11e8_97ef_0010c6b1e647row6_col0\" class=\"data row6 col0\" >0.754271</td> \n",
       "        <td id=\"T_bc56278a_6c8f_11e8_97ef_0010c6b1e647row6_col1\" class=\"data row6 col1\" >0.750765</td> \n",
       "        <td id=\"T_bc56278a_6c8f_11e8_97ef_0010c6b1e647row6_col2\" class=\"data row6 col2\" >0.731838</td> \n",
       "        <td id=\"T_bc56278a_6c8f_11e8_97ef_0010c6b1e647row6_col3\" class=\"data row6 col3\" >0.734446</td> \n",
       "    </tr></tbody> \n",
       "</table> "
      ],
      "text/plain": [
       "<pandas.io.formats.style.Styler at 0x7fbd311cdf98>"
      ]
     },
     "metadata": {},
     "output_type": "display_data"
    },
    {
     "name": "stdout",
     "output_type": "stream",
     "text": [
      "Actual poverty rate: 54.11% \n",
      "Predicted poverty rate: 54.96% \n"
     ]
    }
   ],
   "source": [
    "feats = feat_imps[feat_imps.cumsum() <= 0.90].dropna().index.values\n",
    "\n",
    "# Load and transform the training data\n",
    "X_train, y_train, w_train = load_data(TRAIN_PATH, selected_columns=feats)\n",
    "print(\"X shape after feature selection: \", X_train.shape)\n",
    "\n",
    "# Fit the model\n",
    "model = best_model\n",
    "%time model.fit(X_train.as_matrix(), y_train)\n",
    "\n",
    "# Get an initial score\n",
    "%time score = model.score(X_train.as_matrix(), y_train, w_train)\n",
    "print(\"In-sample score: {:0.2%}\".format(score))\n",
    "feat_imps = get_feat_imp_df(model.feature_importances_, index=X_train.columns)\n",
    "\n",
    "# Load the test set\n",
    "X_test, y_test, w_test = load_data(TEST_PATH, selected_columns=feats)\n",
    "\n",
    "# Run the model\n",
    "y_pred = model.predict(X_test.as_matrix())\n",
    "y_prob = model.predict_proba(X_test.as_matrix())[:,1]\n",
    "\n",
    "# Evaluate performance and store model\n",
    "metrics = evaluation.evaluate_model(y_test, y_pred, y_prob, w_test,\n",
    "                                    compare_models=['xgb_full_cv',\n",
    "                                                    'xgb_full',\n",
    "                                                    'lr_full_wts_cv'],\n",
    "                                    store_model=True,\n",
    "                                    model_name='feats', \n",
    "                                    prefix=ALGORITHM_NAME,\n",
    "                                    country=COUNTRY,\n",
    "                                    model=model,\n",
    "                                    features=feat_imps)"
   ]
  },
  {
   "cell_type": "code",
   "execution_count": 11,
   "metadata": {
    "collapsed": false,
    "scrolled": false
   },
   "outputs": [
    {
     "name": "stdout",
     "output_type": "stream",
     "text": [
      "120 consumables features selected:\n",
      "Chicken\n",
      "Goat\n",
      "Pumpkin\n",
      "Thobwa\n",
      "Green maize\n",
      "Maize ufa refined (fine flour)\n",
      "Rice\n",
      "Public transport - Bus/Minibus\n",
      "Bean, white\n",
      "Charcoal\n",
      "Cooking oil\n",
      "Eggs\n",
      "Banana\n",
      "Beef\n",
      "Dried fish\n",
      "Fresh milk\n",
      "Bean, brown\n",
      "Groundnut flour\n",
      "Fresh fish\n",
      "Cigarettes or other tobacco\n",
      "Smoked fish\n",
      "Groundnut\n",
      "Bicycle service, repair, or parts\n",
      "Other personal products (shampoo, razor blades, cosmetics, hair products, etc.)\n",
      "Small animal - rabbit, mice, etc.\n",
      "Sugar\n",
      "Pork\n",
      "Termites, other insects (eg Ngumbi, caterpillar)\n",
      "Paraffin lamp (hurricane or pressure)\n",
      "Public transport - Bicycle Taxi\n",
      "Irish potato\n",
      "Bread\n",
      "Tea\n",
      "Guava\n",
      "Clothes soap (powder)\n",
      "Soft drinks (Coca-cola, Fanta, Sprite, etc.)\n",
      "Chinese cabbage\n",
      "Boy's shoes\n",
      "Bowls, glassware, plates, silverware, etc.\n",
      "Donation - to church, charity, beggar, etc.\n",
      "Cassava tubers\n",
      "Sweets, candy, chocolates\n",
      "Girl's dress/skirt\n",
      "Repairs & maintenance to dwelling\n",
      "Glycerine, Vaseline, skin creams\n",
      "Matches\n",
      "Buns, scones\n",
      "Cassava flour\n",
      "Citrus - naartje, orange, etc.\n",
      "Sorghum (mapira)\n",
      "Maize ufa mgaiwa (normal flour)\n",
      "Construction timber\n",
      "Toothpaste, toothbrush\n",
      "Woodpoles, bamboo\n",
      "Public transport - Other (Truck, Oxcart, Etc..)\n",
      "Bar soap (body soap or clothes soap)\n",
      "Tanaposi/Rape\n",
      "Locally brewed liquor (kachasu)\n",
      "Soyabean flour\n",
      "Baby nappies/diapers\n",
      "Torch / flashlight\n",
      "Mandazi, doughnut (vendor)\n",
      "Batteries\n",
      "Sugar Cane\n",
      "Chitenje cloth\n",
      "Orange sweet potato\n",
      "Mat - sleeping or for drying maize flour\n",
      "Funeral costs, nonhousehold members (relatives, neighbors/friends)\n",
      "Powdered milk\n",
      "Avocado\n",
      "Fish (vendor)\n",
      "Tomato\n",
      "Boy's trousers\n",
      "Onion\n",
      "Grass for thatching roof or other use\n",
      "Ground bean (nzama)\n",
      "Milling fees, grain\n",
      "Wheat flour\n",
      "Umbrella\n",
      "Candles\n",
      "Cucumber\n",
      "Other cultivated green leafy vegetables\n",
      "Chibuku (commercial traditional-style beer)\n",
      "Lady's shoes\n",
      "Squash (Sobo drink concentrate)\n",
      "Men's shoes\n",
      "Boy's jackets\n",
      "Lady's dress/skirt\n",
      "Wine or commercial liquor\n",
      "Cabbage\n",
      "Yeast, baking powder, bicarbonate of soda\n",
      "Mosquito net\n",
      "Motor vehicle service, repair, or parts\n",
      "Traditional beer (masese)\n",
      "Men's trousers\n",
      "White sweet potato\n",
      "Plantain, cooking banana\n",
      "Samosa (vendor)\n",
      "Cooking utensils (cookpots, stirring spoons and wisks, etc.)\n",
      "Boy's shirts\n",
      "Wild fruit (masau, malambe, etc.)\n",
      "Nkhwani\n",
      "Marriage ceremony costs\n",
      "Men's undergarments\n",
      "Girl's other clothing\n",
      "Boy's undergarments\n",
      "Cowpea (khobwe)\n",
      "Paraffin or kerosene\n",
      "Papaya\n",
      "Postage stamps or other postal fees\n",
      "Pigeonpea (nandolo)\n",
      "Infant clothing\n",
      "Other poultry - guinea fowl, doves, etc.\n",
      "Biscuits\n",
      "Men's jackets\n",
      "Girl's shoes\n",
      "Mutton\n",
      "Lady's undergarments\n",
      "Boy's other clothing\n",
      "Carpet, rugs, drapes, curtains\n"
     ]
    }
   ],
   "source": [
    "cons_feats = [x.split('__')[0] for x in feats if x[0:5] == 'cons_']\n",
    "print(\"{} consumables features selected:\".format(len(cons_feats)))\n",
    "for x in cons_feats:\n",
    "    print(questions[x])"
   ]
  },
  {
   "cell_type": "markdown",
   "metadata": {},
   "source": [
    "# Random Forest Classifier Malawi Summary <a class=\"anchor\" id=\"summary\"></a>\n",
    "\n"
   ]
  },
  {
   "cell_type": "code",
   "execution_count": 12,
   "metadata": {
    "collapsed": false
   },
   "outputs": [
    {
     "data": {
      "image/png": "[encoded data removed]",
      "text/plain": [
       "<Figure size 360x288 with 1 Axes>"
      ]
     },
     "metadata": {},
     "output_type": "display_data"
    },
    {
     "data": {
      "text/html": [
       "<style  type=\"text/css\" >\n",
       "    #T_bc56278b_6c8f_11e8_97ef_0010c6b1e647row0_col0 {\n",
       "            background-color:  steelblue;\n",
       "        }    #T_bc56278b_6c8f_11e8_97ef_0010c6b1e647row0_col2 {\n",
       "            background-color:  steelblue;\n",
       "        }    #T_bc56278b_6c8f_11e8_97ef_0010c6b1e647row0_col3 {\n",
       "            background-color:  steelblue;\n",
       "        }    #T_bc56278b_6c8f_11e8_97ef_0010c6b1e647row0_col4 {\n",
       "            background-color:  steelblue;\n",
       "        }    #T_bc56278b_6c8f_11e8_97ef_0010c6b1e647row0_col5 {\n",
       "            background-color:  steelblue;\n",
       "        }    #T_bc56278b_6c8f_11e8_97ef_0010c6b1e647row0_col6 {\n",
       "            background-color:  steelblue;\n",
       "        }    #T_bc56278b_6c8f_11e8_97ef_0010c6b1e647row0_col7 {\n",
       "            background-color:  steelblue;\n",
       "        }    #T_bc56278b_6c8f_11e8_97ef_0010c6b1e647row1_col1 {\n",
       "            background-color:  steelblue;\n",
       "        }</style>  \n",
       "<table id=\"T_bc56278b_6c8f_11e8_97ef_0010c6b1e647\" ><caption>Model Scores</caption> \n",
       "<thead>    <tr> \n",
       "        <th class=\"blank level0\" ></th> \n",
       "        <th class=\"col_heading level0 col0\" >accuracy</th> \n",
       "        <th class=\"col_heading level0 col1\" >recall</th> \n",
       "        <th class=\"col_heading level0 col2\" >precision</th> \n",
       "        <th class=\"col_heading level0 col3\" >f1</th> \n",
       "        <th class=\"col_heading level0 col4\" >cross_entropy</th> \n",
       "        <th class=\"col_heading level0 col5\" >roc_auc</th> \n",
       "        <th class=\"col_heading level0 col6\" >cohen_kappa</th> \n",
       "        <th class=\"col_heading level0 col7\" >pov_rate_error</th> \n",
       "    </tr></thead> \n",
       "<tbody>    <tr> \n",
       "        <th id=\"T_bc56278b_6c8f_11e8_97ef_0010c6b1e647level0_row0\" class=\"row_heading level0 row0\" >xgb_feats</th> \n",
       "        <td id=\"T_bc56278b_6c8f_11e8_97ef_0010c6b1e647row0_col0\" class=\"data row0 col0\" >0.872109</td> \n",
       "        <td id=\"T_bc56278b_6c8f_11e8_97ef_0010c6b1e647row0_col1\" class=\"data row0 col1\" >0.891584</td> \n",
       "        <td id=\"T_bc56278b_6c8f_11e8_97ef_0010c6b1e647row0_col2\" class=\"data row0 col2\" >0.87734</td> \n",
       "        <td id=\"T_bc56278b_6c8f_11e8_97ef_0010c6b1e647row0_col3\" class=\"data row0 col3\" >0.884405</td> \n",
       "        <td id=\"T_bc56278b_6c8f_11e8_97ef_0010c6b1e647row0_col4\" class=\"data row0 col4\" >0.289181</td> \n",
       "        <td id=\"T_bc56278b_6c8f_11e8_97ef_0010c6b1e647row0_col5\" class=\"data row0 col5\" >0.948603</td> \n",
       "        <td id=\"T_bc56278b_6c8f_11e8_97ef_0010c6b1e647row0_col6\" class=\"data row0 col6\" >0.754271</td> \n",
       "        <td id=\"T_bc56278b_6c8f_11e8_97ef_0010c6b1e647row0_col7\" class=\"data row0 col7\" >0.00847763</td> \n",
       "    </tr>    <tr> \n",
       "        <th id=\"T_bc56278b_6c8f_11e8_97ef_0010c6b1e647level0_row1\" class=\"row_heading level0 row1\" >xgb_full_cv</th> \n",
       "        <td id=\"T_bc56278b_6c8f_11e8_97ef_0010c6b1e647row1_col0\" class=\"data row1 col0\" >0.868765</td> \n",
       "        <td id=\"T_bc56278b_6c8f_11e8_97ef_0010c6b1e647row1_col1\" class=\"data row1 col1\" >0.894152</td> \n",
       "        <td id=\"T_bc56278b_6c8f_11e8_97ef_0010c6b1e647row1_col2\" class=\"data row1 col2\" >0.87025</td> \n",
       "        <td id=\"T_bc56278b_6c8f_11e8_97ef_0010c6b1e647row1_col3\" class=\"data row1 col3\" >0.882039</td> \n",
       "        <td id=\"T_bc56278b_6c8f_11e8_97ef_0010c6b1e647row1_col4\" class=\"data row1 col4\" >0.295551</td> \n",
       "        <td id=\"T_bc56278b_6c8f_11e8_97ef_0010c6b1e647row1_col5\" class=\"data row1 col5\" >0.947721</td> \n",
       "        <td id=\"T_bc56278b_6c8f_11e8_97ef_0010c6b1e647row1_col6\" class=\"data row1 col6\" >0.750765</td> \n",
       "        <td id=\"T_bc56278b_6c8f_11e8_97ef_0010c6b1e647row1_col7\" class=\"data row1 col7\" >0.0103505</td> \n",
       "    </tr>    <tr> \n",
       "        <th id=\"T_bc56278b_6c8f_11e8_97ef_0010c6b1e647level0_row2\" class=\"row_heading level0 row2\" >xgb_full</th> \n",
       "        <td id=\"T_bc56278b_6c8f_11e8_97ef_0010c6b1e647row2_col0\" class=\"data row2 col0\" >0.859814</td> \n",
       "        <td id=\"T_bc56278b_6c8f_11e8_97ef_0010c6b1e647row2_col1\" class=\"data row2 col1\" >0.886085</td> \n",
       "        <td id=\"T_bc56278b_6c8f_11e8_97ef_0010c6b1e647row2_col2\" class=\"data row2 col2\" >0.862249</td> \n",
       "        <td id=\"T_bc56278b_6c8f_11e8_97ef_0010c6b1e647row2_col3\" class=\"data row2 col3\" >0.874005</td> \n",
       "        <td id=\"T_bc56278b_6c8f_11e8_97ef_0010c6b1e647row2_col4\" class=\"data row2 col4\" >0.321812</td> \n",
       "        <td id=\"T_bc56278b_6c8f_11e8_97ef_0010c6b1e647row2_col5\" class=\"data row2 col5\" >0.937449</td> \n",
       "        <td id=\"T_bc56278b_6c8f_11e8_97ef_0010c6b1e647row2_col6\" class=\"data row2 col6\" >0.731838</td> \n",
       "        <td id=\"T_bc56278b_6c8f_11e8_97ef_0010c6b1e647row2_col7\" class=\"data row2 col7\" >0.01896</td> \n",
       "    </tr></tbody> \n",
       "</table> "
      ],
      "text/plain": [
       "<pandas.io.formats.style.Styler at 0x7fbd3113e978>"
      ]
     },
     "metadata": {},
     "output_type": "display_data"
    }
   ],
   "source": [
    "evaluation.compare_algorithm_models(ALGORITHM_NAME, COUNTRY)"
   ]
  }
 ],
 "metadata": {
  "kernelspec": {
   "display_name": "Python 3",
   "language": "python",
   "name": "python3"
  },
  "language_info": {
   "codemirror_mode": {
    "name": "ipython",
    "version": 3
   },
   "file_extension": ".py",
   "mimetype": "text/x-python",
   "name": "python",
   "nbconvert_exporter": "python",
   "pygments_lexer": "ipython3",
   "version": "3.6.0"
  }
 },
 "nbformat": 4,
 "nbformat_minor": 2
}
