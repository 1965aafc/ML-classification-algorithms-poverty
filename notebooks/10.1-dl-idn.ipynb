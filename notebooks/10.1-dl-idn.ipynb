{
 "cells": [
  {
   "cell_type": "markdown",
   "metadata": {},
   "source": [
    "<h1 style=\"text-align: center;\" markdown=\"1\">Machine Learning Algorithms for Poverty Prediction</h1> \n",
    "<h2 style=\"text-align: center;\" markdown=\"2\">A project of the World Bank's Knowledge for Change Program</h2>\n",
    "<h3 style=\"text-align: center;\" markdown=\"3\">(KCP, Grant TF0A4534)</h3>\n",
    "\n",
    "\n",
    "> *This notebook is part of a series that has been developed as an empirical comparative assessment of machine learning classification algorithms applied to poverty prediction. The objectives of this project are to explore how well machine learning algorithms perform when given the task to identify the poor in a given population, and to provide a resource of machine learning techniques for researchers, data scientists, and statisticians in developing countries.*"
   ]
  },
  {
   "cell_type": "markdown",
   "metadata": {},
   "source": [
    "<h1 style=\"text-align: center;\" markdown=\"3\">Algorithm 10 - Deep Learning Classifier</h1> \n",
    "<h2 style=\"text-align: center;\" markdown=\"3\">Part 2: Indonesia Poverty Prediction</h2> "
   ]
  },
  {
   "cell_type": "markdown",
   "metadata": {},
   "source": [
    "# Table of Contents\n",
    "[Introduction](#introduction)  \n",
    "[Deep Learning with Simple Features](#dl-simple)  \n",
    "[Deep Learning with Full Features](#all-feats)  \n",
    "&nbsp;&nbsp;&nbsp;[Undersampling](#undersampling)  \n",
    "&nbsp;&nbsp;&nbsp;[Oversampling](#oversampling)  \n",
    "&nbsp;&nbsp;&nbsp;[Tune Parameters and Cross-Validate](#tune-cv)  \n",
    "[Feature Selection](#feature-selection)  \n",
    "[Summary](#summary)"
   ]
  },
  {
   "cell_type": "markdown",
   "metadata": {},
   "source": [
    "# Introduction <a class=\"anchor\" id=\"introduction\"></a>\n",
    "\n",
    "We will now apply the deep learning classifier to the Indonesia dataset and explore how having an unbalanced dataset impacts the classifier performance. \n",
    "\n",
    "As always, we start with loading our standard libraries and the Indonesia data"
   ]
  },
  {
   "cell_type": "code",
   "execution_count": 1,
   "metadata": {
    "collapsed": false
   },
   "outputs": [
    {
     "name": "stderr",
     "output_type": "stream",
     "text": [
      "/home/bull/miniconda3/envs/worldbank-poverty-test/lib/python3.6/site-packages/h5py/__init__.py:36: FutureWarning: Conversion of the second argument of issubdtype from `float` to `np.floating` is deprecated. In future, it will be treated as `np.float64 == np.dtype(float).type`.\n",
      "  from ._conv import register_converters as _register_converters\n",
      "Using TensorFlow backend.\n"
     ]
    }
   ],
   "source": [
    "%matplotlib inline\n",
    "\n",
    "import os\n",
    "import sys\n",
    "import json\n",
    "\n",
    "import numpy as np\n",
    "import pandas as pd\n",
    "\n",
    "from matplotlib import pyplot as plt\n",
    "from IPython.display import display\n",
    "import seaborn as sns\n",
    "sns.set()\n",
    "\n",
    "# Add our local functions to the path\n",
    "sys.path.append(os.path.join(os.pardir, 'src'))\n",
    "from models import evaluation\n",
    "from data.load_data import (get_country_filepaths, \n",
    "                            split_features_labels_weights, \n",
    "                            load_data)\n",
    "from features.process_features import get_vif, standardize\n",
    "from features.process_features import IDN_BASIC_FEATURES\n",
    "\n",
    "ALGORITHM_NAME = 'dl'\n",
    "COUNTRY = 'idn'\n",
    "TRAIN_PATH, TEST_PATH, QUESTIONS_PATH = get_country_filepaths(COUNTRY)\n",
    "\n",
    "# load text of survey questions for reference\n",
    "with open(QUESTIONS_PATH, 'r') as fp:\n",
    "    questions = json.load(fp)"
   ]
  },
  {
   "cell_type": "code",
   "execution_count": 2,
   "metadata": {
    "collapsed": false,
    "scrolled": true
   },
   "outputs": [
    {
     "name": "stdout",
     "output_type": "stream",
     "text": [
      "Data has 53,132 rows and 453 columns\n",
      "Percent poor: 9.0% \tPercent non-poor: 91.0%\n"
     ]
    },
    {
     "data": {
      "text/html": [
       "<div>\n",
       "<style scoped>\n",
       "    .dataframe tbody tr th:only-of-type {\n",
       "        vertical-align: middle;\n",
       "    }\n",
       "\n",
       "    .dataframe tbody tr th {\n",
       "        vertical-align: top;\n",
       "    }\n",
       "\n",
       "    .dataframe thead th {\n",
       "        text-align: right;\n",
       "    }\n",
       "</style>\n",
       "<table border=\"1\" class=\"dataframe\">\n",
       "  <thead>\n",
       "    <tr style=\"text-align: right;\">\n",
       "      <th></th>\n",
       "      <th>geo_district</th>\n",
       "      <th>geo_subdistrict</th>\n",
       "      <th>geo_village</th>\n",
       "      <th>der_hhsize</th>\n",
       "      <th>hld_nbcell</th>\n",
       "      <th>der_nchild10under</th>\n",
       "      <th>der_nmalesover10</th>\n",
       "      <th>der_nfemalesover10</th>\n",
       "      <th>der_nliterate</th>\n",
       "      <th>der_nemployedpast3mo</th>\n",
       "      <th>...</th>\n",
       "      <th>cons_333__Yes</th>\n",
       "      <th>cons_334__Yes</th>\n",
       "      <th>cons_335__Yes</th>\n",
       "      <th>cons_336__Yes</th>\n",
       "      <th>cons_338__Yes</th>\n",
       "      <th>cons_339__Yes</th>\n",
       "      <th>cons_340__Yes</th>\n",
       "      <th>cons_341__Yes</th>\n",
       "      <th>cons_342__Yes</th>\n",
       "      <th>cons_343__Yes</th>\n",
       "    </tr>\n",
       "    <tr>\n",
       "      <th>hid</th>\n",
       "      <th></th>\n",
       "      <th></th>\n",
       "      <th></th>\n",
       "      <th></th>\n",
       "      <th></th>\n",
       "      <th></th>\n",
       "      <th></th>\n",
       "      <th></th>\n",
       "      <th></th>\n",
       "      <th></th>\n",
       "      <th></th>\n",
       "      <th></th>\n",
       "      <th></th>\n",
       "      <th></th>\n",
       "      <th></th>\n",
       "      <th></th>\n",
       "      <th></th>\n",
       "      <th></th>\n",
       "      <th></th>\n",
       "      <th></th>\n",
       "      <th></th>\n",
       "    </tr>\n",
       "  </thead>\n",
       "  <tbody>\n",
       "    <tr>\n",
       "      <th>8271030150650101</th>\n",
       "      <td>8271</td>\n",
       "      <td>30</td>\n",
       "      <td>15</td>\n",
       "      <td>5</td>\n",
       "      <td>1</td>\n",
       "      <td>1</td>\n",
       "      <td>2</td>\n",
       "      <td>2</td>\n",
       "      <td>5</td>\n",
       "      <td>1</td>\n",
       "      <td>...</td>\n",
       "      <td>1</td>\n",
       "      <td>0</td>\n",
       "      <td>0</td>\n",
       "      <td>0</td>\n",
       "      <td>0</td>\n",
       "      <td>0</td>\n",
       "      <td>0</td>\n",
       "      <td>0</td>\n",
       "      <td>0</td>\n",
       "      <td>0</td>\n",
       "    </tr>\n",
       "    <tr>\n",
       "      <th>7316020200500509</th>\n",
       "      <td>7316</td>\n",
       "      <td>20</td>\n",
       "      <td>13</td>\n",
       "      <td>5</td>\n",
       "      <td>1</td>\n",
       "      <td>4</td>\n",
       "      <td>0</td>\n",
       "      <td>1</td>\n",
       "      <td>2</td>\n",
       "      <td>0</td>\n",
       "      <td>...</td>\n",
       "      <td>1</td>\n",
       "      <td>0</td>\n",
       "      <td>0</td>\n",
       "      <td>0</td>\n",
       "      <td>0</td>\n",
       "      <td>0</td>\n",
       "      <td>0</td>\n",
       "      <td>0</td>\n",
       "      <td>0</td>\n",
       "      <td>0</td>\n",
       "    </tr>\n",
       "    <tr>\n",
       "      <th>5108050200860107</th>\n",
       "      <td>5108</td>\n",
       "      <td>50</td>\n",
       "      <td>4</td>\n",
       "      <td>3</td>\n",
       "      <td>0</td>\n",
       "      <td>0</td>\n",
       "      <td>0</td>\n",
       "      <td>3</td>\n",
       "      <td>0</td>\n",
       "      <td>2</td>\n",
       "      <td>...</td>\n",
       "      <td>0</td>\n",
       "      <td>0</td>\n",
       "      <td>0</td>\n",
       "      <td>0</td>\n",
       "      <td>0</td>\n",
       "      <td>0</td>\n",
       "      <td>0</td>\n",
       "      <td>0</td>\n",
       "      <td>1</td>\n",
       "      <td>0</td>\n",
       "    </tr>\n",
       "    <tr>\n",
       "      <th>3301190201430210</th>\n",
       "      <td>3301</td>\n",
       "      <td>190</td>\n",
       "      <td>15</td>\n",
       "      <td>2</td>\n",
       "      <td>1</td>\n",
       "      <td>0</td>\n",
       "      <td>1</td>\n",
       "      <td>1</td>\n",
       "      <td>2</td>\n",
       "      <td>2</td>\n",
       "      <td>...</td>\n",
       "      <td>0</td>\n",
       "      <td>0</td>\n",
       "      <td>0</td>\n",
       "      <td>0</td>\n",
       "      <td>0</td>\n",
       "      <td>0</td>\n",
       "      <td>0</td>\n",
       "      <td>0</td>\n",
       "      <td>0</td>\n",
       "      <td>0</td>\n",
       "    </tr>\n",
       "    <tr>\n",
       "      <th>6304140250030508</th>\n",
       "      <td>6304</td>\n",
       "      <td>140</td>\n",
       "      <td>4</td>\n",
       "      <td>6</td>\n",
       "      <td>4</td>\n",
       "      <td>1</td>\n",
       "      <td>3</td>\n",
       "      <td>2</td>\n",
       "      <td>5</td>\n",
       "      <td>3</td>\n",
       "      <td>...</td>\n",
       "      <td>0</td>\n",
       "      <td>0</td>\n",
       "      <td>0</td>\n",
       "      <td>0</td>\n",
       "      <td>0</td>\n",
       "      <td>0</td>\n",
       "      <td>0</td>\n",
       "      <td>0</td>\n",
       "      <td>0</td>\n",
       "      <td>0</td>\n",
       "    </tr>\n",
       "  </tbody>\n",
       "</table>\n",
       "<p>5 rows × 453 columns</p>\n",
       "</div>"
      ],
      "text/plain": [
       "                  geo_district  geo_subdistrict  geo_village  der_hhsize  \\\n",
       "hid                                                                        \n",
       "8271030150650101          8271               30           15           5   \n",
       "7316020200500509          7316               20           13           5   \n",
       "5108050200860107          5108               50            4           3   \n",
       "3301190201430210          3301              190           15           2   \n",
       "6304140250030508          6304              140            4           6   \n",
       "\n",
       "                  hld_nbcell  der_nchild10under  der_nmalesover10  \\\n",
       "hid                                                                 \n",
       "8271030150650101           1                  1                 2   \n",
       "7316020200500509           1                  4                 0   \n",
       "5108050200860107           0                  0                 0   \n",
       "3301190201430210           1                  0                 1   \n",
       "6304140250030508           4                  1                 3   \n",
       "\n",
       "                  der_nfemalesover10  der_nliterate  der_nemployedpast3mo  \\\n",
       "hid                                                                         \n",
       "8271030150650101                   2              5                     1   \n",
       "7316020200500509                   1              2                     0   \n",
       "5108050200860107                   3              0                     2   \n",
       "3301190201430210                   1              2                     2   \n",
       "6304140250030508                   2              5                     3   \n",
       "\n",
       "                      ...        cons_333__Yes  cons_334__Yes  cons_335__Yes  \\\n",
       "hid                   ...                                                      \n",
       "8271030150650101      ...                    1              0              0   \n",
       "7316020200500509      ...                    1              0              0   \n",
       "5108050200860107      ...                    0              0              0   \n",
       "3301190201430210      ...                    0              0              0   \n",
       "6304140250030508      ...                    0              0              0   \n",
       "\n",
       "                  cons_336__Yes  cons_338__Yes  cons_339__Yes  cons_340__Yes  \\\n",
       "hid                                                                            \n",
       "8271030150650101              0              0              0              0   \n",
       "7316020200500509              0              0              0              0   \n",
       "5108050200860107              0              0              0              0   \n",
       "3301190201430210              0              0              0              0   \n",
       "6304140250030508              0              0              0              0   \n",
       "\n",
       "                  cons_341__Yes  cons_342__Yes  cons_343__Yes  \n",
       "hid                                                            \n",
       "8271030150650101              0              0              0  \n",
       "7316020200500509              0              0              0  \n",
       "5108050200860107              0              1              0  \n",
       "3301190201430210              0              0              0  \n",
       "6304140250030508              0              0              0  \n",
       "\n",
       "[5 rows x 453 columns]"
      ]
     },
     "execution_count": 2,
     "metadata": {},
     "output_type": "execute_result"
    }
   ],
   "source": [
    "# load training data\n",
    "X_train, y_train, w_train = split_features_labels_weights(TRAIN_PATH)\n",
    "\n",
    "# summarize loaded data\n",
    "print('Data has {:,} rows and {:,} columns' \\\n",
    "        .format(*X_train.shape))\n",
    "\n",
    "print('Percent poor: {:0.1%} \\tPercent non-poor: {:0.1%}' \\\n",
    "        .format(*y_train.poor.value_counts(normalize=True, ascending=True)))\n",
    "\n",
    "# print first 5 rows of data\n",
    "X_train.head()"
   ]
  },
  {
   "cell_type": "markdown",
   "metadata": {},
   "source": [
    "# Deep Learning with simple features <a class=\"anchor\" id=\"mlp-simple\"></a>\n",
    "\n",
    "We'll start with the simple set of features stored in `IDN_BASIC_FEATURES` in the `process_features` module."
   ]
  },
  {
   "cell_type": "code",
   "execution_count": 3,
   "metadata": {
    "collapsed": false
   },
   "outputs": [
    {
     "name": "stdout",
     "output_type": "stream",
     "text": [
      "X shape with selected columns: (53132, 9)\n"
     ]
    }
   ],
   "source": [
    "# Select the basic features we've used previously\n",
    "selected_columns = IDN_BASIC_FEATURES\n",
    "print(\"X shape with selected columns:\", X_train[selected_columns].shape)"
   ]
  },
  {
   "cell_type": "code",
   "execution_count": 4,
   "metadata": {
    "collapsed": true
   },
   "outputs": [],
   "source": [
    "from keras.models import Sequential\n",
    "from keras.layers import Dense, Dropout\n",
    "from keras.wrappers.scikit_learn import KerasClassifier\n",
    "\n",
    "def create_model(input_dim=None, hidden_layer_sizes=None, keep_prob=1.0, dropout_layers=None):\n",
    "\n",
    "    if hidden_layer_sizes is None:\n",
    "        # make simple two layer network\n",
    "        hidden_layer_sizes = np.ceil(np.sqrt(input_dim))\n",
    "    \n",
    "    # create model\n",
    "    model = Sequential()\n",
    "    for i,layer_size in enumerate(hidden_layer_sizes):\n",
    "        if i==0:\n",
    "            # include input_dim specification\n",
    "            model.add(Dense(layer_size, input_dim=input_dim, activation='relu'))\n",
    "        else:\n",
    "            model.add(Dense(layer_size, activation='relu'))\n",
    "            if dropout_layers == 'all':\n",
    "                model.add(Dropout(keep_prob))\n",
    "    \n",
    "    model.add(Dense(1, activation='sigmoid'))\n",
    "    # Compile model\n",
    "    model.compile(loss='binary_crossentropy', optimizer='adam', metrics=['accuracy'])\n",
    "    print(model.model.summary())\n",
    "    return model"
   ]
  },
  {
   "cell_type": "code",
   "execution_count": 5,
   "metadata": {
    "collapsed": false
   },
   "outputs": [
    {
     "name": "stdout",
     "output_type": "stream",
     "text": [
      "_________________________________________________________________\n",
      "Layer (type)                 Output Shape              Param #   \n",
      "=================================================================\n",
      "dense_1_input (InputLayer)   (None, 9)                 0         \n",
      "_________________________________________________________________\n",
      "dense_1 (Dense)              (None, 16)                160       \n",
      "_________________________________________________________________\n",
      "dense_2 (Dense)              (None, 32)                544       \n",
      "_________________________________________________________________\n",
      "dropout_1 (Dropout)          (None, 32)                0         \n",
      "_________________________________________________________________\n",
      "dense_3 (Dense)              (None, 64)                2112      \n",
      "_________________________________________________________________\n",
      "dropout_2 (Dropout)          (None, 64)                0         \n",
      "_________________________________________________________________\n",
      "dense_4 (Dense)              (None, 32)                2080      \n",
      "_________________________________________________________________\n",
      "dropout_3 (Dropout)          (None, 32)                0         \n",
      "_________________________________________________________________\n",
      "dense_5 (Dense)              (None, 16)                528       \n",
      "_________________________________________________________________\n",
      "dropout_4 (Dropout)          (None, 16)                0         \n",
      "_________________________________________________________________\n",
      "dense_6 (Dense)              (None, 1)                 17        \n",
      "=================================================================\n",
      "Total params: 5,441\n",
      "Trainable params: 5,441\n",
      "Non-trainable params: 0\n",
      "_________________________________________________________________\n",
      "None\n",
      "Epoch 1/10\n",
      "53132/53132 [==============================] - 25s 474us/step - loss: 0.3325 - acc: 0.9063\n",
      "Epoch 2/10\n",
      "53132/53132 [==============================] - 25s 462us/step - loss: 0.2927 - acc: 0.9098\n",
      "Epoch 3/10\n",
      "53132/53132 [==============================] - 25s 468us/step - loss: 0.2858 - acc: 0.9098\n",
      "Epoch 4/10\n",
      "53132/53132 [==============================] - 25s 468us/step - loss: 0.2851 - acc: 0.9098\n",
      "Epoch 5/10\n",
      "53132/53132 [==============================] - 25s 466us/step - loss: 0.2862 - acc: 0.9098\n",
      "Epoch 6/10\n",
      "53132/53132 [==============================] - 24s 461us/step - loss: 0.2853 - acc: 0.9098\n",
      "Epoch 7/10\n",
      "53132/53132 [==============================] - 25s 470us/step - loss: 0.2835 - acc: 0.9098\n",
      "Epoch 8/10\n",
      "53132/53132 [==============================] - 25s 463us/step - loss: 0.2835 - acc: 0.9098\n",
      "Epoch 9/10\n",
      "53132/53132 [==============================] - 24s 457us/step - loss: 0.2838 - acc: 0.9098\n",
      "Epoch 10/10\n",
      "53132/53132 [==============================] - 24s 461us/step - loss: 0.2854 - acc: 0.9098\n",
      "CPU times: user 9min 53s, sys: 2min 7s, total: 12min\n",
      "Wall time: 4min 7s\n"
     ]
    },
    {
     "data": {
      "text/plain": [
       "<keras.callbacks.History at 0x7f019aedd390>"
      ]
     },
     "execution_count": 5,
     "metadata": {},
     "output_type": "execute_result"
    }
   ],
   "source": [
    "# Load and transform the training data\n",
    "X_train, y_train, w_train = load_data(TRAIN_PATH, \n",
    "                                      selected_columns=selected_columns)\n",
    "\n",
    "# Provide input parameters\n",
    "input_dim = X_train.shape[1]\n",
    "hidden_layer_sizes = (16,32,64,32,16)\n",
    "\n",
    "# Fit the model\n",
    "model = KerasClassifier(build_fn=create_model, \n",
    "                        input_dim=input_dim, \n",
    "                        hidden_layer_sizes=hidden_layer_sizes, \n",
    "                        keep_prob=0.7,\n",
    "                        dropout_layers='all',\n",
    "                        epochs=10, \n",
    "                        batch_size=10, \n",
    "                        verbose=1)\n",
    "\n",
    "%time model.fit(X_train.as_matrix(), y_train)"
   ]
  },
  {
   "cell_type": "code",
   "execution_count": 6,
   "metadata": {
    "collapsed": false
   },
   "outputs": [
    {
     "name": "stdout",
     "output_type": "stream",
     "text": [
      "53132/53132 [==============================] - 9s 175us/step\n",
      "CPU times: user 15.1 s, sys: 2.44 s, total: 17.5 s\n",
      "Wall time: 9.3 s\n",
      "In-sample score: 90.98%\n"
     ]
    }
   ],
   "source": [
    "# Get an initial score\n",
    "%time score = model.score(X_train.as_matrix(), y_train)\n",
    "print(\"In-sample score: {:0.2%}\".format(score))"
   ]
  },
  {
   "cell_type": "code",
   "execution_count": 7,
   "metadata": {
    "collapsed": false
   },
   "outputs": [
    {
     "name": "stdout",
     "output_type": "stream",
     "text": [
      "17711/17711 [==============================] - 2s 127us/step\n",
      "17711/17711 [==============================] - 2s 117us/step\n"
     ]
    },
    {
     "name": "stderr",
     "output_type": "stream",
     "text": [
      "/home/bull/miniconda3/envs/worldbank-poverty-test/lib/python3.6/site-packages/sklearn/metrics/classification.py:1135: UndefinedMetricWarning: Precision is ill-defined and being set to 0.0 due to no predicted samples.\n",
      "  'precision', 'predicted', average, warn_for)\n",
      "/home/bull/miniconda3/envs/worldbank-poverty-test/lib/python3.6/site-packages/sklearn/metrics/classification.py:1135: UndefinedMetricWarning: F-score is ill-defined and being set to 0.0 due to no predicted samples.\n",
      "  'precision', 'predicted', average, warn_for)\n"
     ]
    },
    {
     "name": "stdout",
     "output_type": "stream",
     "text": [
      "70843/70843 [==============================] - 8s 115us/step\n"
     ]
    },
    {
     "name": "stderr",
     "output_type": "stream",
     "text": [
      "/home/bull/miniconda3/envs/worldbank-poverty-test/lib/python3.6/site-packages/matplotlib/cbook/deprecation.py:107: MatplotlibDeprecationWarning: Passing one of 'on', 'true', 'off', 'false' as a boolean is deprecated; use an actual boolean (True/False) instead.\n",
      "  warnings.warn(message, mplDeprecation, stacklevel=1)\n"
     ]
    },
    {
     "data": {
      "image/png": "[encoded data removed]",
      "text/plain": [
       "<Figure size 720x288 with 3 Axes>"
      ]
     },
     "metadata": {},
     "output_type": "display_data"
    },
    {
     "data": {
      "text/html": [
       "<style  type=\"text/css\" >\n",
       "    #T_2ea31078_6c95_11e8_97ef_0010c6b1e647row0_col1 {\n",
       "            background-color:  steelblue;\n",
       "        }    #T_2ea31078_6c95_11e8_97ef_0010c6b1e647row1_col1 {\n",
       "            background-color:  steelblue;\n",
       "        }    #T_2ea31078_6c95_11e8_97ef_0010c6b1e647row2_col1 {\n",
       "            background-color:  steelblue;\n",
       "        }    #T_2ea31078_6c95_11e8_97ef_0010c6b1e647row3_col1 {\n",
       "            background-color:  steelblue;\n",
       "        }    #T_2ea31078_6c95_11e8_97ef_0010c6b1e647row4_col1 {\n",
       "            background-color:  steelblue;\n",
       "        }    #T_2ea31078_6c95_11e8_97ef_0010c6b1e647row5_col1 {\n",
       "            background-color:  steelblue;\n",
       "        }    #T_2ea31078_6c95_11e8_97ef_0010c6b1e647row6_col1 {\n",
       "            background-color:  steelblue;\n",
       "        }</style>  \n",
       "<table id=\"T_2ea31078_6c95_11e8_97ef_0010c6b1e647\" ><caption>Model Scores</caption> \n",
       "<thead>    <tr> \n",
       "        <th class=\"blank level0\" ></th> \n",
       "        <th class=\"col_heading level0 col0\" >dl_simple</th> \n",
       "        <th class=\"col_heading level0 col1\" >lr_simple</th> \n",
       "    </tr></thead> \n",
       "<tbody>    <tr> \n",
       "        <th id=\"T_2ea31078_6c95_11e8_97ef_0010c6b1e647level0_row0\" class=\"row_heading level0 row0\" >accuracy</th> \n",
       "        <td id=\"T_2ea31078_6c95_11e8_97ef_0010c6b1e647row0_col0\" class=\"data row0 col0\" >0.90983</td> \n",
       "        <td id=\"T_2ea31078_6c95_11e8_97ef_0010c6b1e647row0_col1\" class=\"data row0 col1\" >0.91158</td> \n",
       "    </tr>    <tr> \n",
       "        <th id=\"T_2ea31078_6c95_11e8_97ef_0010c6b1e647level0_row1\" class=\"row_heading level0 row1\" >recall</th> \n",
       "        <td id=\"T_2ea31078_6c95_11e8_97ef_0010c6b1e647row1_col0\" class=\"data row1 col0\" >0</td> \n",
       "        <td id=\"T_2ea31078_6c95_11e8_97ef_0010c6b1e647row1_col1\" class=\"data row1 col1\" >0.0851597</td> \n",
       "    </tr>    <tr> \n",
       "        <th id=\"T_2ea31078_6c95_11e8_97ef_0010c6b1e647level0_row2\" class=\"row_heading level0 row2\" >precision</th> \n",
       "        <td id=\"T_2ea31078_6c95_11e8_97ef_0010c6b1e647row2_col0\" class=\"data row2 col0\" >0</td> \n",
       "        <td id=\"T_2ea31078_6c95_11e8_97ef_0010c6b1e647row2_col1\" class=\"data row2 col1\" >0.564315</td> \n",
       "    </tr>    <tr> \n",
       "        <th id=\"T_2ea31078_6c95_11e8_97ef_0010c6b1e647level0_row3\" class=\"row_heading level0 row3\" >f1</th> \n",
       "        <td id=\"T_2ea31078_6c95_11e8_97ef_0010c6b1e647row3_col0\" class=\"data row3 col0\" >0</td> \n",
       "        <td id=\"T_2ea31078_6c95_11e8_97ef_0010c6b1e647row3_col1\" class=\"data row3 col1\" >0.147987</td> \n",
       "    </tr>    <tr> \n",
       "        <th id=\"T_2ea31078_6c95_11e8_97ef_0010c6b1e647level0_row4\" class=\"row_heading level0 row4\" >cross_entropy</th> \n",
       "        <td id=\"T_2ea31078_6c95_11e8_97ef_0010c6b1e647row4_col0\" class=\"data row4 col0\" >0.277978</td> \n",
       "        <td id=\"T_2ea31078_6c95_11e8_97ef_0010c6b1e647row4_col1\" class=\"data row4 col1\" >0.256817</td> \n",
       "    </tr>    <tr> \n",
       "        <th id=\"T_2ea31078_6c95_11e8_97ef_0010c6b1e647level0_row5\" class=\"row_heading level0 row5\" >roc_auc</th> \n",
       "        <td id=\"T_2ea31078_6c95_11e8_97ef_0010c6b1e647row5_col0\" class=\"data row5 col0\" >0.7738</td> \n",
       "        <td id=\"T_2ea31078_6c95_11e8_97ef_0010c6b1e647row5_col1\" class=\"data row5 col1\" >0.781848</td> \n",
       "    </tr>    <tr> \n",
       "        <th id=\"T_2ea31078_6c95_11e8_97ef_0010c6b1e647level0_row6\" class=\"row_heading level0 row6\" >cohen_kappa</th> \n",
       "        <td id=\"T_2ea31078_6c95_11e8_97ef_0010c6b1e647row6_col0\" class=\"data row6 col0\" >0</td> \n",
       "        <td id=\"T_2ea31078_6c95_11e8_97ef_0010c6b1e647row6_col1\" class=\"data row6 col1\" >0.127352</td> \n",
       "    </tr></tbody> \n",
       "</table> "
      ],
      "text/plain": [
       "<pandas.io.formats.style.Styler at 0x7f01946c3780>"
      ]
     },
     "metadata": {},
     "output_type": "display_data"
    },
    {
     "name": "stdout",
     "output_type": "stream",
     "text": [
      "Actual poverty rate: 11.38% \n",
      "Predicted poverty rate: 0.00% \n"
     ]
    }
   ],
   "source": [
    "# Load the test set\n",
    "X_test, y_test, w_test = load_data(TEST_PATH, \n",
    "                                   selected_columns=selected_columns)\n",
    "\n",
    "# Run the model\n",
    "y_pred = model.predict(X_test.as_matrix())\n",
    "y_prob = model.predict_proba(X_test.as_matrix())[:,1]\n",
    "\n",
    "# Evaluate performance and store model\n",
    "metrics = evaluation.evaluate_model(y_test, y_pred, y_prob, \n",
    "                                    compare_models=['lr_simple'],\n",
    "                                    store_model=True,\n",
    "                                    model_name='simple', \n",
    "                                    prefix=ALGORITHM_NAME,\n",
    "                                    country=COUNTRY,\n",
    "                                    model=model,\n",
    "                                    features=X_test.columns.values)"
   ]
  },
  {
   "cell_type": "markdown",
   "metadata": {},
   "source": [
    "# Keras with all features <a class=\"anchor\" id=\"all-feats\"></a>\n",
    "\n",
    "Now let's apply the deep learning classifier to the dataset with all features. "
   ]
  },
  {
   "cell_type": "code",
   "execution_count": 8,
   "metadata": {
    "collapsed": false
   },
   "outputs": [
    {
     "name": "stdout",
     "output_type": "stream",
     "text": [
      "_________________________________________________________________\n",
      "Layer (type)                 Output Shape              Param #   \n",
      "=================================================================\n",
      "dense_7_input (InputLayer)   (None, 453)               0         \n",
      "_________________________________________________________________\n",
      "dense_7 (Dense)              (None, 700)               317800    \n",
      "_________________________________________________________________\n",
      "dense_8 (Dense)              (None, 1024)              717824    \n",
      "_________________________________________________________________\n",
      "dropout_5 (Dropout)          (None, 1024)              0         \n",
      "_________________________________________________________________\n",
      "dense_9 (Dense)              (None, 512)               524800    \n",
      "_________________________________________________________________\n",
      "dropout_6 (Dropout)          (None, 512)               0         \n",
      "_________________________________________________________________\n",
      "dense_10 (Dense)             (None, 256)               131328    \n",
      "_________________________________________________________________\n",
      "dropout_7 (Dropout)          (None, 256)               0         \n",
      "_________________________________________________________________\n",
      "dense_11 (Dense)             (None, 128)               32896     \n",
      "_________________________________________________________________\n",
      "dropout_8 (Dropout)          (None, 128)               0         \n",
      "_________________________________________________________________\n",
      "dense_12 (Dense)             (None, 64)                8256      \n",
      "_________________________________________________________________\n",
      "dropout_9 (Dropout)          (None, 64)                0         \n",
      "_________________________________________________________________\n",
      "dense_13 (Dense)             (None, 1)                 65        \n",
      "=================================================================\n",
      "Total params: 1,732,969\n",
      "Trainable params: 1,732,969\n",
      "Non-trainable params: 0\n",
      "_________________________________________________________________\n",
      "None\n",
      "Epoch 1/10\n",
      "53132/53132 [==============================] - 81s 2ms/step - loss: 0.2409 - acc: 0.9063\n",
      "Epoch 2/10\n",
      "53132/53132 [==============================] - 78s 1ms/step - loss: 0.2217 - acc: 0.9091\n",
      "Epoch 3/10\n",
      "53132/53132 [==============================] - 80s 2ms/step - loss: 0.2222 - acc: 0.9089\n",
      "Epoch 4/10\n",
      "53132/53132 [==============================] - 79s 1ms/step - loss: 0.2258 - acc: 0.9089\n",
      "Epoch 5/10\n",
      "53132/53132 [==============================] - 79s 1ms/step - loss: 0.2223 - acc: 0.9089\n",
      "Epoch 6/10\n",
      "53132/53132 [==============================] - 80s 1ms/step - loss: 0.2218 - acc: 0.9092\n",
      "Epoch 7/10\n",
      "53132/53132 [==============================] - 81s 2ms/step - loss: 0.2230 - acc: 0.9090\n",
      "Epoch 8/10\n",
      "53132/53132 [==============================] - 81s 2ms/step - loss: 0.2278 - acc: 0.9088\n",
      "Epoch 9/10\n",
      "53132/53132 [==============================] - 81s 2ms/step - loss: 0.2301 - acc: 0.9090\n",
      "Epoch 10/10\n",
      " 7620/53132 [===>..........................] - ETA: 1:10 - loss: 0.2169 - acc: 0.9115"
     ]
    }
   ],
   "source": [
    "# Load and transform the training data\n",
    "X_train, y_train, w_train = load_data(TRAIN_PATH)\n",
    "\n",
    "input_dim = X_train.shape[1]\n",
    "hidden_layer_sizes = (700, 1024, 512, 256, 128, 64)\n",
    "# Fit the model\n",
    "model = KerasClassifier(build_fn=create_model, \n",
    "                        input_dim=input_dim, \n",
    "                        hidden_layer_sizes=hidden_layer_sizes,\n",
    "                        keep_prob=0.7,\n",
    "                        dropout_layers='all',\n",
    "                        epochs=10, \n",
    "                        batch_size=10, \n",
    "                        verbose=1)\n",
    "\n",
    "%time model.fit(X_train.as_matrix(), y_train)"
   ]
  },
  {
   "cell_type": "code",
   "execution_count": 9,
   "metadata": {
    "collapsed": false
   },
   "outputs": [
    {
     "name": "stdout",
     "output_type": "stream",
     "text": [
      "53132/53132 [==============================] - 19s 362us/step\n",
      "CPU times: user 1min 45s, sys: 23.1 s, total: 2min 8s\n",
      "Wall time: 19.3 s\n",
      "In-sample score: 90.98%\n"
     ]
    }
   ],
   "source": [
    "# Get an initial score\n",
    "%time score = model.score(X_train.as_matrix(), y_train)\n",
    "print(\"In-sample score: {:0.2%}\".format(score))"
   ]
  },
  {
   "cell_type": "code",
   "execution_count": 10,
   "metadata": {
    "collapsed": false
   },
   "outputs": [
    {
     "name": "stdout",
     "output_type": "stream",
     "text": [
      "17711/17711 [==============================] - 6s 326us/step\n",
      "17711/17711 [==============================] - 6s 326us/step\n"
     ]
    },
    {
     "name": "stderr",
     "output_type": "stream",
     "text": [
      "/home/bull/miniconda3/envs/worldbank-poverty-test/lib/python3.6/site-packages/sklearn/metrics/classification.py:1135: UndefinedMetricWarning: Precision is ill-defined and being set to 0.0 due to no predicted samples.\n",
      "  'precision', 'predicted', average, warn_for)\n",
      "/home/bull/miniconda3/envs/worldbank-poverty-test/lib/python3.6/site-packages/sklearn/metrics/classification.py:1135: UndefinedMetricWarning: F-score is ill-defined and being set to 0.0 due to no predicted samples.\n",
      "  'precision', 'predicted', average, warn_for)\n"
     ]
    },
    {
     "name": "stdout",
     "output_type": "stream",
     "text": [
      "70843/70843 [==============================] - 23s 319us/step\n"
     ]
    },
    {
     "name": "stderr",
     "output_type": "stream",
     "text": [
      "/home/bull/miniconda3/envs/worldbank-poverty-test/lib/python3.6/site-packages/matplotlib/cbook/deprecation.py:107: MatplotlibDeprecationWarning: Passing one of 'on', 'true', 'off', 'false' as a boolean is deprecated; use an actual boolean (True/False) instead.\n",
      "  warnings.warn(message, mplDeprecation, stacklevel=1)\n"
     ]
    },
    {
     "data": {
      "image/png": "[encoded data removed]",
      "text/plain": [
       "<Figure size 720x288 with 3 Axes>"
      ]
     },
     "metadata": {},
     "output_type": "display_data"
    },
    {
     "data": {
      "text/html": [
       "<style  type=\"text/css\" >\n",
       "    #T_35a8f1ce_6c97_11e8_97ef_0010c6b1e647row0_col1 {\n",
       "            background-color:  steelblue;\n",
       "        }    #T_35a8f1ce_6c97_11e8_97ef_0010c6b1e647row1_col1 {\n",
       "            background-color:  steelblue;\n",
       "        }    #T_35a8f1ce_6c97_11e8_97ef_0010c6b1e647row2_col1 {\n",
       "            background-color:  steelblue;\n",
       "        }    #T_35a8f1ce_6c97_11e8_97ef_0010c6b1e647row3_col1 {\n",
       "            background-color:  steelblue;\n",
       "        }    #T_35a8f1ce_6c97_11e8_97ef_0010c6b1e647row4_col1 {\n",
       "            background-color:  steelblue;\n",
       "        }    #T_35a8f1ce_6c97_11e8_97ef_0010c6b1e647row5_col1 {\n",
       "            background-color:  steelblue;\n",
       "        }    #T_35a8f1ce_6c97_11e8_97ef_0010c6b1e647row6_col1 {\n",
       "            background-color:  steelblue;\n",
       "        }</style>  \n",
       "<table id=\"T_35a8f1ce_6c97_11e8_97ef_0010c6b1e647\" ><caption>Model Scores</caption> \n",
       "<thead>    <tr> \n",
       "        <th class=\"blank level0\" ></th> \n",
       "        <th class=\"col_heading level0 col0\" >dl_full</th> \n",
       "        <th class=\"col_heading level0 col1\" >lr_full</th> \n",
       "    </tr></thead> \n",
       "<tbody>    <tr> \n",
       "        <th id=\"T_35a8f1ce_6c97_11e8_97ef_0010c6b1e647level0_row0\" class=\"row_heading level0 row0\" >accuracy</th> \n",
       "        <td id=\"T_35a8f1ce_6c97_11e8_97ef_0010c6b1e647row0_col0\" class=\"data row0 col0\" >0.884475</td> \n",
       "        <td id=\"T_35a8f1ce_6c97_11e8_97ef_0010c6b1e647row0_col1\" class=\"data row0 col1\" >0.910251</td> \n",
       "    </tr>    <tr> \n",
       "        <th id=\"T_35a8f1ce_6c97_11e8_97ef_0010c6b1e647level0_row1\" class=\"row_heading level0 row1\" >recall</th> \n",
       "        <td id=\"T_35a8f1ce_6c97_11e8_97ef_0010c6b1e647row1_col0\" class=\"data row1 col0\" >0</td> \n",
       "        <td id=\"T_35a8f1ce_6c97_11e8_97ef_0010c6b1e647row1_col1\" class=\"data row1 col1\" >0.456232</td> \n",
       "    </tr>    <tr> \n",
       "        <th id=\"T_35a8f1ce_6c97_11e8_97ef_0010c6b1e647level0_row2\" class=\"row_heading level0 row2\" >precision</th> \n",
       "        <td id=\"T_35a8f1ce_6c97_11e8_97ef_0010c6b1e647row2_col0\" class=\"data row2 col0\" >0</td> \n",
       "        <td id=\"T_35a8f1ce_6c97_11e8_97ef_0010c6b1e647row2_col1\" class=\"data row2 col1\" >0.661838</td> \n",
       "    </tr>    <tr> \n",
       "        <th id=\"T_35a8f1ce_6c97_11e8_97ef_0010c6b1e647level0_row3\" class=\"row_heading level0 row3\" >f1</th> \n",
       "        <td id=\"T_35a8f1ce_6c97_11e8_97ef_0010c6b1e647row3_col0\" class=\"data row3 col0\" >0</td> \n",
       "        <td id=\"T_35a8f1ce_6c97_11e8_97ef_0010c6b1e647row3_col1\" class=\"data row3 col1\" >0.540131</td> \n",
       "    </tr>    <tr> \n",
       "        <th id=\"T_35a8f1ce_6c97_11e8_97ef_0010c6b1e647level0_row4\" class=\"row_heading level0 row4\" >cross_entropy</th> \n",
       "        <td id=\"T_35a8f1ce_6c97_11e8_97ef_0010c6b1e647row4_col0\" class=\"data row4 col0\" >0.38995</td> \n",
       "        <td id=\"T_35a8f1ce_6c97_11e8_97ef_0010c6b1e647row4_col1\" class=\"data row4 col1\" >0.212947</td> \n",
       "    </tr>    <tr> \n",
       "        <th id=\"T_35a8f1ce_6c97_11e8_97ef_0010c6b1e647level0_row5\" class=\"row_heading level0 row5\" >roc_auc</th> \n",
       "        <td id=\"T_35a8f1ce_6c97_11e8_97ef_0010c6b1e647row5_col0\" class=\"data row5 col0\" >0.863934</td> \n",
       "        <td id=\"T_35a8f1ce_6c97_11e8_97ef_0010c6b1e647row5_col1\" class=\"data row5 col1\" >0.923198</td> \n",
       "    </tr>    <tr> \n",
       "        <th id=\"T_35a8f1ce_6c97_11e8_97ef_0010c6b1e647level0_row6\" class=\"row_heading level0 row6\" >cohen_kappa</th> \n",
       "        <td id=\"T_35a8f1ce_6c97_11e8_97ef_0010c6b1e647row6_col0\" class=\"data row6 col0\" >0</td> \n",
       "        <td id=\"T_35a8f1ce_6c97_11e8_97ef_0010c6b1e647row6_col1\" class=\"data row6 col1\" >0.483497</td> \n",
       "    </tr></tbody> \n",
       "</table> "
      ],
      "text/plain": [
       "<pandas.io.formats.style.Styler at 0x7f00a26a55f8>"
      ]
     },
     "metadata": {},
     "output_type": "display_data"
    },
    {
     "name": "stdout",
     "output_type": "stream",
     "text": [
      "Actual poverty rate: 11.38% \n",
      "Predicted poverty rate: 0.00% \n"
     ]
    }
   ],
   "source": [
    "# Load the test set\n",
    "X_test, y_test, w_test = load_data(TEST_PATH)\n",
    "\n",
    "# Run the model\n",
    "y_pred = model.predict(X_test.as_matrix())\n",
    "y_prob = model.predict_proba(X_test.as_matrix())[:,1]\n",
    "\n",
    "# Evaluate performance and store model\n",
    "metrics = evaluation.evaluate_model(y_test, y_pred, y_prob, w_test,\n",
    "                                    compare_models='lr_full',\n",
    "                                    store_model=True,\n",
    "                                    model_name='full', \n",
    "                                    prefix=ALGORITHM_NAME,\n",
    "                                    country=COUNTRY,\n",
    "                                    model=model,\n",
    "                                    features=X_test.columns.values)"
   ]
  },
  {
   "cell_type": "markdown",
   "metadata": {},
   "source": [
    "It appears that the deep learning network in this case is highly affected by the unbalanced classes, so it is essentially predicting everything as non-poor. Deep Learning networks typically produce better results when the classes are balanced or weighted, so we will need to apply these techniques with this dataset to get useful results."
   ]
  },
  {
   "cell_type": "markdown",
   "metadata": {},
   "source": [
    "## Undersampling <a class=\"anchor\" id=\"undersampling\">\n",
    "Now we'll apply undersampling and see how the performance is affected."
   ]
  },
  {
   "cell_type": "code",
   "execution_count": 11,
   "metadata": {
    "collapsed": false
   },
   "outputs": [
    {
     "name": "stdout",
     "output_type": "stream",
     "text": [
      "X shape after undersampling:  (9584, 453)\n",
      "_________________________________________________________________\n",
      "Layer (type)                 Output Shape              Param #   \n",
      "=================================================================\n",
      "dense_14_input (InputLayer)  (None, 453)               0         \n",
      "_________________________________________________________________\n",
      "dense_14 (Dense)             (None, 700)               317800    \n",
      "_________________________________________________________________\n",
      "dense_15 (Dense)             (None, 1024)              717824    \n",
      "_________________________________________________________________\n",
      "dropout_10 (Dropout)         (None, 1024)              0         \n",
      "_________________________________________________________________\n",
      "dense_16 (Dense)             (None, 512)               524800    \n",
      "_________________________________________________________________\n",
      "dropout_11 (Dropout)         (None, 512)               0         \n",
      "_________________________________________________________________\n",
      "dense_17 (Dense)             (None, 256)               131328    \n",
      "_________________________________________________________________\n",
      "dropout_12 (Dropout)         (None, 256)               0         \n",
      "_________________________________________________________________\n",
      "dense_18 (Dense)             (None, 128)               32896     \n",
      "_________________________________________________________________\n",
      "dropout_13 (Dropout)         (None, 128)               0         \n",
      "_________________________________________________________________\n",
      "dense_19 (Dense)             (None, 64)                8256      \n",
      "_________________________________________________________________\n",
      "dropout_14 (Dropout)         (None, 64)                0         \n",
      "_________________________________________________________________\n",
      "dense_20 (Dense)             (None, 1)                 65        \n",
      "=================================================================\n",
      "Total params: 1,732,969\n",
      "Trainable params: 1,732,969\n",
      "Non-trainable params: 0\n",
      "_________________________________________________________________\n",
      "None\n",
      "Epoch 1/10\n",
      "9584/9584 [==============================] - 15s 2ms/step - loss: 0.6450 - acc: 0.6533\n",
      "Epoch 2/10\n",
      "9584/9584 [==============================] - 15s 2ms/step - loss: 0.4185 - acc: 0.8275\n",
      "Epoch 3/10\n",
      "9584/9584 [==============================] - 15s 2ms/step - loss: 0.3732 - acc: 0.8485\n",
      "Epoch 4/10\n",
      "9584/9584 [==============================] - 14s 2ms/step - loss: 0.3387 - acc: 0.8686\n",
      "Epoch 5/10\n",
      "9584/9584 [==============================] - 15s 2ms/step - loss: 0.3129 - acc: 0.8769\n",
      "Epoch 6/10\n",
      "9584/9584 [==============================] - 14s 2ms/step - loss: 0.2890 - acc: 0.8892\n",
      "Epoch 7/10\n",
      "9584/9584 [==============================] - 14s 2ms/step - loss: 0.2769 - acc: 0.9022\n",
      "Epoch 8/10\n",
      "9584/9584 [==============================] - 14s 1ms/step - loss: 0.2368 - acc: 0.9168\n",
      "Epoch 9/10\n",
      "9584/9584 [==============================] - 14s 1ms/step - loss: 0.2200 - acc: 0.9218\n",
      "Epoch 10/10\n",
      "9584/9584 [==============================] - 14s 2ms/step - loss: 0.1904 - acc: 0.9340\n",
      "CPU times: user 16min 38s, sys: 15min 19s, total: 31min 57s\n",
      "Wall time: 2min 26s\n"
     ]
    },
    {
     "data": {
      "text/plain": [
       "<keras.callbacks.History at 0x7f0069839358>"
      ]
     },
     "execution_count": 11,
     "metadata": {},
     "output_type": "execute_result"
    }
   ],
   "source": [
    "from imblearn.under_sampling import RandomUnderSampler\n",
    "\n",
    "# Load and transform the training data\n",
    "X_train, y_train, w_train = load_data(TRAIN_PATH)\n",
    "cols = X_train.columns\n",
    "\n",
    "# Apply random undersampling\n",
    "X_train, y_train = RandomUnderSampler().fit_sample(X_train, y_train)\n",
    "X_train = pd.DataFrame(X_train, columns=cols)\n",
    "print(\"X shape after undersampling: \", X_train.shape)\n",
    "\n",
    "input_dim = X_train.shape[1]\n",
    "hidden_layer_sizes = (700, 1024, 512, 256, 128, 64)\n",
    "\n",
    "# Fit the model\n",
    "model = KerasClassifier(build_fn=create_model, \n",
    "                        input_dim=input_dim, \n",
    "                        hidden_layer_sizes=hidden_layer_sizes,\n",
    "                        keep_prob=0.7,\n",
    "                        dropout_layers='all',\n",
    "                        epochs=10, \n",
    "                        batch_size=10, \n",
    "                        verbose=1)\n",
    "\n",
    "%time model.fit(X_train.as_matrix(), y_train)"
   ]
  },
  {
   "cell_type": "code",
   "execution_count": 12,
   "metadata": {
    "collapsed": false
   },
   "outputs": [
    {
     "name": "stdout",
     "output_type": "stream",
     "text": [
      "9584/9584 [==============================] - 4s 373us/step\n",
      "CPU times: user 19.4 s, sys: 3.72 s, total: 23.1 s\n",
      "Wall time: 3.58 s\n",
      "In-sample score: 95.72%\n"
     ]
    }
   ],
   "source": [
    "# Get an initial score\n",
    "%time score = model.score(X_train.as_matrix(), y_train)\n",
    "print(\"In-sample score: {:0.2%}\".format(score))"
   ]
  },
  {
   "cell_type": "code",
   "execution_count": 13,
   "metadata": {
    "collapsed": false
   },
   "outputs": [
    {
     "name": "stdout",
     "output_type": "stream",
     "text": [
      "17711/17711 [==============================] - 6s 324us/step\n",
      "CPU times: user 33.7 s, sys: 7.03 s, total: 40.8 s\n",
      "Wall time: 5.79 s\n",
      "17711/17711 [==============================] - 6s 326us/step\n",
      "CPU times: user 33.7 s, sys: 7.69 s, total: 41.4 s\n",
      "Wall time: 5.81 s\n",
      "70843/70843 [==============================] - 23s 320us/step\n"
     ]
    },
    {
     "name": "stderr",
     "output_type": "stream",
     "text": [
      "/home/bull/miniconda3/envs/worldbank-poverty-test/lib/python3.6/site-packages/matplotlib/cbook/deprecation.py:107: MatplotlibDeprecationWarning: Passing one of 'on', 'true', 'off', 'false' as a boolean is deprecated; use an actual boolean (True/False) instead.\n",
      "  warnings.warn(message, mplDeprecation, stacklevel=1)\n"
     ]
    },
    {
     "data": {
      "image/png": "[encoded data removed]",
      "text/plain": [
       "<Figure size 720x288 with 3 Axes>"
      ]
     },
     "metadata": {},
     "output_type": "display_data"
    },
    {
     "data": {
      "text/html": [
       "<style  type=\"text/css\" >\n",
       "    #T_a6753f16_6c97_11e8_97ef_0010c6b1e647row0_col1 {\n",
       "            background-color:  steelblue;\n",
       "        }    #T_a6753f16_6c97_11e8_97ef_0010c6b1e647row1_col0 {\n",
       "            background-color:  steelblue;\n",
       "        }    #T_a6753f16_6c97_11e8_97ef_0010c6b1e647row2_col1 {\n",
       "            background-color:  steelblue;\n",
       "        }    #T_a6753f16_6c97_11e8_97ef_0010c6b1e647row3_col1 {\n",
       "            background-color:  steelblue;\n",
       "        }    #T_a6753f16_6c97_11e8_97ef_0010c6b1e647row4_col1 {\n",
       "            background-color:  steelblue;\n",
       "        }    #T_a6753f16_6c97_11e8_97ef_0010c6b1e647row5_col1 {\n",
       "            background-color:  steelblue;\n",
       "        }    #T_a6753f16_6c97_11e8_97ef_0010c6b1e647row6_col1 {\n",
       "            background-color:  steelblue;\n",
       "        }</style>  \n",
       "<table id=\"T_a6753f16_6c97_11e8_97ef_0010c6b1e647\" ><caption>Model Scores</caption> \n",
       "<thead>    <tr> \n",
       "        <th class=\"blank level0\" ></th> \n",
       "        <th class=\"col_heading level0 col0\" >dl_full_undersample</th> \n",
       "        <th class=\"col_heading level0 col1\" >lr_full_oversample_cv</th> \n",
       "    </tr></thead> \n",
       "<tbody>    <tr> \n",
       "        <th id=\"T_a6753f16_6c97_11e8_97ef_0010c6b1e647level0_row0\" class=\"row_heading level0 row0\" >accuracy</th> \n",
       "        <td id=\"T_a6753f16_6c97_11e8_97ef_0010c6b1e647row0_col0\" class=\"data row0 col0\" >0.781833</td> \n",
       "        <td id=\"T_a6753f16_6c97_11e8_97ef_0010c6b1e647row0_col1\" class=\"data row0 col1\" >0.851611</td> \n",
       "    </tr>    <tr> \n",
       "        <th id=\"T_a6753f16_6c97_11e8_97ef_0010c6b1e647level0_row1\" class=\"row_heading level0 row1\" >recall</th> \n",
       "        <td id=\"T_a6753f16_6c97_11e8_97ef_0010c6b1e647row1_col0\" class=\"data row1 col0\" >0.906574</td> \n",
       "        <td id=\"T_a6753f16_6c97_11e8_97ef_0010c6b1e647row1_col1\" class=\"data row1 col1\" >0.838116</td> \n",
       "    </tr>    <tr> \n",
       "        <th id=\"T_a6753f16_6c97_11e8_97ef_0010c6b1e647level0_row2\" class=\"row_heading level0 row2\" >precision</th> \n",
       "        <td id=\"T_a6753f16_6c97_11e8_97ef_0010c6b1e647row2_col0\" class=\"data row2 col0\" >0.335565</td> \n",
       "        <td id=\"T_a6753f16_6c97_11e8_97ef_0010c6b1e647row2_col1\" class=\"data row2 col1\" >0.427456</td> \n",
       "    </tr>    <tr> \n",
       "        <th id=\"T_a6753f16_6c97_11e8_97ef_0010c6b1e647level0_row3\" class=\"row_heading level0 row3\" >f1</th> \n",
       "        <td id=\"T_a6753f16_6c97_11e8_97ef_0010c6b1e647row3_col0\" class=\"data row3 col0\" >0.489824</td> \n",
       "        <td id=\"T_a6753f16_6c97_11e8_97ef_0010c6b1e647row3_col1\" class=\"data row3 col1\" >0.566159</td> \n",
       "    </tr>    <tr> \n",
       "        <th id=\"T_a6753f16_6c97_11e8_97ef_0010c6b1e647level0_row4\" class=\"row_heading level0 row4\" >cross_entropy</th> \n",
       "        <td id=\"T_a6753f16_6c97_11e8_97ef_0010c6b1e647row4_col0\" class=\"data row4 col0\" >0.502852</td> \n",
       "        <td id=\"T_a6753f16_6c97_11e8_97ef_0010c6b1e647row4_col1\" class=\"data row4 col1\" >0.348544</td> \n",
       "    </tr>    <tr> \n",
       "        <th id=\"T_a6753f16_6c97_11e8_97ef_0010c6b1e647level0_row5\" class=\"row_heading level0 row5\" >roc_auc</th> \n",
       "        <td id=\"T_a6753f16_6c97_11e8_97ef_0010c6b1e647row5_col0\" class=\"data row5 col0\" >0.911436</td> \n",
       "        <td id=\"T_a6753f16_6c97_11e8_97ef_0010c6b1e647row5_col1\" class=\"data row5 col1\" >0.925356</td> \n",
       "    </tr>    <tr> \n",
       "        <th id=\"T_a6753f16_6c97_11e8_97ef_0010c6b1e647level0_row6\" class=\"row_heading level0 row6\" >cohen_kappa</th> \n",
       "        <td id=\"T_a6753f16_6c97_11e8_97ef_0010c6b1e647row6_col0\" class=\"data row6 col0\" >0.384297</td> \n",
       "        <td id=\"T_a6753f16_6c97_11e8_97ef_0010c6b1e647row6_col1\" class=\"data row6 col1\" >0.471316</td> \n",
       "    </tr></tbody> \n",
       "</table> "
      ],
      "text/plain": [
       "<pandas.io.formats.style.Styler at 0x7f0067f46898>"
      ]
     },
     "metadata": {},
     "output_type": "display_data"
    },
    {
     "name": "stdout",
     "output_type": "stream",
     "text": [
      "Actual poverty rate: 11.38% \n",
      "Predicted poverty rate: 30.29% \n"
     ]
    }
   ],
   "source": [
    "# Load the test set\n",
    "X_test, y_test, w_test = load_data(TEST_PATH)\n",
    "\n",
    "# Run the model\n",
    "%time y_pred = model.predict(X_test.as_matrix())\n",
    "%time y_prob = model.predict_proba(X_test.as_matrix())[:,1]\n",
    "\n",
    "# Evaluate performance and store model\n",
    "metrics = evaluation.evaluate_model(y_test, y_pred, y_prob, w_test,\n",
    "                                    compare_models=['lr_full_oversample_cv'],\n",
    "                                    store_model=True,\n",
    "                                    model_name='full_undersample', \n",
    "                                    prefix=ALGORITHM_NAME,\n",
    "                                    country=COUNTRY,\n",
    "                                    model=model,\n",
    "                                    features=X_test.columns.values)"
   ]
  },
  {
   "cell_type": "markdown",
   "metadata": {},
   "source": []
  },
  {
   "cell_type": "markdown",
   "metadata": {},
   "source": [
    "## Oversampling <a class=\"anchor\" id=\"oversampling\">"
   ]
  },
  {
   "cell_type": "code",
   "execution_count": 14,
   "metadata": {
    "collapsed": false
   },
   "outputs": [
    {
     "name": "stdout",
     "output_type": "stream",
     "text": [
      "X shape after oversampling:  (96680, 453)\n",
      "_________________________________________________________________\n",
      "Layer (type)                 Output Shape              Param #   \n",
      "=================================================================\n",
      "dense_21_input (InputLayer)  (None, 453)               0         \n",
      "_________________________________________________________________\n",
      "dense_21 (Dense)             (None, 700)               317800    \n",
      "_________________________________________________________________\n",
      "dense_22 (Dense)             (None, 1024)              717824    \n",
      "_________________________________________________________________\n",
      "dropout_15 (Dropout)         (None, 1024)              0         \n",
      "_________________________________________________________________\n",
      "dense_23 (Dense)             (None, 512)               524800    \n",
      "_________________________________________________________________\n",
      "dropout_16 (Dropout)         (None, 512)               0         \n",
      "_________________________________________________________________\n",
      "dense_24 (Dense)             (None, 256)               131328    \n",
      "_________________________________________________________________\n",
      "dropout_17 (Dropout)         (None, 256)               0         \n",
      "_________________________________________________________________\n",
      "dense_25 (Dense)             (None, 128)               32896     \n",
      "_________________________________________________________________\n",
      "dropout_18 (Dropout)         (None, 128)               0         \n",
      "_________________________________________________________________\n",
      "dense_26 (Dense)             (None, 64)                8256      \n",
      "_________________________________________________________________\n",
      "dropout_19 (Dropout)         (None, 64)                0         \n",
      "_________________________________________________________________\n",
      "dense_27 (Dense)             (None, 1)                 65        \n",
      "=================================================================\n",
      "Total params: 1,732,969\n",
      "Trainable params: 1,732,969\n",
      "Non-trainable params: 0\n",
      "_________________________________________________________________\n",
      "None\n",
      "Epoch 1/10\n",
      "96680/96680 [==============================] - 147s 2ms/step - loss: 0.3229 - acc: 0.8694\n",
      "Epoch 2/10\n",
      "96680/96680 [==============================] - 145s 2ms/step - loss: 0.2326 - acc: 0.9201\n",
      "Epoch 3/10\n",
      "96680/96680 [==============================] - 146s 2ms/step - loss: 0.2105 - acc: 0.9333\n",
      "Epoch 4/10\n",
      "96680/96680 [==============================] - 146s 2ms/step - loss: 0.1968 - acc: 0.9403\n",
      "Epoch 5/10\n",
      "96680/96680 [==============================] - 145s 2ms/step - loss: 0.1844 - acc: 0.9476\n",
      "Epoch 6/10\n",
      " 3450/96680 [>.............................] - ETA: 2:22 - loss: 0.1870 - acc: 0.9504"
     ]
    }
   ],
   "source": [
    "from imblearn.over_sampling import SMOTE\n",
    "\n",
    "# Load and transform the training data\n",
    "X_train, y_train, w_train = load_data(TRAIN_PATH)\n",
    "cols = X_train.columns\n",
    "\n",
    "# Apply oversampling with SMOTE\n",
    "X_train, y_train = SMOTE().fit_sample(X_train, y_train)\n",
    "X_train = pd.DataFrame(X_train, columns=cols)\n",
    "print(\"X shape after oversampling: \", X_train.shape)\n",
    "\n",
    "input_dim = X_train.shape[1]\n",
    "hidden_layer_sizes = (700, 1024, 512, 256, 128, 64)\n",
    "\n",
    "# Fit the model\n",
    "model = KerasClassifier(build_fn=create_model, \n",
    "                        input_dim=input_dim, \n",
    "                        hidden_layer_sizes=hidden_layer_sizes,\n",
    "                        keep_prob=0.7,\n",
    "                        dropout_layers='all',\n",
    "                        epochs=10, \n",
    "                        batch_size=10, \n",
    "                        verbose=1)\n",
    "\n",
    "%time model.fit(X_train.as_matrix(), y_train)"
   ]
  },
  {
   "cell_type": "code",
   "execution_count": 15,
   "metadata": {
    "collapsed": false
   },
   "outputs": [
    {
     "name": "stdout",
     "output_type": "stream",
     "text": [
      "96680/96680 [==============================] - 36s 371us/step\n",
      "CPU times: user 3min 9s, sys: 46.1 s, total: 3min 55s\n",
      "Wall time: 35.9 s\n",
      "In-sample score: 94.34%\n"
     ]
    }
   ],
   "source": [
    "# Get an initial score\n",
    "%time score = model.score(X_train.as_matrix(), y_train)\n",
    "print(\"In-sample score: {:0.2%}\".format(score))"
   ]
  },
  {
   "cell_type": "code",
   "execution_count": 16,
   "metadata": {
    "collapsed": false
   },
   "outputs": [
    {
     "name": "stdout",
     "output_type": "stream",
     "text": [
      "17711/17711 [==============================] - 6s 338us/step\n",
      "CPU times: user 33.5 s, sys: 7.87 s, total: 41.3 s\n",
      "Wall time: 6.03 s\n",
      "17711/17711 [==============================] - 6s 331us/step\n",
      "CPU times: user 33.4 s, sys: 8.3 s, total: 41.7 s\n",
      "Wall time: 5.91 s\n",
      "70843/70843 [==============================] - 23s 327us/step\n"
     ]
    },
    {
     "name": "stderr",
     "output_type": "stream",
     "text": [
      "/home/bull/miniconda3/envs/worldbank-poverty-test/lib/python3.6/site-packages/matplotlib/cbook/deprecation.py:107: MatplotlibDeprecationWarning: Passing one of 'on', 'true', 'off', 'false' as a boolean is deprecated; use an actual boolean (True/False) instead.\n",
      "  warnings.warn(message, mplDeprecation, stacklevel=1)\n"
     ]
    },
    {
     "data": {
      "image/png": "[encoded data removed]",
      "text/plain": [
       "<Figure size 720x288 with 3 Axes>"
      ]
     },
     "metadata": {},
     "output_type": "display_data"
    },
    {
     "data": {
      "text/html": [
       "<style  type=\"text/css\" >\n",
       "    #T_4f1aa4fa_6c9b_11e8_97ef_0010c6b1e647row0_col2 {\n",
       "            background-color:  steelblue;\n",
       "        }    #T_4f1aa4fa_6c9b_11e8_97ef_0010c6b1e647row1_col1 {\n",
       "            background-color:  steelblue;\n",
       "        }    #T_4f1aa4fa_6c9b_11e8_97ef_0010c6b1e647row2_col2 {\n",
       "            background-color:  steelblue;\n",
       "        }    #T_4f1aa4fa_6c9b_11e8_97ef_0010c6b1e647row3_col2 {\n",
       "            background-color:  steelblue;\n",
       "        }    #T_4f1aa4fa_6c9b_11e8_97ef_0010c6b1e647row4_col2 {\n",
       "            background-color:  steelblue;\n",
       "        }    #T_4f1aa4fa_6c9b_11e8_97ef_0010c6b1e647row5_col2 {\n",
       "            background-color:  steelblue;\n",
       "        }    #T_4f1aa4fa_6c9b_11e8_97ef_0010c6b1e647row6_col2 {\n",
       "            background-color:  steelblue;\n",
       "        }</style>  \n",
       "<table id=\"T_4f1aa4fa_6c9b_11e8_97ef_0010c6b1e647\" ><caption>Model Scores</caption> \n",
       "<thead>    <tr> \n",
       "        <th class=\"blank level0\" ></th> \n",
       "        <th class=\"col_heading level0 col0\" >dl_full_oversample</th> \n",
       "        <th class=\"col_heading level0 col1\" >dl_full_undersample</th> \n",
       "        <th class=\"col_heading level0 col2\" >lr_full_oversample_cv</th> \n",
       "    </tr></thead> \n",
       "<tbody>    <tr> \n",
       "        <th id=\"T_4f1aa4fa_6c9b_11e8_97ef_0010c6b1e647level0_row0\" class=\"row_heading level0 row0\" >accuracy</th> \n",
       "        <td id=\"T_4f1aa4fa_6c9b_11e8_97ef_0010c6b1e647row0_col0\" class=\"data row0 col0\" >0.824306</td> \n",
       "        <td id=\"T_4f1aa4fa_6c9b_11e8_97ef_0010c6b1e647row0_col1\" class=\"data row0 col1\" >0.781833</td> \n",
       "        <td id=\"T_4f1aa4fa_6c9b_11e8_97ef_0010c6b1e647row0_col2\" class=\"data row0 col2\" >0.851611</td> \n",
       "    </tr>    <tr> \n",
       "        <th id=\"T_4f1aa4fa_6c9b_11e8_97ef_0010c6b1e647level0_row1\" class=\"row_heading level0 row1\" >recall</th> \n",
       "        <td id=\"T_4f1aa4fa_6c9b_11e8_97ef_0010c6b1e647row1_col0\" class=\"data row1 col0\" >0.822112</td> \n",
       "        <td id=\"T_4f1aa4fa_6c9b_11e8_97ef_0010c6b1e647row1_col1\" class=\"data row1 col1\" >0.906574</td> \n",
       "        <td id=\"T_4f1aa4fa_6c9b_11e8_97ef_0010c6b1e647row1_col2\" class=\"data row1 col2\" >0.838116</td> \n",
       "    </tr>    <tr> \n",
       "        <th id=\"T_4f1aa4fa_6c9b_11e8_97ef_0010c6b1e647level0_row2\" class=\"row_heading level0 row2\" >precision</th> \n",
       "        <td id=\"T_4f1aa4fa_6c9b_11e8_97ef_0010c6b1e647row2_col0\" class=\"data row2 col0\" >0.379718</td> \n",
       "        <td id=\"T_4f1aa4fa_6c9b_11e8_97ef_0010c6b1e647row2_col1\" class=\"data row2 col1\" >0.335565</td> \n",
       "        <td id=\"T_4f1aa4fa_6c9b_11e8_97ef_0010c6b1e647row2_col2\" class=\"data row2 col2\" >0.427456</td> \n",
       "    </tr>    <tr> \n",
       "        <th id=\"T_4f1aa4fa_6c9b_11e8_97ef_0010c6b1e647level0_row3\" class=\"row_heading level0 row3\" >f1</th> \n",
       "        <td id=\"T_4f1aa4fa_6c9b_11e8_97ef_0010c6b1e647row3_col0\" class=\"data row3 col0\" >0.519493</td> \n",
       "        <td id=\"T_4f1aa4fa_6c9b_11e8_97ef_0010c6b1e647row3_col1\" class=\"data row3 col1\" >0.489824</td> \n",
       "        <td id=\"T_4f1aa4fa_6c9b_11e8_97ef_0010c6b1e647row3_col2\" class=\"data row3 col2\" >0.566159</td> \n",
       "    </tr>    <tr> \n",
       "        <th id=\"T_4f1aa4fa_6c9b_11e8_97ef_0010c6b1e647level0_row4\" class=\"row_heading level0 row4\" >cross_entropy</th> \n",
       "        <td id=\"T_4f1aa4fa_6c9b_11e8_97ef_0010c6b1e647row4_col0\" class=\"data row4 col0\" >0.73027</td> \n",
       "        <td id=\"T_4f1aa4fa_6c9b_11e8_97ef_0010c6b1e647row4_col1\" class=\"data row4 col1\" >0.502852</td> \n",
       "        <td id=\"T_4f1aa4fa_6c9b_11e8_97ef_0010c6b1e647row4_col2\" class=\"data row4 col2\" >0.348544</td> \n",
       "    </tr>    <tr> \n",
       "        <th id=\"T_4f1aa4fa_6c9b_11e8_97ef_0010c6b1e647level0_row5\" class=\"row_heading level0 row5\" >roc_auc</th> \n",
       "        <td id=\"T_4f1aa4fa_6c9b_11e8_97ef_0010c6b1e647row5_col0\" class=\"data row5 col0\" >0.906325</td> \n",
       "        <td id=\"T_4f1aa4fa_6c9b_11e8_97ef_0010c6b1e647row5_col1\" class=\"data row5 col1\" >0.911436</td> \n",
       "        <td id=\"T_4f1aa4fa_6c9b_11e8_97ef_0010c6b1e647row5_col2\" class=\"data row5 col2\" >0.925356</td> \n",
       "    </tr>    <tr> \n",
       "        <th id=\"T_4f1aa4fa_6c9b_11e8_97ef_0010c6b1e647level0_row6\" class=\"row_heading level0 row6\" >cohen_kappa</th> \n",
       "        <td id=\"T_4f1aa4fa_6c9b_11e8_97ef_0010c6b1e647row6_col0\" class=\"data row6 col0\" >0.420904</td> \n",
       "        <td id=\"T_4f1aa4fa_6c9b_11e8_97ef_0010c6b1e647row6_col1\" class=\"data row6 col1\" >0.384297</td> \n",
       "        <td id=\"T_4f1aa4fa_6c9b_11e8_97ef_0010c6b1e647row6_col2\" class=\"data row6 col2\" >0.471316</td> \n",
       "    </tr></tbody> \n",
       "</table> "
      ],
      "text/plain": [
       "<pandas.io.formats.style.Styler at 0x7f011445f1d0>"
      ]
     },
     "metadata": {},
     "output_type": "display_data"
    },
    {
     "name": "stdout",
     "output_type": "stream",
     "text": [
      "Actual poverty rate: 11.38% \n",
      "Predicted poverty rate: 23.01% \n"
     ]
    }
   ],
   "source": [
    "# Load the test set\n",
    "X_test, y_test, w_test = load_data(TEST_PATH)\n",
    "\n",
    "# Run the model\n",
    "%time y_pred = model.predict(X_test.as_matrix())\n",
    "%time y_prob = model.predict_proba(X_test.as_matrix())[:,1]\n",
    "\n",
    "# Evaluate performance and store model\n",
    "metrics = evaluation.evaluate_model(y_test, y_pred, y_prob, w_test,\n",
    "                                    compare_models=['dl_full_undersample', \n",
    "                                                    'lr_full_oversample_cv'],\n",
    "                                    store_model=True,\n",
    "                                    model_name='full_oversample', \n",
    "                                    prefix=ALGORITHM_NAME,\n",
    "                                    country=COUNTRY,\n",
    "                                    model=model,\n",
    "                                    features=X_test.columns.values)"
   ]
  },
  {
   "cell_type": "markdown",
   "metadata": {},
   "source": []
  },
  {
   "cell_type": "markdown",
   "metadata": {},
   "source": [
    "## Tune parameters and cross-validate <a class=\"anchor\" id=\"tune-cv\"></a>\n"
   ]
  },
  {
   "cell_type": "code",
   "execution_count": 17,
   "metadata": {
    "collapsed": false
   },
   "outputs": [
    {
     "name": "stdout",
     "output_type": "stream",
     "text": [
      "X shape after undersampling:  (9584, 453)\n",
      "Fitting 3 folds for each of 12 candidates, totalling 36 fits\n",
      "[CV] batch_size=10, hidden_layer_sizes=(700, 1024, 512, 256, 128, 64), keep_prob=0.5 \n",
      "_________________________________________________________________\n",
      "Layer (type)                 Output Shape              Param #   \n",
      "=================================================================\n",
      "dense_28_input (InputLayer)  (None, 453)               0         \n",
      "_________________________________________________________________\n",
      "dense_28 (Dense)             (None, 700)               317800    \n",
      "_________________________________________________________________\n",
      "dense_29 (Dense)             (None, 1024)              717824    \n",
      "_________________________________________________________________\n",
      "dropout_20 (Dropout)         (None, 1024)              0         \n",
      "_________________________________________________________________\n",
      "dense_30 (Dense)             (None, 512)               524800    \n",
      "_________________________________________________________________\n",
      "dropout_21 (Dropout)         (None, 512)               0         \n",
      "_________________________________________________________________\n",
      "dense_31 (Dense)             (None, 256)               131328    \n",
      "_________________________________________________________________\n",
      "dropout_22 (Dropout)         (None, 256)               0         \n",
      "_________________________________________________________________\n",
      "dense_32 (Dense)             (None, 128)               32896     \n",
      "_________________________________________________________________\n",
      "dropout_23 (Dropout)         (None, 128)               0         \n",
      "_________________________________________________________________\n",
      "dense_33 (Dense)             (None, 64)                8256      \n",
      "_________________________________________________________________\n",
      "dropout_24 (Dropout)         (None, 64)                0         \n",
      "_________________________________________________________________\n",
      "dense_34 (Dense)             (None, 1)                 65        \n",
      "=================================================================\n",
      "Total params: 1,732,969\n",
      "Trainable params: 1,732,969\n",
      "Non-trainable params: 0\n",
      "_________________________________________________________________\n",
      "None\n",
      "Epoch 1/10\n",
      "6389/6389 [==============================] - 11s 2ms/step - loss: 0.4160 - acc: 0.8280\n",
      "Epoch 2/10\n",
      "6389/6389 [==============================] - 10s 2ms/step - loss: 0.2974 - acc: 0.9017\n",
      "Epoch 3/10\n",
      "6389/6389 [==============================] - 10s 2ms/step - loss: 0.2512 - acc: 0.9141\n",
      "Epoch 4/10\n",
      "6389/6389 [==============================] - 10s 2ms/step - loss: 0.2151 - acc: 0.9283\n",
      "Epoch 5/10\n",
      "6389/6389 [==============================] - 10s 2ms/step - loss: 0.1764 - acc: 0.9404\n",
      "Epoch 6/10\n",
      "6389/6389 [==============================] - 10s 2ms/step - loss: 0.1483 - acc: 0.9496\n",
      "Epoch 7/10\n",
      "6389/6389 [==============================] - 10s 1ms/step - loss: 0.1203 - acc: 0.9620\n",
      "Epoch 8/10\n",
      "6389/6389 [==============================] - 10s 2ms/step - loss: 0.0921 - acc: 0.9717\n",
      "Epoch 9/10\n",
      "6389/6389 [==============================] - 9s 1ms/step - loss: 0.0882 - acc: 0.9737\n",
      "Epoch 10/10\n",
      "6389/6389 [==============================] - 10s 2ms/step - loss: 0.0670 - acc: 0.9814\n",
      "3195/3195 [==============================] - 1s 441us/step\n",
      "6389/6389 [==============================] - 2s 365us/step\n",
      "[CV]  batch_size=10, hidden_layer_sizes=(700, 1024, 512, 256, 128, 64), keep_prob=0.5, score=0.7458528947195909, total= 1.7min\n",
      "[CV] batch_size=10, hidden_layer_sizes=(700, 1024, 512, 256, 128, 64), keep_prob=0.5 \n"
     ]
    },
    {
     "name": "stderr",
     "output_type": "stream",
     "text": [
      "[Parallel(n_jobs=1)]: Done   1 out of   1 | elapsed:  1.7min remaining:    0.0s\n"
     ]
    },
    {
     "name": "stdout",
     "output_type": "stream",
     "text": [
      "_________________________________________________________________\n",
      "Layer (type)                 Output Shape              Param #   \n",
      "=================================================================\n",
      "dense_35_input (InputLayer)  (None, 453)               0         \n",
      "_________________________________________________________________\n",
      "dense_35 (Dense)             (None, 700)               317800    \n",
      "_________________________________________________________________\n",
      "dense_36 (Dense)             (None, 1024)              717824    \n",
      "_________________________________________________________________\n",
      "dropout_25 (Dropout)         (None, 1024)              0         \n",
      "_________________________________________________________________\n",
      "dense_37 (Dense)             (None, 512)               524800    \n",
      "_________________________________________________________________\n",
      "dropout_26 (Dropout)         (None, 512)               0         \n",
      "_________________________________________________________________\n",
      "dense_38 (Dense)             (None, 256)               131328    \n",
      "_________________________________________________________________\n",
      "dropout_27 (Dropout)         (None, 256)               0         \n",
      "_________________________________________________________________\n",
      "dense_39 (Dense)             (None, 128)               32896     \n",
      "_________________________________________________________________\n",
      "dropout_28 (Dropout)         (None, 128)               0         \n",
      "_________________________________________________________________\n",
      "dense_40 (Dense)             (None, 64)                8256      \n",
      "_________________________________________________________________\n",
      "dropout_29 (Dropout)         (None, 64)                0         \n",
      "_________________________________________________________________\n",
      "dense_41 (Dense)             (None, 1)                 65        \n",
      "=================================================================\n",
      "Total params: 1,732,969\n",
      "Trainable params: 1,732,969\n",
      "Non-trainable params: 0\n",
      "_________________________________________________________________\n",
      "None\n",
      "Epoch 1/10\n",
      "6389/6389 [==============================] - 11s 2ms/step - loss: 0.4765 - acc: 0.7763\n",
      "Epoch 2/10\n",
      "6389/6389 [==============================] - 10s 2ms/step - loss: 0.3470 - acc: 0.8613\n",
      "Epoch 3/10\n",
      "6389/6389 [==============================] - 10s 2ms/step - loss: 0.3013 - acc: 0.8804\n",
      "Epoch 4/10\n",
      "6389/6389 [==============================] - 10s 2ms/step - loss: 0.2596 - acc: 0.9025\n",
      "Epoch 5/10\n",
      "6389/6389 [==============================] - 10s 2ms/step - loss: 0.2056 - acc: 0.9246\n",
      "Epoch 6/10\n",
      "6389/6389 [==============================] - 10s 2ms/step - loss: 0.1709 - acc: 0.9365\n",
      "Epoch 7/10\n",
      "6389/6389 [==============================] - 10s 2ms/step - loss: 0.1324 - acc: 0.9540\n",
      "Epoch 8/10\n",
      "6389/6389 [==============================] - 10s 2ms/step - loss: 0.1150 - acc: 0.9602\n",
      "Epoch 9/10\n",
      "6389/6389 [==============================] - 10s 2ms/step - loss: 0.1011 - acc: 0.9685\n",
      "Epoch 10/10\n",
      "6389/6389 [==============================] - 10s 2ms/step - loss: 0.0703 - acc: 0.9790\n",
      "3195/3195 [==============================] - 1s 457us/step\n",
      "6389/6389 [==============================] - 2s 369us/step\n",
      "[CV]  batch_size=10, hidden_layer_sizes=(700, 1024, 512, 256, 128, 64), keep_prob=0.5, score=0.8591549228614485, total= 1.7min\n",
      "[CV] batch_size=10, hidden_layer_sizes=(700, 1024, 512, 256, 128, 64), keep_prob=0.5 \n"
     ]
    },
    {
     "name": "stderr",
     "output_type": "stream",
     "text": [
      "[Parallel(n_jobs=1)]: Done   2 out of   2 | elapsed:  3.4min remaining:    0.0s\n"
     ]
    },
    {
     "name": "stdout",
     "output_type": "stream",
     "text": [
      "_________________________________________________________________\n",
      "Layer (type)                 Output Shape              Param #   \n",
      "=================================================================\n",
      "dense_42_input (InputLayer)  (None, 453)               0         \n",
      "_________________________________________________________________\n",
      "dense_42 (Dense)             (None, 700)               317800    \n",
      "_________________________________________________________________\n",
      "dense_43 (Dense)             (None, 1024)              717824    \n",
      "_________________________________________________________________\n",
      "dropout_30 (Dropout)         (None, 1024)              0         \n",
      "_________________________________________________________________\n",
      "dense_44 (Dense)             (None, 512)               524800    \n",
      "_________________________________________________________________\n",
      "dropout_31 (Dropout)         (None, 512)               0         \n",
      "_________________________________________________________________\n",
      "dense_45 (Dense)             (None, 256)               131328    \n",
      "_________________________________________________________________\n",
      "dropout_32 (Dropout)         (None, 256)               0         \n",
      "_________________________________________________________________\n",
      "dense_46 (Dense)             (None, 128)               32896     \n",
      "_________________________________________________________________\n",
      "dropout_33 (Dropout)         (None, 128)               0         \n",
      "_________________________________________________________________\n",
      "dense_47 (Dense)             (None, 64)                8256      \n",
      "_________________________________________________________________\n",
      "dropout_34 (Dropout)         (None, 64)                0         \n",
      "_________________________________________________________________\n",
      "dense_48 (Dense)             (None, 1)                 65        \n",
      "=================================================================\n",
      "Total params: 1,732,969\n",
      "Trainable params: 1,732,969\n",
      "Non-trainable params: 0\n",
      "_________________________________________________________________\n",
      "None\n",
      "Epoch 1/10\n",
      "6390/6390 [==============================] - 11s 2ms/step - loss: 0.4111 - acc: 0.8038\n",
      "Epoch 2/10\n",
      "6390/6390 [==============================] - 10s 2ms/step - loss: 0.3136 - acc: 0.8628\n",
      "Epoch 3/10\n",
      "6390/6390 [==============================] - 10s 2ms/step - loss: 0.2574 - acc: 0.8869\n",
      "Epoch 4/10\n",
      "6390/6390 [==============================] - 10s 2ms/step - loss: 0.2248 - acc: 0.9094\n",
      "Epoch 5/10\n",
      "6390/6390 [==============================] - 10s 2ms/step - loss: 0.1762 - acc: 0.9324\n",
      "Epoch 6/10\n",
      "6390/6390 [==============================] - 10s 1ms/step - loss: 0.1496 - acc: 0.9407\n",
      "Epoch 7/10\n",
      "6390/6390 [==============================] - 10s 2ms/step - loss: 0.1406 - acc: 0.9487\n",
      "Epoch 8/10\n",
      "6390/6390 [==============================] - 10s 2ms/step - loss: 0.1036 - acc: 0.9662\n",
      "Epoch 9/10\n",
      "6390/6390 [==============================] - 10s 2ms/step - loss: 0.0779 - acc: 0.9770\n",
      "Epoch 10/10\n",
      "6390/6390 [==============================] - 10s 2ms/step - loss: 0.0717 - acc: 0.9803\n",
      "3194/3194 [==============================] - 1s 458us/step\n",
      "6390/6390 [==============================] - 2s 377us/step\n",
      "[CV]  batch_size=10, hidden_layer_sizes=(700, 1024, 512, 256, 128, 64), keep_prob=0.5, score=0.7936756394770866, total= 1.7min\n",
      "[CV] batch_size=10, hidden_layer_sizes=(700, 1024, 512, 256, 128, 64), keep_prob=0.6 \n",
      "_________________________________________________________________\n",
      "Layer (type)                 Output Shape              Param #   \n",
      "=================================================================\n",
      "dense_49_input (InputLayer)  (None, 453)               0         \n",
      "_________________________________________________________________\n",
      "dense_49 (Dense)             (None, 700)               317800    \n",
      "_________________________________________________________________\n",
      "dense_50 (Dense)             (None, 1024)              717824    \n",
      "_________________________________________________________________\n",
      "dropout_35 (Dropout)         (None, 1024)              0         \n",
      "_________________________________________________________________\n",
      "dense_51 (Dense)             (None, 512)               524800    \n",
      "_________________________________________________________________\n",
      "dropout_36 (Dropout)         (None, 512)               0         \n",
      "_________________________________________________________________\n",
      "dense_52 (Dense)             (None, 256)               131328    \n",
      "_________________________________________________________________\n",
      "dropout_37 (Dropout)         (None, 256)               0         \n",
      "_________________________________________________________________\n",
      "dense_53 (Dense)             (None, 128)               32896     \n",
      "_________________________________________________________________\n",
      "dropout_38 (Dropout)         (None, 128)               0         \n",
      "_________________________________________________________________\n",
      "dense_54 (Dense)             (None, 64)                8256      \n",
      "_________________________________________________________________\n",
      "dropout_39 (Dropout)         (None, 64)                0         \n",
      "_________________________________________________________________\n",
      "dense_55 (Dense)             (None, 1)                 65        \n",
      "=================================================================\n",
      "Total params: 1,732,969\n",
      "Trainable params: 1,732,969\n",
      "Non-trainable params: 0\n",
      "_________________________________________________________________\n",
      "None\n",
      "Epoch 1/10\n",
      "6389/6389 [==============================] - 11s 2ms/step - loss: 0.4984 - acc: 0.7718\n",
      "Epoch 2/10\n",
      "6389/6389 [==============================] - 10s 2ms/step - loss: 0.3357 - acc: 0.8859\n",
      "Epoch 3/10\n",
      "6389/6389 [==============================] - 10s 2ms/step - loss: 0.2637 - acc: 0.9117\n",
      "Epoch 4/10\n",
      "6389/6389 [==============================] - 10s 2ms/step - loss: 0.2213 - acc: 0.9253\n",
      "Epoch 5/10\n",
      "6389/6389 [==============================] - 10s 2ms/step - loss: 0.1864 - acc: 0.9369\n",
      "Epoch 6/10\n",
      "6389/6389 [==============================] - 10s 2ms/step - loss: 0.1608 - acc: 0.9471\n",
      "Epoch 7/10\n",
      "6389/6389 [==============================] - 10s 2ms/step - loss: 0.1462 - acc: 0.9515\n",
      "Epoch 8/10\n",
      "6389/6389 [==============================] - 10s 2ms/step - loss: 0.1187 - acc: 0.9635\n",
      "Epoch 9/10\n",
      "6389/6389 [==============================] - 10s 2ms/step - loss: 0.1150 - acc: 0.9662\n",
      "Epoch 10/10\n",
      "6389/6389 [==============================] - 10s 2ms/step - loss: 0.0916 - acc: 0.9734\n",
      "3195/3195 [==============================] - 2s 474us/step\n",
      "6389/6389 [==============================] - 2s 379us/step\n",
      "[CV]  batch_size=10, hidden_layer_sizes=(700, 1024, 512, 256, 128, 64), keep_prob=0.6, score=0.8150234703726612, total= 1.7min\n",
      "[CV] batch_size=10, hidden_layer_sizes=(700, 1024, 512, 256, 128, 64), keep_prob=0.6 \n",
      "_________________________________________________________________\n",
      "Layer (type)                 Output Shape              Param #   \n",
      "=================================================================\n",
      "dense_56_input (InputLayer)  (None, 453)               0         \n",
      "_________________________________________________________________\n",
      "dense_56 (Dense)             (None, 700)               317800    \n",
      "_________________________________________________________________\n",
      "dense_57 (Dense)             (None, 1024)              717824    \n",
      "_________________________________________________________________\n",
      "dropout_40 (Dropout)         (None, 1024)              0         \n",
      "_________________________________________________________________\n",
      "dense_58 (Dense)             (None, 512)               524800    \n",
      "_________________________________________________________________\n",
      "dropout_41 (Dropout)         (None, 512)               0         \n",
      "_________________________________________________________________\n",
      "dense_59 (Dense)             (None, 256)               131328    \n",
      "_________________________________________________________________\n",
      "dropout_42 (Dropout)         (None, 256)               0         \n",
      "_________________________________________________________________\n",
      "dense_60 (Dense)             (None, 128)               32896     \n",
      "_________________________________________________________________\n",
      "dropout_43 (Dropout)         (None, 128)               0         \n",
      "_________________________________________________________________\n",
      "dense_61 (Dense)             (None, 64)                8256      \n",
      "_________________________________________________________________\n",
      "dropout_44 (Dropout)         (None, 64)                0         \n",
      "_________________________________________________________________\n",
      "dense_62 (Dense)             (None, 1)                 65        \n",
      "=================================================================\n",
      "Total params: 1,732,969\n",
      "Trainable params: 1,732,969\n",
      "Non-trainable params: 0\n",
      "_________________________________________________________________\n",
      "None\n",
      "Epoch 1/10\n",
      "6389/6389 [==============================] - 11s 2ms/step - loss: 0.5542 - acc: 0.7067\n",
      "Epoch 2/10\n",
      "6389/6389 [==============================] - 10s 2ms/step - loss: 0.3706 - acc: 0.8519\n",
      "Epoch 3/10\n",
      "6389/6389 [==============================] - 10s 2ms/step - loss: 0.3228 - acc: 0.8717\n",
      "Epoch 4/10\n",
      "6389/6389 [==============================] - 10s 2ms/step - loss: 0.2801 - acc: 0.8925\n",
      "Epoch 5/10\n",
      "6389/6389 [==============================] - 10s 2ms/step - loss: 0.2361 - acc: 0.9109\n",
      "Epoch 6/10\n",
      "6389/6389 [==============================] - 10s 2ms/step - loss: 0.2115 - acc: 0.9211\n",
      "Epoch 7/10\n",
      "6389/6389 [==============================] - 10s 2ms/step - loss: 0.1819 - acc: 0.9366\n",
      "Epoch 8/10\n",
      "6389/6389 [==============================] - 10s 2ms/step - loss: 0.1562 - acc: 0.9483\n",
      "Epoch 9/10\n",
      "6389/6389 [==============================] - 10s 2ms/step - loss: 0.1207 - acc: 0.9598\n",
      "Epoch 10/10\n",
      "6389/6389 [==============================] - 10s 2ms/step - loss: 0.1248 - acc: 0.9634\n",
      "3195/3195 [==============================] - 2s 487us/step\n",
      "6389/6389 [==============================] - 2s 390us/step\n",
      "[CV]  batch_size=10, hidden_layer_sizes=(700, 1024, 512, 256, 128, 64), keep_prob=0.6, score=0.8475743303649675, total= 1.7min\n",
      "[CV] batch_size=10, hidden_layer_sizes=(700, 1024, 512, 256, 128, 64), keep_prob=0.6 \n",
      "_________________________________________________________________\n",
      "Layer (type)                 Output Shape              Param #   \n",
      "=================================================================\n",
      "dense_63_input (InputLayer)  (None, 453)               0         \n",
      "_________________________________________________________________\n",
      "dense_63 (Dense)             (None, 700)               317800    \n",
      "_________________________________________________________________\n",
      "dense_64 (Dense)             (None, 1024)              717824    \n",
      "_________________________________________________________________\n",
      "dropout_45 (Dropout)         (None, 1024)              0         \n",
      "_________________________________________________________________\n",
      "dense_65 (Dense)             (None, 512)               524800    \n",
      "_________________________________________________________________\n",
      "dropout_46 (Dropout)         (None, 512)               0         \n",
      "_________________________________________________________________\n",
      "dense_66 (Dense)             (None, 256)               131328    \n",
      "_________________________________________________________________\n",
      "dropout_47 (Dropout)         (None, 256)               0         \n",
      "_________________________________________________________________\n",
      "dense_67 (Dense)             (None, 128)               32896     \n",
      "_________________________________________________________________\n",
      "dropout_48 (Dropout)         (None, 128)               0         \n",
      "_________________________________________________________________\n",
      "dense_68 (Dense)             (None, 64)                8256      \n",
      "_________________________________________________________________\n",
      "dropout_49 (Dropout)         (None, 64)                0         \n",
      "_________________________________________________________________\n",
      "dense_69 (Dense)             (None, 1)                 65        \n",
      "=================================================================\n",
      "Total params: 1,732,969\n",
      "Trainable params: 1,732,969\n",
      "Non-trainable params: 0\n",
      "_________________________________________________________________\n",
      "None\n",
      "Epoch 1/10\n",
      "6390/6390 [==============================] - 11s 2ms/step - loss: 0.4676 - acc: 0.7573\n",
      "Epoch 2/10\n",
      "6390/6390 [==============================] - 10s 2ms/step - loss: 0.3592 - acc: 0.8283\n",
      "Epoch 3/10\n",
      "6390/6390 [==============================] - 10s 2ms/step - loss: 0.3142 - acc: 0.8588\n",
      "Epoch 4/10\n",
      "6390/6390 [==============================] - 10s 2ms/step - loss: 0.2862 - acc: 0.8790\n",
      "Epoch 5/10\n",
      "6390/6390 [==============================] - 10s 2ms/step - loss: 0.2478 - acc: 0.8933\n",
      "Epoch 6/10\n",
      "6390/6390 [==============================] - 10s 2ms/step - loss: 0.2115 - acc: 0.9146\n",
      "Epoch 7/10\n",
      "6390/6390 [==============================] - 10s 2ms/step - loss: 0.1896 - acc: 0.9264\n",
      "Epoch 8/10\n",
      "6390/6390 [==============================] - 10s 2ms/step - loss: 0.1611 - acc: 0.9380\n",
      "Epoch 9/10\n",
      "6390/6390 [==============================] - 10s 2ms/step - loss: 0.1467 - acc: 0.9466\n",
      "Epoch 10/10\n",
      "6390/6390 [==============================] - 10s 2ms/step - loss: 0.0983 - acc: 0.9676\n",
      "3194/3194 [==============================] - 2s 494us/step\n",
      "6390/6390 [==============================] - 2s 373us/step\n",
      "[CV]  batch_size=10, hidden_layer_sizes=(700, 1024, 512, 256, 128, 64), keep_prob=0.6, score=0.7266750157383284, total= 1.7min\n",
      "[CV] batch_size=10, hidden_layer_sizes=(700, 1024, 512, 256, 128, 64), keep_prob=0.7 \n",
      "_________________________________________________________________\n",
      "Layer (type)                 Output Shape              Param #   \n",
      "=================================================================\n",
      "dense_70_input (InputLayer)  (None, 453)               0         \n",
      "_________________________________________________________________\n",
      "dense_70 (Dense)             (None, 700)               317800    \n",
      "_________________________________________________________________\n",
      "dense_71 (Dense)             (None, 1024)              717824    \n",
      "_________________________________________________________________\n",
      "dropout_50 (Dropout)         (None, 1024)              0         \n",
      "_________________________________________________________________\n",
      "dense_72 (Dense)             (None, 512)               524800    \n",
      "_________________________________________________________________\n",
      "dropout_51 (Dropout)         (None, 512)               0         \n",
      "_________________________________________________________________\n",
      "dense_73 (Dense)             (None, 256)               131328    \n",
      "_________________________________________________________________\n",
      "dropout_52 (Dropout)         (None, 256)               0         \n",
      "_________________________________________________________________\n",
      "dense_74 (Dense)             (None, 128)               32896     \n",
      "_________________________________________________________________\n",
      "dropout_53 (Dropout)         (None, 128)               0         \n",
      "_________________________________________________________________\n",
      "dense_75 (Dense)             (None, 64)                8256      \n",
      "_________________________________________________________________\n",
      "dropout_54 (Dropout)         (None, 64)                0         \n",
      "_________________________________________________________________\n",
      "dense_76 (Dense)             (None, 1)                 65        \n",
      "=================================================================\n",
      "Total params: 1,732,969\n",
      "Trainable params: 1,732,969\n",
      "Non-trainable params: 0\n",
      "_________________________________________________________________\n",
      "None\n",
      "Epoch 1/10\n",
      "6389/6389 [==============================] - 11s 2ms/step - loss: 0.5927 - acc: 0.7131\n",
      "Epoch 2/10\n",
      "6389/6389 [==============================] - 10s 2ms/step - loss: 0.4474 - acc: 0.7920\n",
      "Epoch 3/10\n",
      "6389/6389 [==============================] - 10s 2ms/step - loss: 0.4060 - acc: 0.8444\n",
      "Epoch 4/10\n",
      "6389/6389 [==============================] - 10s 2ms/step - loss: 0.3750 - acc: 0.8778\n",
      "Epoch 5/10\n",
      "6389/6389 [==============================] - 10s 2ms/step - loss: 0.3099 - acc: 0.8937\n",
      "Epoch 6/10\n",
      "6389/6389 [==============================] - 10s 2ms/step - loss: 0.2738 - acc: 0.9091\n",
      "Epoch 7/10\n",
      "6389/6389 [==============================] - 10s 2ms/step - loss: 0.2219 - acc: 0.9255\n",
      "Epoch 8/10\n",
      "6389/6389 [==============================] - 10s 2ms/step - loss: 0.1956 - acc: 0.9386\n",
      "Epoch 9/10\n",
      "6389/6389 [==============================] - 10s 2ms/step - loss: 0.1871 - acc: 0.9468\n",
      "Epoch 10/10\n",
      "6389/6389 [==============================] - 10s 2ms/step - loss: 0.1387 - acc: 0.9565\n",
      "3195/3195 [==============================] - 2s 516us/step\n",
      "6389/6389 [==============================] - 2s 382us/step\n",
      "[CV]  batch_size=10, hidden_layer_sizes=(700, 1024, 512, 256, 128, 64), keep_prob=0.7, score=0.7824726109400229, total= 1.7min\n",
      "[CV] batch_size=10, hidden_layer_sizes=(700, 1024, 512, 256, 128, 64), keep_prob=0.7 \n",
      "_________________________________________________________________\n",
      "Layer (type)                 Output Shape              Param #   \n",
      "=================================================================\n",
      "dense_77_input (InputLayer)  (None, 453)               0         \n",
      "_________________________________________________________________\n",
      "dense_77 (Dense)             (None, 700)               317800    \n",
      "_________________________________________________________________\n",
      "dense_78 (Dense)             (None, 1024)              717824    \n",
      "_________________________________________________________________\n",
      "dropout_55 (Dropout)         (None, 1024)              0         \n",
      "_________________________________________________________________\n",
      "dense_79 (Dense)             (None, 512)               524800    \n",
      "_________________________________________________________________\n",
      "dropout_56 (Dropout)         (None, 512)               0         \n",
      "_________________________________________________________________\n",
      "dense_80 (Dense)             (None, 256)               131328    \n",
      "_________________________________________________________________\n",
      "dropout_57 (Dropout)         (None, 256)               0         \n",
      "_________________________________________________________________\n",
      "dense_81 (Dense)             (None, 128)               32896     \n",
      "_________________________________________________________________\n",
      "dropout_58 (Dropout)         (None, 128)               0         \n",
      "_________________________________________________________________\n",
      "dense_82 (Dense)             (None, 64)                8256      \n",
      "_________________________________________________________________\n",
      "dropout_59 (Dropout)         (None, 64)                0         \n",
      "_________________________________________________________________\n",
      "dense_83 (Dense)             (None, 1)                 65        \n",
      "=================================================================\n",
      "Total params: 1,732,969\n",
      "Trainable params: 1,732,969\n",
      "Non-trainable params: 0\n",
      "_________________________________________________________________\n",
      "None\n",
      "Epoch 1/10\n",
      "4000/6389 [=================>............] - ETA: 4s - loss: 0.7928 - acc: 0.5025"
     ]
    }
   ],
   "source": [
    "from sklearn.model_selection import GridSearchCV\n",
    "\n",
    "# Load and transform the training data\n",
    "X_train, y_train, w_train = load_data(TRAIN_PATH)\n",
    "cols = X_train.columns\n",
    "\n",
    "# Apply random undersampling\n",
    "X_train, y_train = RandomUnderSampler().fit_sample(X_train, y_train)\n",
    "X_train = pd.DataFrame(X_train, columns=cols)\n",
    "print(\"X shape after undersampling: \", X_train.shape)\n",
    "\n",
    "input_dim = X_train.shape[1]\n",
    "# build the model\n",
    "estimator = KerasClassifier(build_fn=create_model, \n",
    "                            input_dim=input_dim, \n",
    "                            dropout_layers='all',\n",
    "                            epochs=10,\n",
    "                            verbose=1)\n",
    "parameters = {'hidden_layer_sizes': [(700, 1024, 512, 256, 128, 64)],\n",
    "              'keep_prob': [0.5, 0.6, 0.7],\n",
    "              'batch_size': [10, 64, 128, 256]\n",
    "             }\n",
    "\n",
    "model = GridSearchCV(estimator, parameters, verbose=3, cv=3)\n",
    "%time model.fit(X_train.as_matrix(), y_train)"
   ]
  },
  {
   "cell_type": "code",
   "execution_count": 18,
   "metadata": {
    "collapsed": false
   },
   "outputs": [
    {
     "name": "stdout",
     "output_type": "stream",
     "text": [
      "9584/9584 [==============================] - 2s 229us/step\n",
      "CPU times: user 6.81 s, sys: 1.14 s, total: 7.95 s\n",
      "Wall time: 2.2 s\n",
      "In-sample score: 95.32%\n",
      "Best model parameters: {'batch_size': 128, 'hidden_layer_sizes': (700, 1024, 512, 256, 128, 64), 'keep_prob': 0.7}\n"
     ]
    }
   ],
   "source": [
    "# Get an initial score\n",
    "%time score = model.score(X_train.as_matrix(), y_train)\n",
    "print(\"In-sample score: {:0.2%}\".format(score))\n",
    "print(\"Best model parameters:\", model.best_params_)"
   ]
  },
  {
   "cell_type": "code",
   "execution_count": 19,
   "metadata": {
    "collapsed": false,
    "scrolled": false
   },
   "outputs": [
    {
     "name": "stdout",
     "output_type": "stream",
     "text": [
      "17711/17711 [==============================] - 3s 160us/step\n",
      "17711/17711 [==============================] - 1s 70us/step\n",
      "70843/70843 [==============================] - 4s 63us/step\n"
     ]
    },
    {
     "name": "stderr",
     "output_type": "stream",
     "text": [
      "/home/bull/miniconda3/envs/worldbank-poverty-test/lib/python3.6/site-packages/matplotlib/cbook/deprecation.py:107: MatplotlibDeprecationWarning: Passing one of 'on', 'true', 'off', 'false' as a boolean is deprecated; use an actual boolean (True/False) instead.\n",
      "  warnings.warn(message, mplDeprecation, stacklevel=1)\n"
     ]
    },
    {
     "data": {
      "image/png": "[encoded data removed]",
      "text/plain": [
       "<Figure size 720x288 with 3 Axes>"
      ]
     },
     "metadata": {},
     "output_type": "display_data"
    },
    {
     "data": {
      "text/html": [
       "<style  type=\"text/css\" >\n",
       "    #T_c90954e8_6c9e_11e8_97ef_0010c6b1e647row0_col2 {\n",
       "            background-color:  steelblue;\n",
       "        }    #T_c90954e8_6c9e_11e8_97ef_0010c6b1e647row1_col0 {\n",
       "            background-color:  steelblue;\n",
       "        }    #T_c90954e8_6c9e_11e8_97ef_0010c6b1e647row2_col2 {\n",
       "            background-color:  steelblue;\n",
       "        }    #T_c90954e8_6c9e_11e8_97ef_0010c6b1e647row3_col2 {\n",
       "            background-color:  steelblue;\n",
       "        }    #T_c90954e8_6c9e_11e8_97ef_0010c6b1e647row4_col2 {\n",
       "            background-color:  steelblue;\n",
       "        }    #T_c90954e8_6c9e_11e8_97ef_0010c6b1e647row5_col2 {\n",
       "            background-color:  steelblue;\n",
       "        }    #T_c90954e8_6c9e_11e8_97ef_0010c6b1e647row6_col2 {\n",
       "            background-color:  steelblue;\n",
       "        }</style>  \n",
       "<table id=\"T_c90954e8_6c9e_11e8_97ef_0010c6b1e647\" ><caption>Model Scores</caption> \n",
       "<thead>    <tr> \n",
       "        <th class=\"blank level0\" ></th> \n",
       "        <th class=\"col_heading level0 col0\" >dl_full_undersample_cv</th> \n",
       "        <th class=\"col_heading level0 col1\" >dl_full_undersample</th> \n",
       "        <th class=\"col_heading level0 col2\" >lr_full_oversample_cv</th> \n",
       "    </tr></thead> \n",
       "<tbody>    <tr> \n",
       "        <th id=\"T_c90954e8_6c9e_11e8_97ef_0010c6b1e647level0_row0\" class=\"row_heading level0 row0\" >accuracy</th> \n",
       "        <td id=\"T_c90954e8_6c9e_11e8_97ef_0010c6b1e647row0_col0\" class=\"data row0 col0\" >0.766569</td> \n",
       "        <td id=\"T_c90954e8_6c9e_11e8_97ef_0010c6b1e647row0_col1\" class=\"data row0 col1\" >0.781833</td> \n",
       "        <td id=\"T_c90954e8_6c9e_11e8_97ef_0010c6b1e647row0_col2\" class=\"data row0 col2\" >0.851611</td> \n",
       "    </tr>    <tr> \n",
       "        <th id=\"T_c90954e8_6c9e_11e8_97ef_0010c6b1e647level0_row1\" class=\"row_heading level0 row1\" >recall</th> \n",
       "        <td id=\"T_c90954e8_6c9e_11e8_97ef_0010c6b1e647row1_col0\" class=\"data row1 col0\" >0.945357</td> \n",
       "        <td id=\"T_c90954e8_6c9e_11e8_97ef_0010c6b1e647row1_col1\" class=\"data row1 col1\" >0.906574</td> \n",
       "        <td id=\"T_c90954e8_6c9e_11e8_97ef_0010c6b1e647row1_col2\" class=\"data row1 col2\" >0.838116</td> \n",
       "    </tr>    <tr> \n",
       "        <th id=\"T_c90954e8_6c9e_11e8_97ef_0010c6b1e647level0_row2\" class=\"row_heading level0 row2\" >precision</th> \n",
       "        <td id=\"T_c90954e8_6c9e_11e8_97ef_0010c6b1e647row2_col0\" class=\"data row2 col0\" >0.324717</td> \n",
       "        <td id=\"T_c90954e8_6c9e_11e8_97ef_0010c6b1e647row2_col1\" class=\"data row2 col1\" >0.335565</td> \n",
       "        <td id=\"T_c90954e8_6c9e_11e8_97ef_0010c6b1e647row2_col2\" class=\"data row2 col2\" >0.427456</td> \n",
       "    </tr>    <tr> \n",
       "        <th id=\"T_c90954e8_6c9e_11e8_97ef_0010c6b1e647level0_row3\" class=\"row_heading level0 row3\" >f1</th> \n",
       "        <td id=\"T_c90954e8_6c9e_11e8_97ef_0010c6b1e647row3_col0\" class=\"data row3 col0\" >0.483395</td> \n",
       "        <td id=\"T_c90954e8_6c9e_11e8_97ef_0010c6b1e647row3_col1\" class=\"data row3 col1\" >0.489824</td> \n",
       "        <td id=\"T_c90954e8_6c9e_11e8_97ef_0010c6b1e647row3_col2\" class=\"data row3 col2\" >0.566159</td> \n",
       "    </tr>    <tr> \n",
       "        <th id=\"T_c90954e8_6c9e_11e8_97ef_0010c6b1e647level0_row4\" class=\"row_heading level0 row4\" >cross_entropy</th> \n",
       "        <td id=\"T_c90954e8_6c9e_11e8_97ef_0010c6b1e647row4_col0\" class=\"data row4 col0\" >0.682407</td> \n",
       "        <td id=\"T_c90954e8_6c9e_11e8_97ef_0010c6b1e647row4_col1\" class=\"data row4 col1\" >0.502852</td> \n",
       "        <td id=\"T_c90954e8_6c9e_11e8_97ef_0010c6b1e647row4_col2\" class=\"data row4 col2\" >0.348544</td> \n",
       "    </tr>    <tr> \n",
       "        <th id=\"T_c90954e8_6c9e_11e8_97ef_0010c6b1e647level0_row5\" class=\"row_heading level0 row5\" >roc_auc</th> \n",
       "        <td id=\"T_c90954e8_6c9e_11e8_97ef_0010c6b1e647row5_col0\" class=\"data row5 col0\" >0.91597</td> \n",
       "        <td id=\"T_c90954e8_6c9e_11e8_97ef_0010c6b1e647row5_col1\" class=\"data row5 col1\" >0.911436</td> \n",
       "        <td id=\"T_c90954e8_6c9e_11e8_97ef_0010c6b1e647row5_col2\" class=\"data row5 col2\" >0.925356</td> \n",
       "    </tr>    <tr> \n",
       "        <th id=\"T_c90954e8_6c9e_11e8_97ef_0010c6b1e647level0_row6\" class=\"row_heading level0 row6\" >cohen_kappa</th> \n",
       "        <td id=\"T_c90954e8_6c9e_11e8_97ef_0010c6b1e647row6_col0\" class=\"data row6 col0\" >0.382015</td> \n",
       "        <td id=\"T_c90954e8_6c9e_11e8_97ef_0010c6b1e647row6_col1\" class=\"data row6 col1\" >0.384297</td> \n",
       "        <td id=\"T_c90954e8_6c9e_11e8_97ef_0010c6b1e647row6_col2\" class=\"data row6 col2\" >0.471316</td> \n",
       "    </tr></tbody> \n",
       "</table> "
      ],
      "text/plain": [
       "<pandas.io.formats.style.Styler at 0x7f00625c5ac8>"
      ]
     },
     "metadata": {},
     "output_type": "display_data"
    },
    {
     "name": "stdout",
     "output_type": "stream",
     "text": [
      "Actual poverty rate: 11.38% \n",
      "Predicted poverty rate: 32.77% \n"
     ]
    }
   ],
   "source": [
    "# Load the test set\n",
    "X_test, y_test, w_test = load_data(TEST_PATH)\n",
    "\n",
    "# Run the model\n",
    "y_pred = model.predict(X_test.as_matrix())\n",
    "y_prob = model.predict_proba(X_test.as_matrix())[:,1]\n",
    "\n",
    "\n",
    "# Evaluate performance and store model\n",
    "metrics = evaluation.evaluate_model(y_test, y_pred, y_prob, w_test,\n",
    "                                    compare_models=['dl_full_undersample',  \n",
    "                                                    'lr_full_oversample_cv'],\n",
    "                                    store_model=True,\n",
    "                                    model_name='full_undersample_cv', \n",
    "                                    prefix=ALGORITHM_NAME,\n",
    "                                    country=COUNTRY,\n",
    "                                    model=model.best_estimator_,\n",
    "                                    features=X_test.columns.values)\n",
    "best_model = model.best_estimator_"
   ]
  },
  {
   "cell_type": "markdown",
   "metadata": {},
   "source": [
    "Cross validation for this model has only a minor impact on performance. As with Logistic Regression, we tend to get better recall using undersamping, but better overall performance using oversampling. "
   ]
  },
  {
   "cell_type": "markdown",
   "metadata": {},
   "source": [
    "# Deep Learning Indonesia Summary <a class=\"anchor\" id=\"summary\"></a>\n",
    "\n"
   ]
  },
  {
   "cell_type": "code",
   "execution_count": 20,
   "metadata": {
    "collapsed": false
   },
   "outputs": [
    {
     "name": "stderr",
     "output_type": "stream",
     "text": [
      "/home/bull/miniconda3/envs/worldbank-poverty-test/lib/python3.6/site-packages/sklearn/metrics/classification.py:1135: UndefinedMetricWarning: Precision is ill-defined and being set to 0.0 due to no predicted samples.\n",
      "  'precision', 'predicted', average, warn_for)\n",
      "/home/bull/miniconda3/envs/worldbank-poverty-test/lib/python3.6/site-packages/sklearn/metrics/classification.py:1135: UndefinedMetricWarning: F-score is ill-defined and being set to 0.0 due to no predicted samples.\n",
      "  'precision', 'predicted', average, warn_for)\n"
     ]
    },
    {
     "data": {
      "image/png": "[encoded data removed]",
      "text/plain": [
       "<Figure size 360x288 with 1 Axes>"
      ]
     },
     "metadata": {},
     "output_type": "display_data"
    },
    {
     "data": {
      "text/html": [
       "<style  type=\"text/css\" >\n",
       "    #T_cb897838_6c9e_11e8_97ef_0010c6b1e647row0_col0 {\n",
       "            background-color:  steelblue;\n",
       "        }    #T_cb897838_6c9e_11e8_97ef_0010c6b1e647row0_col4 {\n",
       "            background-color:  steelblue;\n",
       "        }    #T_cb897838_6c9e_11e8_97ef_0010c6b1e647row0_col7 {\n",
       "            background-color:  steelblue;\n",
       "        }    #T_cb897838_6c9e_11e8_97ef_0010c6b1e647row1_col1 {\n",
       "            background-color:  steelblue;\n",
       "        }    #T_cb897838_6c9e_11e8_97ef_0010c6b1e647row1_col5 {\n",
       "            background-color:  steelblue;\n",
       "        }    #T_cb897838_6c9e_11e8_97ef_0010c6b1e647row3_col2 {\n",
       "            background-color:  steelblue;\n",
       "        }    #T_cb897838_6c9e_11e8_97ef_0010c6b1e647row3_col3 {\n",
       "            background-color:  steelblue;\n",
       "        }    #T_cb897838_6c9e_11e8_97ef_0010c6b1e647row3_col6 {\n",
       "            background-color:  steelblue;\n",
       "        }</style>  \n",
       "<table id=\"T_cb897838_6c9e_11e8_97ef_0010c6b1e647\" ><caption>Model Scores</caption> \n",
       "<thead>    <tr> \n",
       "        <th class=\"blank level0\" ></th> \n",
       "        <th class=\"col_heading level0 col0\" >accuracy</th> \n",
       "        <th class=\"col_heading level0 col1\" >recall</th> \n",
       "        <th class=\"col_heading level0 col2\" >precision</th> \n",
       "        <th class=\"col_heading level0 col3\" >f1</th> \n",
       "        <th class=\"col_heading level0 col4\" >cross_entropy</th> \n",
       "        <th class=\"col_heading level0 col5\" >roc_auc</th> \n",
       "        <th class=\"col_heading level0 col6\" >cohen_kappa</th> \n",
       "        <th class=\"col_heading level0 col7\" >pov_rate_error</th> \n",
       "    </tr></thead> \n",
       "<tbody>    <tr> \n",
       "        <th id=\"T_cb897838_6c9e_11e8_97ef_0010c6b1e647level0_row0\" class=\"row_heading level0 row0\" >dl_full</th> \n",
       "        <td id=\"T_cb897838_6c9e_11e8_97ef_0010c6b1e647row0_col0\" class=\"data row0 col0\" >0.884475</td> \n",
       "        <td id=\"T_cb897838_6c9e_11e8_97ef_0010c6b1e647row0_col1\" class=\"data row0 col1\" >0</td> \n",
       "        <td id=\"T_cb897838_6c9e_11e8_97ef_0010c6b1e647row0_col2\" class=\"data row0 col2\" >0</td> \n",
       "        <td id=\"T_cb897838_6c9e_11e8_97ef_0010c6b1e647row0_col3\" class=\"data row0 col3\" >0</td> \n",
       "        <td id=\"T_cb897838_6c9e_11e8_97ef_0010c6b1e647row0_col4\" class=\"data row0 col4\" >0.38995</td> \n",
       "        <td id=\"T_cb897838_6c9e_11e8_97ef_0010c6b1e647row0_col5\" class=\"data row0 col5\" >0.863934</td> \n",
       "        <td id=\"T_cb897838_6c9e_11e8_97ef_0010c6b1e647row0_col6\" class=\"data row0 col6\" >0</td> \n",
       "        <td id=\"T_cb897838_6c9e_11e8_97ef_0010c6b1e647row0_col7\" class=\"data row0 col7\" >-0.113791</td> \n",
       "    </tr>    <tr> \n",
       "        <th id=\"T_cb897838_6c9e_11e8_97ef_0010c6b1e647level0_row1\" class=\"row_heading level0 row1\" >dl_full_undersample_cv</th> \n",
       "        <td id=\"T_cb897838_6c9e_11e8_97ef_0010c6b1e647row1_col0\" class=\"data row1 col0\" >0.766569</td> \n",
       "        <td id=\"T_cb897838_6c9e_11e8_97ef_0010c6b1e647row1_col1\" class=\"data row1 col1\" >0.945357</td> \n",
       "        <td id=\"T_cb897838_6c9e_11e8_97ef_0010c6b1e647row1_col2\" class=\"data row1 col2\" >0.324717</td> \n",
       "        <td id=\"T_cb897838_6c9e_11e8_97ef_0010c6b1e647row1_col3\" class=\"data row1 col3\" >0.483395</td> \n",
       "        <td id=\"T_cb897838_6c9e_11e8_97ef_0010c6b1e647row1_col4\" class=\"data row1 col4\" >0.682407</td> \n",
       "        <td id=\"T_cb897838_6c9e_11e8_97ef_0010c6b1e647row1_col5\" class=\"data row1 col5\" >0.91597</td> \n",
       "        <td id=\"T_cb897838_6c9e_11e8_97ef_0010c6b1e647row1_col6\" class=\"data row1 col6\" >0.382015</td> \n",
       "        <td id=\"T_cb897838_6c9e_11e8_97ef_0010c6b1e647row1_col7\" class=\"data row1 col7\" >0.213883</td> \n",
       "    </tr>    <tr> \n",
       "        <th id=\"T_cb897838_6c9e_11e8_97ef_0010c6b1e647level0_row2\" class=\"row_heading level0 row2\" >dl_full_undersample</th> \n",
       "        <td id=\"T_cb897838_6c9e_11e8_97ef_0010c6b1e647row2_col0\" class=\"data row2 col0\" >0.781833</td> \n",
       "        <td id=\"T_cb897838_6c9e_11e8_97ef_0010c6b1e647row2_col1\" class=\"data row2 col1\" >0.906574</td> \n",
       "        <td id=\"T_cb897838_6c9e_11e8_97ef_0010c6b1e647row2_col2\" class=\"data row2 col2\" >0.335565</td> \n",
       "        <td id=\"T_cb897838_6c9e_11e8_97ef_0010c6b1e647row2_col3\" class=\"data row2 col3\" >0.489824</td> \n",
       "        <td id=\"T_cb897838_6c9e_11e8_97ef_0010c6b1e647row2_col4\" class=\"data row2 col4\" >0.502852</td> \n",
       "        <td id=\"T_cb897838_6c9e_11e8_97ef_0010c6b1e647row2_col5\" class=\"data row2 col5\" >0.911436</td> \n",
       "        <td id=\"T_cb897838_6c9e_11e8_97ef_0010c6b1e647row2_col6\" class=\"data row2 col6\" >0.384297</td> \n",
       "        <td id=\"T_cb897838_6c9e_11e8_97ef_0010c6b1e647row2_col7\" class=\"data row2 col7\" >0.189144</td> \n",
       "    </tr>    <tr> \n",
       "        <th id=\"T_cb897838_6c9e_11e8_97ef_0010c6b1e647level0_row3\" class=\"row_heading level0 row3\" >dl_full_oversample</th> \n",
       "        <td id=\"T_cb897838_6c9e_11e8_97ef_0010c6b1e647row3_col0\" class=\"data row3 col0\" >0.824306</td> \n",
       "        <td id=\"T_cb897838_6c9e_11e8_97ef_0010c6b1e647row3_col1\" class=\"data row3 col1\" >0.822112</td> \n",
       "        <td id=\"T_cb897838_6c9e_11e8_97ef_0010c6b1e647row3_col2\" class=\"data row3 col2\" >0.379718</td> \n",
       "        <td id=\"T_cb897838_6c9e_11e8_97ef_0010c6b1e647row3_col3\" class=\"data row3 col3\" >0.519493</td> \n",
       "        <td id=\"T_cb897838_6c9e_11e8_97ef_0010c6b1e647row3_col4\" class=\"data row3 col4\" >0.73027</td> \n",
       "        <td id=\"T_cb897838_6c9e_11e8_97ef_0010c6b1e647row3_col5\" class=\"data row3 col5\" >0.906325</td> \n",
       "        <td id=\"T_cb897838_6c9e_11e8_97ef_0010c6b1e647row3_col6\" class=\"data row3 col6\" >0.420904</td> \n",
       "        <td id=\"T_cb897838_6c9e_11e8_97ef_0010c6b1e647row3_col7\" class=\"data row3 col7\" >0.11632</td> \n",
       "    </tr></tbody> \n",
       "</table> "
      ],
      "text/plain": [
       "<pandas.io.formats.style.Styler at 0x7effcaad9da0>"
      ]
     },
     "metadata": {},
     "output_type": "display_data"
    }
   ],
   "source": [
    "evaluation.compare_algorithm_models(ALGORITHM_NAME, COUNTRY)"
   ]
  }
 ],
 "metadata": {
  "kernelspec": {
   "display_name": "Python 3",
   "language": "python",
   "name": "python3"
  },
  "language_info": {
   "codemirror_mode": {
    "name": "ipython",
    "version": 3
   },
   "file_extension": ".py",
   "mimetype": "text/x-python",
   "name": "python",
   "nbconvert_exporter": "python",
   "pygments_lexer": "ipython3",
   "version": "3.6.0"
  }
 },
 "nbformat": 4,
 "nbformat_minor": 2
}
