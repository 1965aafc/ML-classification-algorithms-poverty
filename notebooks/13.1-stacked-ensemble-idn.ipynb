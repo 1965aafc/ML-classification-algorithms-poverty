{
 "cells": [
  {
   "cell_type": "markdown",
   "metadata": {},
   "source": [
    "<h1 style=\"text-align: center;\" markdown=\"1\">Machine Learning Algorithms for Poverty Prediction</h1> \n",
    "<h2 style=\"text-align: center;\" markdown=\"2\">A project of the World Bank's Knowledge for Change Program</h2>\n",
    "<h3 style=\"text-align: center;\" markdown=\"3\">(KCP, Grant TF0A4534)</h3>\n",
    "\n",
    "\n",
    "> *This notebook is part of a series that has been developed as an empirical comparative assessment of machine learning classification algorithms applied to poverty prediction. The objectives of this project are to explore how well machine learning algorithms perform when given the task to identify the poor in a given population, and to provide a resource of machine learning techniques for researchers, data scientists, and statisticians in developing countries.*"
   ]
  },
  {
   "cell_type": "markdown",
   "metadata": {},
   "source": [
    "<h1 style=\"text-align: center;\" markdown=\"3\">Advanced Algorithm 2: Stacked Ensemble Classifier</h1> \n",
    "<h2 style=\"text-align: center;\" markdown=\"3\">Indonesia Poverty Prediction</h2> "
   ]
  },
  {
   "cell_type": "markdown",
   "metadata": {},
   "source": [
    "# Table of Contents\n",
    "[Introduction](#introduction)  \n",
    "&nbsp;&nbsp;&nbsp;[Explanation and Theory](#introduction-theory)  \n",
    "&nbsp;&nbsp;&nbsp;[Considerations](#introduction-considerations)  \n",
    "[Data Setup](#data-setup) \n",
    "\n",
    "[Civis Analytics Stacked Classifier](#civis-analytics-stackedclassifier)\n",
    "\n",
    "&nbsp;&nbsp;&nbsp;[Choose Component Models](#choose-component-models)  \n",
    "&nbsp;&nbsp;&nbsp;[Set Grid Search Parameters and Train](#set-grid-search-parameters-and-train)  \n",
    "\n",
    "[Compare to Simple Ensemble](#compare-to-simple-ensemble)  \n",
    "[Summary](#summary)"
   ]
  },
  {
   "cell_type": "markdown",
   "metadata": {},
   "source": [
    "# Stacked Ensemble Classifier Introduction <a class=\"anchor\" id=\"introduction\"></a>\n",
    "\n",
    "In the last notebook, we looked at creating a simple ensemble by averaging the predictions of a set of models. One of the drawbacks of this approach is that it treats every model the same. However, not all models are equally accurate, and not all models perform well for every household. Stacking addresses these limitations of model averaging.\n",
    "\n",
    "Model stacking, or meta-estimation, is a popular technique used to win machine learning competitions. In model stacking, the predictions of each model in the ensemble are used as features, often referred to as _meta features_, to train a new classifier (or, meta classifier). In this way, the \"stack\" is composed of two _levels_: level 1, which is composed of independent estimators, and level 2, which treats the predictions of the level 1 models as features and is trained to predict the same ouput variable using these features as input."
   ]
  },
  {
   "cell_type": "markdown",
   "metadata": {},
   "source": [
    "## Explanation and Theory <a class=\"anchor\" id=\"introduction-theory\"></a>\n",
    "\n",
    "In order to avoid overfitting the training set, it is important to use a proper validation technique when training a stacked model. This is a crucial point. In order to train a stacked model using $l$ base estimators to generate features for meta estimator $M$. A very common approach consists of,\n",
    "\n",
    "\n",
    "1. **Preprocess** Split training data $X$ into $k$ folds $(X_1, ..., X_k)$.\n",
    "2. **Train Level 1** For each model $L_i$ where ${i: 1, ..., l}$, fit $L_i$ using $k-1$ folds, predict on the remaining fold. Repeat this cycle $k$ times, until $L_i$ has predicted on _every_ fold. The result will be a matrix of \"out-of-sample\" (out of the particular fold) predictions for every row in the training set.\n",
    "3. **Train Level 2** Train the meta estimator $M$ using the $l$-dimensional features generated in step 2. If $X$ has $1000$ samples then the meta estimator training data has shape $1000 \\times l$.\n",
    "4. **Optional** After meta features are generated, refit level 1 models using full training set. Do not do anything to level 2 models!\n",
    "\n",
    "The key point is that level 2 features need to be generated using out-of-fold predictions from level 1. Otherwise the level 2 meta estimator will overfit the training data severely, and the stacked model may perform worse than any of its components. In fact, if executed appropriately, it can be shown that stacked modeling will, with probability approaching 1, never perform worse than its best base estimator."
   ]
  },
  {
   "cell_type": "markdown",
   "metadata": {},
   "source": [
    "# Data setup <a class=\"anchor\" id=\"data-setup\"></a>"
   ]
  },
  {
   "cell_type": "markdown",
   "metadata": {},
   "source": [
    "First we load the standard libraries and data."
   ]
  },
  {
   "cell_type": "code",
   "execution_count": 1,
   "metadata": {
    "collapsed": false
   },
   "outputs": [
    {
     "name": "stderr",
     "output_type": "stream",
     "text": [
      "/home/bull/miniconda3/envs/worldbank-poverty-test/lib/python3.6/site-packages/h5py/__init__.py:36: FutureWarning: Conversion of the second argument of issubdtype from `float` to `np.floating` is deprecated. In future, it will be treated as `np.float64 == np.dtype(float).type`.\n",
      "  from ._conv import register_converters as _register_converters\n",
      "Using TensorFlow backend.\n"
     ]
    }
   ],
   "source": [
    "%matplotlib inline\n",
    "\n",
    "import os\n",
    "import sys\n",
    "import json\n",
    "\n",
    "from pathlib import Path\n",
    "\n",
    "import numpy as np\n",
    "import pandas as pd\n",
    "\n",
    "from matplotlib import pyplot as plt\n",
    "from IPython.display import display\n",
    "\n",
    "import seaborn as sns\n",
    "sns.set()\n",
    "\n",
    "# Add our local functions to the path\n",
    "sys.path.append(os.path.join(os.pardir, 'src'))\n",
    "from models import evaluation\n",
    "from models.evaluation import evaluate_model\n",
    "from visualization import visualize\n",
    "from data.load_data import (get_country_filepaths, \n",
    "                            split_features_labels_weights, \n",
    "                            load_data)\n",
    "from features.process_features import get_vif, standardize\n",
    "from features.process_features import MWI_BASIC_FEATURES\n",
    "\n",
    "import warnings\n",
    "warnings.filterwarnings('ignore')\n",
    "\n",
    "ALGORITHM_NAME = 'ensemble'\n",
    "COUNTRY = 'idn'\n",
    "TRAIN_PATH, TEST_PATH, QUESTIONS_PATH = get_country_filepaths(COUNTRY)"
   ]
  },
  {
   "cell_type": "code",
   "execution_count": 2,
   "metadata": {
    "collapsed": true
   },
   "outputs": [],
   "source": [
    "X_train, y_train, w_train = load_data(TRAIN_PATH)\n",
    "X_test, y_test, w_test = load_data(TEST_PATH)"
   ]
  },
  {
   "cell_type": "markdown",
   "metadata": {},
   "source": [
    "# Stacked Classifier Implementation <a class=\"anchor\" id=\"civis-analytics-stackedclassifier\"></a>\n",
    "\n",
    "The Scikit Learn library does not include any built-in stacking estimators. Given the subtle aspects of training, described in the introduction above, it is worth looking for a well-tested implmentation of the technique. An implementation of a stacking estimator is provided in the \"Civis Machine Learning Extensions\" package, `civismlext`, on [github](https://github.com/civisanalytics/civisml-extensions).\n",
    "\n",
    "This implementation uses the same application programming interface (api) as the [`Pipeline`](http://scikit-learn.org/stable/modules/generated/sklearn.pipeline.Pipeline.html) object from Scikit Learn, in which component objects are given string identifiers and passed as a list into the classifier.\n",
    "\n",
    "First, let's import the component models."
   ]
  },
  {
   "cell_type": "markdown",
   "metadata": {},
   "source": [
    "## Choose Component Models <a class=\"anchor\" id=\"choose-component-models\"></a>\n",
    "\n",
    "As with the simple ensemble model, we choose from the top performing models as components for the ensemble. This means we'll be using logistic regression, linear discriminant analysis, multi-layer perception, and XGBoost as the components:\n",
    "\n",
    "**Level 1**\n",
    "* `LogisticRegression`\n",
    "* `LinearDiscriminantAnalysis`\n",
    "* `MLPClassifier`\n",
    "\n",
    "**Level 2**\n",
    "* `XGBClassifier`\n",
    "\n",
    "It is common for participants in machine learning competitions to use XGBoost as the meta-estimator, so we will do that here."
   ]
  },
  {
   "cell_type": "code",
   "execution_count": 3,
   "metadata": {
    "collapsed": true
   },
   "outputs": [],
   "source": [
    "from numpy.random import RandomState\n",
    "\n",
    "# base estimators\n",
    "from sklearn.discriminant_analysis import LinearDiscriminantAnalysis\n",
    "from sklearn.linear_model import LogisticRegression\n",
    "from sklearn.neural_network import MLPClassifier\n",
    "\n",
    "# meta estimator\n",
    "from xgboost import XGBClassifier\n",
    "\n",
    "# stacking pipeline\n",
    "from civismlext.stacking import StackedClassifier\n",
    "\n",
    "# class balancing\n",
    "from sklearn.base import BaseEstimator\n",
    "from imblearn.under_sampling import RandomUnderSampler\n",
    "from imblearn.over_sampling import SMOTE\n",
    "from imblearn.combine import SMOTEENN\n",
    "\n",
    "\n",
    "# training pipeline\n",
    "from sklearn.model_selection import GridSearchCV\n",
    "from sklearn.preprocessing import FunctionTransformer\n",
    "from imblearn.pipeline import Pipeline\n",
    "from sklearn.metrics import f1_score, recall_score, precision_score, make_scorer\n",
    "\n",
    "SEED = 2018"
   ]
  },
  {
   "cell_type": "code",
   "execution_count": 4,
   "metadata": {
    "collapsed": true
   },
   "outputs": [],
   "source": [
    "base_estimator_list = [\n",
    "    ('lr', LogisticRegression(random_state=SEED)),\n",
    "    ('lda', LinearDiscriminantAnalysis()),\n",
    "    ('mlp', MLPClassifier(random_state=SEED)),\n",
    "\n",
    "    # the last estimator is always the meta estimator\n",
    "    ('metaxgb', XGBClassifier(random_state=SEED)),\n",
    "]\n",
    "\n",
    "stack = StackedClassifier(base_estimator_list)"
   ]
  },
  {
   "cell_type": "markdown",
   "metadata": {},
   "source": [
    "## Set Grid Search Parameters And Train <a class=\"anchor\" id=\"set-grid-search-parameters-and-train\"></a>\n",
    "\n",
    "As opposed to using many versions of the same model, as we did in the simple ensemble, here we will grid search over all of the parameters used in each model type. This includes pre-processing choices such as class-balancing techniques, as well as model-specific parameters like number of hidden layers in the multi-layer perception.\n",
    "\n",
    "The module `civismlext.stacking` works seamlessly with the scikit-learn gridsearch object we've used throughout these notebooks. However, in order to simplify the computational complexity of the training pipeline, we will restrict our search over class-weighting techniqes to include only under-sampling and over-sampling, plus we will only search with respect to _all_ of the level one models. In other words, the final model will use one of the class-weighting techniques for the level one models, but only one (not a different one for each component model). Although it is theoretically possible to train such a model (using different class-weighting techniques for each component model), this process would substantially complicate the algorithm as described in the introduction. The reason is that the number of samples used in training would then be a function of the model, leading to some samples with predictions from _every_ model and some samples with predictions from only _some_ models.\n",
    "\n",
    "To construct an object that the scikit learn gridsearch object can use to test different sampling techniques, we must first create a simple class that contains the required methods needed in training. The easiest way to do this is to first inherit from the scikit learn `BaseEstimator` class, and then [override](http://blog.thedigitalcatonline.com/blog/2014/05/19/method-overriding-in-python/) the inherited `fit` methods with the ones we want. This way we ensure that the class also has any other methods and properties it may be expected to have by the gridsearch training object."
   ]
  },
  {
   "cell_type": "code",
   "execution_count": 5,
   "metadata": {
    "collapsed": true
   },
   "outputs": [],
   "source": [
    "class Sampler(BaseEstimator):\n",
    "    def __init__(self, technique=None):        \n",
    "        self.technique = technique\n",
    "\n",
    "    def fit(self, X, y):\n",
    "        self.technique.fit(X, y)\n",
    "        return self\n",
    "        \n",
    "    def sample(self, X, y):\n",
    "        return self.technique.sample(X, y)\n",
    "    \n",
    "    def fit_sample(self, X, y):\n",
    "        return self.technique.fit(X, y).sample(X, y)"
   ]
  },
  {
   "cell_type": "markdown",
   "metadata": {},
   "source": [
    "Our full pipeline is now:\n",
    "\n",
    "1. Apply sampling technique to preprocess data\n",
    "2. Train stacked classifier using preprocessed data\n",
    "\n",
    "To implement both of these steps we use the scikit learn pipeline object described above, which allows us to define a list representing ordered operations, and pass strings to refer to those operations. This allows us to specify grid search parameters as we have done throuhgout this project, using the scikit-learn `__` syntax, described in full in the [Pipeline documentation](http://scikit-learn.org/stable/modules/generated/sklearn.pipeline.Pipeline.html)."
   ]
  },
  {
   "cell_type": "code",
   "execution_count": 6,
   "metadata": {
    "collapsed": true
   },
   "outputs": [],
   "source": [
    "pipe = Pipeline([('sampler', Sampler()), ('stack', stack)])"
   ]
  },
  {
   "cell_type": "markdown",
   "metadata": {},
   "source": [
    "### Now specify components of the gridsearch\n",
    "\n",
    "For fast training, we provide a sparse set of gridsearch parameters. Otherwise, the complete set of model parameters considered in the earlier Indonesia notebooks will be used (this could take days to train).\n",
    "\n",
    "The seed of training is controlled by the `SEARCH_FULL_GRID` parameter below. If `True`, the slower training route is taken. IF `False`, the faster training route is taken."
   ]
  },
  {
   "cell_type": "code",
   "execution_count": 7,
   "metadata": {
    "collapsed": true
   },
   "outputs": [],
   "source": [
    "# false by default for faster training\n",
    "SEARCH_FULL_GRID = False"
   ]
  },
  {
   "cell_type": "code",
   "execution_count": 8,
   "metadata": {
    "collapsed": true
   },
   "outputs": [],
   "source": [
    "if SEARCH_FULL_GRID:\n",
    "    # this grid searches all parameters from the previous notebooks\n",
    "    param_grid = {\n",
    "                    # Logistic Regression\n",
    "                    'stack__lr__C': [0.0001, 0.001, 0.01, 0.1, 1, 10, 100, 1000],\n",
    "\n",
    "                    # MLP\n",
    "                    'stack__mlp__hidden_layer_sizes': [(512,), (1024,)],\n",
    "                    'stack__mlp__alpha': [1.0],\n",
    "\n",
    "                    # LDA\n",
    "                    'stack__lda__solver': ['svd'],\n",
    "\n",
    "                    # Meta-Classifier: XGB\n",
    "                    'stack__metaxgb__max_depth': np.arange(3,6,2),\n",
    "                    'stack__metaxgb__objective':['binary:logistic'],\n",
    "                    'stack__metaxgb__learning_rate': [0.05],\n",
    "                    'stack__metaxgb__min_child_weight': [11],\n",
    "                    'stack__metaxgb__silent': [0],\n",
    "                    'stack__metaxgb__subsample': [0.8],\n",
    "                    'stack__metaxgb__colsample_bytree': [0.7],\n",
    "                    'stack__metaxgb__n_estimators': [1000],\n",
    "                    'stack__metaxgb__seed': [1430],\n",
    "\n",
    "                    # Class Balancing\n",
    "                    'sampler__technique': [RandomUnderSampler(random_state=SEED), SMOTE(random_state=SEED)],\n",
    "\n",
    "                    # Cross-Validation\n",
    "                    'stack__cv': [3, 5],\n",
    "    }\n",
    "\n",
    "else:\n",
    "    # this faster grid only corresponds to one pipeline\n",
    "    param_grid = {\n",
    "                    # Logistic Regression\n",
    "                    'stack__lr__C': [0.001],\n",
    "\n",
    "                    # MLP\n",
    "                    'stack__mlp__hidden_layer_sizes': [(512,)],\n",
    "                    'stack__mlp__alpha': [1.0],\n",
    "\n",
    "                    # LDA\n",
    "                    'stack__lda__solver': ['svd'],\n",
    "\n",
    "                    # Meta-Classifier: XGB\n",
    "                    'stack__metaxgb__max_depth': np.arange(3),\n",
    "                    'stack__metaxgb__objective':['binary:logistic'],\n",
    "                    'stack__metaxgb__learning_rate': [0.05],\n",
    "                    'stack__metaxgb__min_child_weight': [11],\n",
    "                    'stack__metaxgb__silent': [0],\n",
    "                    'stack__metaxgb__subsample': [0.8],\n",
    "                    'stack__metaxgb__colsample_bytree': [0.7],\n",
    "                    'stack__metaxgb__n_estimators': [1000],\n",
    "                    'stack__metaxgb__seed': [1430],\n",
    "\n",
    "                    # Class Balancing\n",
    "                    'sampler__technique': [RandomUnderSampler(random_state=SEED)],\n",
    "\n",
    "                    # Cross-Validation\n",
    "                    'stack__cv': [3],\n",
    "    }"
   ]
  },
  {
   "cell_type": "markdown",
   "metadata": {},
   "source": [
    "Scoring functions used to evaluate the out of fold predictions in the grid search."
   ]
  },
  {
   "cell_type": "code",
   "execution_count": 9,
   "metadata": {
    "collapsed": true
   },
   "outputs": [],
   "source": [
    "scoring = {\n",
    "    'precision': make_scorer(precision_score), \n",
    "    'recall': make_scorer(recall_score),\n",
    "    'f1': make_scorer(f1_score)\n",
    "}"
   ]
  },
  {
   "cell_type": "markdown",
   "metadata": {},
   "source": [
    "Finally, we instantiate the grid search object. It is this object that we'll `fit()`!"
   ]
  },
  {
   "cell_type": "code",
   "execution_count": 10,
   "metadata": {
    "collapsed": true
   },
   "outputs": [],
   "source": [
    "grid = GridSearchCV(pipe, \n",
    "                    param_grid=param_grid, \n",
    "                    scoring=scoring, \n",
    "                    refit='f1')"
   ]
  },
  {
   "cell_type": "code",
   "execution_count": 11,
   "metadata": {
    "collapsed": false
   },
   "outputs": [
    {
     "data": {
      "text/plain": [
       "GridSearchCV(cv=None, error_score='raise',\n",
       "       estimator=Pipeline(memory=None,\n",
       "     steps=[('sampler', Sampler(technique=None)), ('stack', StackedClassifier(cv=3,\n",
       "         estimator_list=[('lr', LogisticRegression(C=1.0, class_weight=None, dual=False, fit_intercept=True,\n",
       "          intercept_scaling=1, max_iter=100, multi_class='ovr', n_jobs=1,\n",
       "          penalty='l2', random_state=2...    seed=None, silent=True, subsample=1))],\n",
       "         n_jobs=1, pre_dispatch='2*n_jobs', verbose=0))]),\n",
       "       fit_params=None, iid=True, n_jobs=1,\n",
       "       param_grid={'stack__lr__C': [0.001], 'stack__mlp__hidden_layer_sizes': [(512,)], 'stack__mlp__alpha': [1.0], 'stack__lda__solver': ['svd'], 'stack__metaxgb__max_depth': array([0, 1, 2]), 'stack__metaxgb__objective': ['binary:logistic'], 'stack__metaxgb__learning_rate': [0.05], 'stack__metaxgb__min_c...dom_state=2018, ratio='auto', replacement=False,\n",
       "          return_indices=False)], 'stack__cv': [3]},\n",
       "       pre_dispatch='2*n_jobs', refit='f1', return_train_score='warn',\n",
       "       scoring={'precision': make_scorer(precision_score), 'recall': make_scorer(recall_score), 'f1': make_scorer(f1_score)},\n",
       "       verbose=0)"
      ]
     },
     "execution_count": 11,
     "metadata": {},
     "output_type": "execute_result"
    }
   ],
   "source": [
    "grid.fit(X_train, y_train)"
   ]
  },
  {
   "cell_type": "markdown",
   "metadata": {},
   "source": [
    "# Compare To Simple Ensemble <a class=\"anchor\" id=\"compare-to-simple-ensemble\"></a>"
   ]
  },
  {
   "cell_type": "markdown",
   "metadata": {},
   "source": [
    "Look at the parameters chosen by the grid search."
   ]
  },
  {
   "cell_type": "code",
   "execution_count": 12,
   "metadata": {
    "collapsed": false
   },
   "outputs": [
    {
     "data": {
      "text/plain": [
       "{'cv': None,\n",
       " 'error_score': 'raise',\n",
       " 'estimator__memory': None,\n",
       " 'estimator__steps': [('sampler', Sampler(technique=None)),\n",
       "  ('stack', StackedClassifier(cv=3,\n",
       "            estimator_list=[('lr', LogisticRegression(C=1.0, class_weight=None, dual=False, fit_intercept=True,\n",
       "             intercept_scaling=1, max_iter=100, multi_class='ovr', n_jobs=1,\n",
       "             penalty='l2', random_state=2018, solver='liblinear', tol=0.0001,\n",
       "             verbose=0, warm_start=False)), ('lda', Li...e=2018, reg_alpha=0, reg_lambda=1, scale_pos_weight=1,\n",
       "          seed=None, silent=True, subsample=1))],\n",
       "            n_jobs=1, pre_dispatch='2*n_jobs', verbose=0))],\n",
       " 'estimator__sampler': Sampler(technique=None),\n",
       " 'estimator__stack': StackedClassifier(cv=3,\n",
       "          estimator_list=[('lr', LogisticRegression(C=1.0, class_weight=None, dual=False, fit_intercept=True,\n",
       "           intercept_scaling=1, max_iter=100, multi_class='ovr', n_jobs=1,\n",
       "           penalty='l2', random_state=2018, solver='liblinear', tol=0.0001,\n",
       "           verbose=0, warm_start=False)), ('lda', Li...e=2018, reg_alpha=0, reg_lambda=1, scale_pos_weight=1,\n",
       "        seed=None, silent=True, subsample=1))],\n",
       "          n_jobs=1, pre_dispatch='2*n_jobs', verbose=0),\n",
       " 'estimator__sampler__technique': None,\n",
       " 'estimator__stack__cv': 3,\n",
       " 'estimator__stack__estimator_list': [('lr',\n",
       "   LogisticRegression(C=1.0, class_weight=None, dual=False, fit_intercept=True,\n",
       "             intercept_scaling=1, max_iter=100, multi_class='ovr', n_jobs=1,\n",
       "             penalty='l2', random_state=2018, solver='liblinear', tol=0.0001,\n",
       "             verbose=0, warm_start=False)),\n",
       "  ('lda',\n",
       "   LinearDiscriminantAnalysis(n_components=None, priors=None, shrinkage=None,\n",
       "                 solver='svd', store_covariance=False, tol=0.0001)),\n",
       "  ('mlp',\n",
       "   MLPClassifier(activation='relu', alpha=0.0001, batch_size='auto', beta_1=0.9,\n",
       "          beta_2=0.999, early_stopping=False, epsilon=1e-08,\n",
       "          hidden_layer_sizes=(100,), learning_rate='constant',\n",
       "          learning_rate_init=0.001, max_iter=200, momentum=0.9,\n",
       "          nesterovs_momentum=True, power_t=0.5, random_state=2018,\n",
       "          shuffle=True, solver='adam', tol=0.0001, validation_fraction=0.1,\n",
       "          verbose=False, warm_start=False)),\n",
       "  ('metaxgb',\n",
       "   XGBClassifier(base_score=0.5, booster='gbtree', colsample_bylevel=1,\n",
       "          colsample_bytree=1, gamma=0, learning_rate=0.1, max_delta_step=0,\n",
       "          max_depth=3, min_child_weight=1, missing=None, n_estimators=100,\n",
       "          n_jobs=1, nthread=None, objective='binary:logistic',\n",
       "          random_state=2018, reg_alpha=0, reg_lambda=1, scale_pos_weight=1,\n",
       "          seed=None, silent=True, subsample=1))],\n",
       " 'estimator__stack__n_jobs': 1,\n",
       " 'estimator__stack__pre_dispatch': '2*n_jobs',\n",
       " 'estimator__stack__verbose': 0,\n",
       " 'estimator__stack__lr': LogisticRegression(C=1.0, class_weight=None, dual=False, fit_intercept=True,\n",
       "           intercept_scaling=1, max_iter=100, multi_class='ovr', n_jobs=1,\n",
       "           penalty='l2', random_state=2018, solver='liblinear', tol=0.0001,\n",
       "           verbose=0, warm_start=False),\n",
       " 'estimator__stack__lda': LinearDiscriminantAnalysis(n_components=None, priors=None, shrinkage=None,\n",
       "               solver='svd', store_covariance=False, tol=0.0001),\n",
       " 'estimator__stack__mlp': MLPClassifier(activation='relu', alpha=0.0001, batch_size='auto', beta_1=0.9,\n",
       "        beta_2=0.999, early_stopping=False, epsilon=1e-08,\n",
       "        hidden_layer_sizes=(100,), learning_rate='constant',\n",
       "        learning_rate_init=0.001, max_iter=200, momentum=0.9,\n",
       "        nesterovs_momentum=True, power_t=0.5, random_state=2018,\n",
       "        shuffle=True, solver='adam', tol=0.0001, validation_fraction=0.1,\n",
       "        verbose=False, warm_start=False),\n",
       " 'estimator__stack__metaxgb': XGBClassifier(base_score=0.5, booster='gbtree', colsample_bylevel=1,\n",
       "        colsample_bytree=1, gamma=0, learning_rate=0.1, max_delta_step=0,\n",
       "        max_depth=3, min_child_weight=1, missing=None, n_estimators=100,\n",
       "        n_jobs=1, nthread=None, objective='binary:logistic',\n",
       "        random_state=2018, reg_alpha=0, reg_lambda=1, scale_pos_weight=1,\n",
       "        seed=None, silent=True, subsample=1),\n",
       " 'estimator__stack__lr__C': 1.0,\n",
       " 'estimator__stack__lr__class_weight': None,\n",
       " 'estimator__stack__lr__dual': False,\n",
       " 'estimator__stack__lr__fit_intercept': True,\n",
       " 'estimator__stack__lr__intercept_scaling': 1,\n",
       " 'estimator__stack__lr__max_iter': 100,\n",
       " 'estimator__stack__lr__multi_class': 'ovr',\n",
       " 'estimator__stack__lr__n_jobs': 1,\n",
       " 'estimator__stack__lr__penalty': 'l2',\n",
       " 'estimator__stack__lr__random_state': 2018,\n",
       " 'estimator__stack__lr__solver': 'liblinear',\n",
       " 'estimator__stack__lr__tol': 0.0001,\n",
       " 'estimator__stack__lr__verbose': 0,\n",
       " 'estimator__stack__lr__warm_start': False,\n",
       " 'estimator__stack__lda__n_components': None,\n",
       " 'estimator__stack__lda__priors': None,\n",
       " 'estimator__stack__lda__shrinkage': None,\n",
       " 'estimator__stack__lda__solver': 'svd',\n",
       " 'estimator__stack__lda__store_covariance': False,\n",
       " 'estimator__stack__lda__tol': 0.0001,\n",
       " 'estimator__stack__mlp__activation': 'relu',\n",
       " 'estimator__stack__mlp__alpha': 0.0001,\n",
       " 'estimator__stack__mlp__batch_size': 'auto',\n",
       " 'estimator__stack__mlp__beta_1': 0.9,\n",
       " 'estimator__stack__mlp__beta_2': 0.999,\n",
       " 'estimator__stack__mlp__early_stopping': False,\n",
       " 'estimator__stack__mlp__epsilon': 1e-08,\n",
       " 'estimator__stack__mlp__hidden_layer_sizes': (100,),\n",
       " 'estimator__stack__mlp__learning_rate': 'constant',\n",
       " 'estimator__stack__mlp__learning_rate_init': 0.001,\n",
       " 'estimator__stack__mlp__max_iter': 200,\n",
       " 'estimator__stack__mlp__momentum': 0.9,\n",
       " 'estimator__stack__mlp__nesterovs_momentum': True,\n",
       " 'estimator__stack__mlp__power_t': 0.5,\n",
       " 'estimator__stack__mlp__random_state': 2018,\n",
       " 'estimator__stack__mlp__shuffle': True,\n",
       " 'estimator__stack__mlp__solver': 'adam',\n",
       " 'estimator__stack__mlp__tol': 0.0001,\n",
       " 'estimator__stack__mlp__validation_fraction': 0.1,\n",
       " 'estimator__stack__mlp__verbose': False,\n",
       " 'estimator__stack__mlp__warm_start': False,\n",
       " 'estimator__stack__metaxgb__base_score': 0.5,\n",
       " 'estimator__stack__metaxgb__booster': 'gbtree',\n",
       " 'estimator__stack__metaxgb__colsample_bylevel': 1,\n",
       " 'estimator__stack__metaxgb__colsample_bytree': 1,\n",
       " 'estimator__stack__metaxgb__gamma': 0,\n",
       " 'estimator__stack__metaxgb__learning_rate': 0.1,\n",
       " 'estimator__stack__metaxgb__max_delta_step': 0,\n",
       " 'estimator__stack__metaxgb__max_depth': 3,\n",
       " 'estimator__stack__metaxgb__min_child_weight': 1,\n",
       " 'estimator__stack__metaxgb__missing': None,\n",
       " 'estimator__stack__metaxgb__n_estimators': 100,\n",
       " 'estimator__stack__metaxgb__n_jobs': 1,\n",
       " 'estimator__stack__metaxgb__nthread': None,\n",
       " 'estimator__stack__metaxgb__objective': 'binary:logistic',\n",
       " 'estimator__stack__metaxgb__random_state': 2018,\n",
       " 'estimator__stack__metaxgb__reg_alpha': 0,\n",
       " 'estimator__stack__metaxgb__reg_lambda': 1,\n",
       " 'estimator__stack__metaxgb__scale_pos_weight': 1,\n",
       " 'estimator__stack__metaxgb__seed': None,\n",
       " 'estimator__stack__metaxgb__silent': True,\n",
       " 'estimator__stack__metaxgb__subsample': 1,\n",
       " 'estimator': Pipeline(memory=None,\n",
       "      steps=[('sampler', Sampler(technique=None)), ('stack', StackedClassifier(cv=3,\n",
       "          estimator_list=[('lr', LogisticRegression(C=1.0, class_weight=None, dual=False, fit_intercept=True,\n",
       "           intercept_scaling=1, max_iter=100, multi_class='ovr', n_jobs=1,\n",
       "           penalty='l2', random_state=2...    seed=None, silent=True, subsample=1))],\n",
       "          n_jobs=1, pre_dispatch='2*n_jobs', verbose=0))]),\n",
       " 'fit_params': None,\n",
       " 'iid': True,\n",
       " 'n_jobs': 1,\n",
       " 'param_grid': {'stack__lr__C': [0.001],\n",
       "  'stack__mlp__hidden_layer_sizes': [(512,)],\n",
       "  'stack__mlp__alpha': [1.0],\n",
       "  'stack__lda__solver': ['svd'],\n",
       "  'stack__metaxgb__max_depth': array([0, 1, 2]),\n",
       "  'stack__metaxgb__objective': ['binary:logistic'],\n",
       "  'stack__metaxgb__learning_rate': [0.05],\n",
       "  'stack__metaxgb__min_child_weight': [11],\n",
       "  'stack__metaxgb__silent': [0],\n",
       "  'stack__metaxgb__subsample': [0.8],\n",
       "  'stack__metaxgb__colsample_bytree': [0.7],\n",
       "  'stack__metaxgb__n_estimators': [1000],\n",
       "  'stack__metaxgb__seed': [1430],\n",
       "  'sampler__technique': [RandomUnderSampler(random_state=2018, ratio='auto', replacement=False,\n",
       "             return_indices=False)],\n",
       "  'stack__cv': [3]},\n",
       " 'pre_dispatch': '2*n_jobs',\n",
       " 'refit': 'f1',\n",
       " 'return_train_score': 'warn',\n",
       " 'scoring': {'precision': make_scorer(precision_score),\n",
       "  'recall': make_scorer(recall_score),\n",
       "  'f1': make_scorer(f1_score)},\n",
       " 'verbose': 0}"
      ]
     },
     "execution_count": 12,
     "metadata": {},
     "output_type": "execute_result"
    }
   ],
   "source": [
    "grid.get_params()"
   ]
  },
  {
   "cell_type": "code",
   "execution_count": 13,
   "metadata": {
    "collapsed": true
   },
   "outputs": [],
   "source": [
    "y_test = y_test.astype(int)\n",
    "y_prob = grid.predict_proba(X_test)[:, 1]\n",
    "y_pred = grid.predict(X_test)"
   ]
  },
  {
   "cell_type": "code",
   "execution_count": 14,
   "metadata": {
    "collapsed": false
   },
   "outputs": [
    {
     "data": {
      "image/png": "[encoded data removed]",
      "text/plain": [
       "<Figure size 720x288 with 3 Axes>"
      ]
     },
     "metadata": {},
     "output_type": "display_data"
    },
    {
     "data": {
      "text/html": [
       "<style  type=\"text/css\" >\n",
       "    #T_02c62278_6ca0_11e8_97ef_0010c6b1e647row0_col1 {\n",
       "            background-color:  steelblue;\n",
       "        }    #T_02c62278_6ca0_11e8_97ef_0010c6b1e647row1_col0 {\n",
       "            background-color:  steelblue;\n",
       "        }    #T_02c62278_6ca0_11e8_97ef_0010c6b1e647row2_col1 {\n",
       "            background-color:  steelblue;\n",
       "        }    #T_02c62278_6ca0_11e8_97ef_0010c6b1e647row3_col1 {\n",
       "            background-color:  steelblue;\n",
       "        }    #T_02c62278_6ca0_11e8_97ef_0010c6b1e647row4_col1 {\n",
       "            background-color:  steelblue;\n",
       "        }    #T_02c62278_6ca0_11e8_97ef_0010c6b1e647row5_col1 {\n",
       "            background-color:  steelblue;\n",
       "        }    #T_02c62278_6ca0_11e8_97ef_0010c6b1e647row6_col1 {\n",
       "            background-color:  steelblue;\n",
       "        }</style>  \n",
       "<table id=\"T_02c62278_6ca0_11e8_97ef_0010c6b1e647\" ><caption>Model Scores</caption> \n",
       "<thead>    <tr> \n",
       "        <th class=\"blank level0\" ></th> \n",
       "        <th class=\"col_heading level0 col0\" >ensemble_stacked</th> \n",
       "        <th class=\"col_heading level0 col1\" >ensemble_simple</th> \n",
       "    </tr></thead> \n",
       "<tbody>    <tr> \n",
       "        <th id=\"T_02c62278_6ca0_11e8_97ef_0010c6b1e647level0_row0\" class=\"row_heading level0 row0\" >accuracy</th> \n",
       "        <td id=\"T_02c62278_6ca0_11e8_97ef_0010c6b1e647row0_col0\" class=\"data row0 col0\" >0.827208</td> \n",
       "        <td id=\"T_02c62278_6ca0_11e8_97ef_0010c6b1e647row0_col1\" class=\"data row0 col1\" >0.845008</td> \n",
       "    </tr>    <tr> \n",
       "        <th id=\"T_02c62278_6ca0_11e8_97ef_0010c6b1e647level0_row1\" class=\"row_heading level0 row1\" >recall</th> \n",
       "        <td id=\"T_02c62278_6ca0_11e8_97ef_0010c6b1e647row1_col0\" class=\"data row1 col0\" >0.886484</td> \n",
       "        <td id=\"T_02c62278_6ca0_11e8_97ef_0010c6b1e647row1_col1\" class=\"data row1 col1\" >0.873189</td> \n",
       "    </tr>    <tr> \n",
       "        <th id=\"T_02c62278_6ca0_11e8_97ef_0010c6b1e647level0_row2\" class=\"row_heading level0 row2\" >precision</th> \n",
       "        <td id=\"T_02c62278_6ca0_11e8_97ef_0010c6b1e647row2_col0\" class=\"data row2 col0\" >0.390749</td> \n",
       "        <td id=\"T_02c62278_6ca0_11e8_97ef_0010c6b1e647row2_col1\" class=\"data row2 col1\" >0.418192</td> \n",
       "    </tr>    <tr> \n",
       "        <th id=\"T_02c62278_6ca0_11e8_97ef_0010c6b1e647level0_row3\" class=\"row_heading level0 row3\" >f1</th> \n",
       "        <td id=\"T_02c62278_6ca0_11e8_97ef_0010c6b1e647row3_col0\" class=\"data row3 col0\" >0.542411</td> \n",
       "        <td id=\"T_02c62278_6ca0_11e8_97ef_0010c6b1e647row3_col1\" class=\"data row3 col1\" >0.565535</td> \n",
       "    </tr>    <tr> \n",
       "        <th id=\"T_02c62278_6ca0_11e8_97ef_0010c6b1e647level0_row4\" class=\"row_heading level0 row4\" >cross_entropy</th> \n",
       "        <td id=\"T_02c62278_6ca0_11e8_97ef_0010c6b1e647row4_col0\" class=\"data row4 col0\" >0.352263</td> \n",
       "        <td id=\"T_02c62278_6ca0_11e8_97ef_0010c6b1e647row4_col1\" class=\"data row4 col1\" >0.34436</td> \n",
       "    </tr>    <tr> \n",
       "        <th id=\"T_02c62278_6ca0_11e8_97ef_0010c6b1e647level0_row5\" class=\"row_heading level0 row5\" >roc_auc</th> \n",
       "        <td id=\"T_02c62278_6ca0_11e8_97ef_0010c6b1e647row5_col0\" class=\"data row5 col0\" >0.929823</td> \n",
       "        <td id=\"T_02c62278_6ca0_11e8_97ef_0010c6b1e647row5_col1\" class=\"data row5 col1\" >0.93394</td> \n",
       "    </tr>    <tr> \n",
       "        <th id=\"T_02c62278_6ca0_11e8_97ef_0010c6b1e647level0_row6\" class=\"row_heading level0 row6\" >cohen_kappa</th> \n",
       "        <td id=\"T_02c62278_6ca0_11e8_97ef_0010c6b1e647row6_col0\" class=\"data row6 col0\" >0.44074</td> \n",
       "        <td id=\"T_02c62278_6ca0_11e8_97ef_0010c6b1e647row6_col1\" class=\"data row6 col1\" >0.464792</td> \n",
       "    </tr></tbody> \n",
       "</table> "
      ],
      "text/plain": [
       "<pandas.io.formats.style.Styler at 0x7effbf8c0e48>"
      ]
     },
     "metadata": {},
     "output_type": "display_data"
    }
   ],
   "source": [
    "metrics = evaluate_model(y_test, \n",
    "                         y_pred, \n",
    "                         y_prob,\n",
    "                         w_test,\n",
    "                         compare_models=['ensemble_simple'],\n",
    "                         model_name='stacked',\n",
    "                         prefix=ALGORITHM_NAME,\n",
    "                         country=COUNTRY,\n",
    "                         predict_pov_rate=False,\n",
    "                         store_model=True,\n",
    "                         model=grid)"
   ]
  },
  {
   "cell_type": "markdown",
   "metadata": {},
   "source": [
    "The simple ensemble performs better on many metrics, which may seem surprising since this is a more complicated model. However, the result is not so surprising if we keep in mind a couple of crucial points. First, the simple ensemble had many more component models (10 compared to 4). Second, and probably more importantly, the simple ensemble consisted of many different class balancing techniques, whereas the stacked model had to choose one to use for all models. While it seems like a small difference, the heterogeneity in model prediction introduced by the simple ensemble is likely much more than that of the stacked model."
   ]
  },
  {
   "cell_type": "markdown",
   "metadata": {},
   "source": [
    "# Summary <a class=\"anchor\" id=\"summary\"></a>"
   ]
  },
  {
   "cell_type": "markdown",
   "metadata": {},
   "source": [
    "The stacked model, while complicated to implement and train, seems to have been outperformed by its simpler counterpart. However, as mentioned in the previous section, this is likely due to the relative size of the stacked model compared to the simple ensemble. Even this simpler stacked model takes more than 24 hours to train on a 32 core machine, so making a more complex grid search, while likely to improve performance, would be a serious computational undertaking. This is why it is often the case that algorithms that win many machine learning competitions take days to train."
   ]
  }
 ],
 "metadata": {
  "kernelspec": {
   "display_name": "Python 3",
   "language": "python",
   "name": "python3"
  },
  "language_info": {
   "codemirror_mode": {
    "name": "ipython",
    "version": 3
   },
   "file_extension": ".py",
   "mimetype": "text/x-python",
   "name": "python",
   "nbconvert_exporter": "python",
   "pygments_lexer": "ipython3",
   "version": "3.6.0"
  }
 },
 "nbformat": 4,
 "nbformat_minor": 2
}
