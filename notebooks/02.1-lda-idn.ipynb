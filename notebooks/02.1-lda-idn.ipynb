{
 "cells": [
  {
   "cell_type": "markdown",
   "metadata": {},
   "source": [
    "<h1 style=\"text-align: center;\" markdown=\"1\">Machine Learning Algorithms for Poverty Prediction</h1> \n",
    "<h2 style=\"text-align: center;\" markdown=\"2\">A project of the World Bank's Knowledge for Change Program</h2>\n",
    "<h3 style=\"text-align: center;\" markdown=\"3\">(KCP, Grant TF0A4534)</h3>\n",
    "\n",
    "\n",
    "> *This notebook is part of a series that has been developed as an empirical comparative assessment of machine learning classification algorithms applied to poverty prediction. The objectives of this project are to explore how well machine learning algorithms perform when given the task to identify the poor in a given population, and to provide a resource of machine learning techniques for researchers, data scientists, and statisticians in developing countries.*"
   ]
  },
  {
   "cell_type": "markdown",
   "metadata": {},
   "source": [
    "<h1 style=\"text-align: center;\" markdown=\"3\">Algorithm 2: Linear Discriminany Analysis Classifier</h1> \n",
    "<h2 style=\"text-align: center;\" markdown=\"3\">Part 2: Indonesia Poverty Prediction</h2> "
   ]
  },
  {
   "cell_type": "markdown",
   "metadata": {},
   "source": [
    "# Table of Contents\n",
    "[Introduction](#introduction)  \n",
    "[LDA with Simple Features](#lda-simple)  \n",
    "[LDA with Full Features](#lda-full)  \n",
    "&nbsp;&nbsp;&nbsp;[Class Weighting](#class-weighting)  \n",
    "&nbsp;&nbsp;&nbsp;[Undersampling](#undersampling)  \n",
    "&nbsp;&nbsp;&nbsp;[Oversampling](#oversampling)  \n",
    "&nbsp;&nbsp;&nbsp;[Cross Validation](#cross-validation)  \n",
    "[Feature Selection](#feature-selection)  \n",
    "[Summary](#summary)"
   ]
  },
  {
   "cell_type": "markdown",
   "metadata": {},
   "source": [
    "# Introduction <a class=\"anchor\" id=\"introduction\"></a>\n",
    "\n",
    "We will now apply the LDA classifier to the Indonesia dataset. As with the Logistic Regression classifier, we will need to deal with the unbalanced classes in the Indonesia dataset to obtain reasonable results. \n",
    "\n",
    "As always, we start with loading our standard libraries and the Indonesia data"
   ]
  },
  {
   "cell_type": "code",
   "execution_count": 1,
   "metadata": {
    "collapsed": true
   },
   "outputs": [
    {
     "name": "stderr",
     "output_type": "stream",
     "text": [
      "/home/bull/miniconda3/envs/worldbank-poverty-test/lib/python3.6/site-packages/h5py/__init__.py:36: FutureWarning: Conversion of the second argument of issubdtype from `float` to `np.floating` is deprecated. In future, it will be treated as `np.float64 == np.dtype(float).type`.\n",
      "  from ._conv import register_converters as _register_converters\n",
      "Using TensorFlow backend.\n"
     ]
    }
   ],
   "source": [
    "%matplotlib inline\n",
    "\n",
    "import os\n",
    "import sys\n",
    "import json\n",
    "\n",
    "import numpy as np\n",
    "import pandas as pd\n",
    "\n",
    "from matplotlib import pyplot as plt\n",
    "from IPython.display import display\n",
    "import seaborn as sns\n",
    "sns.set()\n",
    "\n",
    "# Add our local functions to the path\n",
    "sys.path.append(os.path.join(os.pardir, 'src'))\n",
    "from models import evaluation\n",
    "from data.load_data import (get_country_filepaths, \n",
    "                            split_features_labels_weights, \n",
    "                            load_data)\n",
    "from features.process_features import get_vif, standardize\n",
    "from features.process_features import IDN_BASIC_FEATURES\n",
    "\n",
    "ALGORITHM_NAME = 'lda'\n",
    "COUNTRY = 'idn'\n",
    "TRAIN_PATH, TEST_PATH, QUESTIONS_PATH = get_country_filepaths(COUNTRY)\n",
    "\n",
    "# load text of survey questions for reference\n",
    "with open(QUESTIONS_PATH, 'r') as fp:\n",
    "    questions = json.load(fp)"
   ]
  },
  {
   "cell_type": "code",
   "execution_count": 2,
   "metadata": {
    "collapsed": false,
    "scrolled": true
   },
   "outputs": [
    {
     "name": "stdout",
     "output_type": "stream",
     "text": [
      "Data has 53,132 rows and 453 columns\n",
      "Percent poor: 9.0% \tPercent non-poor: 91.0%\n"
     ]
    },
    {
     "data": {
      "text/html": [
       "<div>\n",
       "<style scoped>\n",
       "    .dataframe tbody tr th:only-of-type {\n",
       "        vertical-align: middle;\n",
       "    }\n",
       "\n",
       "    .dataframe tbody tr th {\n",
       "        vertical-align: top;\n",
       "    }\n",
       "\n",
       "    .dataframe thead th {\n",
       "        text-align: right;\n",
       "    }\n",
       "</style>\n",
       "<table border=\"1\" class=\"dataframe\">\n",
       "  <thead>\n",
       "    <tr style=\"text-align: right;\">\n",
       "      <th></th>\n",
       "      <th>geo_district</th>\n",
       "      <th>geo_subdistrict</th>\n",
       "      <th>geo_village</th>\n",
       "      <th>der_hhsize</th>\n",
       "      <th>hld_nbcell</th>\n",
       "      <th>der_nchild10under</th>\n",
       "      <th>der_nmalesover10</th>\n",
       "      <th>der_nfemalesover10</th>\n",
       "      <th>der_nliterate</th>\n",
       "      <th>der_nemployedpast3mo</th>\n",
       "      <th>...</th>\n",
       "      <th>cons_333__Yes</th>\n",
       "      <th>cons_334__Yes</th>\n",
       "      <th>cons_335__Yes</th>\n",
       "      <th>cons_336__Yes</th>\n",
       "      <th>cons_338__Yes</th>\n",
       "      <th>cons_339__Yes</th>\n",
       "      <th>cons_340__Yes</th>\n",
       "      <th>cons_341__Yes</th>\n",
       "      <th>cons_342__Yes</th>\n",
       "      <th>cons_343__Yes</th>\n",
       "    </tr>\n",
       "    <tr>\n",
       "      <th>hid</th>\n",
       "      <th></th>\n",
       "      <th></th>\n",
       "      <th></th>\n",
       "      <th></th>\n",
       "      <th></th>\n",
       "      <th></th>\n",
       "      <th></th>\n",
       "      <th></th>\n",
       "      <th></th>\n",
       "      <th></th>\n",
       "      <th></th>\n",
       "      <th></th>\n",
       "      <th></th>\n",
       "      <th></th>\n",
       "      <th></th>\n",
       "      <th></th>\n",
       "      <th></th>\n",
       "      <th></th>\n",
       "      <th></th>\n",
       "      <th></th>\n",
       "      <th></th>\n",
       "    </tr>\n",
       "  </thead>\n",
       "  <tbody>\n",
       "    <tr>\n",
       "      <th>8271030150650101</th>\n",
       "      <td>8271</td>\n",
       "      <td>30</td>\n",
       "      <td>15</td>\n",
       "      <td>5</td>\n",
       "      <td>1</td>\n",
       "      <td>1</td>\n",
       "      <td>2</td>\n",
       "      <td>2</td>\n",
       "      <td>5</td>\n",
       "      <td>1</td>\n",
       "      <td>...</td>\n",
       "      <td>1</td>\n",
       "      <td>0</td>\n",
       "      <td>0</td>\n",
       "      <td>0</td>\n",
       "      <td>0</td>\n",
       "      <td>0</td>\n",
       "      <td>0</td>\n",
       "      <td>0</td>\n",
       "      <td>0</td>\n",
       "      <td>0</td>\n",
       "    </tr>\n",
       "    <tr>\n",
       "      <th>7316020200500509</th>\n",
       "      <td>7316</td>\n",
       "      <td>20</td>\n",
       "      <td>13</td>\n",
       "      <td>5</td>\n",
       "      <td>1</td>\n",
       "      <td>4</td>\n",
       "      <td>0</td>\n",
       "      <td>1</td>\n",
       "      <td>2</td>\n",
       "      <td>0</td>\n",
       "      <td>...</td>\n",
       "      <td>1</td>\n",
       "      <td>0</td>\n",
       "      <td>0</td>\n",
       "      <td>0</td>\n",
       "      <td>0</td>\n",
       "      <td>0</td>\n",
       "      <td>0</td>\n",
       "      <td>0</td>\n",
       "      <td>0</td>\n",
       "      <td>0</td>\n",
       "    </tr>\n",
       "    <tr>\n",
       "      <th>5108050200860107</th>\n",
       "      <td>5108</td>\n",
       "      <td>50</td>\n",
       "      <td>4</td>\n",
       "      <td>3</td>\n",
       "      <td>0</td>\n",
       "      <td>0</td>\n",
       "      <td>0</td>\n",
       "      <td>3</td>\n",
       "      <td>0</td>\n",
       "      <td>2</td>\n",
       "      <td>...</td>\n",
       "      <td>0</td>\n",
       "      <td>0</td>\n",
       "      <td>0</td>\n",
       "      <td>0</td>\n",
       "      <td>0</td>\n",
       "      <td>0</td>\n",
       "      <td>0</td>\n",
       "      <td>0</td>\n",
       "      <td>1</td>\n",
       "      <td>0</td>\n",
       "    </tr>\n",
       "    <tr>\n",
       "      <th>3301190201430210</th>\n",
       "      <td>3301</td>\n",
       "      <td>190</td>\n",
       "      <td>15</td>\n",
       "      <td>2</td>\n",
       "      <td>1</td>\n",
       "      <td>0</td>\n",
       "      <td>1</td>\n",
       "      <td>1</td>\n",
       "      <td>2</td>\n",
       "      <td>2</td>\n",
       "      <td>...</td>\n",
       "      <td>0</td>\n",
       "      <td>0</td>\n",
       "      <td>0</td>\n",
       "      <td>0</td>\n",
       "      <td>0</td>\n",
       "      <td>0</td>\n",
       "      <td>0</td>\n",
       "      <td>0</td>\n",
       "      <td>0</td>\n",
       "      <td>0</td>\n",
       "    </tr>\n",
       "    <tr>\n",
       "      <th>6304140250030508</th>\n",
       "      <td>6304</td>\n",
       "      <td>140</td>\n",
       "      <td>4</td>\n",
       "      <td>6</td>\n",
       "      <td>4</td>\n",
       "      <td>1</td>\n",
       "      <td>3</td>\n",
       "      <td>2</td>\n",
       "      <td>5</td>\n",
       "      <td>3</td>\n",
       "      <td>...</td>\n",
       "      <td>0</td>\n",
       "      <td>0</td>\n",
       "      <td>0</td>\n",
       "      <td>0</td>\n",
       "      <td>0</td>\n",
       "      <td>0</td>\n",
       "      <td>0</td>\n",
       "      <td>0</td>\n",
       "      <td>0</td>\n",
       "      <td>0</td>\n",
       "    </tr>\n",
       "  </tbody>\n",
       "</table>\n",
       "<p>5 rows × 453 columns</p>\n",
       "</div>"
      ],
      "text/plain": [
       "                  geo_district  geo_subdistrict  geo_village  der_hhsize  \\\n",
       "hid                                                                        \n",
       "8271030150650101          8271               30           15           5   \n",
       "7316020200500509          7316               20           13           5   \n",
       "5108050200860107          5108               50            4           3   \n",
       "3301190201430210          3301              190           15           2   \n",
       "6304140250030508          6304              140            4           6   \n",
       "\n",
       "                  hld_nbcell  der_nchild10under  der_nmalesover10  \\\n",
       "hid                                                                 \n",
       "8271030150650101           1                  1                 2   \n",
       "7316020200500509           1                  4                 0   \n",
       "5108050200860107           0                  0                 0   \n",
       "3301190201430210           1                  0                 1   \n",
       "6304140250030508           4                  1                 3   \n",
       "\n",
       "                  der_nfemalesover10  der_nliterate  der_nemployedpast3mo  \\\n",
       "hid                                                                         \n",
       "8271030150650101                   2              5                     1   \n",
       "7316020200500509                   1              2                     0   \n",
       "5108050200860107                   3              0                     2   \n",
       "3301190201430210                   1              2                     2   \n",
       "6304140250030508                   2              5                     3   \n",
       "\n",
       "                      ...        cons_333__Yes  cons_334__Yes  cons_335__Yes  \\\n",
       "hid                   ...                                                      \n",
       "8271030150650101      ...                    1              0              0   \n",
       "7316020200500509      ...                    1              0              0   \n",
       "5108050200860107      ...                    0              0              0   \n",
       "3301190201430210      ...                    0              0              0   \n",
       "6304140250030508      ...                    0              0              0   \n",
       "\n",
       "                  cons_336__Yes  cons_338__Yes  cons_339__Yes  cons_340__Yes  \\\n",
       "hid                                                                            \n",
       "8271030150650101              0              0              0              0   \n",
       "7316020200500509              0              0              0              0   \n",
       "5108050200860107              0              0              0              0   \n",
       "3301190201430210              0              0              0              0   \n",
       "6304140250030508              0              0              0              0   \n",
       "\n",
       "                  cons_341__Yes  cons_342__Yes  cons_343__Yes  \n",
       "hid                                                            \n",
       "8271030150650101              0              0              0  \n",
       "7316020200500509              0              0              0  \n",
       "5108050200860107              0              1              0  \n",
       "3301190201430210              0              0              0  \n",
       "6304140250030508              0              0              0  \n",
       "\n",
       "[5 rows x 453 columns]"
      ]
     },
     "execution_count": 2,
     "metadata": {},
     "output_type": "execute_result"
    }
   ],
   "source": [
    "# load training data\n",
    "X_train, y_train, w_train = split_features_labels_weights(TRAIN_PATH)\n",
    "\n",
    "# summarize loaded data\n",
    "print('Data has {:,} rows and {:,} columns' \\\n",
    "        .format(*X_train.shape))\n",
    "\n",
    "print('Percent poor: {:0.1%} \\tPercent non-poor: {:0.1%}' \\\n",
    "        .format(*y_train.poor.value_counts(normalize=True, ascending=True)))\n",
    "\n",
    "# print first 5 rows of data\n",
    "X_train.head()"
   ]
  },
  {
   "cell_type": "markdown",
   "metadata": {},
   "source": [
    "# LDA with simple features <a class=\"anchor\" id=\"lda-simple\"></a>\n",
    "\n",
    "We'll start with the simple set of features stored in `IDN_BASIC_FEATURES` in the `process_features` module."
   ]
  },
  {
   "cell_type": "code",
   "execution_count": 3,
   "metadata": {
    "collapsed": false
   },
   "outputs": [
    {
     "name": "stdout",
     "output_type": "stream",
     "text": [
      "X shape with selected columns: (53132, 9)\n"
     ]
    }
   ],
   "source": [
    "# Select the basic features we've used previously\n",
    "selected_columns = IDN_BASIC_FEATURES\n",
    "print(\"X shape with selected columns:\", X_train[selected_columns].shape)"
   ]
  },
  {
   "cell_type": "code",
   "execution_count": 4,
   "metadata": {
    "collapsed": true
   },
   "outputs": [],
   "source": [
    "# Same method for getting the coefficients as we used with Malawi\n",
    "def get_coefs_df(X, coefs, index=None):\n",
    "    coefs_df = pd.DataFrame(np.std(X, 0)*coefs)\n",
    "    coefs_df.columns = [\"coef_std\"]\n",
    "    coefs_df['coef'] = coefs\n",
    "    coefs_df['abs'] = coefs_df.coef_std.apply(abs)\n",
    "    if index is not None:\n",
    "        coefs_df.index = index\n",
    "    return coefs_df"
   ]
  },
  {
   "cell_type": "code",
   "execution_count": 5,
   "metadata": {
    "collapsed": false
   },
   "outputs": [
    {
     "name": "stdout",
     "output_type": "stream",
     "text": [
      "CPU times: user 39.8 ms, sys: 27.9 ms, total: 67.7 ms\n",
      "Wall time: 76.3 ms\n",
      "CPU times: user 60.9 ms, sys: 608 ms, total: 668 ms\n",
      "Wall time: 47.5 ms\n",
      "In-sample score: 90.66%\n"
     ]
    },
    {
     "name": "stderr",
     "output_type": "stream",
     "text": [
      "/home/bull/miniconda3/envs/worldbank-poverty-test/lib/python3.6/site-packages/matplotlib/cbook/deprecation.py:107: MatplotlibDeprecationWarning: Passing one of 'on', 'true', 'off', 'false' as a boolean is deprecated; use an actual boolean (True/False) instead.\n",
      "  warnings.warn(message, mplDeprecation, stacklevel=1)\n"
     ]
    },
    {
     "data": {
      "image/png": "[encoded data removed]",
      "text/plain": [
       "<Figure size 720x288 with 3 Axes>"
      ]
     },
     "metadata": {},
     "output_type": "display_data"
    },
    {
     "data": {
      "text/html": [
       "<style  type=\"text/css\" >\n",
       "    #T_b885b2f0_6c86_11e8_97ef_0010c6b1e647row0_col1 {\n",
       "            background-color:  steelblue;\n",
       "        }    #T_b885b2f0_6c86_11e8_97ef_0010c6b1e647row1_col0 {\n",
       "            background-color:  steelblue;\n",
       "        }    #T_b885b2f0_6c86_11e8_97ef_0010c6b1e647row2_col1 {\n",
       "            background-color:  steelblue;\n",
       "        }    #T_b885b2f0_6c86_11e8_97ef_0010c6b1e647row3_col0 {\n",
       "            background-color:  steelblue;\n",
       "        }    #T_b885b2f0_6c86_11e8_97ef_0010c6b1e647row4_col1 {\n",
       "            background-color:  steelblue;\n",
       "        }    #T_b885b2f0_6c86_11e8_97ef_0010c6b1e647row5_col1 {\n",
       "            background-color:  steelblue;\n",
       "        }    #T_b885b2f0_6c86_11e8_97ef_0010c6b1e647row6_col0 {\n",
       "            background-color:  steelblue;\n",
       "        }</style>  \n",
       "<table id=\"T_b885b2f0_6c86_11e8_97ef_0010c6b1e647\" ><caption>Model Scores</caption> \n",
       "<thead>    <tr> \n",
       "        <th class=\"blank level0\" ></th> \n",
       "        <th class=\"col_heading level0 col0\" >lda_simple</th> \n",
       "        <th class=\"col_heading level0 col1\" >lr_simple</th> \n",
       "    </tr></thead> \n",
       "<tbody>    <tr> \n",
       "        <th id=\"T_b885b2f0_6c86_11e8_97ef_0010c6b1e647level0_row0\" class=\"row_heading level0 row0\" >accuracy</th> \n",
       "        <td id=\"T_b885b2f0_6c86_11e8_97ef_0010c6b1e647row0_col0\" class=\"data row0 col0\" >0.907176</td> \n",
       "        <td id=\"T_b885b2f0_6c86_11e8_97ef_0010c6b1e647row0_col1\" class=\"data row0 col1\" >0.91158</td> \n",
       "    </tr>    <tr> \n",
       "        <th id=\"T_b885b2f0_6c86_11e8_97ef_0010c6b1e647level0_row1\" class=\"row_heading level0 row1\" >recall</th> \n",
       "        <td id=\"T_b885b2f0_6c86_11e8_97ef_0010c6b1e647row1_col0\" class=\"data row1 col0\" >0.16531</td> \n",
       "        <td id=\"T_b885b2f0_6c86_11e8_97ef_0010c6b1e647row1_col1\" class=\"data row1 col1\" >0.0851597</td> \n",
       "    </tr>    <tr> \n",
       "        <th id=\"T_b885b2f0_6c86_11e8_97ef_0010c6b1e647level0_row2\" class=\"row_heading level0 row2\" >precision</th> \n",
       "        <td id=\"T_b885b2f0_6c86_11e8_97ef_0010c6b1e647row2_col0\" class=\"data row2 col0\" >0.45913</td> \n",
       "        <td id=\"T_b885b2f0_6c86_11e8_97ef_0010c6b1e647row2_col1\" class=\"data row2 col1\" >0.564315</td> \n",
       "    </tr>    <tr> \n",
       "        <th id=\"T_b885b2f0_6c86_11e8_97ef_0010c6b1e647level0_row3\" class=\"row_heading level0 row3\" >f1</th> \n",
       "        <td id=\"T_b885b2f0_6c86_11e8_97ef_0010c6b1e647row3_col0\" class=\"data row3 col0\" >0.243094</td> \n",
       "        <td id=\"T_b885b2f0_6c86_11e8_97ef_0010c6b1e647row3_col1\" class=\"data row3 col1\" >0.147987</td> \n",
       "    </tr>    <tr> \n",
       "        <th id=\"T_b885b2f0_6c86_11e8_97ef_0010c6b1e647level0_row4\" class=\"row_heading level0 row4\" >cross_entropy</th> \n",
       "        <td id=\"T_b885b2f0_6c86_11e8_97ef_0010c6b1e647row4_col0\" class=\"data row4 col0\" >0.26302</td> \n",
       "        <td id=\"T_b885b2f0_6c86_11e8_97ef_0010c6b1e647row4_col1\" class=\"data row4 col1\" >0.256817</td> \n",
       "    </tr>    <tr> \n",
       "        <th id=\"T_b885b2f0_6c86_11e8_97ef_0010c6b1e647level0_row5\" class=\"row_heading level0 row5\" >roc_auc</th> \n",
       "        <td id=\"T_b885b2f0_6c86_11e8_97ef_0010c6b1e647row5_col0\" class=\"data row5 col0\" >0.779387</td> \n",
       "        <td id=\"T_b885b2f0_6c86_11e8_97ef_0010c6b1e647row5_col1\" class=\"data row5 col1\" >0.781848</td> \n",
       "    </tr>    <tr> \n",
       "        <th id=\"T_b885b2f0_6c86_11e8_97ef_0010c6b1e647level0_row6\" class=\"row_heading level0 row6\" >cohen_kappa</th> \n",
       "        <td id=\"T_b885b2f0_6c86_11e8_97ef_0010c6b1e647row6_col0\" class=\"data row6 col0\" >0.205146</td> \n",
       "        <td id=\"T_b885b2f0_6c86_11e8_97ef_0010c6b1e647row6_col1\" class=\"data row6 col1\" >0.127352</td> \n",
       "    </tr></tbody> \n",
       "</table> "
      ],
      "text/plain": [
       "<pandas.io.formats.style.Styler at 0x7f8346a5c550>"
      ]
     },
     "metadata": {},
     "output_type": "display_data"
    },
    {
     "name": "stdout",
     "output_type": "stream",
     "text": [
      "Actual poverty rate: 11.38% \n",
      "Predicted poverty rate: 3.20% \n"
     ]
    }
   ],
   "source": [
    "from sklearn.discriminant_analysis import LinearDiscriminantAnalysis\n",
    "\n",
    "# Load and transform the training data\n",
    "X_train, y_train, w_train = load_data(TRAIN_PATH, selected_columns=selected_columns)\n",
    "\n",
    "# Fit the model\n",
    "model = LinearDiscriminantAnalysis()\n",
    "%time model.fit(X_train, y_train)\n",
    "\n",
    "# Get an initial score\n",
    "%time score = model.score(X_train, y_train)\n",
    "print(\"In-sample score: {:0.2%}\".format(score))\n",
    "\n",
    "# Store coefficients\n",
    "coefs = get_coefs_df(X_train[selected_columns], model.coef_[0])\n",
    "\n",
    "# Load the test set\n",
    "X_test, y_test, w_test = load_data(TEST_PATH, selected_columns=selected_columns)\n",
    "\n",
    "# Run the model\n",
    "y_pred = model.predict(X_test)\n",
    "y_prob = model.predict_proba(X_test)[:,1]\n",
    "\n",
    "# Evaluate performance and store model\n",
    "metrics = evaluation.evaluate_model(y_test, y_pred, y_prob, \n",
    "                                    compare_models=['lr_simple'],\n",
    "                                    store_model=True,\n",
    "                                    model_name='simple', \n",
    "                                    prefix=ALGORITHM_NAME,\n",
    "                                    country=COUNTRY,\n",
    "                                    model=model, \n",
    "                                    features=coefs)"
   ]
  },
  {
   "cell_type": "markdown",
   "metadata": {},
   "source": [
    "We can plot the resulting distributions to see how well the classifier separates the classes in the transformed subspace"
   ]
  },
  {
   "cell_type": "code",
   "execution_count": 6,
   "metadata": {
    "collapsed": false
   },
   "outputs": [
    {
     "data": {
      "image/png": "[encoded data removed]",
      "text/plain": [
       "<Figure size 864x288 with 2 Axes>"
      ]
     },
     "metadata": {},
     "output_type": "display_data"
    }
   ],
   "source": [
    "X_lda = model.transform(X_train)\n",
    "\n",
    "mask = (y_train == 1)\n",
    "fig, axes = plt.subplots(1,2, figsize=(12,4))\n",
    "axes[0].scatter(X_lda[mask], y_train[mask], color='b', marker='+', label='poor')\n",
    "axes[0].scatter(X_lda[~mask], y_train[~mask], color='r', marker='o', label='non-poor')\n",
    "axes[0].set_title('LDA Projected Data')\n",
    "axes[0].set_xlabel('Transformed axis')\n",
    "axes[0].set_ylabel('\\'Poor\\' Probability')\n",
    "axes[0].legend()\n",
    "\n",
    "sns.kdeplot(np.ravel(X_lda[mask]), color='b', ax=axes[1], label='poor')\n",
    "sns.kdeplot(np.ravel(X_lda[~mask]), color='r', ax=axes[1], label='non-poor')\n",
    "axes[1].set_title('LDA Projected Density')\n",
    "axes[1].set_xlabel('Transformed axis')\n",
    "axes[1].set_ylabel('Class Density')\n",
    "axes[1].legend()\n",
    "plt.show()"
   ]
  },
  {
   "cell_type": "markdown",
   "metadata": {},
   "source": [
    "# LDA with all features <a class=\"anchor\" id=\"all-feats\"></a>\n",
    "\n",
    "Now let's apply the LDA classifier to the dataset with all features.\n",
    "\n",
    "The Scikit-learn implementation of LDA does not have the option to use sample weights when we fit the model. However, we can apply the sample weights when scoring the model."
   ]
  },
  {
   "cell_type": "code",
   "execution_count": 7,
   "metadata": {
    "collapsed": false
   },
   "outputs": [
    {
     "name": "stderr",
     "output_type": "stream",
     "text": [
      "/home/bull/miniconda3/envs/worldbank-poverty-test/lib/python3.6/site-packages/sklearn/discriminant_analysis.py:388: UserWarning: Variables are collinear.\n",
      "  warnings.warn(\"Variables are collinear.\")\n"
     ]
    },
    {
     "name": "stdout",
     "output_type": "stream",
     "text": [
      "CPU times: user 23.6 s, sys: 1min 29s, total: 1min 53s\n",
      "Wall time: 40.8 s\n",
      "CPU times: user 122 ms, sys: 648 ms, total: 771 ms\n",
      "Wall time: 690 ms\n",
      "In-sample score: 91.06%\n"
     ]
    },
    {
     "name": "stderr",
     "output_type": "stream",
     "text": [
      "/home/bull/miniconda3/envs/worldbank-poverty-test/lib/python3.6/site-packages/matplotlib/cbook/deprecation.py:107: MatplotlibDeprecationWarning: Passing one of 'on', 'true', 'off', 'false' as a boolean is deprecated; use an actual boolean (True/False) instead.\n",
      "  warnings.warn(message, mplDeprecation, stacklevel=1)\n"
     ]
    },
    {
     "data": {
      "image/png": "[encoded data removed]",
      "text/plain": [
       "<Figure size 720x288 with 3 Axes>"
      ]
     },
     "metadata": {},
     "output_type": "display_data"
    },
    {
     "data": {
      "text/html": [
       "<style  type=\"text/css\" >\n",
       "    #T_d7b7e0c6_6c86_11e8_97ef_0010c6b1e647row0_col1 {\n",
       "            background-color:  steelblue;\n",
       "        }    #T_d7b7e0c6_6c86_11e8_97ef_0010c6b1e647row1_col1 {\n",
       "            background-color:  steelblue;\n",
       "        }    #T_d7b7e0c6_6c86_11e8_97ef_0010c6b1e647row2_col1 {\n",
       "            background-color:  steelblue;\n",
       "        }    #T_d7b7e0c6_6c86_11e8_97ef_0010c6b1e647row3_col1 {\n",
       "            background-color:  steelblue;\n",
       "        }    #T_d7b7e0c6_6c86_11e8_97ef_0010c6b1e647row4_col1 {\n",
       "            background-color:  steelblue;\n",
       "        }    #T_d7b7e0c6_6c86_11e8_97ef_0010c6b1e647row5_col1 {\n",
       "            background-color:  steelblue;\n",
       "        }    #T_d7b7e0c6_6c86_11e8_97ef_0010c6b1e647row6_col1 {\n",
       "            background-color:  steelblue;\n",
       "        }</style>  \n",
       "<table id=\"T_d7b7e0c6_6c86_11e8_97ef_0010c6b1e647\" ><caption>Model Scores</caption> \n",
       "<thead>    <tr> \n",
       "        <th class=\"blank level0\" ></th> \n",
       "        <th class=\"col_heading level0 col0\" >lda_full</th> \n",
       "        <th class=\"col_heading level0 col1\" >lr_full</th> \n",
       "    </tr></thead> \n",
       "<tbody>    <tr> \n",
       "        <th id=\"T_d7b7e0c6_6c86_11e8_97ef_0010c6b1e647level0_row0\" class=\"row_heading level0 row0\" >accuracy</th> \n",
       "        <td id=\"T_d7b7e0c6_6c86_11e8_97ef_0010c6b1e647row0_col0\" class=\"data row0 col0\" >0.905845</td> \n",
       "        <td id=\"T_d7b7e0c6_6c86_11e8_97ef_0010c6b1e647row0_col1\" class=\"data row0 col1\" >0.910251</td> \n",
       "    </tr>    <tr> \n",
       "        <th id=\"T_d7b7e0c6_6c86_11e8_97ef_0010c6b1e647level0_row1\" class=\"row_heading level0 row1\" >recall</th> \n",
       "        <td id=\"T_d7b7e0c6_6c86_11e8_97ef_0010c6b1e647row1_col0\" class=\"data row1 col0\" >0.405497</td> \n",
       "        <td id=\"T_d7b7e0c6_6c86_11e8_97ef_0010c6b1e647row1_col1\" class=\"data row1 col1\" >0.456232</td> \n",
       "    </tr>    <tr> \n",
       "        <th id=\"T_d7b7e0c6_6c86_11e8_97ef_0010c6b1e647level0_row2\" class=\"row_heading level0 row2\" >precision</th> \n",
       "        <td id=\"T_d7b7e0c6_6c86_11e8_97ef_0010c6b1e647row2_col0\" class=\"data row2 col0\" >0.647748</td> \n",
       "        <td id=\"T_d7b7e0c6_6c86_11e8_97ef_0010c6b1e647row2_col1\" class=\"data row2 col1\" >0.661838</td> \n",
       "    </tr>    <tr> \n",
       "        <th id=\"T_d7b7e0c6_6c86_11e8_97ef_0010c6b1e647level0_row3\" class=\"row_heading level0 row3\" >f1</th> \n",
       "        <td id=\"T_d7b7e0c6_6c86_11e8_97ef_0010c6b1e647row3_col0\" class=\"data row3 col0\" >0.498763</td> \n",
       "        <td id=\"T_d7b7e0c6_6c86_11e8_97ef_0010c6b1e647row3_col1\" class=\"data row3 col1\" >0.540131</td> \n",
       "    </tr>    <tr> \n",
       "        <th id=\"T_d7b7e0c6_6c86_11e8_97ef_0010c6b1e647level0_row4\" class=\"row_heading level0 row4\" >cross_entropy</th> \n",
       "        <td id=\"T_d7b7e0c6_6c86_11e8_97ef_0010c6b1e647row4_col0\" class=\"data row4 col0\" >0.231353</td> \n",
       "        <td id=\"T_d7b7e0c6_6c86_11e8_97ef_0010c6b1e647row4_col1\" class=\"data row4 col1\" >0.212947</td> \n",
       "    </tr>    <tr> \n",
       "        <th id=\"T_d7b7e0c6_6c86_11e8_97ef_0010c6b1e647level0_row5\" class=\"row_heading level0 row5\" >roc_auc</th> \n",
       "        <td id=\"T_d7b7e0c6_6c86_11e8_97ef_0010c6b1e647row5_col0\" class=\"data row5 col0\" >0.911848</td> \n",
       "        <td id=\"T_d7b7e0c6_6c86_11e8_97ef_0010c6b1e647row5_col1\" class=\"data row5 col1\" >0.923198</td> \n",
       "    </tr>    <tr> \n",
       "        <th id=\"T_d7b7e0c6_6c86_11e8_97ef_0010c6b1e647level0_row6\" class=\"row_heading level0 row6\" >cohen_kappa</th> \n",
       "        <td id=\"T_d7b7e0c6_6c86_11e8_97ef_0010c6b1e647row6_col0\" class=\"data row6 col0\" >0.456538</td> \n",
       "        <td id=\"T_d7b7e0c6_6c86_11e8_97ef_0010c6b1e647row6_col1\" class=\"data row6 col1\" >0.483497</td> \n",
       "    </tr></tbody> \n",
       "</table> "
      ],
      "text/plain": [
       "<pandas.io.formats.style.Styler at 0x7f834954bb00>"
      ]
     },
     "metadata": {},
     "output_type": "display_data"
    },
    {
     "name": "stdout",
     "output_type": "stream",
     "text": [
      "Actual poverty rate: 11.38% \n",
      "Predicted poverty rate: 7.30% \n"
     ]
    }
   ],
   "source": [
    "# Load and transform the training data\n",
    "X_train, y_train, w_train = load_data(TRAIN_PATH)\n",
    "\n",
    "# Fit the model\n",
    "model = LinearDiscriminantAnalysis(store_covariance=True)\n",
    "%time model.fit(X_train, np.ravel(y_train))\n",
    "\n",
    "# Get an initial score\n",
    "%time score = model.score(X_train, y_train, w_train)\n",
    "print(\"In-sample score: {:0.2%}\".format(score))\n",
    "coefs = get_coefs_df(X_train, model.coef_[0])\n",
    "\n",
    "# Load the test set\n",
    "X_test, y_test, w_test = load_data(TEST_PATH)\n",
    "\n",
    "# Run the model\n",
    "y_pred = model.predict(X_test)\n",
    "y_prob = model.predict_proba(X_test)[:,1]\n",
    "\n",
    "# Evaluate performance and store model\n",
    "metrics = evaluation.evaluate_model(y_test, y_pred, y_prob, w_test,\n",
    "                                    compare_models='lr_full',\n",
    "                                    store_model=True,\n",
    "                                    model_name='full', \n",
    "                                    prefix=ALGORITHM_NAME,\n",
    "                                    country=COUNTRY,\n",
    "                                    model=model, \n",
    "                                    features=coefs)"
   ]
  },
  {
   "cell_type": "markdown",
   "metadata": {},
   "source": [
    "Once again, the performance is very similar to our Logisitic Regression classifier with all the features. We'll plot the distributions below again as well. We should be able to observe more separation in the class distributions, which results in a higher classifier performance."
   ]
  },
  {
   "cell_type": "code",
   "execution_count": 8,
   "metadata": {
    "collapsed": false
   },
   "outputs": [
    {
     "data": {
      "image/png": "[encoded data removed]",
      "text/plain": [
       "<Figure size 864x288 with 2 Axes>"
      ]
     },
     "metadata": {},
     "output_type": "display_data"
    }
   ],
   "source": [
    "X_lda = model.transform(X_train)\n",
    "\n",
    "mask = (y_train == 1)\n",
    "fig, axes = plt.subplots(1,2, figsize=(12,4))\n",
    "axes[0].scatter(X_lda[mask], y_train[mask], color='b', marker='+', label='poor')\n",
    "axes[0].scatter(X_lda[~mask], y_train[~mask], color='r', marker='o', label='non-poor')\n",
    "axes[0].set_title('LDA Projected Data')\n",
    "axes[0].set_xlabel('Transformed axis')\n",
    "axes[0].set_ylabel('\\'Poor\\' Probability')\n",
    "axes[0].legend()\n",
    "\n",
    "sns.kdeplot(np.ravel(X_lda[mask]), color='b', ax=axes[1], label='poor')\n",
    "sns.kdeplot(np.ravel(X_lda[~mask]), color='r', ax=axes[1], label='non-poor')\n",
    "axes[1].set_title('LDA Projected Density')\n",
    "axes[1].set_xlabel('Transformed axis')\n",
    "axes[1].set_ylabel('Class Density')\n",
    "axes[1].legend()\n",
    "plt.show()"
   ]
  },
  {
   "cell_type": "markdown",
   "metadata": {},
   "source": [
    "The class separation looks like we'd expect it, but we still need to deal with the unbalanced classes to improve our predictions of poor households. The LDA model in Scikit-Learn does not allow us to add class-weights as the Logistic Regression model did, so we will need to apply either undersampling or oversampling."
   ]
  },
  {
   "cell_type": "markdown",
   "metadata": {},
   "source": [
    "## Class Weighting <a class=\"anchor\" id=\"class-weighting\">\n",
    "The Scikit-learn LDA model does not have an explicit parameter for class weights, but it does provide a `priors` parameter that serves a similar purpose. We'll input the class proportions as the priors to deal with unbalanced classes."
   ]
  },
  {
   "cell_type": "code",
   "execution_count": 9,
   "metadata": {
    "collapsed": false
   },
   "outputs": [
    {
     "name": "stderr",
     "output_type": "stream",
     "text": [
      "/home/bull/miniconda3/envs/worldbank-poverty-test/lib/python3.6/site-packages/sklearn/discriminant_analysis.py:388: UserWarning: Variables are collinear.\n",
      "  warnings.warn(\"Variables are collinear.\")\n"
     ]
    },
    {
     "name": "stdout",
     "output_type": "stream",
     "text": [
      "In-sample score: 52.45%\n"
     ]
    },
    {
     "name": "stderr",
     "output_type": "stream",
     "text": [
      "/home/bull/miniconda3/envs/worldbank-poverty-test/lib/python3.6/site-packages/matplotlib/cbook/deprecation.py:107: MatplotlibDeprecationWarning: Passing one of 'on', 'true', 'off', 'false' as a boolean is deprecated; use an actual boolean (True/False) instead.\n",
      "  warnings.warn(message, mplDeprecation, stacklevel=1)\n"
     ]
    },
    {
     "data": {
      "image/png": "[encoded data removed]",
      "text/plain": [
       "<Figure size 720x288 with 3 Axes>"
      ]
     },
     "metadata": {},
     "output_type": "display_data"
    },
    {
     "data": {
      "text/html": [
       "<style  type=\"text/css\" >\n",
       "    #T_fb51a594_6c86_11e8_97ef_0010c6b1e647row0_col2 {\n",
       "            background-color:  steelblue;\n",
       "        }    #T_fb51a594_6c86_11e8_97ef_0010c6b1e647row1_col0 {\n",
       "            background-color:  steelblue;\n",
       "        }    #T_fb51a594_6c86_11e8_97ef_0010c6b1e647row2_col2 {\n",
       "            background-color:  steelblue;\n",
       "        }    #T_fb51a594_6c86_11e8_97ef_0010c6b1e647row3_col2 {\n",
       "            background-color:  steelblue;\n",
       "        }    #T_fb51a594_6c86_11e8_97ef_0010c6b1e647row4_col2 {\n",
       "            background-color:  steelblue;\n",
       "        }    #T_fb51a594_6c86_11e8_97ef_0010c6b1e647row5_col2 {\n",
       "            background-color:  steelblue;\n",
       "        }    #T_fb51a594_6c86_11e8_97ef_0010c6b1e647row6_col2 {\n",
       "            background-color:  steelblue;\n",
       "        }</style>  \n",
       "<table id=\"T_fb51a594_6c86_11e8_97ef_0010c6b1e647\" ><caption>Model Scores</caption> \n",
       "<thead>    <tr> \n",
       "        <th class=\"blank level0\" ></th> \n",
       "        <th class=\"col_heading level0 col0\" >lda_full_classwts</th> \n",
       "        <th class=\"col_heading level0 col1\" >lda_full</th> \n",
       "        <th class=\"col_heading level0 col2\" >lr_full</th> \n",
       "    </tr></thead> \n",
       "<tbody>    <tr> \n",
       "        <th id=\"T_fb51a594_6c86_11e8_97ef_0010c6b1e647level0_row0\" class=\"row_heading level0 row0\" >accuracy</th> \n",
       "        <td id=\"T_fb51a594_6c86_11e8_97ef_0010c6b1e647row0_col0\" class=\"data row0 col0\" >0.506179</td> \n",
       "        <td id=\"T_fb51a594_6c86_11e8_97ef_0010c6b1e647row0_col1\" class=\"data row0 col1\" >0.905845</td> \n",
       "        <td id=\"T_fb51a594_6c86_11e8_97ef_0010c6b1e647row0_col2\" class=\"data row0 col2\" >0.910251</td> \n",
       "    </tr>    <tr> \n",
       "        <th id=\"T_fb51a594_6c86_11e8_97ef_0010c6b1e647level0_row1\" class=\"row_heading level0 row1\" >recall</th> \n",
       "        <td id=\"T_fb51a594_6c86_11e8_97ef_0010c6b1e647row1_col0\" class=\"data row1 col0\" >0.988916</td> \n",
       "        <td id=\"T_fb51a594_6c86_11e8_97ef_0010c6b1e647row1_col1\" class=\"data row1 col1\" >0.405497</td> \n",
       "        <td id=\"T_fb51a594_6c86_11e8_97ef_0010c6b1e647row1_col2\" class=\"data row1 col2\" >0.456232</td> \n",
       "    </tr>    <tr> \n",
       "        <th id=\"T_fb51a594_6c86_11e8_97ef_0010c6b1e647level0_row2\" class=\"row_heading level0 row2\" >precision</th> \n",
       "        <td id=\"T_fb51a594_6c86_11e8_97ef_0010c6b1e647row2_col0\" class=\"data row2 col0\" >0.188279</td> \n",
       "        <td id=\"T_fb51a594_6c86_11e8_97ef_0010c6b1e647row2_col1\" class=\"data row2 col1\" >0.647748</td> \n",
       "        <td id=\"T_fb51a594_6c86_11e8_97ef_0010c6b1e647row2_col2\" class=\"data row2 col2\" >0.661838</td> \n",
       "    </tr>    <tr> \n",
       "        <th id=\"T_fb51a594_6c86_11e8_97ef_0010c6b1e647level0_row3\" class=\"row_heading level0 row3\" >f1</th> \n",
       "        <td id=\"T_fb51a594_6c86_11e8_97ef_0010c6b1e647row3_col0\" class=\"data row3 col0\" >0.316331</td> \n",
       "        <td id=\"T_fb51a594_6c86_11e8_97ef_0010c6b1e647row3_col1\" class=\"data row3 col1\" >0.498763</td> \n",
       "        <td id=\"T_fb51a594_6c86_11e8_97ef_0010c6b1e647row3_col2\" class=\"data row3 col2\" >0.540131</td> \n",
       "    </tr>    <tr> \n",
       "        <th id=\"T_fb51a594_6c86_11e8_97ef_0010c6b1e647level0_row4\" class=\"row_heading level0 row4\" >cross_entropy</th> \n",
       "        <td id=\"T_fb51a594_6c86_11e8_97ef_0010c6b1e647row4_col0\" class=\"data row4 col0\" >1.16564</td> \n",
       "        <td id=\"T_fb51a594_6c86_11e8_97ef_0010c6b1e647row4_col1\" class=\"data row4 col1\" >0.231353</td> \n",
       "        <td id=\"T_fb51a594_6c86_11e8_97ef_0010c6b1e647row4_col2\" class=\"data row4 col2\" >0.212947</td> \n",
       "    </tr>    <tr> \n",
       "        <th id=\"T_fb51a594_6c86_11e8_97ef_0010c6b1e647level0_row5\" class=\"row_heading level0 row5\" >roc_auc</th> \n",
       "        <td id=\"T_fb51a594_6c86_11e8_97ef_0010c6b1e647row5_col0\" class=\"data row5 col0\" >0.911848</td> \n",
       "        <td id=\"T_fb51a594_6c86_11e8_97ef_0010c6b1e647row5_col1\" class=\"data row5 col1\" >0.911848</td> \n",
       "        <td id=\"T_fb51a594_6c86_11e8_97ef_0010c6b1e647row5_col2\" class=\"data row5 col2\" >0.923198</td> \n",
       "    </tr>    <tr> \n",
       "        <th id=\"T_fb51a594_6c86_11e8_97ef_0010c6b1e647level0_row6\" class=\"row_heading level0 row6\" >cohen_kappa</th> \n",
       "        <td id=\"T_fb51a594_6c86_11e8_97ef_0010c6b1e647row6_col0\" class=\"data row6 col0\" >0.150084</td> \n",
       "        <td id=\"T_fb51a594_6c86_11e8_97ef_0010c6b1e647row6_col1\" class=\"data row6 col1\" >0.456538</td> \n",
       "        <td id=\"T_fb51a594_6c86_11e8_97ef_0010c6b1e647row6_col2\" class=\"data row6 col2\" >0.483497</td> \n",
       "    </tr></tbody> \n",
       "</table> "
      ],
      "text/plain": [
       "<pandas.io.formats.style.Styler at 0x7f83462a0e10>"
      ]
     },
     "metadata": {},
     "output_type": "display_data"
    },
    {
     "name": "stdout",
     "output_type": "stream",
     "text": [
      "Actual poverty rate: 11.38% \n",
      "Predicted poverty rate: 59.25% \n",
      "CPU times: user 27.4 s, sys: 1min 51s, total: 2min 18s\n",
      "Wall time: 51.6 s\n"
     ]
    }
   ],
   "source": [
    "%%time\n",
    "\n",
    "# Load and transform the training data\n",
    "X_train, y_train, w_train = load_data(TRAIN_PATH)\n",
    "\n",
    "# Fit the model\n",
    "model = LinearDiscriminantAnalysis(store_covariance=True, \n",
    "                                   priors=[y_train.astype(float).sum() / len(y_train), \n",
    "                                           (~y_train).astype(float).sum() / len(y_train)])\n",
    "model.fit(X_train, np.ravel(y_train))\n",
    "\n",
    "# Get an initial score\n",
    "score = model.score(X_train, y_train, w_train)\n",
    "print(\"In-sample score: {:0.2%}\".format(score))\n",
    "coefs = get_coefs_df(X_train, model.coef_[0])\n",
    "\n",
    "# Load the test set\n",
    "X_test, y_test, w_test = load_data(TEST_PATH)\n",
    "\n",
    "# Run the model\n",
    "y_pred = model.predict(X_test)\n",
    "y_prob = model.predict_proba(X_test)[:,1]\n",
    "\n",
    "# Evaluate performance and store model\n",
    "metrics = evaluation.evaluate_model(y_test, y_pred, y_prob, w_test,\n",
    "                                    compare_models=['lda_full',\n",
    "                                                    'lr_full'],\n",
    "                                    store_model=True,\n",
    "                                    model_name='full_classwts', \n",
    "                                    prefix=ALGORITHM_NAME,\n",
    "                                    country=COUNTRY,\n",
    "                                    model=model, \n",
    "                                    features=coefs)"
   ]
  },
  {
   "cell_type": "markdown",
   "metadata": {},
   "source": [
    "## Undersampling <a class=\"anchor\" id=\"undersampling\">\n"
   ]
  },
  {
   "cell_type": "code",
   "execution_count": 10,
   "metadata": {
    "collapsed": false
   },
   "outputs": [
    {
     "name": "stdout",
     "output_type": "stream",
     "text": [
      "X shape after undersampling:  (9584, 453)\n"
     ]
    },
    {
     "name": "stderr",
     "output_type": "stream",
     "text": [
      "/home/bull/miniconda3/envs/worldbank-poverty-test/lib/python3.6/site-packages/sklearn/discriminant_analysis.py:388: UserWarning: Variables are collinear.\n",
      "  warnings.warn(\"Variables are collinear.\")\n"
     ]
    },
    {
     "name": "stdout",
     "output_type": "stream",
     "text": [
      "CPU times: user 5.1 s, sys: 37.2 s, total: 42.3 s\n",
      "Wall time: 13.1 s\n",
      "CPU times: user 16 ms, sys: 185 ms, total: 201 ms\n",
      "Wall time: 32.4 ms\n",
      "In-sample score: 88.50%\n"
     ]
    },
    {
     "name": "stderr",
     "output_type": "stream",
     "text": [
      "/home/bull/miniconda3/envs/worldbank-poverty-test/lib/python3.6/site-packages/matplotlib/cbook/deprecation.py:107: MatplotlibDeprecationWarning: Passing one of 'on', 'true', 'off', 'false' as a boolean is deprecated; use an actual boolean (True/False) instead.\n",
      "  warnings.warn(message, mplDeprecation, stacklevel=1)\n"
     ]
    },
    {
     "data": {
      "image/png": "[encoded data removed]",
      "text/plain": [
       "<Figure size 720x288 with 3 Axes>"
      ]
     },
     "metadata": {},
     "output_type": "display_data"
    },
    {
     "data": {
      "text/html": [
       "<style  type=\"text/css\" >\n",
       "    #T_076a95de_6c87_11e8_97ef_0010c6b1e647row0_col2 {\n",
       "            background-color:  steelblue;\n",
       "        }    #T_076a95de_6c87_11e8_97ef_0010c6b1e647row1_col1 {\n",
       "            background-color:  steelblue;\n",
       "        }    #T_076a95de_6c87_11e8_97ef_0010c6b1e647row2_col2 {\n",
       "            background-color:  steelblue;\n",
       "        }    #T_076a95de_6c87_11e8_97ef_0010c6b1e647row3_col0 {\n",
       "            background-color:  steelblue;\n",
       "        }    #T_076a95de_6c87_11e8_97ef_0010c6b1e647row4_col2 {\n",
       "            background-color:  steelblue;\n",
       "        }    #T_076a95de_6c87_11e8_97ef_0010c6b1e647row5_col0 {\n",
       "            background-color:  steelblue;\n",
       "        }    #T_076a95de_6c87_11e8_97ef_0010c6b1e647row6_col2 {\n",
       "            background-color:  steelblue;\n",
       "        }</style>  \n",
       "<table id=\"T_076a95de_6c87_11e8_97ef_0010c6b1e647\" ><caption>Model Scores</caption> \n",
       "<thead>    <tr> \n",
       "        <th class=\"blank level0\" ></th> \n",
       "        <th class=\"col_heading level0 col0\" >lda_full_undersample</th> \n",
       "        <th class=\"col_heading level0 col1\" >lda_full_classwts</th> \n",
       "        <th class=\"col_heading level0 col2\" >lda_full</th> \n",
       "    </tr></thead> \n",
       "<tbody>    <tr> \n",
       "        <th id=\"T_076a95de_6c87_11e8_97ef_0010c6b1e647level0_row0\" class=\"row_heading level0 row0\" >accuracy</th> \n",
       "        <td id=\"T_076a95de_6c87_11e8_97ef_0010c6b1e647row0_col0\" class=\"data row0 col0\" >0.789215</td> \n",
       "        <td id=\"T_076a95de_6c87_11e8_97ef_0010c6b1e647row0_col1\" class=\"data row0 col1\" >0.506179</td> \n",
       "        <td id=\"T_076a95de_6c87_11e8_97ef_0010c6b1e647row0_col2\" class=\"data row0 col2\" >0.905845</td> \n",
       "    </tr>    <tr> \n",
       "        <th id=\"T_076a95de_6c87_11e8_97ef_0010c6b1e647level0_row1\" class=\"row_heading level0 row1\" >recall</th> \n",
       "        <td id=\"T_076a95de_6c87_11e8_97ef_0010c6b1e647row1_col0\" class=\"data row1 col0\" >0.920365</td> \n",
       "        <td id=\"T_076a95de_6c87_11e8_97ef_0010c6b1e647row1_col1\" class=\"data row1 col1\" >0.988916</td> \n",
       "        <td id=\"T_076a95de_6c87_11e8_97ef_0010c6b1e647row1_col2\" class=\"data row1 col2\" >0.405497</td> \n",
       "    </tr>    <tr> \n",
       "        <th id=\"T_076a95de_6c87_11e8_97ef_0010c6b1e647level0_row2\" class=\"row_heading level0 row2\" >precision</th> \n",
       "        <td id=\"T_076a95de_6c87_11e8_97ef_0010c6b1e647row2_col0\" class=\"data row2 col0\" >0.345313</td> \n",
       "        <td id=\"T_076a95de_6c87_11e8_97ef_0010c6b1e647row2_col1\" class=\"data row2 col1\" >0.188279</td> \n",
       "        <td id=\"T_076a95de_6c87_11e8_97ef_0010c6b1e647row2_col2\" class=\"data row2 col2\" >0.647748</td> \n",
       "    </tr>    <tr> \n",
       "        <th id=\"T_076a95de_6c87_11e8_97ef_0010c6b1e647level0_row3\" class=\"row_heading level0 row3\" >f1</th> \n",
       "        <td id=\"T_076a95de_6c87_11e8_97ef_0010c6b1e647row3_col0\" class=\"data row3 col0\" >0.502203</td> \n",
       "        <td id=\"T_076a95de_6c87_11e8_97ef_0010c6b1e647row3_col1\" class=\"data row3 col1\" >0.316331</td> \n",
       "        <td id=\"T_076a95de_6c87_11e8_97ef_0010c6b1e647row3_col2\" class=\"data row3 col2\" >0.498763</td> \n",
       "    </tr>    <tr> \n",
       "        <th id=\"T_076a95de_6c87_11e8_97ef_0010c6b1e647level0_row4\" class=\"row_heading level0 row4\" >cross_entropy</th> \n",
       "        <td id=\"T_076a95de_6c87_11e8_97ef_0010c6b1e647row4_col0\" class=\"data row4 col0\" >0.484488</td> \n",
       "        <td id=\"T_076a95de_6c87_11e8_97ef_0010c6b1e647row4_col1\" class=\"data row4 col1\" >1.16564</td> \n",
       "        <td id=\"T_076a95de_6c87_11e8_97ef_0010c6b1e647row4_col2\" class=\"data row4 col2\" >0.231353</td> \n",
       "    </tr>    <tr> \n",
       "        <th id=\"T_076a95de_6c87_11e8_97ef_0010c6b1e647level0_row5\" class=\"row_heading level0 row5\" >roc_auc</th> \n",
       "        <td id=\"T_076a95de_6c87_11e8_97ef_0010c6b1e647row5_col0\" class=\"data row5 col0\" >0.92041</td> \n",
       "        <td id=\"T_076a95de_6c87_11e8_97ef_0010c6b1e647row5_col1\" class=\"data row5 col1\" >0.911848</td> \n",
       "        <td id=\"T_076a95de_6c87_11e8_97ef_0010c6b1e647row5_col2\" class=\"data row5 col2\" >0.911848</td> \n",
       "    </tr>    <tr> \n",
       "        <th id=\"T_076a95de_6c87_11e8_97ef_0010c6b1e647level0_row6\" class=\"row_heading level0 row6\" >cohen_kappa</th> \n",
       "        <td id=\"T_076a95de_6c87_11e8_97ef_0010c6b1e647row6_col0\" class=\"data row6 col0\" >0.378004</td> \n",
       "        <td id=\"T_076a95de_6c87_11e8_97ef_0010c6b1e647row6_col1\" class=\"data row6 col1\" >0.150084</td> \n",
       "        <td id=\"T_076a95de_6c87_11e8_97ef_0010c6b1e647row6_col2\" class=\"data row6 col2\" >0.456538</td> \n",
       "    </tr></tbody> \n",
       "</table> "
      ],
      "text/plain": [
       "<pandas.io.formats.style.Styler at 0x7f83457b09e8>"
      ]
     },
     "metadata": {},
     "output_type": "display_data"
    },
    {
     "name": "stdout",
     "output_type": "stream",
     "text": [
      "Actual poverty rate: 11.38% \n",
      "Predicted poverty rate: 29.45% \n"
     ]
    }
   ],
   "source": [
    "from imblearn.under_sampling import RandomUnderSampler\n",
    "\n",
    "# Load and transform the training data\n",
    "X_train, y_train, w_train = load_data(TRAIN_PATH)\n",
    "cols = X_train.columns\n",
    "\n",
    "# Apply random undersampling\n",
    "X_train, y_train = RandomUnderSampler().fit_sample(X_train, y_train)\n",
    "print(\"X shape after undersampling: \", X_train.shape)\n",
    "\n",
    "# Fit the model\n",
    "model = LinearDiscriminantAnalysis()\n",
    "%time model.fit(X_train, y_train)\n",
    "\n",
    "# Get an initial score\n",
    "%time score = model.score(X_train, y_train)\n",
    "print(\"In-sample score: {:0.2%}\".format(score))\n",
    "\n",
    "# Store coefficients\n",
    "coefs = get_coefs_df(X_train, model.coef_[0], index=cols)\n",
    "\n",
    "# Load the test set\n",
    "X_test, y_test, w_test = load_data(TEST_PATH)\n",
    "\n",
    "# Run the model\n",
    "y_pred = model.predict(X_test)\n",
    "y_prob = model.predict_proba(X_test)[:,1]\n",
    "\n",
    "# Evaluate performance and store model\n",
    "metrics = evaluation.evaluate_model(y_test, y_pred, y_prob, w_test,\n",
    "                                    compare_models=['lda_full_classwts',\n",
    "                                                    'lda_full'],\n",
    "                                    store_model=True,\n",
    "                                    model_name='full_undersample', \n",
    "                                    prefix=ALGORITHM_NAME,\n",
    "                                    country=COUNTRY,\n",
    "                                    model=model, \n",
    "                                    features=coefs)"
   ]
  },
  {
   "cell_type": "markdown",
   "metadata": {},
   "source": []
  },
  {
   "cell_type": "markdown",
   "metadata": {},
   "source": [
    "## Oversampling <a class=\"anchor\" id=\"oversampling\">"
   ]
  },
  {
   "cell_type": "code",
   "execution_count": 11,
   "metadata": {
    "collapsed": false
   },
   "outputs": [
    {
     "name": "stdout",
     "output_type": "stream",
     "text": [
      "X shape after oversampling:  (96680, 453)\n"
     ]
    },
    {
     "name": "stderr",
     "output_type": "stream",
     "text": [
      "/home/bull/miniconda3/envs/worldbank-poverty-test/lib/python3.6/site-packages/sklearn/discriminant_analysis.py:388: UserWarning: Variables are collinear.\n",
      "  warnings.warn(\"Variables are collinear.\")\n"
     ]
    },
    {
     "name": "stdout",
     "output_type": "stream",
     "text": [
      "CPU times: user 36.5 s, sys: 1min 28s, total: 2min 5s\n",
      "Wall time: 57 s\n",
      "CPU times: user 121 ms, sys: 634 ms, total: 755 ms\n",
      "Wall time: 850 ms\n",
      "In-sample score: 89.28%\n"
     ]
    },
    {
     "name": "stderr",
     "output_type": "stream",
     "text": [
      "/home/bull/miniconda3/envs/worldbank-poverty-test/lib/python3.6/site-packages/matplotlib/cbook/deprecation.py:107: MatplotlibDeprecationWarning: Passing one of 'on', 'true', 'off', 'false' as a boolean is deprecated; use an actual boolean (True/False) instead.\n",
      "  warnings.warn(message, mplDeprecation, stacklevel=1)\n"
     ]
    },
    {
     "data": {
      "image/png": "[encoded data removed]",
      "text/plain": [
       "<Figure size 720x288 with 3 Axes>"
      ]
     },
     "metadata": {},
     "output_type": "display_data"
    },
    {
     "data": {
      "text/html": [
       "<style  type=\"text/css\" >\n",
       "    #T_5b5ca268_6c87_11e8_97ef_0010c6b1e647row0_col3 {\n",
       "            background-color:  steelblue;\n",
       "        }    #T_5b5ca268_6c87_11e8_97ef_0010c6b1e647row1_col1 {\n",
       "            background-color:  steelblue;\n",
       "        }    #T_5b5ca268_6c87_11e8_97ef_0010c6b1e647row2_col3 {\n",
       "            background-color:  steelblue;\n",
       "        }    #T_5b5ca268_6c87_11e8_97ef_0010c6b1e647row3_col0 {\n",
       "            background-color:  steelblue;\n",
       "        }    #T_5b5ca268_6c87_11e8_97ef_0010c6b1e647row4_col3 {\n",
       "            background-color:  steelblue;\n",
       "        }    #T_5b5ca268_6c87_11e8_97ef_0010c6b1e647row5_col0 {\n",
       "            background-color:  steelblue;\n",
       "        }    #T_5b5ca268_6c87_11e8_97ef_0010c6b1e647row6_col3 {\n",
       "            background-color:  steelblue;\n",
       "        }</style>  \n",
       "<table id=\"T_5b5ca268_6c87_11e8_97ef_0010c6b1e647\" ><caption>Model Scores</caption> \n",
       "<thead>    <tr> \n",
       "        <th class=\"blank level0\" ></th> \n",
       "        <th class=\"col_heading level0 col0\" >lda_full_oversample</th> \n",
       "        <th class=\"col_heading level0 col1\" >lda_full_classwts</th> \n",
       "        <th class=\"col_heading level0 col2\" >lda_full_undersample</th> \n",
       "        <th class=\"col_heading level0 col3\" >lda_full</th> \n",
       "    </tr></thead> \n",
       "<tbody>    <tr> \n",
       "        <th id=\"T_5b5ca268_6c87_11e8_97ef_0010c6b1e647level0_row0\" class=\"row_heading level0 row0\" >accuracy</th> \n",
       "        <td id=\"T_5b5ca268_6c87_11e8_97ef_0010c6b1e647row0_col0\" class=\"data row0 col0\" >0.815948</td> \n",
       "        <td id=\"T_5b5ca268_6c87_11e8_97ef_0010c6b1e647row0_col1\" class=\"data row0 col1\" >0.506179</td> \n",
       "        <td id=\"T_5b5ca268_6c87_11e8_97ef_0010c6b1e647row0_col2\" class=\"data row0 col2\" >0.789215</td> \n",
       "        <td id=\"T_5b5ca268_6c87_11e8_97ef_0010c6b1e647row0_col3\" class=\"data row0 col3\" >0.905845</td> \n",
       "    </tr>    <tr> \n",
       "        <th id=\"T_5b5ca268_6c87_11e8_97ef_0010c6b1e647level0_row1\" class=\"row_heading level0 row1\" >recall</th> \n",
       "        <td id=\"T_5b5ca268_6c87_11e8_97ef_0010c6b1e647row1_col0\" class=\"data row1 col0\" >0.8906</td> \n",
       "        <td id=\"T_5b5ca268_6c87_11e8_97ef_0010c6b1e647row1_col1\" class=\"data row1 col1\" >0.988916</td> \n",
       "        <td id=\"T_5b5ca268_6c87_11e8_97ef_0010c6b1e647row1_col2\" class=\"data row1 col2\" >0.920365</td> \n",
       "        <td id=\"T_5b5ca268_6c87_11e8_97ef_0010c6b1e647row1_col3\" class=\"data row1 col3\" >0.405497</td> \n",
       "    </tr>    <tr> \n",
       "        <th id=\"T_5b5ca268_6c87_11e8_97ef_0010c6b1e647level0_row2\" class=\"row_heading level0 row2\" >precision</th> \n",
       "        <td id=\"T_5b5ca268_6c87_11e8_97ef_0010c6b1e647row2_col0\" class=\"data row2 col0\" >0.375087</td> \n",
       "        <td id=\"T_5b5ca268_6c87_11e8_97ef_0010c6b1e647row2_col1\" class=\"data row2 col1\" >0.188279</td> \n",
       "        <td id=\"T_5b5ca268_6c87_11e8_97ef_0010c6b1e647row2_col2\" class=\"data row2 col2\" >0.345313</td> \n",
       "        <td id=\"T_5b5ca268_6c87_11e8_97ef_0010c6b1e647row2_col3\" class=\"data row2 col3\" >0.647748</td> \n",
       "    </tr>    <tr> \n",
       "        <th id=\"T_5b5ca268_6c87_11e8_97ef_0010c6b1e647level0_row3\" class=\"row_heading level0 row3\" >f1</th> \n",
       "        <td id=\"T_5b5ca268_6c87_11e8_97ef_0010c6b1e647row3_col0\" class=\"data row3 col0\" >0.52786</td> \n",
       "        <td id=\"T_5b5ca268_6c87_11e8_97ef_0010c6b1e647row3_col1\" class=\"data row3 col1\" >0.316331</td> \n",
       "        <td id=\"T_5b5ca268_6c87_11e8_97ef_0010c6b1e647row3_col2\" class=\"data row3 col2\" >0.502203</td> \n",
       "        <td id=\"T_5b5ca268_6c87_11e8_97ef_0010c6b1e647row3_col3\" class=\"data row3 col3\" >0.498763</td> \n",
       "    </tr>    <tr> \n",
       "        <th id=\"T_5b5ca268_6c87_11e8_97ef_0010c6b1e647level0_row4\" class=\"row_heading level0 row4\" >cross_entropy</th> \n",
       "        <td id=\"T_5b5ca268_6c87_11e8_97ef_0010c6b1e647row4_col0\" class=\"data row4 col0\" >0.424324</td> \n",
       "        <td id=\"T_5b5ca268_6c87_11e8_97ef_0010c6b1e647row4_col1\" class=\"data row4 col1\" >1.16564</td> \n",
       "        <td id=\"T_5b5ca268_6c87_11e8_97ef_0010c6b1e647row4_col2\" class=\"data row4 col2\" >0.484488</td> \n",
       "        <td id=\"T_5b5ca268_6c87_11e8_97ef_0010c6b1e647row4_col3\" class=\"data row4 col3\" >0.231353</td> \n",
       "    </tr>    <tr> \n",
       "        <th id=\"T_5b5ca268_6c87_11e8_97ef_0010c6b1e647level0_row5\" class=\"row_heading level0 row5\" >roc_auc</th> \n",
       "        <td id=\"T_5b5ca268_6c87_11e8_97ef_0010c6b1e647row5_col0\" class=\"data row5 col0\" >0.921219</td> \n",
       "        <td id=\"T_5b5ca268_6c87_11e8_97ef_0010c6b1e647row5_col1\" class=\"data row5 col1\" >0.911848</td> \n",
       "        <td id=\"T_5b5ca268_6c87_11e8_97ef_0010c6b1e647row5_col2\" class=\"data row5 col2\" >0.92041</td> \n",
       "        <td id=\"T_5b5ca268_6c87_11e8_97ef_0010c6b1e647row5_col3\" class=\"data row5 col3\" >0.911848</td> \n",
       "    </tr>    <tr> \n",
       "        <th id=\"T_5b5ca268_6c87_11e8_97ef_0010c6b1e647level0_row6\" class=\"row_heading level0 row6\" >cohen_kappa</th> \n",
       "        <td id=\"T_5b5ca268_6c87_11e8_97ef_0010c6b1e647row6_col0\" class=\"data row6 col0\" >0.408593</td> \n",
       "        <td id=\"T_5b5ca268_6c87_11e8_97ef_0010c6b1e647row6_col1\" class=\"data row6 col1\" >0.150084</td> \n",
       "        <td id=\"T_5b5ca268_6c87_11e8_97ef_0010c6b1e647row6_col2\" class=\"data row6 col2\" >0.378004</td> \n",
       "        <td id=\"T_5b5ca268_6c87_11e8_97ef_0010c6b1e647row6_col3\" class=\"data row6 col3\" >0.456538</td> \n",
       "    </tr></tbody> \n",
       "</table> "
      ],
      "text/plain": [
       "<pandas.io.formats.style.Styler at 0x7f834268b390>"
      ]
     },
     "metadata": {},
     "output_type": "display_data"
    },
    {
     "name": "stdout",
     "output_type": "stream",
     "text": [
      "Actual poverty rate: 11.38% \n",
      "Predicted poverty rate: 26.56% \n"
     ]
    }
   ],
   "source": [
    "from imblearn.over_sampling import SMOTE\n",
    "\n",
    "# Load and transform the training data\n",
    "X_train, y_train, w_train = load_data(TRAIN_PATH)\n",
    "cols = X_train.columns\n",
    "\n",
    "# Apply oversampling with SMOTE\n",
    "X_train, y_train = SMOTE().fit_sample(X_train, y_train)\n",
    "print(\"X shape after oversampling: \", X_train.shape)\n",
    "\n",
    "# Fit the model\n",
    "model = LinearDiscriminantAnalysis()\n",
    "%time model.fit(X_train, y_train)\n",
    "\n",
    "# Get an initial score\n",
    "%time score = model.score(X_train, y_train)\n",
    "print(\"In-sample score: {:0.2%}\".format(score))\n",
    "\n",
    "# Store coefficients\n",
    "coefs = get_coefs_df(X_train, model.coef_[0], index=cols)\n",
    "\n",
    "# Load the test set\n",
    "X_test, y_test, w_test = load_data(TEST_PATH)\n",
    "\n",
    "# Run the model\n",
    "y_pred = model.predict(X_test)\n",
    "y_prob = model.predict_proba(X_test)[:,1]\n",
    "\n",
    "# Evaluate performance and store model\n",
    "metrics = evaluation.evaluate_model(y_test, y_pred, y_prob, w_test,\n",
    "                                    compare_models=['lda_full_classwts',\n",
    "                                                    'lda_full_undersample', \n",
    "                                                    'lda_full'],\n",
    "                                    store_model=True,\n",
    "                                    model_name='full_oversample', \n",
    "                                    prefix=ALGORITHM_NAME,\n",
    "                                    country=COUNTRY,\n",
    "                                    model=model, \n",
    "                                    features=coefs)"
   ]
  },
  {
   "cell_type": "markdown",
   "metadata": {},
   "source": [
    "## GridSearchCV <a class=\"anchor\" id=\"grid-search\"></a>\n",
    "\n",
    "As with all of the models we will be building, it is good practice to apply cross validation to avoid overfitting the data. LDA in Scikit-Learn does not have a specific version that performs cross validation. There are, however, other useful modules within Scikit-Learn that are more generalized and allow us to apply this functionality to any classifier. One that we will be using throughout this project is [GridSearchCV](http://scikit-learn.org/stable/modules/generated/sklearn.model_selection.GridSearchCV.html#sklearn.model_selection.GridSearchCV). This function allows us to tune parameters and conduct cross validation simultaneously. \n",
    "\n",
    "When we build a model using this function, we will need to declare the estimator and parameter grid. In the case of LDA, we do not have any model parameters to tune, but there are options for different solvers to use, so we can test each of these out using GridSearchCV to find the one that gives us the best performance."
   ]
  },
  {
   "cell_type": "code",
   "execution_count": 12,
   "metadata": {
    "collapsed": false
   },
   "outputs": [
    {
     "name": "stdout",
     "output_type": "stream",
     "text": [
      "X shape after oversampling:  (96680, 453)\n",
      "Fitting 5 folds for each of 1 candidates, totalling 5 fits\n"
     ]
    },
    {
     "name": "stderr",
     "output_type": "stream",
     "text": [
      "/home/bull/miniconda3/envs/worldbank-poverty-test/lib/python3.6/site-packages/sklearn/discriminant_analysis.py:388: UserWarning: Variables are collinear.\n",
      "  warnings.warn(\"Variables are collinear.\")\n",
      "/home/bull/miniconda3/envs/worldbank-poverty-test/lib/python3.6/site-packages/sklearn/discriminant_analysis.py:388: UserWarning: Variables are collinear.\n",
      "  warnings.warn(\"Variables are collinear.\")\n",
      "/home/bull/miniconda3/envs/worldbank-poverty-test/lib/python3.6/site-packages/sklearn/discriminant_analysis.py:388: UserWarning: Variables are collinear.\n",
      "  warnings.warn(\"Variables are collinear.\")\n",
      "/home/bull/miniconda3/envs/worldbank-poverty-test/lib/python3.6/site-packages/sklearn/discriminant_analysis.py:388: UserWarning: Variables are collinear.\n",
      "  warnings.warn(\"Variables are collinear.\")\n",
      "/home/bull/miniconda3/envs/worldbank-poverty-test/lib/python3.6/site-packages/sklearn/discriminant_analysis.py:388: UserWarning: Variables are collinear.\n",
      "  warnings.warn(\"Variables are collinear.\")\n",
      "[Parallel(n_jobs=1)]: Done   5 out of   5 | elapsed:  4.5min finished\n",
      "/home/bull/miniconda3/envs/worldbank-poverty-test/lib/python3.6/site-packages/sklearn/discriminant_analysis.py:388: UserWarning: Variables are collinear.\n",
      "  warnings.warn(\"Variables are collinear.\")\n"
     ]
    },
    {
     "name": "stdout",
     "output_type": "stream",
     "text": [
      "CPU times: user 3min 5s, sys: 10min 4s, total: 13min 10s\n",
      "Wall time: 5min 44s\n",
      "CPU times: user 201 ms, sys: 621 ms, total: 822 ms\n",
      "Wall time: 564 ms\n",
      "In-sample score: 89.34%\n",
      "Best model parameters: {'solver': 'svd'}\n"
     ]
    },
    {
     "name": "stderr",
     "output_type": "stream",
     "text": [
      "/home/bull/miniconda3/envs/worldbank-poverty-test/lib/python3.6/site-packages/matplotlib/cbook/deprecation.py:107: MatplotlibDeprecationWarning: Passing one of 'on', 'true', 'off', 'false' as a boolean is deprecated; use an actual boolean (True/False) instead.\n",
      "  warnings.warn(message, mplDeprecation, stacklevel=1)\n"
     ]
    },
    {
     "data": {
      "image/png": "[encoded data removed]",
      "text/plain": [
       "<Figure size 720x288 with 3 Axes>"
      ]
     },
     "metadata": {},
     "output_type": "display_data"
    },
    {
     "data": {
      "text/html": [
       "<style  type=\"text/css\" >\n",
       "    #T_5b5835f6_6c88_11e8_97ef_0010c6b1e647row0_col4 {\n",
       "            background-color:  steelblue;\n",
       "        }    #T_5b5835f6_6c88_11e8_97ef_0010c6b1e647row1_col1 {\n",
       "            background-color:  steelblue;\n",
       "        }    #T_5b5835f6_6c88_11e8_97ef_0010c6b1e647row2_col4 {\n",
       "            background-color:  steelblue;\n",
       "        }    #T_5b5835f6_6c88_11e8_97ef_0010c6b1e647row3_col4 {\n",
       "            background-color:  steelblue;\n",
       "        }    #T_5b5835f6_6c88_11e8_97ef_0010c6b1e647row4_col4 {\n",
       "            background-color:  steelblue;\n",
       "        }    #T_5b5835f6_6c88_11e8_97ef_0010c6b1e647row5_col4 {\n",
       "            background-color:  steelblue;\n",
       "        }    #T_5b5835f6_6c88_11e8_97ef_0010c6b1e647row6_col4 {\n",
       "            background-color:  steelblue;\n",
       "        }</style>  \n",
       "<table id=\"T_5b5835f6_6c88_11e8_97ef_0010c6b1e647\" ><caption>Model Scores</caption> \n",
       "<thead>    <tr> \n",
       "        <th class=\"blank level0\" ></th> \n",
       "        <th class=\"col_heading level0 col0\" >lda_full_oversample_cv</th> \n",
       "        <th class=\"col_heading level0 col1\" >lda_full_classwts</th> \n",
       "        <th class=\"col_heading level0 col2\" >lda_full_oversample</th> \n",
       "        <th class=\"col_heading level0 col3\" >lda_full_undersample</th> \n",
       "        <th class=\"col_heading level0 col4\" >lr_full_oversample_cv</th> \n",
       "    </tr></thead> \n",
       "<tbody>    <tr> \n",
       "        <th id=\"T_5b5835f6_6c88_11e8_97ef_0010c6b1e647level0_row0\" class=\"row_heading level0 row0\" >accuracy</th> \n",
       "        <td id=\"T_5b5835f6_6c88_11e8_97ef_0010c6b1e647row0_col0\" class=\"data row0 col0\" >0.813904</td> \n",
       "        <td id=\"T_5b5835f6_6c88_11e8_97ef_0010c6b1e647row0_col1\" class=\"data row0 col1\" >0.506179</td> \n",
       "        <td id=\"T_5b5835f6_6c88_11e8_97ef_0010c6b1e647row0_col2\" class=\"data row0 col2\" >0.815948</td> \n",
       "        <td id=\"T_5b5835f6_6c88_11e8_97ef_0010c6b1e647row0_col3\" class=\"data row0 col3\" >0.789215</td> \n",
       "        <td id=\"T_5b5835f6_6c88_11e8_97ef_0010c6b1e647row0_col4\" class=\"data row0 col4\" >0.851611</td> \n",
       "    </tr>    <tr> \n",
       "        <th id=\"T_5b5835f6_6c88_11e8_97ef_0010c6b1e647level0_row1\" class=\"row_heading level0 row1\" >recall</th> \n",
       "        <td id=\"T_5b5835f6_6c88_11e8_97ef_0010c6b1e647row1_col0\" class=\"data row1 col0\" >0.886697</td> \n",
       "        <td id=\"T_5b5835f6_6c88_11e8_97ef_0010c6b1e647row1_col1\" class=\"data row1 col1\" >0.988916</td> \n",
       "        <td id=\"T_5b5835f6_6c88_11e8_97ef_0010c6b1e647row1_col2\" class=\"data row1 col2\" >0.8906</td> \n",
       "        <td id=\"T_5b5835f6_6c88_11e8_97ef_0010c6b1e647row1_col3\" class=\"data row1 col3\" >0.920365</td> \n",
       "        <td id=\"T_5b5835f6_6c88_11e8_97ef_0010c6b1e647row1_col4\" class=\"data row1 col4\" >0.838116</td> \n",
       "    </tr>    <tr> \n",
       "        <th id=\"T_5b5835f6_6c88_11e8_97ef_0010c6b1e647level0_row2\" class=\"row_heading level0 row2\" >precision</th> \n",
       "        <td id=\"T_5b5835f6_6c88_11e8_97ef_0010c6b1e647row2_col0\" class=\"data row2 col0\" >0.371896</td> \n",
       "        <td id=\"T_5b5835f6_6c88_11e8_97ef_0010c6b1e647row2_col1\" class=\"data row2 col1\" >0.188279</td> \n",
       "        <td id=\"T_5b5835f6_6c88_11e8_97ef_0010c6b1e647row2_col2\" class=\"data row2 col2\" >0.375087</td> \n",
       "        <td id=\"T_5b5835f6_6c88_11e8_97ef_0010c6b1e647row2_col3\" class=\"data row2 col3\" >0.345313</td> \n",
       "        <td id=\"T_5b5835f6_6c88_11e8_97ef_0010c6b1e647row2_col4\" class=\"data row2 col4\" >0.427456</td> \n",
       "    </tr>    <tr> \n",
       "        <th id=\"T_5b5835f6_6c88_11e8_97ef_0010c6b1e647level0_row3\" class=\"row_heading level0 row3\" >f1</th> \n",
       "        <td id=\"T_5b5835f6_6c88_11e8_97ef_0010c6b1e647row3_col0\" class=\"data row3 col0\" >0.524012</td> \n",
       "        <td id=\"T_5b5835f6_6c88_11e8_97ef_0010c6b1e647row3_col1\" class=\"data row3 col1\" >0.316331</td> \n",
       "        <td id=\"T_5b5835f6_6c88_11e8_97ef_0010c6b1e647row3_col2\" class=\"data row3 col2\" >0.52786</td> \n",
       "        <td id=\"T_5b5835f6_6c88_11e8_97ef_0010c6b1e647row3_col3\" class=\"data row3 col3\" >0.502203</td> \n",
       "        <td id=\"T_5b5835f6_6c88_11e8_97ef_0010c6b1e647row3_col4\" class=\"data row3 col4\" >0.566159</td> \n",
       "    </tr>    <tr> \n",
       "        <th id=\"T_5b5835f6_6c88_11e8_97ef_0010c6b1e647level0_row4\" class=\"row_heading level0 row4\" >cross_entropy</th> \n",
       "        <td id=\"T_5b5835f6_6c88_11e8_97ef_0010c6b1e647row4_col0\" class=\"data row4 col0\" >0.426183</td> \n",
       "        <td id=\"T_5b5835f6_6c88_11e8_97ef_0010c6b1e647row4_col1\" class=\"data row4 col1\" >1.16564</td> \n",
       "        <td id=\"T_5b5835f6_6c88_11e8_97ef_0010c6b1e647row4_col2\" class=\"data row4 col2\" >0.424324</td> \n",
       "        <td id=\"T_5b5835f6_6c88_11e8_97ef_0010c6b1e647row4_col3\" class=\"data row4 col3\" >0.484488</td> \n",
       "        <td id=\"T_5b5835f6_6c88_11e8_97ef_0010c6b1e647row4_col4\" class=\"data row4 col4\" >0.348544</td> \n",
       "    </tr>    <tr> \n",
       "        <th id=\"T_5b5835f6_6c88_11e8_97ef_0010c6b1e647level0_row5\" class=\"row_heading level0 row5\" >roc_auc</th> \n",
       "        <td id=\"T_5b5835f6_6c88_11e8_97ef_0010c6b1e647row5_col0\" class=\"data row5 col0\" >0.92172</td> \n",
       "        <td id=\"T_5b5835f6_6c88_11e8_97ef_0010c6b1e647row5_col1\" class=\"data row5 col1\" >0.911848</td> \n",
       "        <td id=\"T_5b5835f6_6c88_11e8_97ef_0010c6b1e647row5_col2\" class=\"data row5 col2\" >0.921219</td> \n",
       "        <td id=\"T_5b5835f6_6c88_11e8_97ef_0010c6b1e647row5_col3\" class=\"data row5 col3\" >0.92041</td> \n",
       "        <td id=\"T_5b5835f6_6c88_11e8_97ef_0010c6b1e647row5_col4\" class=\"data row5 col4\" >0.925356</td> \n",
       "    </tr>    <tr> \n",
       "        <th id=\"T_5b5835f6_6c88_11e8_97ef_0010c6b1e647level0_row6\" class=\"row_heading level0 row6\" >cohen_kappa</th> \n",
       "        <td id=\"T_5b5835f6_6c88_11e8_97ef_0010c6b1e647row6_col0\" class=\"data row6 col0\" >0.406539</td> \n",
       "        <td id=\"T_5b5835f6_6c88_11e8_97ef_0010c6b1e647row6_col1\" class=\"data row6 col1\" >0.150084</td> \n",
       "        <td id=\"T_5b5835f6_6c88_11e8_97ef_0010c6b1e647row6_col2\" class=\"data row6 col2\" >0.408593</td> \n",
       "        <td id=\"T_5b5835f6_6c88_11e8_97ef_0010c6b1e647row6_col3\" class=\"data row6 col3\" >0.378004</td> \n",
       "        <td id=\"T_5b5835f6_6c88_11e8_97ef_0010c6b1e647row6_col4\" class=\"data row6 col4\" >0.471316</td> \n",
       "    </tr></tbody> \n",
       "</table> "
      ],
      "text/plain": [
       "<pandas.io.formats.style.Styler at 0x7f8345dffac8>"
      ]
     },
     "metadata": {},
     "output_type": "display_data"
    },
    {
     "name": "stdout",
     "output_type": "stream",
     "text": [
      "Actual poverty rate: 11.38% \n",
      "Predicted poverty rate: 26.67% \n"
     ]
    }
   ],
   "source": [
    "from sklearn.model_selection import GridSearchCV\n",
    "\n",
    "# Load and transform the training data\n",
    "X_train, y_train, w_train = load_data(TRAIN_PATH)\n",
    "cols = X_train.columns\n",
    "\n",
    "# Apply oversampling with SMOTE\n",
    "X_train, y_train = SMOTE().fit_sample(X_train, y_train)\n",
    "print(\"X shape after oversampling: \", X_train.shape)\n",
    "X_train = pd.DataFrame(X_train, columns=cols)\n",
    "\n",
    "# build the model\n",
    "estimator = LinearDiscriminantAnalysis()\n",
    "parameters = {'solver': ['svd']}\n",
    "\n",
    "model = GridSearchCV(estimator, parameters, cv=5, verbose=1)\n",
    "%time model.fit(X_train, y_train)\n",
    "\n",
    "# Get an initial score\n",
    "%time score = model.score(X_train, y_train)\n",
    "print(\"In-sample score: {:0.2%}\".format(score))\n",
    "coefs = get_coefs_df(X_train, model.best_estimator_.coef_[0])\n",
    "print(\"Best model parameters:\", model.best_params_)\n",
    "\n",
    "# Load the test set\n",
    "X_test, y_test, w_test = load_data(TEST_PATH)\n",
    "\n",
    "# Run the model\n",
    "y_pred = model.predict(X_test)\n",
    "y_prob = model.predict_proba(X_test)[:,1]\n",
    "\n",
    "# Evaluate performance and store model\n",
    "metrics = evaluation.evaluate_model(y_test, y_pred, y_prob, w_test,\n",
    "                                    compare_models=['lda_full_classwts',\n",
    "                                                    'lda_full_oversample',\n",
    "                                                    'lda_full_undersample', \n",
    "                                                    'lr_full_oversample_cv'],\n",
    "                                    store_model=True,\n",
    "                                    model_name='full_oversample_cv', \n",
    "                                    prefix=ALGORITHM_NAME,\n",
    "                                    country=COUNTRY,\n",
    "                                    model=model, \n",
    "                                    features=coefs)\n",
    "X_train_best_model = X_train"
   ]
  },
  {
   "cell_type": "markdown",
   "metadata": {},
   "source": [
    "Cross validation for this model has only a minor impact on performance. As with Logistic Regression, we tend to get better recall using undersamping, but better overall performance using oversampling. "
   ]
  },
  {
   "cell_type": "markdown",
   "metadata": {},
   "source": [
    "# Feature selection <a class=\"anchor\" id=\"feature-selection\"></a>"
   ]
  },
  {
   "cell_type": "code",
   "execution_count": 13,
   "metadata": {
    "collapsed": true
   },
   "outputs": [],
   "source": [
    "def get_corrs_df(X, model):\n",
    "    X_lda = model.transform(X)\n",
    "    corrs = []\n",
    "    for col in X.columns:\n",
    "        corrs.append(np.corrcoef(np.ravel(X_lda),X[col])[0][1])\n",
    "    corrs = pd.DataFrame(corrs, columns=['correlation'], index=X.columns)\n",
    "    corrs['abs'] = corrs.correlation.apply(abs)\n",
    "    return corrs.sort_values('abs', ascending=False)"
   ]
  },
  {
   "cell_type": "code",
   "execution_count": 14,
   "metadata": {
    "collapsed": false
   },
   "outputs": [
    {
     "data": {
      "text/html": [
       "<div>\n",
       "<style scoped>\n",
       "    .dataframe tbody tr th:only-of-type {\n",
       "        vertical-align: middle;\n",
       "    }\n",
       "\n",
       "    .dataframe tbody tr th {\n",
       "        vertical-align: top;\n",
       "    }\n",
       "\n",
       "    .dataframe thead th {\n",
       "        text-align: right;\n",
       "    }\n",
       "</style>\n",
       "<table border=\"1\" class=\"dataframe\">\n",
       "  <thead>\n",
       "    <tr style=\"text-align: right;\">\n",
       "      <th></th>\n",
       "      <th>correlation</th>\n",
       "      <th>abs</th>\n",
       "    </tr>\n",
       "  </thead>\n",
       "  <tbody>\n",
       "    <tr>\n",
       "      <th>hld_cooking__Firewood</th>\n",
       "      <td>0.543823</td>\n",
       "      <td>0.543823</td>\n",
       "    </tr>\n",
       "    <tr>\n",
       "      <th>hld_refrigerator__Yes</th>\n",
       "      <td>-0.523712</td>\n",
       "      <td>0.523712</td>\n",
       "    </tr>\n",
       "    <tr>\n",
       "      <th>cons_254__Yes</th>\n",
       "      <td>0.510001</td>\n",
       "      <td>0.510001</td>\n",
       "    </tr>\n",
       "    <tr>\n",
       "      <th>hld_motorcycle__Yes</th>\n",
       "      <td>-0.504780</td>\n",
       "      <td>0.504780</td>\n",
       "    </tr>\n",
       "    <tr>\n",
       "      <th>hld_nbcell</th>\n",
       "      <td>-0.500855</td>\n",
       "      <td>0.500855</td>\n",
       "    </tr>\n",
       "    <tr>\n",
       "      <th>cons_292__Yes</th>\n",
       "      <td>-0.487436</td>\n",
       "      <td>0.487436</td>\n",
       "    </tr>\n",
       "    <tr>\n",
       "      <th>cons_296__Yes</th>\n",
       "      <td>-0.446604</td>\n",
       "      <td>0.446604</td>\n",
       "    </tr>\n",
       "    <tr>\n",
       "      <th>cons_266__Yes</th>\n",
       "      <td>-0.443669</td>\n",
       "      <td>0.443669</td>\n",
       "    </tr>\n",
       "    <tr>\n",
       "      <th>hld_anycell__Yes</th>\n",
       "      <td>-0.417960</td>\n",
       "      <td>0.417960</td>\n",
       "    </tr>\n",
       "    <tr>\n",
       "      <th>cons_212__Yes</th>\n",
       "      <td>-0.416595</td>\n",
       "      <td>0.416595</td>\n",
       "    </tr>\n",
       "    <tr>\n",
       "      <th>hld_dwateracq__Not buying</th>\n",
       "      <td>0.412780</td>\n",
       "      <td>0.412780</td>\n",
       "    </tr>\n",
       "    <tr>\n",
       "      <th>cons_257__Yes</th>\n",
       "      <td>-0.409127</td>\n",
       "      <td>0.409127</td>\n",
       "    </tr>\n",
       "    <tr>\n",
       "      <th>hld_disposal__Tank/septic tank</th>\n",
       "      <td>-0.402787</td>\n",
       "      <td>0.402787</td>\n",
       "    </tr>\n",
       "    <tr>\n",
       "      <th>cons_072__Yes</th>\n",
       "      <td>-0.399186</td>\n",
       "      <td>0.399186</td>\n",
       "    </tr>\n",
       "    <tr>\n",
       "      <th>cons_058__Yes</th>\n",
       "      <td>-0.398127</td>\n",
       "      <td>0.398127</td>\n",
       "    </tr>\n",
       "    <tr>\n",
       "      <th>cons_297__Yes</th>\n",
       "      <td>-0.390916</td>\n",
       "      <td>0.390916</td>\n",
       "    </tr>\n",
       "    <tr>\n",
       "      <th>cons_205__Yes</th>\n",
       "      <td>-0.390478</td>\n",
       "      <td>0.390478</td>\n",
       "    </tr>\n",
       "    <tr>\n",
       "      <th>hld_dwatershr__Not applicable</th>\n",
       "      <td>-0.389461</td>\n",
       "      <td>0.389461</td>\n",
       "    </tr>\n",
       "    <tr>\n",
       "      <th>hld_cooking__Gas/LPG</th>\n",
       "      <td>-0.387590</td>\n",
       "      <td>0.387590</td>\n",
       "    </tr>\n",
       "    <tr>\n",
       "      <th>der_hhsize</th>\n",
       "      <td>0.365231</td>\n",
       "      <td>0.365231</td>\n",
       "    </tr>\n",
       "  </tbody>\n",
       "</table>\n",
       "</div>"
      ],
      "text/plain": [
       "                                correlation       abs\n",
       "hld_cooking__Firewood              0.543823  0.543823\n",
       "hld_refrigerator__Yes             -0.523712  0.523712\n",
       "cons_254__Yes                      0.510001  0.510001\n",
       "hld_motorcycle__Yes               -0.504780  0.504780\n",
       "hld_nbcell                        -0.500855  0.500855\n",
       "cons_292__Yes                     -0.487436  0.487436\n",
       "cons_296__Yes                     -0.446604  0.446604\n",
       "cons_266__Yes                     -0.443669  0.443669\n",
       "hld_anycell__Yes                  -0.417960  0.417960\n",
       "cons_212__Yes                     -0.416595  0.416595\n",
       "hld_dwateracq__Not buying          0.412780  0.412780\n",
       "cons_257__Yes                     -0.409127  0.409127\n",
       "hld_disposal__Tank/septic tank    -0.402787  0.402787\n",
       "cons_072__Yes                     -0.399186  0.399186\n",
       "cons_058__Yes                     -0.398127  0.398127\n",
       "cons_297__Yes                     -0.390916  0.390916\n",
       "cons_205__Yes                     -0.390478  0.390478\n",
       "hld_dwatershr__Not applicable     -0.389461  0.389461\n",
       "hld_cooking__Gas/LPG              -0.387590  0.387590\n",
       "der_hhsize                         0.365231  0.365231"
      ]
     },
     "metadata": {},
     "output_type": "display_data"
    }
   ],
   "source": [
    "corrs = get_corrs_df(X_train, model.best_estimator_)\n",
    "display(corrs.head(20))\n",
    "feats = corrs.index.values"
   ]
  },
  {
   "cell_type": "code",
   "execution_count": 15,
   "metadata": {
    "collapsed": false
   },
   "outputs": [
    {
     "name": "stderr",
     "output_type": "stream",
     "text": [
      "/home/bull/miniconda3/envs/worldbank-poverty-test/lib/python3.6/site-packages/sklearn/discriminant_analysis.py:388: UserWarning: Variables are collinear.\n",
      "  warnings.warn(\"Variables are collinear.\")\n",
      "/home/bull/miniconda3/envs/worldbank-poverty-test/lib/python3.6/site-packages/sklearn/discriminant_analysis.py:388: UserWarning: Variables are collinear.\n",
      "  warnings.warn(\"Variables are collinear.\")\n",
      "/home/bull/miniconda3/envs/worldbank-poverty-test/lib/python3.6/site-packages/sklearn/discriminant_analysis.py:388: UserWarning: Variables are collinear.\n",
      "  warnings.warn(\"Variables are collinear.\")\n",
      "/home/bull/miniconda3/envs/worldbank-poverty-test/lib/python3.6/site-packages/sklearn/discriminant_analysis.py:388: UserWarning: Variables are collinear.\n",
      "  warnings.warn(\"Variables are collinear.\")\n"
     ]
    },
    {
     "name": "stdout",
     "output_type": "stream",
     "text": [
      "n: 154, f1: 0.5015808475487137, lowest coef: cons_145__Yes\n"
     ]
    },
    {
     "name": "stderr",
     "output_type": "stream",
     "text": [
      "/home/bull/miniconda3/envs/worldbank-poverty-test/lib/python3.6/site-packages/sklearn/discriminant_analysis.py:388: UserWarning: Variables are collinear.\n",
      "  warnings.warn(\"Variables are collinear.\")\n",
      "/home/bull/miniconda3/envs/worldbank-poverty-test/lib/python3.6/site-packages/sklearn/discriminant_analysis.py:388: UserWarning: Variables are collinear.\n",
      "  warnings.warn(\"Variables are collinear.\")\n",
      "/home/bull/miniconda3/envs/worldbank-poverty-test/lib/python3.6/site-packages/sklearn/discriminant_analysis.py:388: UserWarning: Variables are collinear.\n",
      "  warnings.warn(\"Variables are collinear.\")\n",
      "/home/bull/miniconda3/envs/worldbank-poverty-test/lib/python3.6/site-packages/sklearn/discriminant_analysis.py:388: UserWarning: Variables are collinear.\n",
      "  warnings.warn(\"Variables are collinear.\")\n"
     ]
    },
    {
     "name": "stdout",
     "output_type": "stream",
     "text": [
      "n: 153, f1: 0.5024924454514307, lowest coef: cons_276__Yes\n"
     ]
    },
    {
     "name": "stderr",
     "output_type": "stream",
     "text": [
      "/home/bull/miniconda3/envs/worldbank-poverty-test/lib/python3.6/site-packages/sklearn/discriminant_analysis.py:388: UserWarning: Variables are collinear.\n",
      "  warnings.warn(\"Variables are collinear.\")\n",
      "/home/bull/miniconda3/envs/worldbank-poverty-test/lib/python3.6/site-packages/sklearn/discriminant_analysis.py:388: UserWarning: Variables are collinear.\n",
      "  warnings.warn(\"Variables are collinear.\")\n",
      "/home/bull/miniconda3/envs/worldbank-poverty-test/lib/python3.6/site-packages/sklearn/discriminant_analysis.py:388: UserWarning: Variables are collinear.\n",
      "  warnings.warn(\"Variables are collinear.\")\n",
      "/home/bull/miniconda3/envs/worldbank-poverty-test/lib/python3.6/site-packages/sklearn/discriminant_analysis.py:388: UserWarning: Variables are collinear.\n",
      "  warnings.warn(\"Variables are collinear.\")\n"
     ]
    },
    {
     "name": "stdout",
     "output_type": "stream",
     "text": [
      "n: 152, f1: 0.5013528287342875, lowest coef: cons_180__Yes\n"
     ]
    },
    {
     "name": "stderr",
     "output_type": "stream",
     "text": [
      "/home/bull/miniconda3/envs/worldbank-poverty-test/lib/python3.6/site-packages/sklearn/discriminant_analysis.py:388: UserWarning: Variables are collinear.\n",
      "  warnings.warn(\"Variables are collinear.\")\n",
      "/home/bull/miniconda3/envs/worldbank-poverty-test/lib/python3.6/site-packages/sklearn/discriminant_analysis.py:388: UserWarning: Variables are collinear.\n",
      "  warnings.warn(\"Variables are collinear.\")\n",
      "/home/bull/miniconda3/envs/worldbank-poverty-test/lib/python3.6/site-packages/sklearn/discriminant_analysis.py:388: UserWarning: Variables are collinear.\n",
      "  warnings.warn(\"Variables are collinear.\")\n",
      "/home/bull/miniconda3/envs/worldbank-poverty-test/lib/python3.6/site-packages/sklearn/discriminant_analysis.py:388: UserWarning: Variables are collinear.\n",
      "  warnings.warn(\"Variables are collinear.\")\n"
     ]
    },
    {
     "name": "stdout",
     "output_type": "stream",
     "text": [
      "n: 151, f1: 0.5019140703782125, lowest coef: hld_occstat__Rent\n"
     ]
    },
    {
     "name": "stderr",
     "output_type": "stream",
     "text": [
      "/home/bull/miniconda3/envs/worldbank-poverty-test/lib/python3.6/site-packages/sklearn/discriminant_analysis.py:388: UserWarning: Variables are collinear.\n",
      "  warnings.warn(\"Variables are collinear.\")\n",
      "/home/bull/miniconda3/envs/worldbank-poverty-test/lib/python3.6/site-packages/sklearn/discriminant_analysis.py:388: UserWarning: Variables are collinear.\n",
      "  warnings.warn(\"Variables are collinear.\")\n",
      "/home/bull/miniconda3/envs/worldbank-poverty-test/lib/python3.6/site-packages/sklearn/discriminant_analysis.py:388: UserWarning: Variables are collinear.\n",
      "  warnings.warn(\"Variables are collinear.\")\n",
      "/home/bull/miniconda3/envs/worldbank-poverty-test/lib/python3.6/site-packages/sklearn/discriminant_analysis.py:388: UserWarning: Variables are collinear.\n",
      "  warnings.warn(\"Variables are collinear.\")\n"
     ]
    },
    {
     "name": "stdout",
     "output_type": "stream",
     "text": [
      "n: 150, f1: 0.5021729798488014, lowest coef: hld_dwater__Protected spring\n"
     ]
    },
    {
     "name": "stderr",
     "output_type": "stream",
     "text": [
      "/home/bull/miniconda3/envs/worldbank-poverty-test/lib/python3.6/site-packages/sklearn/discriminant_analysis.py:388: UserWarning: Variables are collinear.\n",
      "  warnings.warn(\"Variables are collinear.\")\n",
      "/home/bull/miniconda3/envs/worldbank-poverty-test/lib/python3.6/site-packages/sklearn/discriminant_analysis.py:388: UserWarning: Variables are collinear.\n",
      "  warnings.warn(\"Variables are collinear.\")\n",
      "/home/bull/miniconda3/envs/worldbank-poverty-test/lib/python3.6/site-packages/sklearn/discriminant_analysis.py:388: UserWarning: Variables are collinear.\n",
      "  warnings.warn(\"Variables are collinear.\")\n",
      "/home/bull/miniconda3/envs/worldbank-poverty-test/lib/python3.6/site-packages/sklearn/discriminant_analysis.py:388: UserWarning: Variables are collinear.\n",
      "  warnings.warn(\"Variables are collinear.\")\n"
     ]
    },
    {
     "name": "stdout",
     "output_type": "stream",
     "text": [
      "n: 149, f1: 0.5031035514276561, lowest coef: cons_325__Yes\n"
     ]
    },
    {
     "name": "stderr",
     "output_type": "stream",
     "text": [
      "/home/bull/miniconda3/envs/worldbank-poverty-test/lib/python3.6/site-packages/sklearn/discriminant_analysis.py:388: UserWarning: Variables are collinear.\n",
      "  warnings.warn(\"Variables are collinear.\")\n",
      "/home/bull/miniconda3/envs/worldbank-poverty-test/lib/python3.6/site-packages/sklearn/discriminant_analysis.py:388: UserWarning: Variables are collinear.\n",
      "  warnings.warn(\"Variables are collinear.\")\n",
      "/home/bull/miniconda3/envs/worldbank-poverty-test/lib/python3.6/site-packages/sklearn/discriminant_analysis.py:388: UserWarning: Variables are collinear.\n",
      "  warnings.warn(\"Variables are collinear.\")\n",
      "/home/bull/miniconda3/envs/worldbank-poverty-test/lib/python3.6/site-packages/sklearn/discriminant_analysis.py:388: UserWarning: Variables are collinear.\n",
      "  warnings.warn(\"Variables are collinear.\")\n"
     ]
    },
    {
     "name": "stdout",
     "output_type": "stream",
     "text": [
      "n: 148, f1: 0.5025232886238248, lowest coef: cons_002__Yes\n"
     ]
    },
    {
     "name": "stderr",
     "output_type": "stream",
     "text": [
      "/home/bull/miniconda3/envs/worldbank-poverty-test/lib/python3.6/site-packages/sklearn/discriminant_analysis.py:388: UserWarning: Variables are collinear.\n",
      "  warnings.warn(\"Variables are collinear.\")\n",
      "/home/bull/miniconda3/envs/worldbank-poverty-test/lib/python3.6/site-packages/sklearn/discriminant_analysis.py:388: UserWarning: Variables are collinear.\n",
      "  warnings.warn(\"Variables are collinear.\")\n",
      "/home/bull/miniconda3/envs/worldbank-poverty-test/lib/python3.6/site-packages/sklearn/discriminant_analysis.py:388: UserWarning: Variables are collinear.\n",
      "  warnings.warn(\"Variables are collinear.\")\n",
      "/home/bull/miniconda3/envs/worldbank-poverty-test/lib/python3.6/site-packages/sklearn/discriminant_analysis.py:388: UserWarning: Variables are collinear.\n",
      "  warnings.warn(\"Variables are collinear.\")\n"
     ]
    },
    {
     "name": "stdout",
     "output_type": "stream",
     "text": [
      "n: 147, f1: 0.5014368373518395, lowest coef: hld_dwateracq__Customer-based\n"
     ]
    },
    {
     "name": "stderr",
     "output_type": "stream",
     "text": [
      "/home/bull/miniconda3/envs/worldbank-poverty-test/lib/python3.6/site-packages/sklearn/discriminant_analysis.py:388: UserWarning: Variables are collinear.\n",
      "  warnings.warn(\"Variables are collinear.\")\n",
      "/home/bull/miniconda3/envs/worldbank-poverty-test/lib/python3.6/site-packages/sklearn/discriminant_analysis.py:388: UserWarning: Variables are collinear.\n",
      "  warnings.warn(\"Variables are collinear.\")\n",
      "/home/bull/miniconda3/envs/worldbank-poverty-test/lib/python3.6/site-packages/sklearn/discriminant_analysis.py:388: UserWarning: Variables are collinear.\n",
      "  warnings.warn(\"Variables are collinear.\")\n",
      "/home/bull/miniconda3/envs/worldbank-poverty-test/lib/python3.6/site-packages/sklearn/discriminant_analysis.py:388: UserWarning: Variables are collinear.\n",
      "  warnings.warn(\"Variables are collinear.\")\n"
     ]
    },
    {
     "name": "stdout",
     "output_type": "stream",
     "text": [
      "n: 146, f1: 0.5003281236329501, lowest coef: geo_province__Papua\n"
     ]
    },
    {
     "name": "stderr",
     "output_type": "stream",
     "text": [
      "/home/bull/miniconda3/envs/worldbank-poverty-test/lib/python3.6/site-packages/sklearn/discriminant_analysis.py:388: UserWarning: Variables are collinear.\n",
      "  warnings.warn(\"Variables are collinear.\")\n",
      "/home/bull/miniconda3/envs/worldbank-poverty-test/lib/python3.6/site-packages/sklearn/discriminant_analysis.py:388: UserWarning: Variables are collinear.\n",
      "  warnings.warn(\"Variables are collinear.\")\n",
      "/home/bull/miniconda3/envs/worldbank-poverty-test/lib/python3.6/site-packages/sklearn/discriminant_analysis.py:388: UserWarning: Variables are collinear.\n",
      "  warnings.warn(\"Variables are collinear.\")\n",
      "/home/bull/miniconda3/envs/worldbank-poverty-test/lib/python3.6/site-packages/sklearn/discriminant_analysis.py:388: UserWarning: Variables are collinear.\n",
      "  warnings.warn(\"Variables are collinear.\")\n"
     ]
    },
    {
     "name": "stdout",
     "output_type": "stream",
     "text": [
      "n: 145, f1: 0.5002103659745528, lowest coef: hld_lighting__Other\n"
     ]
    },
    {
     "name": "stderr",
     "output_type": "stream",
     "text": [
      "/home/bull/miniconda3/envs/worldbank-poverty-test/lib/python3.6/site-packages/sklearn/discriminant_analysis.py:388: UserWarning: Variables are collinear.\n",
      "  warnings.warn(\"Variables are collinear.\")\n",
      "/home/bull/miniconda3/envs/worldbank-poverty-test/lib/python3.6/site-packages/sklearn/discriminant_analysis.py:388: UserWarning: Variables are collinear.\n",
      "  warnings.warn(\"Variables are collinear.\")\n",
      "/home/bull/miniconda3/envs/worldbank-poverty-test/lib/python3.6/site-packages/sklearn/discriminant_analysis.py:388: UserWarning: Variables are collinear.\n",
      "  warnings.warn(\"Variables are collinear.\")\n",
      "/home/bull/miniconda3/envs/worldbank-poverty-test/lib/python3.6/site-packages/sklearn/discriminant_analysis.py:388: UserWarning: Variables are collinear.\n",
      "  warnings.warn(\"Variables are collinear.\")\n"
     ]
    },
    {
     "name": "stdout",
     "output_type": "stream",
     "text": [
      "n: 144, f1: 0.5000252384254147, lowest coef: cons_329__Yes\n"
     ]
    },
    {
     "name": "stderr",
     "output_type": "stream",
     "text": [
      "/home/bull/miniconda3/envs/worldbank-poverty-test/lib/python3.6/site-packages/sklearn/discriminant_analysis.py:388: UserWarning: Variables are collinear.\n",
      "  warnings.warn(\"Variables are collinear.\")\n",
      "/home/bull/miniconda3/envs/worldbank-poverty-test/lib/python3.6/site-packages/sklearn/discriminant_analysis.py:388: UserWarning: Variables are collinear.\n",
      "  warnings.warn(\"Variables are collinear.\")\n",
      "/home/bull/miniconda3/envs/worldbank-poverty-test/lib/python3.6/site-packages/sklearn/discriminant_analysis.py:388: UserWarning: Variables are collinear.\n",
      "  warnings.warn(\"Variables are collinear.\")\n",
      "/home/bull/miniconda3/envs/worldbank-poverty-test/lib/python3.6/site-packages/sklearn/discriminant_analysis.py:388: UserWarning: Variables are collinear.\n",
      "  warnings.warn(\"Variables are collinear.\")\n"
     ]
    },
    {
     "name": "stdout",
     "output_type": "stream",
     "text": [
      "n: 143, f1: 0.5001683945861192, lowest coef: hld_disposal__Pit hole\n"
     ]
    },
    {
     "name": "stderr",
     "output_type": "stream",
     "text": [
      "/home/bull/miniconda3/envs/worldbank-poverty-test/lib/python3.6/site-packages/sklearn/discriminant_analysis.py:388: UserWarning: Variables are collinear.\n",
      "  warnings.warn(\"Variables are collinear.\")\n",
      "/home/bull/miniconda3/envs/worldbank-poverty-test/lib/python3.6/site-packages/sklearn/discriminant_analysis.py:388: UserWarning: Variables are collinear.\n",
      "  warnings.warn(\"Variables are collinear.\")\n",
      "/home/bull/miniconda3/envs/worldbank-poverty-test/lib/python3.6/site-packages/sklearn/discriminant_analysis.py:388: UserWarning: Variables are collinear.\n",
      "  warnings.warn(\"Variables are collinear.\")\n",
      "/home/bull/miniconda3/envs/worldbank-poverty-test/lib/python3.6/site-packages/sklearn/discriminant_analysis.py:388: UserWarning: Variables are collinear.\n",
      "  warnings.warn(\"Variables are collinear.\")\n"
     ]
    },
    {
     "name": "stdout",
     "output_type": "stream",
     "text": [
      "n: 142, f1: 0.5012916796095189, lowest coef: cons_185__Yes\n"
     ]
    },
    {
     "name": "stderr",
     "output_type": "stream",
     "text": [
      "/home/bull/miniconda3/envs/worldbank-poverty-test/lib/python3.6/site-packages/sklearn/discriminant_analysis.py:388: UserWarning: Variables are collinear.\n",
      "  warnings.warn(\"Variables are collinear.\")\n",
      "/home/bull/miniconda3/envs/worldbank-poverty-test/lib/python3.6/site-packages/sklearn/discriminant_analysis.py:388: UserWarning: Variables are collinear.\n",
      "  warnings.warn(\"Variables are collinear.\")\n",
      "/home/bull/miniconda3/envs/worldbank-poverty-test/lib/python3.6/site-packages/sklearn/discriminant_analysis.py:388: UserWarning: Variables are collinear.\n",
      "  warnings.warn(\"Variables are collinear.\")\n",
      "/home/bull/miniconda3/envs/worldbank-poverty-test/lib/python3.6/site-packages/sklearn/discriminant_analysis.py:388: UserWarning: Variables are collinear.\n",
      "  warnings.warn(\"Variables are collinear.\")\n"
     ]
    },
    {
     "name": "stdout",
     "output_type": "stream",
     "text": [
      "n: 141, f1: 0.5030875171130469, lowest coef: hld_landstat__Freehold title (HM)\n"
     ]
    },
    {
     "name": "stderr",
     "output_type": "stream",
     "text": [
      "/home/bull/miniconda3/envs/worldbank-poverty-test/lib/python3.6/site-packages/sklearn/discriminant_analysis.py:388: UserWarning: Variables are collinear.\n",
      "  warnings.warn(\"Variables are collinear.\")\n",
      "/home/bull/miniconda3/envs/worldbank-poverty-test/lib/python3.6/site-packages/sklearn/discriminant_analysis.py:388: UserWarning: Variables are collinear.\n",
      "  warnings.warn(\"Variables are collinear.\")\n",
      "/home/bull/miniconda3/envs/worldbank-poverty-test/lib/python3.6/site-packages/sklearn/discriminant_analysis.py:388: UserWarning: Variables are collinear.\n",
      "  warnings.warn(\"Variables are collinear.\")\n",
      "/home/bull/miniconda3/envs/worldbank-poverty-test/lib/python3.6/site-packages/sklearn/discriminant_analysis.py:388: UserWarning: Variables are collinear.\n",
      "  warnings.warn(\"Variables are collinear.\")\n"
     ]
    },
    {
     "name": "stdout",
     "output_type": "stream",
     "text": [
      "n: 140, f1: 0.5028415860809395, lowest coef: cons_148__Yes\n"
     ]
    },
    {
     "name": "stderr",
     "output_type": "stream",
     "text": [
      "/home/bull/miniconda3/envs/worldbank-poverty-test/lib/python3.6/site-packages/sklearn/discriminant_analysis.py:388: UserWarning: Variables are collinear.\n",
      "  warnings.warn(\"Variables are collinear.\")\n",
      "/home/bull/miniconda3/envs/worldbank-poverty-test/lib/python3.6/site-packages/sklearn/discriminant_analysis.py:388: UserWarning: Variables are collinear.\n",
      "  warnings.warn(\"Variables are collinear.\")\n",
      "/home/bull/miniconda3/envs/worldbank-poverty-test/lib/python3.6/site-packages/sklearn/discriminant_analysis.py:388: UserWarning: Variables are collinear.\n",
      "  warnings.warn(\"Variables are collinear.\")\n",
      "/home/bull/miniconda3/envs/worldbank-poverty-test/lib/python3.6/site-packages/sklearn/discriminant_analysis.py:388: UserWarning: Variables are collinear.\n",
      "  warnings.warn(\"Variables are collinear.\")\n"
     ]
    },
    {
     "name": "stdout",
     "output_type": "stream",
     "text": [
      "n: 139, f1: 0.5011597373473173, lowest coef: hld_bwwater__Unprotected spring\n"
     ]
    },
    {
     "name": "stderr",
     "output_type": "stream",
     "text": [
      "/home/bull/miniconda3/envs/worldbank-poverty-test/lib/python3.6/site-packages/sklearn/discriminant_analysis.py:388: UserWarning: Variables are collinear.\n",
      "  warnings.warn(\"Variables are collinear.\")\n",
      "/home/bull/miniconda3/envs/worldbank-poverty-test/lib/python3.6/site-packages/sklearn/discriminant_analysis.py:388: UserWarning: Variables are collinear.\n",
      "  warnings.warn(\"Variables are collinear.\")\n",
      "/home/bull/miniconda3/envs/worldbank-poverty-test/lib/python3.6/site-packages/sklearn/discriminant_analysis.py:388: UserWarning: Variables are collinear.\n",
      "  warnings.warn(\"Variables are collinear.\")\n",
      "/home/bull/miniconda3/envs/worldbank-poverty-test/lib/python3.6/site-packages/sklearn/discriminant_analysis.py:388: UserWarning: Variables are collinear.\n",
      "  warnings.warn(\"Variables are collinear.\")\n"
     ]
    },
    {
     "name": "stdout",
     "output_type": "stream",
     "text": [
      "n: 138, f1: 0.4991014356231638, lowest coef: hld_bicycle__Yes\n"
     ]
    },
    {
     "name": "stderr",
     "output_type": "stream",
     "text": [
      "/home/bull/miniconda3/envs/worldbank-poverty-test/lib/python3.6/site-packages/sklearn/discriminant_analysis.py:388: UserWarning: Variables are collinear.\n",
      "  warnings.warn(\"Variables are collinear.\")\n",
      "/home/bull/miniconda3/envs/worldbank-poverty-test/lib/python3.6/site-packages/sklearn/discriminant_analysis.py:388: UserWarning: Variables are collinear.\n",
      "  warnings.warn(\"Variables are collinear.\")\n",
      "/home/bull/miniconda3/envs/worldbank-poverty-test/lib/python3.6/site-packages/sklearn/discriminant_analysis.py:388: UserWarning: Variables are collinear.\n",
      "  warnings.warn(\"Variables are collinear.\")\n",
      "/home/bull/miniconda3/envs/worldbank-poverty-test/lib/python3.6/site-packages/sklearn/discriminant_analysis.py:388: UserWarning: Variables are collinear.\n",
      "  warnings.warn(\"Variables are collinear.\")\n"
     ]
    },
    {
     "name": "stdout",
     "output_type": "stream",
     "text": [
      "n: 137, f1: 0.49808973598070405, lowest coef: cons_096__Yes\n"
     ]
    },
    {
     "name": "stderr",
     "output_type": "stream",
     "text": [
      "/home/bull/miniconda3/envs/worldbank-poverty-test/lib/python3.6/site-packages/sklearn/discriminant_analysis.py:388: UserWarning: Variables are collinear.\n",
      "  warnings.warn(\"Variables are collinear.\")\n",
      "/home/bull/miniconda3/envs/worldbank-poverty-test/lib/python3.6/site-packages/sklearn/discriminant_analysis.py:388: UserWarning: Variables are collinear.\n",
      "  warnings.warn(\"Variables are collinear.\")\n",
      "/home/bull/miniconda3/envs/worldbank-poverty-test/lib/python3.6/site-packages/sklearn/discriminant_analysis.py:388: UserWarning: Variables are collinear.\n",
      "  warnings.warn(\"Variables are collinear.\")\n",
      "/home/bull/miniconda3/envs/worldbank-poverty-test/lib/python3.6/site-packages/sklearn/discriminant_analysis.py:388: UserWarning: Variables are collinear.\n",
      "  warnings.warn(\"Variables are collinear.\")\n"
     ]
    },
    {
     "name": "stdout",
     "output_type": "stream",
     "text": [
      "n: 136, f1: 0.4991484699263032, lowest coef: cons_175__Yes\n"
     ]
    },
    {
     "name": "stderr",
     "output_type": "stream",
     "text": [
      "/home/bull/miniconda3/envs/worldbank-poverty-test/lib/python3.6/site-packages/sklearn/discriminant_analysis.py:388: UserWarning: Variables are collinear.\n",
      "  warnings.warn(\"Variables are collinear.\")\n",
      "/home/bull/miniconda3/envs/worldbank-poverty-test/lib/python3.6/site-packages/sklearn/discriminant_analysis.py:388: UserWarning: Variables are collinear.\n",
      "  warnings.warn(\"Variables are collinear.\")\n",
      "/home/bull/miniconda3/envs/worldbank-poverty-test/lib/python3.6/site-packages/sklearn/discriminant_analysis.py:388: UserWarning: Variables are collinear.\n",
      "  warnings.warn(\"Variables are collinear.\")\n",
      "/home/bull/miniconda3/envs/worldbank-poverty-test/lib/python3.6/site-packages/sklearn/discriminant_analysis.py:388: UserWarning: Variables are collinear.\n",
      "  warnings.warn(\"Variables are collinear.\")\n"
     ]
    },
    {
     "name": "stdout",
     "output_type": "stream",
     "text": [
      "n: 135, f1: 0.4976440997759669, lowest coef: cons_022__Yes\n"
     ]
    },
    {
     "name": "stderr",
     "output_type": "stream",
     "text": [
      "/home/bull/miniconda3/envs/worldbank-poverty-test/lib/python3.6/site-packages/sklearn/discriminant_analysis.py:388: UserWarning: Variables are collinear.\n",
      "  warnings.warn(\"Variables are collinear.\")\n",
      "/home/bull/miniconda3/envs/worldbank-poverty-test/lib/python3.6/site-packages/sklearn/discriminant_analysis.py:388: UserWarning: Variables are collinear.\n",
      "  warnings.warn(\"Variables are collinear.\")\n",
      "/home/bull/miniconda3/envs/worldbank-poverty-test/lib/python3.6/site-packages/sklearn/discriminant_analysis.py:388: UserWarning: Variables are collinear.\n",
      "  warnings.warn(\"Variables are collinear.\")\n",
      "/home/bull/miniconda3/envs/worldbank-poverty-test/lib/python3.6/site-packages/sklearn/discriminant_analysis.py:388: UserWarning: Variables are collinear.\n",
      "  warnings.warn(\"Variables are collinear.\")\n"
     ]
    },
    {
     "name": "stdout",
     "output_type": "stream",
     "text": [
      "n: 134, f1: 0.5024587338512506, lowest coef: cons_201__Yes\n"
     ]
    },
    {
     "name": "stderr",
     "output_type": "stream",
     "text": [
      "/home/bull/miniconda3/envs/worldbank-poverty-test/lib/python3.6/site-packages/sklearn/discriminant_analysis.py:388: UserWarning: Variables are collinear.\n",
      "  warnings.warn(\"Variables are collinear.\")\n",
      "/home/bull/miniconda3/envs/worldbank-poverty-test/lib/python3.6/site-packages/sklearn/discriminant_analysis.py:388: UserWarning: Variables are collinear.\n",
      "  warnings.warn(\"Variables are collinear.\")\n",
      "/home/bull/miniconda3/envs/worldbank-poverty-test/lib/python3.6/site-packages/sklearn/discriminant_analysis.py:388: UserWarning: Variables are collinear.\n",
      "  warnings.warn(\"Variables are collinear.\")\n",
      "/home/bull/miniconda3/envs/worldbank-poverty-test/lib/python3.6/site-packages/sklearn/discriminant_analysis.py:388: UserWarning: Variables are collinear.\n",
      "  warnings.warn(\"Variables are collinear.\")\n"
     ]
    },
    {
     "name": "stdout",
     "output_type": "stream",
     "text": [
      "n: 133, f1: 0.5021673259360262, lowest coef: cons_082__Yes\n"
     ]
    },
    {
     "name": "stderr",
     "output_type": "stream",
     "text": [
      "/home/bull/miniconda3/envs/worldbank-poverty-test/lib/python3.6/site-packages/sklearn/discriminant_analysis.py:388: UserWarning: Variables are collinear.\n",
      "  warnings.warn(\"Variables are collinear.\")\n",
      "/home/bull/miniconda3/envs/worldbank-poverty-test/lib/python3.6/site-packages/sklearn/discriminant_analysis.py:388: UserWarning: Variables are collinear.\n",
      "  warnings.warn(\"Variables are collinear.\")\n",
      "/home/bull/miniconda3/envs/worldbank-poverty-test/lib/python3.6/site-packages/sklearn/discriminant_analysis.py:388: UserWarning: Variables are collinear.\n",
      "  warnings.warn(\"Variables are collinear.\")\n",
      "/home/bull/miniconda3/envs/worldbank-poverty-test/lib/python3.6/site-packages/sklearn/discriminant_analysis.py:388: UserWarning: Variables are collinear.\n",
      "  warnings.warn(\"Variables are collinear.\")\n"
     ]
    },
    {
     "name": "stdout",
     "output_type": "stream",
     "text": [
      "n: 132, f1: 0.5017245878448087, lowest coef: cons_228__Yes\n"
     ]
    },
    {
     "name": "stderr",
     "output_type": "stream",
     "text": [
      "/home/bull/miniconda3/envs/worldbank-poverty-test/lib/python3.6/site-packages/sklearn/discriminant_analysis.py:388: UserWarning: Variables are collinear.\n",
      "  warnings.warn(\"Variables are collinear.\")\n",
      "/home/bull/miniconda3/envs/worldbank-poverty-test/lib/python3.6/site-packages/sklearn/discriminant_analysis.py:388: UserWarning: Variables are collinear.\n",
      "  warnings.warn(\"Variables are collinear.\")\n",
      "/home/bull/miniconda3/envs/worldbank-poverty-test/lib/python3.6/site-packages/sklearn/discriminant_analysis.py:388: UserWarning: Variables are collinear.\n",
      "  warnings.warn(\"Variables are collinear.\")\n",
      "/home/bull/miniconda3/envs/worldbank-poverty-test/lib/python3.6/site-packages/sklearn/discriminant_analysis.py:388: UserWarning: Variables are collinear.\n",
      "  warnings.warn(\"Variables are collinear.\")\n"
     ]
    },
    {
     "name": "stdout",
     "output_type": "stream",
     "text": [
      "n: 131, f1: 0.5010404610928915, lowest coef: hld_roof__Fiber/palm\n"
     ]
    },
    {
     "name": "stderr",
     "output_type": "stream",
     "text": [
      "/home/bull/miniconda3/envs/worldbank-poverty-test/lib/python3.6/site-packages/sklearn/discriminant_analysis.py:388: UserWarning: Variables are collinear.\n",
      "  warnings.warn(\"Variables are collinear.\")\n",
      "/home/bull/miniconda3/envs/worldbank-poverty-test/lib/python3.6/site-packages/sklearn/discriminant_analysis.py:388: UserWarning: Variables are collinear.\n",
      "  warnings.warn(\"Variables are collinear.\")\n",
      "/home/bull/miniconda3/envs/worldbank-poverty-test/lib/python3.6/site-packages/sklearn/discriminant_analysis.py:388: UserWarning: Variables are collinear.\n",
      "  warnings.warn(\"Variables are collinear.\")\n",
      "/home/bull/miniconda3/envs/worldbank-poverty-test/lib/python3.6/site-packages/sklearn/discriminant_analysis.py:388: UserWarning: Variables are collinear.\n",
      "  warnings.warn(\"Variables are collinear.\")\n"
     ]
    },
    {
     "name": "stdout",
     "output_type": "stream",
     "text": [
      "n: 130, f1: 0.5013464090989157, lowest coef: cons_169__Yes\n"
     ]
    },
    {
     "name": "stderr",
     "output_type": "stream",
     "text": [
      "/home/bull/miniconda3/envs/worldbank-poverty-test/lib/python3.6/site-packages/sklearn/discriminant_analysis.py:388: UserWarning: Variables are collinear.\n",
      "  warnings.warn(\"Variables are collinear.\")\n",
      "/home/bull/miniconda3/envs/worldbank-poverty-test/lib/python3.6/site-packages/sklearn/discriminant_analysis.py:388: UserWarning: Variables are collinear.\n",
      "  warnings.warn(\"Variables are collinear.\")\n",
      "/home/bull/miniconda3/envs/worldbank-poverty-test/lib/python3.6/site-packages/sklearn/discriminant_analysis.py:388: UserWarning: Variables are collinear.\n",
      "  warnings.warn(\"Variables are collinear.\")\n",
      "/home/bull/miniconda3/envs/worldbank-poverty-test/lib/python3.6/site-packages/sklearn/discriminant_analysis.py:388: UserWarning: Variables are collinear.\n",
      "  warnings.warn(\"Variables are collinear.\")\n"
     ]
    },
    {
     "name": "stdout",
     "output_type": "stream",
     "text": [
      "n: 129, f1: 0.5003235909891689, lowest coef: der_nemployedpast3mo\n"
     ]
    },
    {
     "name": "stderr",
     "output_type": "stream",
     "text": [
      "/home/bull/miniconda3/envs/worldbank-poverty-test/lib/python3.6/site-packages/sklearn/discriminant_analysis.py:388: UserWarning: Variables are collinear.\n",
      "  warnings.warn(\"Variables are collinear.\")\n",
      "/home/bull/miniconda3/envs/worldbank-poverty-test/lib/python3.6/site-packages/sklearn/discriminant_analysis.py:388: UserWarning: Variables are collinear.\n",
      "  warnings.warn(\"Variables are collinear.\")\n",
      "/home/bull/miniconda3/envs/worldbank-poverty-test/lib/python3.6/site-packages/sklearn/discriminant_analysis.py:388: UserWarning: Variables are collinear.\n",
      "  warnings.warn(\"Variables are collinear.\")\n",
      "/home/bull/miniconda3/envs/worldbank-poverty-test/lib/python3.6/site-packages/sklearn/discriminant_analysis.py:388: UserWarning: Variables are collinear.\n",
      "  warnings.warn(\"Variables are collinear.\")\n"
     ]
    },
    {
     "name": "stdout",
     "output_type": "stream",
     "text": [
      "n: 128, f1: 0.49960412753021444, lowest coef: hld_cabletv__Yes\n"
     ]
    },
    {
     "name": "stderr",
     "output_type": "stream",
     "text": [
      "/home/bull/miniconda3/envs/worldbank-poverty-test/lib/python3.6/site-packages/sklearn/discriminant_analysis.py:388: UserWarning: Variables are collinear.\n",
      "  warnings.warn(\"Variables are collinear.\")\n",
      "/home/bull/miniconda3/envs/worldbank-poverty-test/lib/python3.6/site-packages/sklearn/discriminant_analysis.py:388: UserWarning: Variables are collinear.\n",
      "  warnings.warn(\"Variables are collinear.\")\n",
      "/home/bull/miniconda3/envs/worldbank-poverty-test/lib/python3.6/site-packages/sklearn/discriminant_analysis.py:388: UserWarning: Variables are collinear.\n",
      "  warnings.warn(\"Variables are collinear.\")\n",
      "/home/bull/miniconda3/envs/worldbank-poverty-test/lib/python3.6/site-packages/sklearn/discriminant_analysis.py:388: UserWarning: Variables are collinear.\n",
      "  warnings.warn(\"Variables are collinear.\")\n"
     ]
    },
    {
     "name": "stdout",
     "output_type": "stream",
     "text": [
      "n: 127, f1: 0.49995508197943356, lowest coef: cons_054__Yes\n"
     ]
    },
    {
     "name": "stderr",
     "output_type": "stream",
     "text": [
      "/home/bull/miniconda3/envs/worldbank-poverty-test/lib/python3.6/site-packages/sklearn/discriminant_analysis.py:388: UserWarning: Variables are collinear.\n",
      "  warnings.warn(\"Variables are collinear.\")\n",
      "/home/bull/miniconda3/envs/worldbank-poverty-test/lib/python3.6/site-packages/sklearn/discriminant_analysis.py:388: UserWarning: Variables are collinear.\n",
      "  warnings.warn(\"Variables are collinear.\")\n",
      "/home/bull/miniconda3/envs/worldbank-poverty-test/lib/python3.6/site-packages/sklearn/discriminant_analysis.py:388: UserWarning: Variables are collinear.\n",
      "  warnings.warn(\"Variables are collinear.\")\n",
      "/home/bull/miniconda3/envs/worldbank-poverty-test/lib/python3.6/site-packages/sklearn/discriminant_analysis.py:388: UserWarning: Variables are collinear.\n",
      "  warnings.warn(\"Variables are collinear.\")\n"
     ]
    },
    {
     "name": "stdout",
     "output_type": "stream",
     "text": [
      "n: 126, f1: 0.5006287584475616, lowest coef: cons_090__Yes\n"
     ]
    },
    {
     "name": "stderr",
     "output_type": "stream",
     "text": [
      "/home/bull/miniconda3/envs/worldbank-poverty-test/lib/python3.6/site-packages/sklearn/discriminant_analysis.py:388: UserWarning: Variables are collinear.\n",
      "  warnings.warn(\"Variables are collinear.\")\n",
      "/home/bull/miniconda3/envs/worldbank-poverty-test/lib/python3.6/site-packages/sklearn/discriminant_analysis.py:388: UserWarning: Variables are collinear.\n",
      "  warnings.warn(\"Variables are collinear.\")\n",
      "/home/bull/miniconda3/envs/worldbank-poverty-test/lib/python3.6/site-packages/sklearn/discriminant_analysis.py:388: UserWarning: Variables are collinear.\n",
      "  warnings.warn(\"Variables are collinear.\")\n",
      "/home/bull/miniconda3/envs/worldbank-poverty-test/lib/python3.6/site-packages/sklearn/discriminant_analysis.py:388: UserWarning: Variables are collinear.\n",
      "  warnings.warn(\"Variables are collinear.\")\n"
     ]
    },
    {
     "name": "stdout",
     "output_type": "stream",
     "text": [
      "n: 125, f1: 0.4989483421365305, lowest coef: cons_031__Yes\n"
     ]
    },
    {
     "name": "stderr",
     "output_type": "stream",
     "text": [
      "/home/bull/miniconda3/envs/worldbank-poverty-test/lib/python3.6/site-packages/sklearn/discriminant_analysis.py:388: UserWarning: Variables are collinear.\n",
      "  warnings.warn(\"Variables are collinear.\")\n",
      "/home/bull/miniconda3/envs/worldbank-poverty-test/lib/python3.6/site-packages/sklearn/discriminant_analysis.py:388: UserWarning: Variables are collinear.\n",
      "  warnings.warn(\"Variables are collinear.\")\n",
      "/home/bull/miniconda3/envs/worldbank-poverty-test/lib/python3.6/site-packages/sklearn/discriminant_analysis.py:388: UserWarning: Variables are collinear.\n",
      "  warnings.warn(\"Variables are collinear.\")\n",
      "/home/bull/miniconda3/envs/worldbank-poverty-test/lib/python3.6/site-packages/sklearn/discriminant_analysis.py:388: UserWarning: Variables are collinear.\n",
      "  warnings.warn(\"Variables are collinear.\")\n"
     ]
    },
    {
     "name": "stdout",
     "output_type": "stream",
     "text": [
      "n: 124, f1: 0.5002092039416935, lowest coef: cons_218__Yes\n"
     ]
    },
    {
     "name": "stderr",
     "output_type": "stream",
     "text": [
      "/home/bull/miniconda3/envs/worldbank-poverty-test/lib/python3.6/site-packages/sklearn/discriminant_analysis.py:388: UserWarning: Variables are collinear.\n",
      "  warnings.warn(\"Variables are collinear.\")\n",
      "/home/bull/miniconda3/envs/worldbank-poverty-test/lib/python3.6/site-packages/sklearn/discriminant_analysis.py:388: UserWarning: Variables are collinear.\n",
      "  warnings.warn(\"Variables are collinear.\")\n",
      "/home/bull/miniconda3/envs/worldbank-poverty-test/lib/python3.6/site-packages/sklearn/discriminant_analysis.py:388: UserWarning: Variables are collinear.\n",
      "  warnings.warn(\"Variables are collinear.\")\n",
      "/home/bull/miniconda3/envs/worldbank-poverty-test/lib/python3.6/site-packages/sklearn/discriminant_analysis.py:388: UserWarning: Variables are collinear.\n",
      "  warnings.warn(\"Variables are collinear.\")\n"
     ]
    },
    {
     "name": "stdout",
     "output_type": "stream",
     "text": [
      "n: 123, f1: 0.5000357156569781, lowest coef: cons_315__Yes\n"
     ]
    },
    {
     "name": "stderr",
     "output_type": "stream",
     "text": [
      "/home/bull/miniconda3/envs/worldbank-poverty-test/lib/python3.6/site-packages/sklearn/discriminant_analysis.py:388: UserWarning: Variables are collinear.\n",
      "  warnings.warn(\"Variables are collinear.\")\n",
      "/home/bull/miniconda3/envs/worldbank-poverty-test/lib/python3.6/site-packages/sklearn/discriminant_analysis.py:388: UserWarning: Variables are collinear.\n",
      "  warnings.warn(\"Variables are collinear.\")\n",
      "/home/bull/miniconda3/envs/worldbank-poverty-test/lib/python3.6/site-packages/sklearn/discriminant_analysis.py:388: UserWarning: Variables are collinear.\n",
      "  warnings.warn(\"Variables are collinear.\")\n",
      "/home/bull/miniconda3/envs/worldbank-poverty-test/lib/python3.6/site-packages/sklearn/discriminant_analysis.py:388: UserWarning: Variables are collinear.\n",
      "  warnings.warn(\"Variables are collinear.\")\n"
     ]
    },
    {
     "name": "stdout",
     "output_type": "stream",
     "text": [
      "n: 122, f1: 0.4990345482506347, lowest coef: cons_193__Yes\n"
     ]
    },
    {
     "name": "stderr",
     "output_type": "stream",
     "text": [
      "/home/bull/miniconda3/envs/worldbank-poverty-test/lib/python3.6/site-packages/sklearn/discriminant_analysis.py:388: UserWarning: Variables are collinear.\n",
      "  warnings.warn(\"Variables are collinear.\")\n",
      "/home/bull/miniconda3/envs/worldbank-poverty-test/lib/python3.6/site-packages/sklearn/discriminant_analysis.py:388: UserWarning: Variables are collinear.\n",
      "  warnings.warn(\"Variables are collinear.\")\n",
      "/home/bull/miniconda3/envs/worldbank-poverty-test/lib/python3.6/site-packages/sklearn/discriminant_analysis.py:388: UserWarning: Variables are collinear.\n",
      "  warnings.warn(\"Variables are collinear.\")\n",
      "/home/bull/miniconda3/envs/worldbank-poverty-test/lib/python3.6/site-packages/sklearn/discriminant_analysis.py:388: UserWarning: Variables are collinear.\n",
      "  warnings.warn(\"Variables are collinear.\")\n"
     ]
    },
    {
     "name": "stdout",
     "output_type": "stream",
     "text": [
      "n: 121, f1: 0.5002945629534247, lowest coef: hld_aircon__Yes\n"
     ]
    },
    {
     "name": "stderr",
     "output_type": "stream",
     "text": [
      "/home/bull/miniconda3/envs/worldbank-poverty-test/lib/python3.6/site-packages/sklearn/discriminant_analysis.py:388: UserWarning: Variables are collinear.\n",
      "  warnings.warn(\"Variables are collinear.\")\n",
      "/home/bull/miniconda3/envs/worldbank-poverty-test/lib/python3.6/site-packages/sklearn/discriminant_analysis.py:388: UserWarning: Variables are collinear.\n",
      "  warnings.warn(\"Variables are collinear.\")\n",
      "/home/bull/miniconda3/envs/worldbank-poverty-test/lib/python3.6/site-packages/sklearn/discriminant_analysis.py:388: UserWarning: Variables are collinear.\n",
      "  warnings.warn(\"Variables are collinear.\")\n",
      "/home/bull/miniconda3/envs/worldbank-poverty-test/lib/python3.6/site-packages/sklearn/discriminant_analysis.py:388: UserWarning: Variables are collinear.\n",
      "  warnings.warn(\"Variables are collinear.\")\n"
     ]
    },
    {
     "name": "stdout",
     "output_type": "stream",
     "text": [
      "n: 120, f1: 0.5013263956482333, lowest coef: cons_081__Yes\n"
     ]
    },
    {
     "name": "stderr",
     "output_type": "stream",
     "text": [
      "/home/bull/miniconda3/envs/worldbank-poverty-test/lib/python3.6/site-packages/sklearn/discriminant_analysis.py:388: UserWarning: Variables are collinear.\n",
      "  warnings.warn(\"Variables are collinear.\")\n",
      "/home/bull/miniconda3/envs/worldbank-poverty-test/lib/python3.6/site-packages/sklearn/discriminant_analysis.py:388: UserWarning: Variables are collinear.\n",
      "  warnings.warn(\"Variables are collinear.\")\n",
      "/home/bull/miniconda3/envs/worldbank-poverty-test/lib/python3.6/site-packages/sklearn/discriminant_analysis.py:388: UserWarning: Variables are collinear.\n",
      "  warnings.warn(\"Variables are collinear.\")\n",
      "/home/bull/miniconda3/envs/worldbank-poverty-test/lib/python3.6/site-packages/sklearn/discriminant_analysis.py:388: UserWarning: Variables are collinear.\n",
      "  warnings.warn(\"Variables are collinear.\")\n"
     ]
    },
    {
     "name": "stdout",
     "output_type": "stream",
     "text": [
      "n: 119, f1: 0.5003067651250068, lowest coef: cons_008__Yes\n"
     ]
    },
    {
     "name": "stderr",
     "output_type": "stream",
     "text": [
      "/home/bull/miniconda3/envs/worldbank-poverty-test/lib/python3.6/site-packages/sklearn/discriminant_analysis.py:388: UserWarning: Variables are collinear.\n",
      "  warnings.warn(\"Variables are collinear.\")\n",
      "/home/bull/miniconda3/envs/worldbank-poverty-test/lib/python3.6/site-packages/sklearn/discriminant_analysis.py:388: UserWarning: Variables are collinear.\n",
      "  warnings.warn(\"Variables are collinear.\")\n",
      "/home/bull/miniconda3/envs/worldbank-poverty-test/lib/python3.6/site-packages/sklearn/discriminant_analysis.py:388: UserWarning: Variables are collinear.\n",
      "  warnings.warn(\"Variables are collinear.\")\n",
      "/home/bull/miniconda3/envs/worldbank-poverty-test/lib/python3.6/site-packages/sklearn/discriminant_analysis.py:388: UserWarning: Variables are collinear.\n",
      "  warnings.warn(\"Variables are collinear.\")\n"
     ]
    },
    {
     "name": "stdout",
     "output_type": "stream",
     "text": [
      "n: 118, f1: 0.4967813034346082, lowest coef: cons_159__Yes\n"
     ]
    },
    {
     "name": "stderr",
     "output_type": "stream",
     "text": [
      "/home/bull/miniconda3/envs/worldbank-poverty-test/lib/python3.6/site-packages/sklearn/discriminant_analysis.py:388: UserWarning: Variables are collinear.\n",
      "  warnings.warn(\"Variables are collinear.\")\n",
      "/home/bull/miniconda3/envs/worldbank-poverty-test/lib/python3.6/site-packages/sklearn/discriminant_analysis.py:388: UserWarning: Variables are collinear.\n",
      "  warnings.warn(\"Variables are collinear.\")\n",
      "/home/bull/miniconda3/envs/worldbank-poverty-test/lib/python3.6/site-packages/sklearn/discriminant_analysis.py:388: UserWarning: Variables are collinear.\n",
      "  warnings.warn(\"Variables are collinear.\")\n",
      "/home/bull/miniconda3/envs/worldbank-poverty-test/lib/python3.6/site-packages/sklearn/discriminant_analysis.py:388: UserWarning: Variables are collinear.\n",
      "  warnings.warn(\"Variables are collinear.\")\n"
     ]
    },
    {
     "name": "stdout",
     "output_type": "stream",
     "text": [
      "n: 117, f1: 0.4978222916921166, lowest coef: cons_109__Yes\n"
     ]
    },
    {
     "name": "stderr",
     "output_type": "stream",
     "text": [
      "/home/bull/miniconda3/envs/worldbank-poverty-test/lib/python3.6/site-packages/sklearn/discriminant_analysis.py:388: UserWarning: Variables are collinear.\n",
      "  warnings.warn(\"Variables are collinear.\")\n",
      "/home/bull/miniconda3/envs/worldbank-poverty-test/lib/python3.6/site-packages/sklearn/discriminant_analysis.py:388: UserWarning: Variables are collinear.\n",
      "  warnings.warn(\"Variables are collinear.\")\n",
      "/home/bull/miniconda3/envs/worldbank-poverty-test/lib/python3.6/site-packages/sklearn/discriminant_analysis.py:388: UserWarning: Variables are collinear.\n",
      "  warnings.warn(\"Variables are collinear.\")\n",
      "/home/bull/miniconda3/envs/worldbank-poverty-test/lib/python3.6/site-packages/sklearn/discriminant_analysis.py:388: UserWarning: Variables are collinear.\n",
      "  warnings.warn(\"Variables are collinear.\")\n"
     ]
    },
    {
     "name": "stdout",
     "output_type": "stream",
     "text": [
      "n: 116, f1: 0.4965687878646001, lowest coef: cons_172__Yes\n"
     ]
    },
    {
     "name": "stderr",
     "output_type": "stream",
     "text": [
      "/home/bull/miniconda3/envs/worldbank-poverty-test/lib/python3.6/site-packages/sklearn/discriminant_analysis.py:388: UserWarning: Variables are collinear.\n",
      "  warnings.warn(\"Variables are collinear.\")\n",
      "/home/bull/miniconda3/envs/worldbank-poverty-test/lib/python3.6/site-packages/sklearn/discriminant_analysis.py:388: UserWarning: Variables are collinear.\n",
      "  warnings.warn(\"Variables are collinear.\")\n",
      "/home/bull/miniconda3/envs/worldbank-poverty-test/lib/python3.6/site-packages/sklearn/discriminant_analysis.py:388: UserWarning: Variables are collinear.\n",
      "  warnings.warn(\"Variables are collinear.\")\n",
      "/home/bull/miniconda3/envs/worldbank-poverty-test/lib/python3.6/site-packages/sklearn/discriminant_analysis.py:388: UserWarning: Variables are collinear.\n",
      "  warnings.warn(\"Variables are collinear.\")\n"
     ]
    },
    {
     "name": "stdout",
     "output_type": "stream",
     "text": [
      "n: 115, f1: 0.4960572226199083, lowest coef: cons_310__Yes\n"
     ]
    },
    {
     "name": "stderr",
     "output_type": "stream",
     "text": [
      "/home/bull/miniconda3/envs/worldbank-poverty-test/lib/python3.6/site-packages/sklearn/discriminant_analysis.py:388: UserWarning: Variables are collinear.\n",
      "  warnings.warn(\"Variables are collinear.\")\n",
      "/home/bull/miniconda3/envs/worldbank-poverty-test/lib/python3.6/site-packages/sklearn/discriminant_analysis.py:388: UserWarning: Variables are collinear.\n",
      "  warnings.warn(\"Variables are collinear.\")\n",
      "/home/bull/miniconda3/envs/worldbank-poverty-test/lib/python3.6/site-packages/sklearn/discriminant_analysis.py:388: UserWarning: Variables are collinear.\n",
      "  warnings.warn(\"Variables are collinear.\")\n",
      "/home/bull/miniconda3/envs/worldbank-poverty-test/lib/python3.6/site-packages/sklearn/discriminant_analysis.py:388: UserWarning: Variables are collinear.\n",
      "  warnings.warn(\"Variables are collinear.\")\n"
     ]
    },
    {
     "name": "stdout",
     "output_type": "stream",
     "text": [
      "n: 114, f1: 0.496236923016407, lowest coef: cons_317__Yes\n"
     ]
    },
    {
     "name": "stderr",
     "output_type": "stream",
     "text": [
      "/home/bull/miniconda3/envs/worldbank-poverty-test/lib/python3.6/site-packages/sklearn/discriminant_analysis.py:388: UserWarning: Variables are collinear.\n",
      "  warnings.warn(\"Variables are collinear.\")\n",
      "/home/bull/miniconda3/envs/worldbank-poverty-test/lib/python3.6/site-packages/sklearn/discriminant_analysis.py:388: UserWarning: Variables are collinear.\n",
      "  warnings.warn(\"Variables are collinear.\")\n",
      "/home/bull/miniconda3/envs/worldbank-poverty-test/lib/python3.6/site-packages/sklearn/discriminant_analysis.py:388: UserWarning: Variables are collinear.\n",
      "  warnings.warn(\"Variables are collinear.\")\n",
      "/home/bull/miniconda3/envs/worldbank-poverty-test/lib/python3.6/site-packages/sklearn/discriminant_analysis.py:388: UserWarning: Variables are collinear.\n",
      "  warnings.warn(\"Variables are collinear.\")\n"
     ]
    },
    {
     "name": "stdout",
     "output_type": "stream",
     "text": [
      "n: 113, f1: 0.4967955748493414, lowest coef: cons_235__Yes\n"
     ]
    },
    {
     "name": "stderr",
     "output_type": "stream",
     "text": [
      "/home/bull/miniconda3/envs/worldbank-poverty-test/lib/python3.6/site-packages/sklearn/discriminant_analysis.py:388: UserWarning: Variables are collinear.\n",
      "  warnings.warn(\"Variables are collinear.\")\n",
      "/home/bull/miniconda3/envs/worldbank-poverty-test/lib/python3.6/site-packages/sklearn/discriminant_analysis.py:388: UserWarning: Variables are collinear.\n",
      "  warnings.warn(\"Variables are collinear.\")\n",
      "/home/bull/miniconda3/envs/worldbank-poverty-test/lib/python3.6/site-packages/sklearn/discriminant_analysis.py:388: UserWarning: Variables are collinear.\n",
      "  warnings.warn(\"Variables are collinear.\")\n",
      "/home/bull/miniconda3/envs/worldbank-poverty-test/lib/python3.6/site-packages/sklearn/discriminant_analysis.py:388: UserWarning: Variables are collinear.\n",
      "  warnings.warn(\"Variables are collinear.\")\n"
     ]
    },
    {
     "name": "stdout",
     "output_type": "stream",
     "text": [
      "n: 112, f1: 0.49701294569525545, lowest coef: hld_dwater__Pipe with meter\n"
     ]
    },
    {
     "name": "stderr",
     "output_type": "stream",
     "text": [
      "/home/bull/miniconda3/envs/worldbank-poverty-test/lib/python3.6/site-packages/sklearn/discriminant_analysis.py:388: UserWarning: Variables are collinear.\n",
      "  warnings.warn(\"Variables are collinear.\")\n",
      "/home/bull/miniconda3/envs/worldbank-poverty-test/lib/python3.6/site-packages/sklearn/discriminant_analysis.py:388: UserWarning: Variables are collinear.\n",
      "  warnings.warn(\"Variables are collinear.\")\n",
      "/home/bull/miniconda3/envs/worldbank-poverty-test/lib/python3.6/site-packages/sklearn/discriminant_analysis.py:388: UserWarning: Variables are collinear.\n",
      "  warnings.warn(\"Variables are collinear.\")\n",
      "/home/bull/miniconda3/envs/worldbank-poverty-test/lib/python3.6/site-packages/sklearn/discriminant_analysis.py:388: UserWarning: Variables are collinear.\n",
      "  warnings.warn(\"Variables are collinear.\")\n"
     ]
    },
    {
     "name": "stdout",
     "output_type": "stream",
     "text": [
      "n: 111, f1: 0.4975676177681104, lowest coef: cons_095__Yes\n"
     ]
    },
    {
     "name": "stderr",
     "output_type": "stream",
     "text": [
      "/home/bull/miniconda3/envs/worldbank-poverty-test/lib/python3.6/site-packages/sklearn/discriminant_analysis.py:388: UserWarning: Variables are collinear.\n",
      "  warnings.warn(\"Variables are collinear.\")\n",
      "/home/bull/miniconda3/envs/worldbank-poverty-test/lib/python3.6/site-packages/sklearn/discriminant_analysis.py:388: UserWarning: Variables are collinear.\n",
      "  warnings.warn(\"Variables are collinear.\")\n",
      "/home/bull/miniconda3/envs/worldbank-poverty-test/lib/python3.6/site-packages/sklearn/discriminant_analysis.py:388: UserWarning: Variables are collinear.\n",
      "  warnings.warn(\"Variables are collinear.\")\n",
      "/home/bull/miniconda3/envs/worldbank-poverty-test/lib/python3.6/site-packages/sklearn/discriminant_analysis.py:388: UserWarning: Variables are collinear.\n",
      "  warnings.warn(\"Variables are collinear.\")\n"
     ]
    },
    {
     "name": "stdout",
     "output_type": "stream",
     "text": [
      "n: 110, f1: 0.49855728871006466, lowest coef: cons_178__Yes\n"
     ]
    },
    {
     "name": "stderr",
     "output_type": "stream",
     "text": [
      "/home/bull/miniconda3/envs/worldbank-poverty-test/lib/python3.6/site-packages/sklearn/discriminant_analysis.py:388: UserWarning: Variables are collinear.\n",
      "  warnings.warn(\"Variables are collinear.\")\n",
      "/home/bull/miniconda3/envs/worldbank-poverty-test/lib/python3.6/site-packages/sklearn/discriminant_analysis.py:388: UserWarning: Variables are collinear.\n",
      "  warnings.warn(\"Variables are collinear.\")\n",
      "/home/bull/miniconda3/envs/worldbank-poverty-test/lib/python3.6/site-packages/sklearn/discriminant_analysis.py:388: UserWarning: Variables are collinear.\n",
      "  warnings.warn(\"Variables are collinear.\")\n",
      "/home/bull/miniconda3/envs/worldbank-poverty-test/lib/python3.6/site-packages/sklearn/discriminant_analysis.py:388: UserWarning: Variables are collinear.\n",
      "  warnings.warn(\"Variables are collinear.\")\n"
     ]
    },
    {
     "name": "stdout",
     "output_type": "stream",
     "text": [
      "n: 109, f1: 0.4984352705632139, lowest coef: cons_196__Yes\n"
     ]
    },
    {
     "name": "stderr",
     "output_type": "stream",
     "text": [
      "/home/bull/miniconda3/envs/worldbank-poverty-test/lib/python3.6/site-packages/sklearn/discriminant_analysis.py:388: UserWarning: Variables are collinear.\n",
      "  warnings.warn(\"Variables are collinear.\")\n",
      "/home/bull/miniconda3/envs/worldbank-poverty-test/lib/python3.6/site-packages/sklearn/discriminant_analysis.py:388: UserWarning: Variables are collinear.\n",
      "  warnings.warn(\"Variables are collinear.\")\n",
      "/home/bull/miniconda3/envs/worldbank-poverty-test/lib/python3.6/site-packages/sklearn/discriminant_analysis.py:388: UserWarning: Variables are collinear.\n",
      "  warnings.warn(\"Variables are collinear.\")\n",
      "/home/bull/miniconda3/envs/worldbank-poverty-test/lib/python3.6/site-packages/sklearn/discriminant_analysis.py:388: UserWarning: Variables are collinear.\n",
      "  warnings.warn(\"Variables are collinear.\")\n"
     ]
    },
    {
     "name": "stdout",
     "output_type": "stream",
     "text": [
      "n: 108, f1: 0.4984606455510485, lowest coef: cons_284__Yes\n"
     ]
    },
    {
     "name": "stderr",
     "output_type": "stream",
     "text": [
      "/home/bull/miniconda3/envs/worldbank-poverty-test/lib/python3.6/site-packages/sklearn/discriminant_analysis.py:388: UserWarning: Variables are collinear.\n",
      "  warnings.warn(\"Variables are collinear.\")\n",
      "/home/bull/miniconda3/envs/worldbank-poverty-test/lib/python3.6/site-packages/sklearn/discriminant_analysis.py:388: UserWarning: Variables are collinear.\n",
      "  warnings.warn(\"Variables are collinear.\")\n",
      "/home/bull/miniconda3/envs/worldbank-poverty-test/lib/python3.6/site-packages/sklearn/discriminant_analysis.py:388: UserWarning: Variables are collinear.\n",
      "  warnings.warn(\"Variables are collinear.\")\n",
      "/home/bull/miniconda3/envs/worldbank-poverty-test/lib/python3.6/site-packages/sklearn/discriminant_analysis.py:388: UserWarning: Variables are collinear.\n",
      "  warnings.warn(\"Variables are collinear.\")\n"
     ]
    },
    {
     "name": "stdout",
     "output_type": "stream",
     "text": [
      "n: 107, f1: 0.4986460101477476, lowest coef: cons_300__Yes\n"
     ]
    },
    {
     "name": "stderr",
     "output_type": "stream",
     "text": [
      "/home/bull/miniconda3/envs/worldbank-poverty-test/lib/python3.6/site-packages/sklearn/discriminant_analysis.py:388: UserWarning: Variables are collinear.\n",
      "  warnings.warn(\"Variables are collinear.\")\n",
      "/home/bull/miniconda3/envs/worldbank-poverty-test/lib/python3.6/site-packages/sklearn/discriminant_analysis.py:388: UserWarning: Variables are collinear.\n",
      "  warnings.warn(\"Variables are collinear.\")\n",
      "/home/bull/miniconda3/envs/worldbank-poverty-test/lib/python3.6/site-packages/sklearn/discriminant_analysis.py:388: UserWarning: Variables are collinear.\n",
      "  warnings.warn(\"Variables are collinear.\")\n",
      "/home/bull/miniconda3/envs/worldbank-poverty-test/lib/python3.6/site-packages/sklearn/discriminant_analysis.py:388: UserWarning: Variables are collinear.\n",
      "  warnings.warn(\"Variables are collinear.\")\n"
     ]
    },
    {
     "name": "stdout",
     "output_type": "stream",
     "text": [
      "n: 106, f1: 0.49864216636028347, lowest coef: cons_309__Yes\n"
     ]
    },
    {
     "name": "stderr",
     "output_type": "stream",
     "text": [
      "/home/bull/miniconda3/envs/worldbank-poverty-test/lib/python3.6/site-packages/sklearn/discriminant_analysis.py:388: UserWarning: Variables are collinear.\n",
      "  warnings.warn(\"Variables are collinear.\")\n",
      "/home/bull/miniconda3/envs/worldbank-poverty-test/lib/python3.6/site-packages/sklearn/discriminant_analysis.py:388: UserWarning: Variables are collinear.\n",
      "  warnings.warn(\"Variables are collinear.\")\n",
      "/home/bull/miniconda3/envs/worldbank-poverty-test/lib/python3.6/site-packages/sklearn/discriminant_analysis.py:388: UserWarning: Variables are collinear.\n",
      "  warnings.warn(\"Variables are collinear.\")\n",
      "/home/bull/miniconda3/envs/worldbank-poverty-test/lib/python3.6/site-packages/sklearn/discriminant_analysis.py:388: UserWarning: Variables are collinear.\n",
      "  warnings.warn(\"Variables are collinear.\")\n"
     ]
    },
    {
     "name": "stdout",
     "output_type": "stream",
     "text": [
      "n: 105, f1: 0.4963601355950444, lowest coef: hld_bwwater__Terrestrial well/pump\n"
     ]
    },
    {
     "name": "stderr",
     "output_type": "stream",
     "text": [
      "/home/bull/miniconda3/envs/worldbank-poverty-test/lib/python3.6/site-packages/sklearn/discriminant_analysis.py:388: UserWarning: Variables are collinear.\n",
      "  warnings.warn(\"Variables are collinear.\")\n",
      "/home/bull/miniconda3/envs/worldbank-poverty-test/lib/python3.6/site-packages/sklearn/discriminant_analysis.py:388: UserWarning: Variables are collinear.\n",
      "  warnings.warn(\"Variables are collinear.\")\n",
      "/home/bull/miniconda3/envs/worldbank-poverty-test/lib/python3.6/site-packages/sklearn/discriminant_analysis.py:388: UserWarning: Variables are collinear.\n",
      "  warnings.warn(\"Variables are collinear.\")\n",
      "/home/bull/miniconda3/envs/worldbank-poverty-test/lib/python3.6/site-packages/sklearn/discriminant_analysis.py:388: UserWarning: Variables are collinear.\n",
      "  warnings.warn(\"Variables are collinear.\")\n"
     ]
    },
    {
     "name": "stdout",
     "output_type": "stream",
     "text": [
      "n: 104, f1: 0.49636774938369327, lowest coef: cons_267__Yes\n"
     ]
    },
    {
     "name": "stderr",
     "output_type": "stream",
     "text": [
      "/home/bull/miniconda3/envs/worldbank-poverty-test/lib/python3.6/site-packages/sklearn/discriminant_analysis.py:388: UserWarning: Variables are collinear.\n",
      "  warnings.warn(\"Variables are collinear.\")\n",
      "/home/bull/miniconda3/envs/worldbank-poverty-test/lib/python3.6/site-packages/sklearn/discriminant_analysis.py:388: UserWarning: Variables are collinear.\n",
      "  warnings.warn(\"Variables are collinear.\")\n",
      "/home/bull/miniconda3/envs/worldbank-poverty-test/lib/python3.6/site-packages/sklearn/discriminant_analysis.py:388: UserWarning: Variables are collinear.\n",
      "  warnings.warn(\"Variables are collinear.\")\n",
      "/home/bull/miniconda3/envs/worldbank-poverty-test/lib/python3.6/site-packages/sklearn/discriminant_analysis.py:388: UserWarning: Variables are collinear.\n",
      "  warnings.warn(\"Variables are collinear.\")\n"
     ]
    },
    {
     "name": "stdout",
     "output_type": "stream",
     "text": [
      "n: 103, f1: 0.4963862568044146, lowest coef: hld_anyphone__Yes\n"
     ]
    },
    {
     "name": "stderr",
     "output_type": "stream",
     "text": [
      "/home/bull/miniconda3/envs/worldbank-poverty-test/lib/python3.6/site-packages/sklearn/discriminant_analysis.py:388: UserWarning: Variables are collinear.\n",
      "  warnings.warn(\"Variables are collinear.\")\n",
      "/home/bull/miniconda3/envs/worldbank-poverty-test/lib/python3.6/site-packages/sklearn/discriminant_analysis.py:388: UserWarning: Variables are collinear.\n",
      "  warnings.warn(\"Variables are collinear.\")\n",
      "/home/bull/miniconda3/envs/worldbank-poverty-test/lib/python3.6/site-packages/sklearn/discriminant_analysis.py:388: UserWarning: Variables are collinear.\n",
      "  warnings.warn(\"Variables are collinear.\")\n",
      "/home/bull/miniconda3/envs/worldbank-poverty-test/lib/python3.6/site-packages/sklearn/discriminant_analysis.py:388: UserWarning: Variables are collinear.\n",
      "  warnings.warn(\"Variables are collinear.\")\n"
     ]
    },
    {
     "name": "stdout",
     "output_type": "stream",
     "text": [
      "n: 102, f1: 0.49643617414641145, lowest coef: cons_256__Yes\n"
     ]
    },
    {
     "name": "stderr",
     "output_type": "stream",
     "text": [
      "/home/bull/miniconda3/envs/worldbank-poverty-test/lib/python3.6/site-packages/sklearn/discriminant_analysis.py:388: UserWarning: Variables are collinear.\n",
      "  warnings.warn(\"Variables are collinear.\")\n",
      "/home/bull/miniconda3/envs/worldbank-poverty-test/lib/python3.6/site-packages/sklearn/discriminant_analysis.py:388: UserWarning: Variables are collinear.\n",
      "  warnings.warn(\"Variables are collinear.\")\n",
      "/home/bull/miniconda3/envs/worldbank-poverty-test/lib/python3.6/site-packages/sklearn/discriminant_analysis.py:388: UserWarning: Variables are collinear.\n",
      "  warnings.warn(\"Variables are collinear.\")\n",
      "/home/bull/miniconda3/envs/worldbank-poverty-test/lib/python3.6/site-packages/sklearn/discriminant_analysis.py:388: UserWarning: Variables are collinear.\n",
      "  warnings.warn(\"Variables are collinear.\")\n"
     ]
    },
    {
     "name": "stdout",
     "output_type": "stream",
     "text": [
      "n: 101, f1: 0.4962376278417128, lowest coef: hld_floor__Other\n"
     ]
    },
    {
     "name": "stderr",
     "output_type": "stream",
     "text": [
      "/home/bull/miniconda3/envs/worldbank-poverty-test/lib/python3.6/site-packages/sklearn/discriminant_analysis.py:388: UserWarning: Variables are collinear.\n",
      "  warnings.warn(\"Variables are collinear.\")\n",
      "/home/bull/miniconda3/envs/worldbank-poverty-test/lib/python3.6/site-packages/sklearn/discriminant_analysis.py:388: UserWarning: Variables are collinear.\n",
      "  warnings.warn(\"Variables are collinear.\")\n",
      "/home/bull/miniconda3/envs/worldbank-poverty-test/lib/python3.6/site-packages/sklearn/discriminant_analysis.py:388: UserWarning: Variables are collinear.\n",
      "  warnings.warn(\"Variables are collinear.\")\n",
      "/home/bull/miniconda3/envs/worldbank-poverty-test/lib/python3.6/site-packages/sklearn/discriminant_analysis.py:388: UserWarning: Variables are collinear.\n",
      "  warnings.warn(\"Variables are collinear.\")\n"
     ]
    },
    {
     "name": "stdout",
     "output_type": "stream",
     "text": [
      "n: 100, f1: 0.49627458183297957, lowest coef: cons_030__Yes\n"
     ]
    },
    {
     "name": "stderr",
     "output_type": "stream",
     "text": [
      "/home/bull/miniconda3/envs/worldbank-poverty-test/lib/python3.6/site-packages/sklearn/discriminant_analysis.py:388: UserWarning: Variables are collinear.\n",
      "  warnings.warn(\"Variables are collinear.\")\n",
      "/home/bull/miniconda3/envs/worldbank-poverty-test/lib/python3.6/site-packages/sklearn/discriminant_analysis.py:388: UserWarning: Variables are collinear.\n",
      "  warnings.warn(\"Variables are collinear.\")\n",
      "/home/bull/miniconda3/envs/worldbank-poverty-test/lib/python3.6/site-packages/sklearn/discriminant_analysis.py:388: UserWarning: Variables are collinear.\n",
      "  warnings.warn(\"Variables are collinear.\")\n",
      "/home/bull/miniconda3/envs/worldbank-poverty-test/lib/python3.6/site-packages/sklearn/discriminant_analysis.py:388: UserWarning: Variables are collinear.\n",
      "  warnings.warn(\"Variables are collinear.\")\n"
     ]
    },
    {
     "name": "stdout",
     "output_type": "stream",
     "text": [
      "n: 99, f1: 0.49437003004902036, lowest coef: cons_210__Yes\n"
     ]
    },
    {
     "name": "stderr",
     "output_type": "stream",
     "text": [
      "/home/bull/miniconda3/envs/worldbank-poverty-test/lib/python3.6/site-packages/sklearn/discriminant_analysis.py:388: UserWarning: Variables are collinear.\n",
      "  warnings.warn(\"Variables are collinear.\")\n",
      "/home/bull/miniconda3/envs/worldbank-poverty-test/lib/python3.6/site-packages/sklearn/discriminant_analysis.py:388: UserWarning: Variables are collinear.\n",
      "  warnings.warn(\"Variables are collinear.\")\n",
      "/home/bull/miniconda3/envs/worldbank-poverty-test/lib/python3.6/site-packages/sklearn/discriminant_analysis.py:388: UserWarning: Variables are collinear.\n",
      "  warnings.warn(\"Variables are collinear.\")\n",
      "/home/bull/miniconda3/envs/worldbank-poverty-test/lib/python3.6/site-packages/sklearn/discriminant_analysis.py:388: UserWarning: Variables are collinear.\n",
      "  warnings.warn(\"Variables are collinear.\")\n"
     ]
    },
    {
     "name": "stdout",
     "output_type": "stream",
     "text": [
      "n: 98, f1: 0.4938788766809053, lowest coef: hld_waterheat__Yes\n"
     ]
    },
    {
     "name": "stderr",
     "output_type": "stream",
     "text": [
      "/home/bull/miniconda3/envs/worldbank-poverty-test/lib/python3.6/site-packages/sklearn/discriminant_analysis.py:388: UserWarning: Variables are collinear.\n",
      "  warnings.warn(\"Variables are collinear.\")\n",
      "/home/bull/miniconda3/envs/worldbank-poverty-test/lib/python3.6/site-packages/sklearn/discriminant_analysis.py:388: UserWarning: Variables are collinear.\n",
      "  warnings.warn(\"Variables are collinear.\")\n",
      "/home/bull/miniconda3/envs/worldbank-poverty-test/lib/python3.6/site-packages/sklearn/discriminant_analysis.py:388: UserWarning: Variables are collinear.\n",
      "  warnings.warn(\"Variables are collinear.\")\n",
      "/home/bull/miniconda3/envs/worldbank-poverty-test/lib/python3.6/site-packages/sklearn/discriminant_analysis.py:388: UserWarning: Variables are collinear.\n",
      "  warnings.warn(\"Variables are collinear.\")\n"
     ]
    },
    {
     "name": "stdout",
     "output_type": "stream",
     "text": [
      "n: 97, f1: 0.4939240051483846, lowest coef: cons_123__Yes\n"
     ]
    },
    {
     "name": "stderr",
     "output_type": "stream",
     "text": [
      "/home/bull/miniconda3/envs/worldbank-poverty-test/lib/python3.6/site-packages/sklearn/discriminant_analysis.py:388: UserWarning: Variables are collinear.\n",
      "  warnings.warn(\"Variables are collinear.\")\n",
      "/home/bull/miniconda3/envs/worldbank-poverty-test/lib/python3.6/site-packages/sklearn/discriminant_analysis.py:388: UserWarning: Variables are collinear.\n",
      "  warnings.warn(\"Variables are collinear.\")\n",
      "/home/bull/miniconda3/envs/worldbank-poverty-test/lib/python3.6/site-packages/sklearn/discriminant_analysis.py:388: UserWarning: Variables are collinear.\n",
      "  warnings.warn(\"Variables are collinear.\")\n",
      "/home/bull/miniconda3/envs/worldbank-poverty-test/lib/python3.6/site-packages/sklearn/discriminant_analysis.py:388: UserWarning: Variables are collinear.\n",
      "  warnings.warn(\"Variables are collinear.\")\n"
     ]
    },
    {
     "name": "stdout",
     "output_type": "stream",
     "text": [
      "n: 96, f1: 0.49485263147096176, lowest coef: hld_landstat__Not applicable\n",
      "n: 95, f1: 0.49485263147096176, lowest coef: hld_occstat__Owned\n",
      "n: 94, f1: 0.4949663697417769, lowest coef: cons_093__Yes\n",
      "n: 93, f1: 0.49534571505158753, lowest coef: geo_province__East Nusa Tenggara\n",
      "n: 92, f1: 0.49306489787983226, lowest coef: cons_301__Yes\n",
      "n: 91, f1: 0.49214015507885245, lowest coef: cons_186__Yes\n",
      "n: 90, f1: 0.49238439132974104, lowest coef: der_nfemalesover10\n",
      "n: 89, f1: 0.4930166610408313, lowest coef: cons_130__Yes\n",
      "n: 88, f1: 0.4927745233902543, lowest coef: hld_dwatershr__Public\n",
      "n: 87, f1: 0.49119607628813944, lowest coef: geo_district\n",
      "n: 86, f1: 0.49119607628813944, lowest coef: cons_272__Yes\n",
      "n: 85, f1: 0.49050047154504206, lowest coef: cons_224__Yes\n",
      "n: 84, f1: 0.48587560859081685, lowest coef: cons_208__Yes\n",
      "n: 83, f1: 0.48598712337994865, lowest coef: cons_025__Yes\n",
      "n: 82, f1: 0.48217560265035275, lowest coef: cons_263__Yes\n",
      "n: 81, f1: 0.48328438292881454, lowest coef: cons_098__Yes\n",
      "n: 80, f1: 0.483603279752787, lowest coef: cons_005__Yes\n",
      "n: 79, f1: 0.4848149838586149, lowest coef: hld_dwater__Unprotected spring\n",
      "n: 78, f1: 0.485752711135305, lowest coef: cons_211__Yes\n",
      "n: 77, f1: 0.48388237836856773, lowest coef: cons_122__Yes\n",
      "n: 76, f1: 0.4860162689146908, lowest coef: cons_171__Yes\n",
      "n: 75, f1: 0.48695733449887435, lowest coef: cons_264__Yes\n",
      "n: 74, f1: 0.48674119656386733, lowest coef: hld_cope4__Yes\n",
      "n: 73, f1: 0.4865050402495072, lowest coef: cons_192__Yes\n",
      "n: 72, f1: 0.48877785247098976, lowest coef: cons_094__Yes\n",
      "n: 71, f1: 0.48839961259135134, lowest coef: cons_311__Yes\n",
      "n: 70, f1: 0.4888590957173545, lowest coef: cons_302__Yes\n",
      "n: 69, f1: 0.4882790231610316, lowest coef: cons_229__Yes\n",
      "n: 68, f1: 0.4895170651657159, lowest coef: cons_195__Yes\n",
      "n: 67, f1: 0.4850760303388578, lowest coef: cons_035__Yes\n",
      "n: 66, f1: 0.4848946548885962, lowest coef: cons_179__Yes\n",
      "n: 65, f1: 0.48174280542995457, lowest coef: cons_299__Yes\n",
      "n: 64, f1: 0.4855730104629637, lowest coef: hld_roof__Other\n",
      "n: 63, f1: 0.4873699170827851, lowest coef: cons_080__Yes\n",
      "n: 62, f1: 0.4866620715381267, lowest coef: cons_198__Yes\n",
      "n: 61, f1: 0.48476573344358026, lowest coef: cons_333__Yes\n",
      "n: 60, f1: 0.48646818804269026, lowest coef: cons_232__Yes\n",
      "n: 59, f1: 0.485537100801689, lowest coef: cons_209__Yes\n",
      "n: 58, f1: 0.48441807965849704, lowest coef: cons_204__Yes\n",
      "n: 57, f1: 0.48578649309354643, lowest coef: hld_car__Yes\n",
      "n: 56, f1: 0.48591024353464346, lowest coef: cons_260__Yes\n",
      "n: 55, f1: 0.48571798829707596, lowest coef: hld_cope3__Yes\n",
      "n: 54, f1: 0.48830519686632945, lowest coef: cons_203__Yes\n",
      "n: 53, f1: 0.4884049852460291, lowest coef: cons_240__Yes\n",
      "n: 52, f1: 0.4876158053745582, lowest coef: hld_floor__Soil\n",
      "n: 51, f1: 0.4879830187671434, lowest coef: cons_202__Yes\n",
      "n: 50, f1: 0.4844673588584535, lowest coef: hld_incomeok__Yes\n",
      "n: 49, f1: 0.48830843104138816, lowest coef: cons_133__Yes\n",
      "n: 48, f1: 0.4853170373314069, lowest coef: cons_200__Yes\n",
      "n: 47, f1: 0.4818915003225622, lowest coef: hld_bwwater__Pipe with meter\n",
      "n: 46, f1: 0.4826091141859256, lowest coef: cons_110__Yes\n",
      "n: 45, f1: 0.48374895402904766, lowest coef: cons_227__Yes\n",
      "n: 44, f1: 0.48127301170604914, lowest coef: cons_199__Yes\n",
      "n: 43, f1: 0.4764097302107068, lowest coef: geo_urbrur__Urban\n",
      "n: 42, f1: 0.4697157011289298, lowest coef: hld_lighting__Oil lamp/torch\n"
     ]
    },
    {
     "data": {
      "text/html": [
       "<div>\n",
       "<style scoped>\n",
       "    .dataframe tbody tr th:only-of-type {\n",
       "        vertical-align: middle;\n",
       "    }\n",
       "\n",
       "    .dataframe tbody tr th {\n",
       "        vertical-align: top;\n",
       "    }\n",
       "\n",
       "    .dataframe thead th {\n",
       "        text-align: right;\n",
       "    }\n",
       "</style>\n",
       "<table border=\"1\" class=\"dataframe\">\n",
       "  <thead>\n",
       "    <tr style=\"text-align: right;\">\n",
       "      <th></th>\n",
       "      <th>correlation</th>\n",
       "      <th>abs</th>\n",
       "    </tr>\n",
       "  </thead>\n",
       "  <tbody>\n",
       "    <tr>\n",
       "      <th>hld_cooking__Firewood</th>\n",
       "      <td>0.618528</td>\n",
       "      <td>0.618528</td>\n",
       "    </tr>\n",
       "    <tr>\n",
       "      <th>hld_refrigerator__Yes</th>\n",
       "      <td>-0.599601</td>\n",
       "      <td>0.599601</td>\n",
       "    </tr>\n",
       "    <tr>\n",
       "      <th>cons_254__Yes</th>\n",
       "      <td>0.580805</td>\n",
       "      <td>0.580805</td>\n",
       "    </tr>\n",
       "    <tr>\n",
       "      <th>hld_motorcycle__Yes</th>\n",
       "      <td>-0.575712</td>\n",
       "      <td>0.575712</td>\n",
       "    </tr>\n",
       "    <tr>\n",
       "      <th>hld_nbcell</th>\n",
       "      <td>-0.562802</td>\n",
       "      <td>0.562802</td>\n",
       "    </tr>\n",
       "    <tr>\n",
       "      <th>cons_292__Yes</th>\n",
       "      <td>-0.557538</td>\n",
       "      <td>0.557538</td>\n",
       "    </tr>\n",
       "    <tr>\n",
       "      <th>cons_266__Yes</th>\n",
       "      <td>-0.503334</td>\n",
       "      <td>0.503334</td>\n",
       "    </tr>\n",
       "    <tr>\n",
       "      <th>cons_296__Yes</th>\n",
       "      <td>-0.503043</td>\n",
       "      <td>0.503043</td>\n",
       "    </tr>\n",
       "    <tr>\n",
       "      <th>hld_dwateracq__Not buying</th>\n",
       "      <td>0.485033</td>\n",
       "      <td>0.485033</td>\n",
       "    </tr>\n",
       "    <tr>\n",
       "      <th>cons_212__Yes</th>\n",
       "      <td>-0.476497</td>\n",
       "      <td>0.476497</td>\n",
       "    </tr>\n",
       "    <tr>\n",
       "      <th>hld_disposal__Tank/septic tank</th>\n",
       "      <td>-0.465320</td>\n",
       "      <td>0.465320</td>\n",
       "    </tr>\n",
       "    <tr>\n",
       "      <th>hld_anycell__Yes</th>\n",
       "      <td>-0.463652</td>\n",
       "      <td>0.463652</td>\n",
       "    </tr>\n",
       "    <tr>\n",
       "      <th>cons_058__Yes</th>\n",
       "      <td>-0.462146</td>\n",
       "      <td>0.462146</td>\n",
       "    </tr>\n",
       "    <tr>\n",
       "      <th>cons_257__Yes</th>\n",
       "      <td>-0.452962</td>\n",
       "      <td>0.452962</td>\n",
       "    </tr>\n",
       "    <tr>\n",
       "      <th>hld_dwatershr__Not applicable</th>\n",
       "      <td>-0.449460</td>\n",
       "      <td>0.449460</td>\n",
       "    </tr>\n",
       "    <tr>\n",
       "      <th>cons_072__Yes</th>\n",
       "      <td>-0.448523</td>\n",
       "      <td>0.448523</td>\n",
       "    </tr>\n",
       "    <tr>\n",
       "      <th>cons_297__Yes</th>\n",
       "      <td>-0.445170</td>\n",
       "      <td>0.445170</td>\n",
       "    </tr>\n",
       "    <tr>\n",
       "      <th>cons_205__Yes</th>\n",
       "      <td>-0.442518</td>\n",
       "      <td>0.442518</td>\n",
       "    </tr>\n",
       "    <tr>\n",
       "      <th>hld_cooking__Gas/LPG</th>\n",
       "      <td>-0.440978</td>\n",
       "      <td>0.440978</td>\n",
       "    </tr>\n",
       "    <tr>\n",
       "      <th>der_hhsize</th>\n",
       "      <td>0.432827</td>\n",
       "      <td>0.432827</td>\n",
       "    </tr>\n",
       "    <tr>\n",
       "      <th>der_nchild10under</th>\n",
       "      <td>0.409010</td>\n",
       "      <td>0.409010</td>\n",
       "    </tr>\n",
       "    <tr>\n",
       "      <th>hld_floor__Marble/ceramics/granite</th>\n",
       "      <td>-0.407176</td>\n",
       "      <td>0.407176</td>\n",
       "    </tr>\n",
       "    <tr>\n",
       "      <th>hld_toilet__None</th>\n",
       "      <td>0.404914</td>\n",
       "      <td>0.404914</td>\n",
       "    </tr>\n",
       "    <tr>\n",
       "      <th>der_ninternetpast3mo</th>\n",
       "      <td>-0.400885</td>\n",
       "      <td>0.400885</td>\n",
       "    </tr>\n",
       "    <tr>\n",
       "      <th>cons_217__Yes</th>\n",
       "      <td>-0.399999</td>\n",
       "      <td>0.399999</td>\n",
       "    </tr>\n",
       "    <tr>\n",
       "      <th>hld_computer__Yes</th>\n",
       "      <td>-0.398778</td>\n",
       "      <td>0.398778</td>\n",
       "    </tr>\n",
       "    <tr>\n",
       "      <th>cons_242__Yes</th>\n",
       "      <td>-0.397432</td>\n",
       "      <td>0.397432</td>\n",
       "    </tr>\n",
       "    <tr>\n",
       "      <th>hld_toiletshr__None</th>\n",
       "      <td>0.397134</td>\n",
       "      <td>0.397134</td>\n",
       "    </tr>\n",
       "    <tr>\n",
       "      <th>hld_toiletshr__Personal</th>\n",
       "      <td>-0.395360</td>\n",
       "      <td>0.395360</td>\n",
       "    </tr>\n",
       "    <tr>\n",
       "      <th>cons_304__Yes</th>\n",
       "      <td>-0.393754</td>\n",
       "      <td>0.393754</td>\n",
       "    </tr>\n",
       "    <tr>\n",
       "      <th>cons_332__Yes</th>\n",
       "      <td>-0.388898</td>\n",
       "      <td>0.388898</td>\n",
       "    </tr>\n",
       "    <tr>\n",
       "      <th>cons_128__Yes</th>\n",
       "      <td>-0.383725</td>\n",
       "      <td>0.383725</td>\n",
       "    </tr>\n",
       "    <tr>\n",
       "      <th>hld_dwater__Recycled bottled water</th>\n",
       "      <td>-0.380470</td>\n",
       "      <td>0.380470</td>\n",
       "    </tr>\n",
       "    <tr>\n",
       "      <th>hld_gascont__Yes</th>\n",
       "      <td>-0.379393</td>\n",
       "      <td>0.379393</td>\n",
       "    </tr>\n",
       "    <tr>\n",
       "      <th>hld_wall__Concrete</th>\n",
       "      <td>-0.367777</td>\n",
       "      <td>0.367777</td>\n",
       "    </tr>\n",
       "    <tr>\n",
       "      <th>cons_305__Yes</th>\n",
       "      <td>-0.360819</td>\n",
       "      <td>0.360819</td>\n",
       "    </tr>\n",
       "    <tr>\n",
       "      <th>cons_268__Yes</th>\n",
       "      <td>-0.348294</td>\n",
       "      <td>0.348294</td>\n",
       "    </tr>\n",
       "    <tr>\n",
       "      <th>hld_lighting__PLN electricity</th>\n",
       "      <td>-0.347487</td>\n",
       "      <td>0.347487</td>\n",
       "    </tr>\n",
       "    <tr>\n",
       "      <th>cons_015__Yes</th>\n",
       "      <td>-0.343227</td>\n",
       "      <td>0.343227</td>\n",
       "    </tr>\n",
       "    <tr>\n",
       "      <th>hld_cooking__Kerosene</th>\n",
       "      <td>-0.340749</td>\n",
       "      <td>0.340749</td>\n",
       "    </tr>\n",
       "    <tr>\n",
       "      <th>cons_176__Yes</th>\n",
       "      <td>-0.340173</td>\n",
       "      <td>0.340173</td>\n",
       "    </tr>\n",
       "    <tr>\n",
       "      <th>hld_lighting__Oil lamp/torch</th>\n",
       "      <td>0.339278</td>\n",
       "      <td>0.339278</td>\n",
       "    </tr>\n",
       "  </tbody>\n",
       "</table>\n",
       "</div>"
      ],
      "text/plain": [
       "                                    correlation       abs\n",
       "hld_cooking__Firewood                  0.618528  0.618528\n",
       "hld_refrigerator__Yes                 -0.599601  0.599601\n",
       "cons_254__Yes                          0.580805  0.580805\n",
       "hld_motorcycle__Yes                   -0.575712  0.575712\n",
       "hld_nbcell                            -0.562802  0.562802\n",
       "cons_292__Yes                         -0.557538  0.557538\n",
       "cons_266__Yes                         -0.503334  0.503334\n",
       "cons_296__Yes                         -0.503043  0.503043\n",
       "hld_dwateracq__Not buying              0.485033  0.485033\n",
       "cons_212__Yes                         -0.476497  0.476497\n",
       "hld_disposal__Tank/septic tank        -0.465320  0.465320\n",
       "hld_anycell__Yes                      -0.463652  0.463652\n",
       "cons_058__Yes                         -0.462146  0.462146\n",
       "cons_257__Yes                         -0.452962  0.452962\n",
       "hld_dwatershr__Not applicable         -0.449460  0.449460\n",
       "cons_072__Yes                         -0.448523  0.448523\n",
       "cons_297__Yes                         -0.445170  0.445170\n",
       "cons_205__Yes                         -0.442518  0.442518\n",
       "hld_cooking__Gas/LPG                  -0.440978  0.440978\n",
       "der_hhsize                             0.432827  0.432827\n",
       "der_nchild10under                      0.409010  0.409010\n",
       "hld_floor__Marble/ceramics/granite    -0.407176  0.407176\n",
       "hld_toilet__None                       0.404914  0.404914\n",
       "der_ninternetpast3mo                  -0.400885  0.400885\n",
       "cons_217__Yes                         -0.399999  0.399999\n",
       "hld_computer__Yes                     -0.398778  0.398778\n",
       "cons_242__Yes                         -0.397432  0.397432\n",
       "hld_toiletshr__None                    0.397134  0.397134\n",
       "hld_toiletshr__Personal               -0.395360  0.395360\n",
       "cons_304__Yes                         -0.393754  0.393754\n",
       "cons_332__Yes                         -0.388898  0.388898\n",
       "cons_128__Yes                         -0.383725  0.383725\n",
       "hld_dwater__Recycled bottled water    -0.380470  0.380470\n",
       "hld_gascont__Yes                      -0.379393  0.379393\n",
       "hld_wall__Concrete                    -0.367777  0.367777\n",
       "cons_305__Yes                         -0.360819  0.360819\n",
       "cons_268__Yes                         -0.348294  0.348294\n",
       "hld_lighting__PLN electricity         -0.347487  0.347487\n",
       "cons_015__Yes                         -0.343227  0.343227\n",
       "hld_cooking__Kerosene                 -0.340749  0.340749\n",
       "cons_176__Yes                         -0.340173  0.340173\n",
       "hld_lighting__Oil lamp/torch           0.339278  0.339278"
      ]
     },
     "metadata": {},
     "output_type": "display_data"
    }
   ],
   "source": [
    "# initially filter out lowest features\n",
    "best_model = evaluation.load_model('lda_full_oversample_cv', COUNTRY)\n",
    "corrs = get_corrs_df(X_train_best_model, best_model['model'])\n",
    "feats = corrs[corrs['abs'] > 0.15].index.values\n",
    "\n",
    "# load metrics from our best model\n",
    "best_model_metrics = evaluation.load_model_metrics('lda_full_oversample_cv', COUNTRY)\n",
    "\n",
    "# Load and transform the training data\n",
    "X_train, y_train, w_train = load_data(TRAIN_PATH, selected_columns=feats)\n",
    "cols = X_train.columns\n",
    "\n",
    "# Apply oversampling with SMOTE\n",
    "X_train, y_train = SMOTE().fit_sample(X_train, y_train)\n",
    "X_train = pd.DataFrame(X_train, columns=cols)\n",
    "\n",
    "# Load and transform the test set\n",
    "X_test, y_test, w_test = load_data(TEST_PATH, selected_columns=feats)\n",
    "\n",
    "# Iteratively drop features until the f1 score is beneath our threshold\n",
    "max_score = 0\n",
    "f1_score = 1\n",
    "f1_scores = []\n",
    "f1_threshold = best_model_metrics['f1'] * 0.90\n",
    "\n",
    "while (f1_score > f1_threshold) & (X_train.shape[1] >= 1):\n",
    "    # Fit the model\n",
    "    estimator = LinearDiscriminantAnalysis()\n",
    "    parameters = {'solver': ['svd']}\n",
    "    model = GridSearchCV(estimator, parameters).fit(X_train, y_train)\n",
    "    \n",
    "    # Get feature correlations\n",
    "    corrs = get_corrs_df(X_train, model)\n",
    "    feats = corrs.sort_values('abs', ascending=False).index.values\n",
    "\n",
    "    # Run the model\n",
    "    y_pred = model.predict(X_test[X_train.columns])\n",
    "    y_prob = model.predict_proba(X_test[X_train.columns])[:,1]\n",
    "\n",
    "    # Evaluate performance\n",
    "    metrics = evaluation.evaluate_model(y_test, y_pred, y_prob, w_test, show=False)\n",
    "    \n",
    "    # Compare f1 score to threshold\n",
    "    f1_score = metrics['f1']\n",
    "    if f1_score > max_score:\n",
    "        max_score = f1_score\n",
    "        best_feats = X_train.columns\n",
    "    \n",
    "    # Drop feature with lowest coefficient\n",
    "    X_train.drop(feats[-1], axis=1, inplace=True)\n",
    "    print(\"n: {}, f1: {}, lowest coef: {}\".format(len(feats), metrics['f1'], feats[-1]))\n",
    "display(corrs)\n",
    "selected_feats = feats"
   ]
  },
  {
   "cell_type": "code",
   "execution_count": 16,
   "metadata": {
    "collapsed": false
   },
   "outputs": [
    {
     "name": "stdout",
     "output_type": "stream",
     "text": [
      "X shape after oversampling:  (96680, 42)\n",
      "Fitting 5 folds for each of 1 candidates, totalling 5 fits\n"
     ]
    },
    {
     "name": "stderr",
     "output_type": "stream",
     "text": [
      "[Parallel(n_jobs=1)]: Done   5 out of   5 | elapsed:    1.8s finished\n"
     ]
    },
    {
     "name": "stdout",
     "output_type": "stream",
     "text": [
      "CPU times: user 8.91 s, sys: 25.9 s, total: 34.8 s\n",
      "Wall time: 2.26 s\n",
      "CPU times: user 60.6 ms, sys: 381 ms, total: 442 ms\n",
      "Wall time: 16.4 ms\n",
      "In-sample score: 82.82%\n",
      "Best model parameters: {'solver': 'svd'}\n"
     ]
    },
    {
     "name": "stderr",
     "output_type": "stream",
     "text": [
      "/home/bull/miniconda3/envs/worldbank-poverty-test/lib/python3.6/site-packages/matplotlib/cbook/deprecation.py:107: MatplotlibDeprecationWarning: Passing one of 'on', 'true', 'off', 'false' as a boolean is deprecated; use an actual boolean (True/False) instead.\n",
      "  warnings.warn(message, mplDeprecation, stacklevel=1)\n"
     ]
    },
    {
     "data": {
      "image/png": "[encoded data removed]",
      "text/plain": [
       "<Figure size 720x288 with 3 Axes>"
      ]
     },
     "metadata": {},
     "output_type": "display_data"
    },
    {
     "data": {
      "text/html": [
       "<style  type=\"text/css\" >\n",
       "    #T_9048133a_6c8d_11e8_97ef_0010c6b1e647row0_col3 {\n",
       "            background-color:  steelblue;\n",
       "        }    #T_9048133a_6c8d_11e8_97ef_0010c6b1e647row1_col2 {\n",
       "            background-color:  steelblue;\n",
       "        }    #T_9048133a_6c8d_11e8_97ef_0010c6b1e647row2_col3 {\n",
       "            background-color:  steelblue;\n",
       "        }    #T_9048133a_6c8d_11e8_97ef_0010c6b1e647row3_col3 {\n",
       "            background-color:  steelblue;\n",
       "        }    #T_9048133a_6c8d_11e8_97ef_0010c6b1e647row4_col3 {\n",
       "            background-color:  steelblue;\n",
       "        }    #T_9048133a_6c8d_11e8_97ef_0010c6b1e647row5_col3 {\n",
       "            background-color:  steelblue;\n",
       "        }    #T_9048133a_6c8d_11e8_97ef_0010c6b1e647row6_col3 {\n",
       "            background-color:  steelblue;\n",
       "        }</style>  \n",
       "<table id=\"T_9048133a_6c8d_11e8_97ef_0010c6b1e647\" ><caption>Model Scores</caption> \n",
       "<thead>    <tr> \n",
       "        <th class=\"blank level0\" ></th> \n",
       "        <th class=\"col_heading level0 col0\" >lda_feats_oversample_cv</th> \n",
       "        <th class=\"col_heading level0 col1\" >lda_full_oversample</th> \n",
       "        <th class=\"col_heading level0 col2\" >lda_full_undersample</th> \n",
       "        <th class=\"col_heading level0 col3\" >lr_full_oversample_cv</th> \n",
       "    </tr></thead> \n",
       "<tbody>    <tr> \n",
       "        <th id=\"T_9048133a_6c8d_11e8_97ef_0010c6b1e647level0_row0\" class=\"row_heading level0 row0\" >accuracy</th> \n",
       "        <td id=\"T_9048133a_6c8d_11e8_97ef_0010c6b1e647row0_col0\" class=\"data row0 col0\" >0.780124</td> \n",
       "        <td id=\"T_9048133a_6c8d_11e8_97ef_0010c6b1e647row0_col1\" class=\"data row0 col1\" >0.815948</td> \n",
       "        <td id=\"T_9048133a_6c8d_11e8_97ef_0010c6b1e647row0_col2\" class=\"data row0 col2\" >0.789215</td> \n",
       "        <td id=\"T_9048133a_6c8d_11e8_97ef_0010c6b1e647row0_col3\" class=\"data row0 col3\" >0.851611</td> \n",
       "    </tr>    <tr> \n",
       "        <th id=\"T_9048133a_6c8d_11e8_97ef_0010c6b1e647level0_row1\" class=\"row_heading level0 row1\" >recall</th> \n",
       "        <td id=\"T_9048133a_6c8d_11e8_97ef_0010c6b1e647row1_col0\" class=\"data row1 col0\" >0.852362</td> \n",
       "        <td id=\"T_9048133a_6c8d_11e8_97ef_0010c6b1e647row1_col1\" class=\"data row1 col1\" >0.8906</td> \n",
       "        <td id=\"T_9048133a_6c8d_11e8_97ef_0010c6b1e647row1_col2\" class=\"data row1 col2\" >0.920365</td> \n",
       "        <td id=\"T_9048133a_6c8d_11e8_97ef_0010c6b1e647row1_col3\" class=\"data row1 col3\" >0.838116</td> \n",
       "    </tr>    <tr> \n",
       "        <th id=\"T_9048133a_6c8d_11e8_97ef_0010c6b1e647level0_row2\" class=\"row_heading level0 row2\" >precision</th> \n",
       "        <td id=\"T_9048133a_6c8d_11e8_97ef_0010c6b1e647row2_col0\" class=\"data row2 col0\" >0.326826</td> \n",
       "        <td id=\"T_9048133a_6c8d_11e8_97ef_0010c6b1e647row2_col1\" class=\"data row2 col1\" >0.375087</td> \n",
       "        <td id=\"T_9048133a_6c8d_11e8_97ef_0010c6b1e647row2_col2\" class=\"data row2 col2\" >0.345313</td> \n",
       "        <td id=\"T_9048133a_6c8d_11e8_97ef_0010c6b1e647row2_col3\" class=\"data row2 col3\" >0.427456</td> \n",
       "    </tr>    <tr> \n",
       "        <th id=\"T_9048133a_6c8d_11e8_97ef_0010c6b1e647level0_row3\" class=\"row_heading level0 row3\" >f1</th> \n",
       "        <td id=\"T_9048133a_6c8d_11e8_97ef_0010c6b1e647row3_col0\" class=\"data row3 col0\" >0.472485</td> \n",
       "        <td id=\"T_9048133a_6c8d_11e8_97ef_0010c6b1e647row3_col1\" class=\"data row3 col1\" >0.52786</td> \n",
       "        <td id=\"T_9048133a_6c8d_11e8_97ef_0010c6b1e647row3_col2\" class=\"data row3 col2\" >0.502203</td> \n",
       "        <td id=\"T_9048133a_6c8d_11e8_97ef_0010c6b1e647row3_col3\" class=\"data row3 col3\" >0.566159</td> \n",
       "    </tr>    <tr> \n",
       "        <th id=\"T_9048133a_6c8d_11e8_97ef_0010c6b1e647level0_row4\" class=\"row_heading level0 row4\" >cross_entropy</th> \n",
       "        <td id=\"T_9048133a_6c8d_11e8_97ef_0010c6b1e647row4_col0\" class=\"data row4 col0\" >0.458391</td> \n",
       "        <td id=\"T_9048133a_6c8d_11e8_97ef_0010c6b1e647row4_col1\" class=\"data row4 col1\" >0.424324</td> \n",
       "        <td id=\"T_9048133a_6c8d_11e8_97ef_0010c6b1e647row4_col2\" class=\"data row4 col2\" >0.484488</td> \n",
       "        <td id=\"T_9048133a_6c8d_11e8_97ef_0010c6b1e647row4_col3\" class=\"data row4 col3\" >0.348544</td> \n",
       "    </tr>    <tr> \n",
       "        <th id=\"T_9048133a_6c8d_11e8_97ef_0010c6b1e647level0_row5\" class=\"row_heading level0 row5\" >roc_auc</th> \n",
       "        <td id=\"T_9048133a_6c8d_11e8_97ef_0010c6b1e647row5_col0\" class=\"data row5 col0\" >0.885536</td> \n",
       "        <td id=\"T_9048133a_6c8d_11e8_97ef_0010c6b1e647row5_col1\" class=\"data row5 col1\" >0.921219</td> \n",
       "        <td id=\"T_9048133a_6c8d_11e8_97ef_0010c6b1e647row5_col2\" class=\"data row5 col2\" >0.92041</td> \n",
       "        <td id=\"T_9048133a_6c8d_11e8_97ef_0010c6b1e647row5_col3\" class=\"data row5 col3\" >0.925356</td> \n",
       "    </tr>    <tr> \n",
       "        <th id=\"T_9048133a_6c8d_11e8_97ef_0010c6b1e647level0_row6\" class=\"row_heading level0 row6\" >cohen_kappa</th> \n",
       "        <td id=\"T_9048133a_6c8d_11e8_97ef_0010c6b1e647row6_col0\" class=\"data row6 col0\" >0.304581</td> \n",
       "        <td id=\"T_9048133a_6c8d_11e8_97ef_0010c6b1e647row6_col1\" class=\"data row6 col1\" >0.408593</td> \n",
       "        <td id=\"T_9048133a_6c8d_11e8_97ef_0010c6b1e647row6_col2\" class=\"data row6 col2\" >0.378004</td> \n",
       "        <td id=\"T_9048133a_6c8d_11e8_97ef_0010c6b1e647row6_col3\" class=\"data row6 col3\" >0.471316</td> \n",
       "    </tr></tbody> \n",
       "</table> "
      ],
      "text/plain": [
       "<pandas.io.formats.style.Styler at 0x7f8345ec7f98>"
      ]
     },
     "metadata": {},
     "output_type": "display_data"
    },
    {
     "name": "stdout",
     "output_type": "stream",
     "text": [
      "Actual poverty rate: 11.38% \n",
      "Predicted poverty rate: 29.08% \n"
     ]
    }
   ],
   "source": [
    "# Load and transform the training data\n",
    "X_train, y_train, w_train = load_data(TRAIN_PATH, selected_columns=selected_feats)\n",
    "cols = X_train.columns\n",
    "\n",
    "# Apply oversampling with SMOTE\n",
    "X_train, y_train = SMOTE().fit_sample(X_train, y_train)\n",
    "print(\"X shape after oversampling: \", X_train.shape)\n",
    "X_train = pd.DataFrame(X_train, columns=cols)\n",
    "\n",
    "# build the model\n",
    "estimator = LinearDiscriminantAnalysis()\n",
    "parameters = {'solver': ['svd']}\n",
    "\n",
    "model = GridSearchCV(estimator, parameters, cv=5, verbose=1)\n",
    "%time model.fit(X_train, y_train)\n",
    "\n",
    "# Get an initial score\n",
    "%time score = model.score(X_train, y_train)\n",
    "print(\"In-sample score: {:0.2%}\".format(score))\n",
    "coefs = get_coefs_df(X_train, model.best_estimator_.coef_[0])\n",
    "print(\"Best model parameters:\", model.best_params_)\n",
    "\n",
    "# Load the test set\n",
    "X_test, y_test, w_test = load_data(TEST_PATH, selected_columns=selected_feats)\n",
    "\n",
    "# Run the model\n",
    "y_pred = model.predict(X_test)\n",
    "y_prob = model.predict_proba(X_test)[:,1]\n",
    "\n",
    "# Evaluate performance and store model\n",
    "metrics = evaluation.evaluate_model(y_test, y_pred, y_prob, w_test,\n",
    "                                    compare_models=['lda_full_oversample',\n",
    "                                                    'lda_full_undersample', \n",
    "                                                    'lr_full_oversample_cv'],\n",
    "                                    store_model=True,\n",
    "                                    model_name='feats_oversample_cv', \n",
    "                                    prefix=ALGORITHM_NAME,\n",
    "                                    country=COUNTRY,\n",
    "                                    model=model, \n",
    "                                    features=coefs)"
   ]
  },
  {
   "cell_type": "code",
   "execution_count": 17,
   "metadata": {
    "collapsed": false
   },
   "outputs": [
    {
     "name": "stdout",
     "output_type": "stream",
     "text": [
      "19 consumables features selected:\n",
      "Gasoline/pertamax\n",
      "Clothes maintenance material\n",
      "Other drinks (coffee, milk, etc) \n",
      "Broiler egg\n",
      "Ready-made clothes for women\n",
      "Ready-made clothes for men\n",
      "Orange\n",
      "Potato\n",
      "Lubricant\n",
      "Broiler meat\n",
      "LPG Value\n",
      "Noodle (with meatball/boiled/fried)\n",
      "Soya sauce\n",
      "Mineral water (gallon)\n",
      "Motor and non-motor vehicle taxes\n",
      "Other stuffs (tissue, baby diaper, satai stick, etc.)\n",
      "Firewood and other fuels\n",
      "Motor vehicle's service and repair\n",
      "Mobile phone bill\n"
     ]
    }
   ],
   "source": [
    "feats = coefs.sort_values('abs', ascending=False).index.values\n",
    "cons_feats = [x.split('__')[0] for x in feats if x[0:5] == 'cons_']\n",
    "print(\"{} consumables features selected:\".format(len(cons_feats)))\n",
    "for x in cons_feats:\n",
    "    print(questions[x])"
   ]
  },
  {
   "cell_type": "markdown",
   "metadata": {},
   "source": [
    "This feature selection process does not appear to be as effective as the ones we applied with Linear Regression. We may lose more performance in the case of the Indonesia dataset if we want to use this method to create a smaller set of questions."
   ]
  },
  {
   "cell_type": "markdown",
   "metadata": {},
   "source": [
    "# LDA Indonesia Summary <a class=\"anchor\" id=\"summary\"></a>\n",
    "\n"
   ]
  },
  {
   "cell_type": "code",
   "execution_count": 18,
   "metadata": {
    "collapsed": false
   },
   "outputs": [
    {
     "data": {
      "image/png": "[encoded data removed]",
      "text/plain": [
       "<Figure size 360x288 with 1 Axes>"
      ]
     },
     "metadata": {},
     "output_type": "display_data"
    },
    {
     "data": {
      "text/html": [
       "<style  type=\"text/css\" >\n",
       "    #T_9048133b_6c8d_11e8_97ef_0010c6b1e647row0_col1 {\n",
       "            background-color:  steelblue;\n",
       "        }    #T_9048133b_6c8d_11e8_97ef_0010c6b1e647row1_col0 {\n",
       "            background-color:  steelblue;\n",
       "        }    #T_9048133b_6c8d_11e8_97ef_0010c6b1e647row1_col2 {\n",
       "            background-color:  steelblue;\n",
       "        }    #T_9048133b_6c8d_11e8_97ef_0010c6b1e647row1_col4 {\n",
       "            background-color:  steelblue;\n",
       "        }    #T_9048133b_6c8d_11e8_97ef_0010c6b1e647row1_col6 {\n",
       "            background-color:  steelblue;\n",
       "        }    #T_9048133b_6c8d_11e8_97ef_0010c6b1e647row1_col7 {\n",
       "            background-color:  steelblue;\n",
       "        }    #T_9048133b_6c8d_11e8_97ef_0010c6b1e647row2_col5 {\n",
       "            background-color:  steelblue;\n",
       "        }    #T_9048133b_6c8d_11e8_97ef_0010c6b1e647row5_col3 {\n",
       "            background-color:  steelblue;\n",
       "        }</style>  \n",
       "<table id=\"T_9048133b_6c8d_11e8_97ef_0010c6b1e647\" ><caption>Model Scores</caption> \n",
       "<thead>    <tr> \n",
       "        <th class=\"blank level0\" ></th> \n",
       "        <th class=\"col_heading level0 col0\" >accuracy</th> \n",
       "        <th class=\"col_heading level0 col1\" >recall</th> \n",
       "        <th class=\"col_heading level0 col2\" >precision</th> \n",
       "        <th class=\"col_heading level0 col3\" >f1</th> \n",
       "        <th class=\"col_heading level0 col4\" >cross_entropy</th> \n",
       "        <th class=\"col_heading level0 col5\" >roc_auc</th> \n",
       "        <th class=\"col_heading level0 col6\" >cohen_kappa</th> \n",
       "        <th class=\"col_heading level0 col7\" >pov_rate_error</th> \n",
       "    </tr></thead> \n",
       "<tbody>    <tr> \n",
       "        <th id=\"T_9048133b_6c8d_11e8_97ef_0010c6b1e647level0_row0\" class=\"row_heading level0 row0\" >lda_full_classwts</th> \n",
       "        <td id=\"T_9048133b_6c8d_11e8_97ef_0010c6b1e647row0_col0\" class=\"data row0 col0\" >0.506179</td> \n",
       "        <td id=\"T_9048133b_6c8d_11e8_97ef_0010c6b1e647row0_col1\" class=\"data row0 col1\" >0.988916</td> \n",
       "        <td id=\"T_9048133b_6c8d_11e8_97ef_0010c6b1e647row0_col2\" class=\"data row0 col2\" >0.188279</td> \n",
       "        <td id=\"T_9048133b_6c8d_11e8_97ef_0010c6b1e647row0_col3\" class=\"data row0 col3\" >0.316331</td> \n",
       "        <td id=\"T_9048133b_6c8d_11e8_97ef_0010c6b1e647row0_col4\" class=\"data row0 col4\" >1.16564</td> \n",
       "        <td id=\"T_9048133b_6c8d_11e8_97ef_0010c6b1e647row0_col5\" class=\"data row0 col5\" >0.911848</td> \n",
       "        <td id=\"T_9048133b_6c8d_11e8_97ef_0010c6b1e647row0_col6\" class=\"data row0 col6\" >0.150084</td> \n",
       "        <td id=\"T_9048133b_6c8d_11e8_97ef_0010c6b1e647row0_col7\" class=\"data row0 col7\" >0.478668</td> \n",
       "    </tr>    <tr> \n",
       "        <th id=\"T_9048133b_6c8d_11e8_97ef_0010c6b1e647level0_row1\" class=\"row_heading level0 row1\" >lda_full</th> \n",
       "        <td id=\"T_9048133b_6c8d_11e8_97ef_0010c6b1e647row1_col0\" class=\"data row1 col0\" >0.905845</td> \n",
       "        <td id=\"T_9048133b_6c8d_11e8_97ef_0010c6b1e647row1_col1\" class=\"data row1 col1\" >0.405497</td> \n",
       "        <td id=\"T_9048133b_6c8d_11e8_97ef_0010c6b1e647row1_col2\" class=\"data row1 col2\" >0.647748</td> \n",
       "        <td id=\"T_9048133b_6c8d_11e8_97ef_0010c6b1e647row1_col3\" class=\"data row1 col3\" >0.498763</td> \n",
       "        <td id=\"T_9048133b_6c8d_11e8_97ef_0010c6b1e647row1_col4\" class=\"data row1 col4\" >0.231353</td> \n",
       "        <td id=\"T_9048133b_6c8d_11e8_97ef_0010c6b1e647row1_col5\" class=\"data row1 col5\" >0.911848</td> \n",
       "        <td id=\"T_9048133b_6c8d_11e8_97ef_0010c6b1e647row1_col6\" class=\"data row1 col6\" >0.456538</td> \n",
       "        <td id=\"T_9048133b_6c8d_11e8_97ef_0010c6b1e647row1_col7\" class=\"data row1 col7\" >-0.0408086</td> \n",
       "    </tr>    <tr> \n",
       "        <th id=\"T_9048133b_6c8d_11e8_97ef_0010c6b1e647level0_row2\" class=\"row_heading level0 row2\" >lda_full_oversample_cv</th> \n",
       "        <td id=\"T_9048133b_6c8d_11e8_97ef_0010c6b1e647row2_col0\" class=\"data row2 col0\" >0.813904</td> \n",
       "        <td id=\"T_9048133b_6c8d_11e8_97ef_0010c6b1e647row2_col1\" class=\"data row2 col1\" >0.886697</td> \n",
       "        <td id=\"T_9048133b_6c8d_11e8_97ef_0010c6b1e647row2_col2\" class=\"data row2 col2\" >0.371896</td> \n",
       "        <td id=\"T_9048133b_6c8d_11e8_97ef_0010c6b1e647row2_col3\" class=\"data row2 col3\" >0.524012</td> \n",
       "        <td id=\"T_9048133b_6c8d_11e8_97ef_0010c6b1e647row2_col4\" class=\"data row2 col4\" >0.426183</td> \n",
       "        <td id=\"T_9048133b_6c8d_11e8_97ef_0010c6b1e647row2_col5\" class=\"data row2 col5\" >0.92172</td> \n",
       "        <td id=\"T_9048133b_6c8d_11e8_97ef_0010c6b1e647row2_col6\" class=\"data row2 col6\" >0.406539</td> \n",
       "        <td id=\"T_9048133b_6c8d_11e8_97ef_0010c6b1e647row2_col7\" class=\"data row2 col7\" >0.152916</td> \n",
       "    </tr>    <tr> \n",
       "        <th id=\"T_9048133b_6c8d_11e8_97ef_0010c6b1e647level0_row3\" class=\"row_heading level0 row3\" >lda_feats_oversample_cv</th> \n",
       "        <td id=\"T_9048133b_6c8d_11e8_97ef_0010c6b1e647row3_col0\" class=\"data row3 col0\" >0.780124</td> \n",
       "        <td id=\"T_9048133b_6c8d_11e8_97ef_0010c6b1e647row3_col1\" class=\"data row3 col1\" >0.852362</td> \n",
       "        <td id=\"T_9048133b_6c8d_11e8_97ef_0010c6b1e647row3_col2\" class=\"data row3 col2\" >0.326826</td> \n",
       "        <td id=\"T_9048133b_6c8d_11e8_97ef_0010c6b1e647row3_col3\" class=\"data row3 col3\" >0.472485</td> \n",
       "        <td id=\"T_9048133b_6c8d_11e8_97ef_0010c6b1e647row3_col4\" class=\"data row3 col4\" >0.458391</td> \n",
       "        <td id=\"T_9048133b_6c8d_11e8_97ef_0010c6b1e647row3_col5\" class=\"data row3 col5\" >0.885536</td> \n",
       "        <td id=\"T_9048133b_6c8d_11e8_97ef_0010c6b1e647row3_col6\" class=\"data row3 col6\" >0.304581</td> \n",
       "        <td id=\"T_9048133b_6c8d_11e8_97ef_0010c6b1e647row3_col7\" class=\"data row3 col7\" >0.177014</td> \n",
       "    </tr>    <tr> \n",
       "        <th id=\"T_9048133b_6c8d_11e8_97ef_0010c6b1e647level0_row4\" class=\"row_heading level0 row4\" >lda_full_undersample</th> \n",
       "        <td id=\"T_9048133b_6c8d_11e8_97ef_0010c6b1e647row4_col0\" class=\"data row4 col0\" >0.789215</td> \n",
       "        <td id=\"T_9048133b_6c8d_11e8_97ef_0010c6b1e647row4_col1\" class=\"data row4 col1\" >0.920365</td> \n",
       "        <td id=\"T_9048133b_6c8d_11e8_97ef_0010c6b1e647row4_col2\" class=\"data row4 col2\" >0.345313</td> \n",
       "        <td id=\"T_9048133b_6c8d_11e8_97ef_0010c6b1e647row4_col3\" class=\"data row4 col3\" >0.502203</td> \n",
       "        <td id=\"T_9048133b_6c8d_11e8_97ef_0010c6b1e647row4_col4\" class=\"data row4 col4\" >0.484488</td> \n",
       "        <td id=\"T_9048133b_6c8d_11e8_97ef_0010c6b1e647row4_col5\" class=\"data row4 col5\" >0.92041</td> \n",
       "        <td id=\"T_9048133b_6c8d_11e8_97ef_0010c6b1e647row4_col6\" class=\"data row4 col6\" >0.378004</td> \n",
       "        <td id=\"T_9048133b_6c8d_11e8_97ef_0010c6b1e647row4_col7\" class=\"data row4 col7\" >0.180678</td> \n",
       "    </tr>    <tr> \n",
       "        <th id=\"T_9048133b_6c8d_11e8_97ef_0010c6b1e647level0_row5\" class=\"row_heading level0 row5\" >lda_full_oversample</th> \n",
       "        <td id=\"T_9048133b_6c8d_11e8_97ef_0010c6b1e647row5_col0\" class=\"data row5 col0\" >0.815948</td> \n",
       "        <td id=\"T_9048133b_6c8d_11e8_97ef_0010c6b1e647row5_col1\" class=\"data row5 col1\" >0.8906</td> \n",
       "        <td id=\"T_9048133b_6c8d_11e8_97ef_0010c6b1e647row5_col2\" class=\"data row5 col2\" >0.375087</td> \n",
       "        <td id=\"T_9048133b_6c8d_11e8_97ef_0010c6b1e647row5_col3\" class=\"data row5 col3\" >0.52786</td> \n",
       "        <td id=\"T_9048133b_6c8d_11e8_97ef_0010c6b1e647row5_col4\" class=\"data row5 col4\" >0.424324</td> \n",
       "        <td id=\"T_9048133b_6c8d_11e8_97ef_0010c6b1e647row5_col5\" class=\"data row5 col5\" >0.921219</td> \n",
       "        <td id=\"T_9048133b_6c8d_11e8_97ef_0010c6b1e647row5_col6\" class=\"data row5 col6\" >0.408593</td> \n",
       "        <td id=\"T_9048133b_6c8d_11e8_97ef_0010c6b1e647row5_col7\" class=\"data row5 col7\" >0.151802</td> \n",
       "    </tr></tbody> \n",
       "</table> "
      ],
      "text/plain": [
       "<pandas.io.formats.style.Styler at 0x7f83457b8f98>"
      ]
     },
     "metadata": {},
     "output_type": "display_data"
    }
   ],
   "source": [
    "evaluation.compare_algorithm_models(ALGORITHM_NAME, COUNTRY)"
   ]
  }
 ],
 "metadata": {
  "kernelspec": {
   "display_name": "Python 3",
   "language": "python",
   "name": "python3"
  },
  "language_info": {
   "codemirror_mode": {
    "name": "ipython",
    "version": 3
   },
   "file_extension": ".py",
   "mimetype": "text/x-python",
   "name": "python",
   "nbconvert_exporter": "python",
   "pygments_lexer": "ipython3",
   "version": "3.6.0"
  }
 },
 "nbformat": 4,
 "nbformat_minor": 2
}
