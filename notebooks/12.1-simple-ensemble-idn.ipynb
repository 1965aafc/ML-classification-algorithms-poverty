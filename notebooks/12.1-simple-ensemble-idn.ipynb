{
 "cells": [
  {
   "cell_type": "markdown",
   "metadata": {},
   "source": [
    "<h1 style=\"text-align: center;\" markdown=\"1\">Machine Learning Algorithms for Poverty Prediction</h1> \n",
    "<h2 style=\"text-align: center;\" markdown=\"2\">A project of the World Bank's Knowledge for Change Program</h2>\n",
    "<h3 style=\"text-align: center;\" markdown=\"3\">(KCP, Grant TF0A4534)</h3>\n",
    "\n",
    "\n",
    "> *This notebook is part of a series that has been developed as an empirical comparative assessment of machine learning classification algorithms applied to poverty prediction. The objectives of this project are to explore how well machine learning algorithms perform when given the task to identify the poor in a given population, and to provide a resource of machine learning techniques for researchers, data scientists, and statisticians in developing countries.*"
   ]
  },
  {
   "cell_type": "markdown",
   "metadata": {},
   "source": [
    "<h1 style=\"text-align: center;\" markdown=\"3\">Advanced Algortihm 1: Simple Ensemble Average Classifier</h1> \n",
    "<h2 style=\"text-align: center;\" markdown=\"3\">Indonesia Poverty Prediction</h2> "
   ]
  },
  {
   "cell_type": "markdown",
   "metadata": {},
   "source": [
    "# Table of Contents\n",
    "[Introduction](#introduction)  \n",
    "&nbsp;&nbsp;&nbsp;[Explanation and Theory](#introduction-theory)  \n",
    "&nbsp;&nbsp;&nbsp;[Considerations](#introduction-considerations)  \n",
    "[Data Setup](#setup)  \n",
    "[Define a Simple Ensemble Average Classifier](#define-ensemble-function)  \n",
    "&nbsp;&nbsp;&nbsp;[Ensemble the Top Models](#ensemble-top-models)  \n",
    "&nbsp;&nbsp;&nbsp;[Average All Predictions](#average-preds)  \n",
    "[Compare to Top Models](#compare)  \n",
    "[Summary](#summary)"
   ]
  },
  {
   "cell_type": "markdown",
   "metadata": {},
   "source": [
    "# Simple Ensemble Average Classifier Introduction <a class=\"anchor\" id=\"introduction\"></a>\n",
    "\n",
    "Ensembling is a technique to combine multiple different kinds of classifiers. For example, you may want to combine a logistic regression and a random forest. There are many techniques that can be used to combine classifiers, of which averaging is the most straightforward. Ensembling is a common technique, and ensembles often perform better than individual model classes because one model can correct for another's error.\n",
    "\n",
    "Constructing a simple ensemble average requires nothing more than predictions from more than one model. Combining predictions from multiple models offers a way of introducing heterogeneity of functional forms into a model pipeline without much additional complexity: one model may excel at utilizing certain patterns in the data, but be easily fooled by other patterns, while another model may have just the opposite properties. By combining the predictions from both, their best aspects can be amplified while their less helpful aspects can be mitigated."
   ]
  },
  {
   "cell_type": "markdown",
   "metadata": {},
   "source": [
    "In this notebook we will consider a simple (non-weighted) ensemble average of the top 10 models as ranked by their perforamnce on the Indonesia data. These models not only offer a variety of model classes, but have also been trained using various class-weighting techniques (under-sampling and over-sampling), which provides another level of heterogeneity."
   ]
  },
  {
   "cell_type": "markdown",
   "metadata": {},
   "source": [
    "## Explanation and Theory <a class=\"anchor\" id=\"introduction-theory\"></a>\n",
    "\n",
    "**Assumptions and properties.** The component models of a simple ensemble average can have any properties, as long as they produce similarly structured predictions. The predictions from each model are then combined by some function to reduce the set of predictions to a single predicted output for each sample. \n",
    "\n",
    "**Algorithm and Training.** We will use the predicted class probabilities as the inputs to a standard arathmetic `mean` function so that each sample $i$ has $N$ predicted class probabilities, one from each of the $N$ models in the ensemble. Each component model is independently trained.\n",
    "\n",
    "\n",
    "**Variations of the model.** If class probabilities are unavailable, then another technique such as \"majority vote\" could be used to reduce the set of predictions to one for each sample. Further, there are more advanced ways of ensembling such as _stacking_, in which predictions from the ensemble are used as input to another \"second level\" model. We will explore model stacking in the next notebook."
   ]
  },
  {
   "cell_type": "markdown",
   "metadata": {},
   "source": [
    "## Considerations <a class=\"anchor\" id=\"introduction-considerations\"></a>\n",
    "\n",
    "Ensembling works best when the component models are heterogeneous. If very slight variations of the same model are used as the components in an ensemble, results are expected to be similar to those of a single model."
   ]
  },
  {
   "cell_type": "markdown",
   "metadata": {},
   "source": [
    "# Data setup <a class=\"anchor\" id=\"setup\"></a>\n",
    "\n",
    "Since this type of ensembling relies on already-trained models, we could simply load the test data, models, predict, and combine. However, we will be using the prdictions from all models later in this series of notebooks. Therefore we will load the training and test data, and generate and save predictions from all samples.\n",
    "\n",
    "First we load the standard libraries and data."
   ]
  },
  {
   "cell_type": "code",
   "execution_count": 1,
   "metadata": {
    "collapsed": false
   },
   "outputs": [
    {
     "name": "stderr",
     "output_type": "stream",
     "text": [
      "Using TensorFlow backend.\n"
     ]
    }
   ],
   "source": [
    "%matplotlib inline\n",
    "\n",
    "import os\n",
    "import sys\n",
    "import json\n",
    "import warnings\n",
    "from pathlib import Path\n",
    "warnings.filterwarnings('ignore')\n",
    "\n",
    "import numpy as np\n",
    "import pandas as pd\n",
    "\n",
    "from matplotlib import pyplot as plt\n",
    "from IPython.display import display\n",
    "import seaborn as sns\n",
    "sns.set()\n",
    "\n",
    "# Add our local functions to the path\n",
    "sys.path.append(os.path.join(os.pardir, 'src'))\n",
    "from models import evaluation\n",
    "from visualization import visualize\n",
    "from data.load_data import (get_country_filepaths, \n",
    "                            split_features_labels_weights, \n",
    "                            load_data)\n",
    "from features.process_features import get_vif, standardize\n",
    "from features.process_features import MWI_BASIC_FEATURES\n",
    "\n",
    "ALGORITHM_NAME = 'ensemble'\n",
    "COUNTRY = 'idn'\n",
    "TRAIN_PATH, TEST_PATH, QUESTIONS_PATH = get_country_filepaths(COUNTRY)"
   ]
  },
  {
   "cell_type": "code",
   "execution_count": 2,
   "metadata": {
    "collapsed": true
   },
   "outputs": [],
   "source": [
    "# load data\n",
    "X_train, y_train, w_train = load_data(TRAIN_PATH)\n",
    "X_test, y_test, w_test = load_data(TEST_PATH)"
   ]
  },
  {
   "cell_type": "markdown",
   "metadata": {},
   "source": [
    "# Define a Simple Ensemble Averaging Model <a class=\"anchor\" id=\"define-ensemble-function\"></a>\n",
    "\n",
    "To create an ensembled model, we'll need the predictions from the models that we want to include in the ensemble. We create a function `get_predictions_from_models` that will take a list of model names (that reference saved versions generated by other notebooks in this project) and creates a dataframe of the predictions the models make."
   ]
  },
  {
   "cell_type": "code",
   "execution_count": 3,
   "metadata": {
    "collapsed": true
   },
   "outputs": [],
   "source": [
    "def get_predictions_from_models(list_of_models):\n",
    "    # load the data\n",
    "    country_dir = Path(evaluation.MODELS_DIR, COUNTRY)\n",
    "    models = [evaluation.load_model(str(f.stem), COUNTRY)\n",
    "              for f in country_dir.iterdir() if f.stem in list_of_models]\n",
    "    \n",
    "    # make predictions on training set\n",
    "    all_preds_train = pd.DataFrame(np.zeros((X_train.shape[0], len(list_of_models))),\n",
    "                             index=X_train.index,\n",
    "                             columns=list_of_models).astype(float)\n",
    "    all_preds_test = pd.DataFrame(np.zeros((X_test.shape[0], len(list_of_models))),\n",
    "                             index=X_test.index,\n",
    "                             columns=list_of_models).astype(float)\n",
    "    \n",
    "    # make preds on train and test\n",
    "    for model in models:\n",
    "        if 'feat' in model['name']:\n",
    "            reduced_feat = model['features'].index.values\n",
    "            X_train_reduced = X_train[reduced_feat]\n",
    "            X_test_reduced = X_test[reduced_feat]\n",
    "            all_preds_train[model['name']] = model['model'].predict_proba(X_train_reduced.as_matrix())[:, 1]\n",
    "            all_preds_test[model['name']] = model['model'].predict_proba(X_test_reduced.as_matrix())[:, 1]\n",
    "        else:\n",
    "            all_preds_train[model['name']] = model['model'].predict_proba(X_train.as_matrix())[:, 1]\n",
    "            all_preds_test[model['name']] = model['model'].predict_proba(X_test.as_matrix())[:, 1]\n",
    "\n",
    "    \n",
    "    # return all predictions for further evaluation\n",
    "    return all_preds_train, all_preds_test"
   ]
  },
  {
   "cell_type": "markdown",
   "metadata": {},
   "source": [
    "## Ensemble the Top Models <a class=\"anchor\" id=\"ensemble-top-models\"></a>\n",
    "\n",
    "Here we pass a list of the top performing models to our ensembling generator, as determined by the comparisons presented in the results notebooks before this one.\n",
    "\n",
    "Note that although some algorithm classes appear more than once, e.g., logistic regression (`lr`) and multi-layer-perception (`mlp`), each instance is different: some use over-sampling while some don't, some use cross-validation while some don't. This varition in training approaches should give us the heterogeneity we seek in a good ensemble model."
   ]
  },
  {
   "cell_type": "code",
   "execution_count": 4,
   "metadata": {
    "collapsed": true
   },
   "outputs": [],
   "source": [
    "# top models selected from results notebook prior to this one\n",
    "top_10 = [\n",
    "    'lr_full_oversample',\n",
    "    'mlp_full_undersample_cv',\n",
    "    'lr_full_oversample_cv',\n",
    "    'xgb_full_undersample_cv',\n",
    "    'lr_full_undersample',\n",
    "    'lr_full_classwts',\n",
    "    'mlp_full_undersample',\n",
    "    'lda_full_oversample_cv',\n",
    "    'lr_l1_feats_oversample_cv',\n",
    "    'lda_full_oversample',\n",
    "]"
   ]
  },
  {
   "cell_type": "markdown",
   "metadata": {},
   "source": [
    "Generate the prediction dataframe"
   ]
  },
  {
   "cell_type": "code",
   "execution_count": 5,
   "metadata": {
    "collapsed": true
   },
   "outputs": [],
   "source": [
    "all_preds_train, all_preds_test = get_predictions_from_models(top_10)"
   ]
  },
  {
   "cell_type": "markdown",
   "metadata": {},
   "source": [
    "## Average All Predictions <a class=\"anchor\" id=\"average-preds\"></a>\n",
    "\n",
    "As we can see here, we now have the probabilities that each model predicted for each household."
   ]
  },
  {
   "cell_type": "code",
   "execution_count": 6,
   "metadata": {
    "collapsed": false
   },
   "outputs": [
    {
     "data": {
      "text/html": [
       "<div>\n",
       "<style scoped>\n",
       "    .dataframe tbody tr th:only-of-type {\n",
       "        vertical-align: middle;\n",
       "    }\n",
       "\n",
       "    .dataframe tbody tr th {\n",
       "        vertical-align: top;\n",
       "    }\n",
       "\n",
       "    .dataframe thead th {\n",
       "        text-align: right;\n",
       "    }\n",
       "</style>\n",
       "<table border=\"1\" class=\"dataframe\">\n",
       "  <thead>\n",
       "    <tr style=\"text-align: right;\">\n",
       "      <th></th>\n",
       "      <th>lr_full_oversample</th>\n",
       "      <th>mlp_full_undersample_cv</th>\n",
       "      <th>lr_full_oversample_cv</th>\n",
       "      <th>xgb_full_undersample_cv</th>\n",
       "      <th>lr_full_undersample</th>\n",
       "      <th>lr_full_classwts</th>\n",
       "      <th>mlp_full_undersample</th>\n",
       "      <th>lda_full_oversample_cv</th>\n",
       "      <th>lr_l1_feats_oversample_cv</th>\n",
       "      <th>lda_full_oversample</th>\n",
       "    </tr>\n",
       "    <tr>\n",
       "      <th>hid</th>\n",
       "      <th></th>\n",
       "      <th></th>\n",
       "      <th></th>\n",
       "      <th></th>\n",
       "      <th></th>\n",
       "      <th></th>\n",
       "      <th></th>\n",
       "      <th></th>\n",
       "      <th></th>\n",
       "      <th></th>\n",
       "    </tr>\n",
       "  </thead>\n",
       "  <tbody>\n",
       "    <tr>\n",
       "      <th>3521040202950202</th>\n",
       "      <td>2.259811e-01</td>\n",
       "      <td>0.135724</td>\n",
       "      <td>1.982971e-01</td>\n",
       "      <td>0.229414</td>\n",
       "      <td>0.169370</td>\n",
       "      <td>1.467828e-01</td>\n",
       "      <td>1.528176e-04</td>\n",
       "      <td>0.330846</td>\n",
       "      <td>0.335236</td>\n",
       "      <td>0.291907</td>\n",
       "    </tr>\n",
       "    <tr>\n",
       "      <th>6310020200930608</th>\n",
       "      <td>3.766187e-08</td>\n",
       "      <td>0.000031</td>\n",
       "      <td>2.247215e-08</td>\n",
       "      <td>0.000522</td>\n",
       "      <td>0.000004</td>\n",
       "      <td>9.262122e-07</td>\n",
       "      <td>4.023252e-21</td>\n",
       "      <td>0.001535</td>\n",
       "      <td>0.000742</td>\n",
       "      <td>0.001681</td>\n",
       "    </tr>\n",
       "    <tr>\n",
       "      <th>7310010200370305</th>\n",
       "      <td>2.728485e-06</td>\n",
       "      <td>0.000011</td>\n",
       "      <td>2.372742e-06</td>\n",
       "      <td>0.000088</td>\n",
       "      <td>0.000064</td>\n",
       "      <td>1.038306e-05</td>\n",
       "      <td>2.758182e-12</td>\n",
       "      <td>0.000230</td>\n",
       "      <td>0.000245</td>\n",
       "      <td>0.000227</td>\n",
       "    </tr>\n",
       "    <tr>\n",
       "      <th>3372030150640309</th>\n",
       "      <td>2.690712e-02</td>\n",
       "      <td>0.005942</td>\n",
       "      <td>2.329749e-02</td>\n",
       "      <td>0.010038</td>\n",
       "      <td>0.017010</td>\n",
       "      <td>4.482004e-02</td>\n",
       "      <td>2.120000e-09</td>\n",
       "      <td>0.054705</td>\n",
       "      <td>0.056535</td>\n",
       "      <td>0.069855</td>\n",
       "    </tr>\n",
       "    <tr>\n",
       "      <th>1213160203750307</th>\n",
       "      <td>1.828366e-04</td>\n",
       "      <td>0.001254</td>\n",
       "      <td>1.120742e-04</td>\n",
       "      <td>0.008949</td>\n",
       "      <td>0.000601</td>\n",
       "      <td>1.985433e-03</td>\n",
       "      <td>1.033493e-05</td>\n",
       "      <td>0.001213</td>\n",
       "      <td>0.007659</td>\n",
       "      <td>0.001105</td>\n",
       "    </tr>\n",
       "  </tbody>\n",
       "</table>\n",
       "</div>"
      ],
      "text/plain": [
       "                  lr_full_oversample  mlp_full_undersample_cv  \\\n",
       "hid                                                             \n",
       "3521040202950202        2.259811e-01                 0.135724   \n",
       "6310020200930608        3.766187e-08                 0.000031   \n",
       "7310010200370305        2.728485e-06                 0.000011   \n",
       "3372030150640309        2.690712e-02                 0.005942   \n",
       "1213160203750307        1.828366e-04                 0.001254   \n",
       "\n",
       "                  lr_full_oversample_cv  xgb_full_undersample_cv  \\\n",
       "hid                                                                \n",
       "3521040202950202           1.982971e-01                 0.229414   \n",
       "6310020200930608           2.247215e-08                 0.000522   \n",
       "7310010200370305           2.372742e-06                 0.000088   \n",
       "3372030150640309           2.329749e-02                 0.010038   \n",
       "1213160203750307           1.120742e-04                 0.008949   \n",
       "\n",
       "                  lr_full_undersample  lr_full_classwts  mlp_full_undersample  \\\n",
       "hid                                                                             \n",
       "3521040202950202             0.169370      1.467828e-01          1.528176e-04   \n",
       "6310020200930608             0.000004      9.262122e-07          4.023252e-21   \n",
       "7310010200370305             0.000064      1.038306e-05          2.758182e-12   \n",
       "3372030150640309             0.017010      4.482004e-02          2.120000e-09   \n",
       "1213160203750307             0.000601      1.985433e-03          1.033493e-05   \n",
       "\n",
       "                  lda_full_oversample_cv  lr_l1_feats_oversample_cv  \\\n",
       "hid                                                                   \n",
       "3521040202950202                0.330846                   0.335236   \n",
       "6310020200930608                0.001535                   0.000742   \n",
       "7310010200370305                0.000230                   0.000245   \n",
       "3372030150640309                0.054705                   0.056535   \n",
       "1213160203750307                0.001213                   0.007659   \n",
       "\n",
       "                  lda_full_oversample  \n",
       "hid                                    \n",
       "3521040202950202             0.291907  \n",
       "6310020200930608             0.001681  \n",
       "7310010200370305             0.000227  \n",
       "3372030150640309             0.069855  \n",
       "1213160203750307             0.001105  "
      ]
     },
     "execution_count": 6,
     "metadata": {},
     "output_type": "execute_result"
    }
   ],
   "source": [
    "all_preds_test.head()"
   ]
  },
  {
   "cell_type": "markdown",
   "metadata": {},
   "source": [
    "To generate a single prediction for each household, we take the mean over the columns (`axis=1`) of our prediction `DataFrame`. This is the simple averaging of predictions that creates the ensemble."
   ]
  },
  {
   "cell_type": "code",
   "execution_count": 7,
   "metadata": {
    "collapsed": true
   },
   "outputs": [],
   "source": [
    "# round predictions to generate class predictions (using a 0.5 threshold)\n",
    "simple_ensemble_preds = all_preds_test.mean(axis=1).round() \n",
    "\n",
    "# take mean of predictions to generate class probabilties\n",
    "simple_ensemble_prob = all_preds_test.mean(axis=1)"
   ]
  },
  {
   "cell_type": "markdown",
   "metadata": {},
   "source": [
    "A version of this function that has been included in the `src/models/ensemble` directory, and this version creates all the individual model predictions and also returns the mean of predictions (as we've done manually here)."
   ]
  },
  {
   "cell_type": "markdown",
   "metadata": {},
   "source": [
    "#### Poverty rate comparison\n",
    "\n",
    "We can use the predictions generated by the ensemble to calculate the actual poverty rate and the predicted poverty rate."
   ]
  },
  {
   "cell_type": "code",
   "execution_count": 8,
   "metadata": {
    "collapsed": true
   },
   "outputs": [],
   "source": [
    "from sklearn.preprocessing import MinMaxScaler"
   ]
  },
  {
   "cell_type": "code",
   "execution_count": 9,
   "metadata": {
    "collapsed": false
   },
   "outputs": [
    {
     "name": "stdout",
     "output_type": "stream",
     "text": [
      "\n",
      "Actual poverty rate: 11.38% \n",
      "Predicted poverty rate: 23.88% \n"
     ]
    }
   ],
   "source": [
    "# Make the ensemble predictions for train and test sets\n",
    "ensemble_train = all_preds_train.mean(axis=1).round()\n",
    "ensemble_test = all_preds_test.mean(axis=1).round()\n",
    "\n",
    "# dataframe of the components needed for poverty rate prediction\n",
    "pov_rate = pd.DataFrame(dict(\n",
    "    wta_pop=np.concatenate([w_train, w_test]),\n",
    "    poor=np.concatenate([y_train, y_test]),\n",
    "    pred=np.concatenate([ensemble_train, ensemble_test])\n",
    "))\n",
    "\n",
    "pov_rate_actual = (pov_rate.wta_pop * pov_rate.poor).sum() / pov_rate.wta_pop.sum()\n",
    "\n",
    "# Make predictions on entire dataset to get the predicted poverty rate\n",
    "pov_rate_pred = (pov_rate.wta_pop * pov_rate.pred).sum() / pov_rate.wta_pop.sum()\n",
    "\n",
    "print(\"\\nActual poverty rate: {:0.2%} \".format(pov_rate_actual))\n",
    "print(\"Predicted poverty rate: {:0.2%} \".format(pov_rate_pred))"
   ]
  },
  {
   "cell_type": "markdown",
   "metadata": {},
   "source": [
    "# Compare to Top Models <a class=\"anchor\" id=\"compare\"></a>\n",
    "\n",
    "To gain a sense of the advantage of ensembling, let's compare the simple ensemble average to the performance of some of its component models. In order to avoid clutter in the plot, we have chosen only the top three models from the `top_10` list."
   ]
  },
  {
   "cell_type": "code",
   "execution_count": 10,
   "metadata": {
    "collapsed": false
   },
   "outputs": [
    {
     "name": "stderr",
     "output_type": "stream",
     "text": [
      "/home/bull/miniconda3/envs/worldbank-poverty-test/lib/python3.6/site-packages/matplotlib/cbook/deprecation.py:107: MatplotlibDeprecationWarning: Passing one of 'on', 'true', 'off', 'false' as a boolean is deprecated; use an actual boolean (True/False) instead.\n",
      "  warnings.warn(message, mplDeprecation, stacklevel=1)\n"
     ]
    },
    {
     "data": {
      "image/png": "[encoded data removed]",
      "text/plain": [
       "<Figure size 720x288 with 3 Axes>"
      ]
     },
     "metadata": {},
     "output_type": "display_data"
    },
    {
     "data": {
      "text/html": [
       "<style  type=\"text/css\" >\n",
       "    #T_f369cc40_6c9e_11e8_97ef_0010c6b1e647row0_col2 {\n",
       "            background-color:  steelblue;\n",
       "        }    #T_f369cc40_6c9e_11e8_97ef_0010c6b1e647row1_col0 {\n",
       "            background-color:  steelblue;\n",
       "        }    #T_f369cc40_6c9e_11e8_97ef_0010c6b1e647row2_col2 {\n",
       "            background-color:  steelblue;\n",
       "        }    #T_f369cc40_6c9e_11e8_97ef_0010c6b1e647row3_col2 {\n",
       "            background-color:  steelblue;\n",
       "        }    #T_f369cc40_6c9e_11e8_97ef_0010c6b1e647row4_col2 {\n",
       "            background-color:  steelblue;\n",
       "        }    #T_f369cc40_6c9e_11e8_97ef_0010c6b1e647row5_col0 {\n",
       "            background-color:  steelblue;\n",
       "        }    #T_f369cc40_6c9e_11e8_97ef_0010c6b1e647row6_col2 {\n",
       "            background-color:  steelblue;\n",
       "        }</style>  \n",
       "<table id=\"T_f369cc40_6c9e_11e8_97ef_0010c6b1e647\" ><caption>Model Scores</caption> \n",
       "<thead>    <tr> \n",
       "        <th class=\"blank level0\" ></th> \n",
       "        <th class=\"col_heading level0 col0\" >ensemble_simple</th> \n",
       "        <th class=\"col_heading level0 col1\" >lr_full_oversample</th> \n",
       "        <th class=\"col_heading level0 col2\" >mlp_full_undersample_cv</th> \n",
       "        <th class=\"col_heading level0 col3\" >lr_full_oversample_cv</th> \n",
       "    </tr></thead> \n",
       "<tbody>    <tr> \n",
       "        <th id=\"T_f369cc40_6c9e_11e8_97ef_0010c6b1e647level0_row0\" class=\"row_heading level0 row0\" >accuracy</th> \n",
       "        <td id=\"T_f369cc40_6c9e_11e8_97ef_0010c6b1e647row0_col0\" class=\"data row0 col0\" >0.845008</td> \n",
       "        <td id=\"T_f369cc40_6c9e_11e8_97ef_0010c6b1e647row0_col1\" class=\"data row0 col1\" >0.854459</td> \n",
       "        <td id=\"T_f369cc40_6c9e_11e8_97ef_0010c6b1e647row0_col2\" class=\"data row0 col2\" >0.857694</td> \n",
       "        <td id=\"T_f369cc40_6c9e_11e8_97ef_0010c6b1e647row0_col3\" class=\"data row0 col3\" >0.851611</td> \n",
       "    </tr>    <tr> \n",
       "        <th id=\"T_f369cc40_6c9e_11e8_97ef_0010c6b1e647level0_row1\" class=\"row_heading level0 row1\" >recall</th> \n",
       "        <td id=\"T_f369cc40_6c9e_11e8_97ef_0010c6b1e647row1_col0\" class=\"data row1 col0\" >0.873189</td> \n",
       "        <td id=\"T_f369cc40_6c9e_11e8_97ef_0010c6b1e647row1_col1\" class=\"data row1 col1\" >0.843033</td> \n",
       "        <td id=\"T_f369cc40_6c9e_11e8_97ef_0010c6b1e647row1_col2\" class=\"data row1 col2\" >0.854518</td> \n",
       "        <td id=\"T_f369cc40_6c9e_11e8_97ef_0010c6b1e647row1_col3\" class=\"data row1 col3\" >0.838116</td> \n",
       "    </tr>    <tr> \n",
       "        <th id=\"T_f369cc40_6c9e_11e8_97ef_0010c6b1e647level0_row2\" class=\"row_heading level0 row2\" >precision</th> \n",
       "        <td id=\"T_f369cc40_6c9e_11e8_97ef_0010c6b1e647row2_col0\" class=\"data row2 col0\" >0.418192</td> \n",
       "        <td id=\"T_f369cc40_6c9e_11e8_97ef_0010c6b1e647row2_col1\" class=\"data row2 col1\" >0.433238</td> \n",
       "        <td id=\"T_f369cc40_6c9e_11e8_97ef_0010c6b1e647row2_col2\" class=\"data row2 col2\" >0.44028</td> \n",
       "        <td id=\"T_f369cc40_6c9e_11e8_97ef_0010c6b1e647row2_col3\" class=\"data row2 col3\" >0.427456</td> \n",
       "    </tr>    <tr> \n",
       "        <th id=\"T_f369cc40_6c9e_11e8_97ef_0010c6b1e647level0_row3\" class=\"row_heading level0 row3\" >f1</th> \n",
       "        <td id=\"T_f369cc40_6c9e_11e8_97ef_0010c6b1e647row3_col0\" class=\"data row3 col0\" >0.565535</td> \n",
       "        <td id=\"T_f369cc40_6c9e_11e8_97ef_0010c6b1e647row3_col1\" class=\"data row3 col1\" >0.572346</td> \n",
       "        <td id=\"T_f369cc40_6c9e_11e8_97ef_0010c6b1e647row3_col2\" class=\"data row3 col2\" >0.581136</td> \n",
       "        <td id=\"T_f369cc40_6c9e_11e8_97ef_0010c6b1e647row3_col3\" class=\"data row3 col3\" >0.566159</td> \n",
       "    </tr>    <tr> \n",
       "        <th id=\"T_f369cc40_6c9e_11e8_97ef_0010c6b1e647level0_row4\" class=\"row_heading level0 row4\" >cross_entropy</th> \n",
       "        <td id=\"T_f369cc40_6c9e_11e8_97ef_0010c6b1e647row4_col0\" class=\"data row4 col0\" >0.34436</td> \n",
       "        <td id=\"T_f369cc40_6c9e_11e8_97ef_0010c6b1e647row4_col1\" class=\"data row4 col1\" >0.344135</td> \n",
       "        <td id=\"T_f369cc40_6c9e_11e8_97ef_0010c6b1e647row4_col2\" class=\"data row4 col2\" >0.308514</td> \n",
       "        <td id=\"T_f369cc40_6c9e_11e8_97ef_0010c6b1e647row4_col3\" class=\"data row4 col3\" >0.348544</td> \n",
       "    </tr>    <tr> \n",
       "        <th id=\"T_f369cc40_6c9e_11e8_97ef_0010c6b1e647level0_row5\" class=\"row_heading level0 row5\" >roc_auc</th> \n",
       "        <td id=\"T_f369cc40_6c9e_11e8_97ef_0010c6b1e647row5_col0\" class=\"data row5 col0\" >0.93394</td> \n",
       "        <td id=\"T_f369cc40_6c9e_11e8_97ef_0010c6b1e647row5_col1\" class=\"data row5 col1\" >0.926334</td> \n",
       "        <td id=\"T_f369cc40_6c9e_11e8_97ef_0010c6b1e647row5_col2\" class=\"data row5 col2\" >0.932805</td> \n",
       "        <td id=\"T_f369cc40_6c9e_11e8_97ef_0010c6b1e647row5_col3\" class=\"data row5 col3\" >0.925356</td> \n",
       "    </tr>    <tr> \n",
       "        <th id=\"T_f369cc40_6c9e_11e8_97ef_0010c6b1e647level0_row6\" class=\"row_heading level0 row6\" >cohen_kappa</th> \n",
       "        <td id=\"T_f369cc40_6c9e_11e8_97ef_0010c6b1e647row6_col0\" class=\"data row6 col0\" >0.464792</td> \n",
       "        <td id=\"T_f369cc40_6c9e_11e8_97ef_0010c6b1e647row6_col1\" class=\"data row6 col1\" >0.473514</td> \n",
       "        <td id=\"T_f369cc40_6c9e_11e8_97ef_0010c6b1e647row6_col2\" class=\"data row6 col2\" >0.481756</td> \n",
       "        <td id=\"T_f369cc40_6c9e_11e8_97ef_0010c6b1e647row6_col3\" class=\"data row6 col3\" >0.471316</td> \n",
       "    </tr></tbody> \n",
       "</table> "
      ],
      "text/plain": [
       "<pandas.io.formats.style.Styler at 0x7fa7d25caf28>"
      ]
     },
     "metadata": {},
     "output_type": "display_data"
    }
   ],
   "source": [
    "to_compare = ['lr_full_oversample', 'mlp_full_undersample_cv', 'lr_full_oversample_cv']\n",
    "metrics = evaluation.evaluate_model(y_test, simple_ensemble_preds, simple_ensemble_prob, w_test, \n",
    "                                    compare_models=to_compare,\n",
    "                                    store_model=True,\n",
    "                                    model_name='simple', \n",
    "                                    prefix=ALGORITHM_NAME,\n",
    "                                    country=COUNTRY,\n",
    "                                    predict_pov_rate=False,\n",
    "                                   )"
   ]
  },
  {
   "cell_type": "markdown",
   "metadata": {},
   "source": [
    "The simple ensemble average leads the group in area under the roc curve. However, the component models still outperform the ensemble in other metrics (recall not all components are shown here)."
   ]
  },
  {
   "cell_type": "markdown",
   "metadata": {},
   "source": [
    "Let's see how the ensemble holds up against all of its component models."
   ]
  },
  {
   "cell_type": "code",
   "execution_count": 11,
   "metadata": {
    "collapsed": false
   },
   "outputs": [
    {
     "name": "stderr",
     "output_type": "stream",
     "text": [
      "/home/bull/miniconda3/envs/worldbank-poverty-test/lib/python3.6/site-packages/matplotlib/cbook/deprecation.py:107: MatplotlibDeprecationWarning: Passing one of 'on', 'true', 'off', 'false' as a boolean is deprecated; use an actual boolean (True/False) instead.\n",
      "  warnings.warn(message, mplDeprecation, stacklevel=1)\n"
     ]
    },
    {
     "data": {
      "image/png": "[encoded data removed]",
      "text/plain": [
       "<Figure size 360x288 with 2 Axes>"
      ]
     },
     "metadata": {},
     "output_type": "display_data"
    },
    {
     "data": {
      "text/html": [
       "<style  type=\"text/css\" >\n",
       "    #T_f42eaaf6_6c9e_11e8_97ef_0010c6b1e647row0_col0 {\n",
       "            background-color:  steelblue;\n",
       "        }    #T_f42eaaf6_6c9e_11e8_97ef_0010c6b1e647row0_col2 {\n",
       "            background-color:  steelblue;\n",
       "        }    #T_f42eaaf6_6c9e_11e8_97ef_0010c6b1e647row0_col3 {\n",
       "            background-color:  steelblue;\n",
       "        }    #T_f42eaaf6_6c9e_11e8_97ef_0010c6b1e647row0_col4 {\n",
       "            background-color:  steelblue;\n",
       "        }    #T_f42eaaf6_6c9e_11e8_97ef_0010c6b1e647row0_col6 {\n",
       "            background-color:  steelblue;\n",
       "        }    #T_f42eaaf6_6c9e_11e8_97ef_0010c6b1e647row2_col5 {\n",
       "            background-color:  steelblue;\n",
       "        }    #T_f42eaaf6_6c9e_11e8_97ef_0010c6b1e647row7_col1 {\n",
       "            background-color:  steelblue;\n",
       "        }</style>  \n",
       "<table id=\"T_f42eaaf6_6c9e_11e8_97ef_0010c6b1e647\" ><caption>Model Scores</caption> \n",
       "<thead>    <tr> \n",
       "        <th class=\"blank level0\" ></th> \n",
       "        <th class=\"col_heading level0 col0\" >accuracy</th> \n",
       "        <th class=\"col_heading level0 col1\" >recall</th> \n",
       "        <th class=\"col_heading level0 col2\" >precision</th> \n",
       "        <th class=\"col_heading level0 col3\" >f1</th> \n",
       "        <th class=\"col_heading level0 col4\" >cross_entropy</th> \n",
       "        <th class=\"col_heading level0 col5\" >roc_auc</th> \n",
       "        <th class=\"col_heading level0 col6\" >cohen_kappa</th> \n",
       "        <th class=\"col_heading level0 col7\" >mean_rank</th> \n",
       "    </tr></thead> \n",
       "<tbody>    <tr> \n",
       "        <th id=\"T_f42eaaf6_6c9e_11e8_97ef_0010c6b1e647level0_row0\" class=\"row_heading level0 row0\" >mlp_full_undersample_cv</th> \n",
       "        <td id=\"T_f42eaaf6_6c9e_11e8_97ef_0010c6b1e647row0_col0\" class=\"data row0 col0\" >0.857694</td> \n",
       "        <td id=\"T_f42eaaf6_6c9e_11e8_97ef_0010c6b1e647row0_col1\" class=\"data row0 col1\" >0.854518</td> \n",
       "        <td id=\"T_f42eaaf6_6c9e_11e8_97ef_0010c6b1e647row0_col2\" class=\"data row0 col2\" >0.44028</td> \n",
       "        <td id=\"T_f42eaaf6_6c9e_11e8_97ef_0010c6b1e647row0_col3\" class=\"data row0 col3\" >0.581136</td> \n",
       "        <td id=\"T_f42eaaf6_6c9e_11e8_97ef_0010c6b1e647row0_col4\" class=\"data row0 col4\" >0.308514</td> \n",
       "        <td id=\"T_f42eaaf6_6c9e_11e8_97ef_0010c6b1e647row0_col5\" class=\"data row0 col5\" >0.932805</td> \n",
       "        <td id=\"T_f42eaaf6_6c9e_11e8_97ef_0010c6b1e647row0_col6\" class=\"data row0 col6\" >0.481756</td> \n",
       "        <td id=\"T_f42eaaf6_6c9e_11e8_97ef_0010c6b1e647row0_col7\" class=\"data row0 col7\" >2.14286</td> \n",
       "    </tr>    <tr> \n",
       "        <th id=\"T_f42eaaf6_6c9e_11e8_97ef_0010c6b1e647level0_row1\" class=\"row_heading level0 row1\" >lr_full_oversample</th> \n",
       "        <td id=\"T_f42eaaf6_6c9e_11e8_97ef_0010c6b1e647row1_col0\" class=\"data row1 col0\" >0.854459</td> \n",
       "        <td id=\"T_f42eaaf6_6c9e_11e8_97ef_0010c6b1e647row1_col1\" class=\"data row1 col1\" >0.843033</td> \n",
       "        <td id=\"T_f42eaaf6_6c9e_11e8_97ef_0010c6b1e647row1_col2\" class=\"data row1 col2\" >0.433238</td> \n",
       "        <td id=\"T_f42eaaf6_6c9e_11e8_97ef_0010c6b1e647row1_col3\" class=\"data row1 col3\" >0.572346</td> \n",
       "        <td id=\"T_f42eaaf6_6c9e_11e8_97ef_0010c6b1e647row1_col4\" class=\"data row1 col4\" >0.344135</td> \n",
       "        <td id=\"T_f42eaaf6_6c9e_11e8_97ef_0010c6b1e647row1_col5\" class=\"data row1 col5\" >0.926334</td> \n",
       "        <td id=\"T_f42eaaf6_6c9e_11e8_97ef_0010c6b1e647row1_col6\" class=\"data row1 col6\" >0.473514</td> \n",
       "        <td id=\"T_f42eaaf6_6c9e_11e8_97ef_0010c6b1e647row1_col7\" class=\"data row1 col7\" >3.28571</td> \n",
       "    </tr>    <tr> \n",
       "        <th id=\"T_f42eaaf6_6c9e_11e8_97ef_0010c6b1e647level0_row2\" class=\"row_heading level0 row2\" >ensemble_simple</th> \n",
       "        <td id=\"T_f42eaaf6_6c9e_11e8_97ef_0010c6b1e647row2_col0\" class=\"data row2 col0\" >0.845008</td> \n",
       "        <td id=\"T_f42eaaf6_6c9e_11e8_97ef_0010c6b1e647row2_col1\" class=\"data row2 col1\" >0.873189</td> \n",
       "        <td id=\"T_f42eaaf6_6c9e_11e8_97ef_0010c6b1e647row2_col2\" class=\"data row2 col2\" >0.418192</td> \n",
       "        <td id=\"T_f42eaaf6_6c9e_11e8_97ef_0010c6b1e647row2_col3\" class=\"data row2 col3\" >0.565535</td> \n",
       "        <td id=\"T_f42eaaf6_6c9e_11e8_97ef_0010c6b1e647row2_col4\" class=\"data row2 col4\" >0.34436</td> \n",
       "        <td id=\"T_f42eaaf6_6c9e_11e8_97ef_0010c6b1e647row2_col5\" class=\"data row2 col5\" >0.93394</td> \n",
       "        <td id=\"T_f42eaaf6_6c9e_11e8_97ef_0010c6b1e647row2_col6\" class=\"data row2 col6\" >0.464792</td> \n",
       "        <td id=\"T_f42eaaf6_6c9e_11e8_97ef_0010c6b1e647row2_col7\" class=\"data row2 col7\" >3.57143</td> \n",
       "    </tr>    <tr> \n",
       "        <th id=\"T_f42eaaf6_6c9e_11e8_97ef_0010c6b1e647level0_row3\" class=\"row_heading level0 row3\" >lr_full_oversample_cv</th> \n",
       "        <td id=\"T_f42eaaf6_6c9e_11e8_97ef_0010c6b1e647row3_col0\" class=\"data row3 col0\" >0.851611</td> \n",
       "        <td id=\"T_f42eaaf6_6c9e_11e8_97ef_0010c6b1e647row3_col1\" class=\"data row3 col1\" >0.838116</td> \n",
       "        <td id=\"T_f42eaaf6_6c9e_11e8_97ef_0010c6b1e647row3_col2\" class=\"data row3 col2\" >0.427456</td> \n",
       "        <td id=\"T_f42eaaf6_6c9e_11e8_97ef_0010c6b1e647row3_col3\" class=\"data row3 col3\" >0.566159</td> \n",
       "        <td id=\"T_f42eaaf6_6c9e_11e8_97ef_0010c6b1e647row3_col4\" class=\"data row3 col4\" >0.348544</td> \n",
       "        <td id=\"T_f42eaaf6_6c9e_11e8_97ef_0010c6b1e647row3_col5\" class=\"data row3 col5\" >0.925356</td> \n",
       "        <td id=\"T_f42eaaf6_6c9e_11e8_97ef_0010c6b1e647row3_col6\" class=\"data row3 col6\" >0.471316</td> \n",
       "        <td id=\"T_f42eaaf6_6c9e_11e8_97ef_0010c6b1e647row3_col7\" class=\"data row3 col7\" >4.57143</td> \n",
       "    </tr>    <tr> \n",
       "        <th id=\"T_f42eaaf6_6c9e_11e8_97ef_0010c6b1e647level0_row4\" class=\"row_heading level0 row4\" >xgb_full_undersample_cv</th> \n",
       "        <td id=\"T_f42eaaf6_6c9e_11e8_97ef_0010c6b1e647row4_col0\" class=\"data row4 col0\" >0.835837</td> \n",
       "        <td id=\"T_f42eaaf6_6c9e_11e8_97ef_0010c6b1e647row4_col1\" class=\"data row4 col1\" >0.87632</td> \n",
       "        <td id=\"T_f42eaaf6_6c9e_11e8_97ef_0010c6b1e647row4_col2\" class=\"data row4 col2\" >0.403156</td> \n",
       "        <td id=\"T_f42eaaf6_6c9e_11e8_97ef_0010c6b1e647row4_col3\" class=\"data row4 col3\" >0.552247</td> \n",
       "        <td id=\"T_f42eaaf6_6c9e_11e8_97ef_0010c6b1e647row4_col4\" class=\"data row4 col4\" >0.366854</td> \n",
       "        <td id=\"T_f42eaaf6_6c9e_11e8_97ef_0010c6b1e647row4_col5\" class=\"data row4 col5\" >0.928831</td> \n",
       "        <td id=\"T_f42eaaf6_6c9e_11e8_97ef_0010c6b1e647row4_col6\" class=\"data row4 col6\" >0.453724</td> \n",
       "        <td id=\"T_f42eaaf6_6c9e_11e8_97ef_0010c6b1e647row4_col7\" class=\"data row4 col7\" >4.57143</td> \n",
       "    </tr>    <tr> \n",
       "        <th id=\"T_f42eaaf6_6c9e_11e8_97ef_0010c6b1e647level0_row5\" class=\"row_heading level0 row5\" >lr_full_undersample</th> \n",
       "        <td id=\"T_f42eaaf6_6c9e_11e8_97ef_0010c6b1e647row5_col0\" class=\"data row5 col0\" >0.830133</td> \n",
       "        <td id=\"T_f42eaaf6_6c9e_11e8_97ef_0010c6b1e647row5_col1\" class=\"data row5 col1\" >0.883593</td> \n",
       "        <td id=\"T_f42eaaf6_6c9e_11e8_97ef_0010c6b1e647row5_col2\" class=\"data row5 col2\" >0.394889</td> \n",
       "        <td id=\"T_f42eaaf6_6c9e_11e8_97ef_0010c6b1e647row5_col3\" class=\"data row5 col3\" >0.545836</td> \n",
       "        <td id=\"T_f42eaaf6_6c9e_11e8_97ef_0010c6b1e647row5_col4\" class=\"data row5 col4\" >0.392892</td> \n",
       "        <td id=\"T_f42eaaf6_6c9e_11e8_97ef_0010c6b1e647row5_col5\" class=\"data row5 col5\" >0.926233</td> \n",
       "        <td id=\"T_f42eaaf6_6c9e_11e8_97ef_0010c6b1e647row5_col6\" class=\"data row5 col6\" >0.44493</td> \n",
       "        <td id=\"T_f42eaaf6_6c9e_11e8_97ef_0010c6b1e647row5_col7\" class=\"data row5 col7\" >6</td> \n",
       "    </tr>    <tr> \n",
       "        <th id=\"T_f42eaaf6_6c9e_11e8_97ef_0010c6b1e647level0_row6\" class=\"row_heading level0 row6\" >lr_full_classwts</th> \n",
       "        <td id=\"T_f42eaaf6_6c9e_11e8_97ef_0010c6b1e647row6_col0\" class=\"data row6 col0\" >0.830513</td> \n",
       "        <td id=\"T_f42eaaf6_6c9e_11e8_97ef_0010c6b1e647row6_col1\" class=\"data row6 col1\" >0.866754</td> \n",
       "        <td id=\"T_f42eaaf6_6c9e_11e8_97ef_0010c6b1e647row6_col2\" class=\"data row6 col2\" >0.39387</td> \n",
       "        <td id=\"T_f42eaaf6_6c9e_11e8_97ef_0010c6b1e647row6_col3\" class=\"data row6 col3\" >0.541618</td> \n",
       "        <td id=\"T_f42eaaf6_6c9e_11e8_97ef_0010c6b1e647row6_col4\" class=\"data row6 col4\" >0.384733</td> \n",
       "        <td id=\"T_f42eaaf6_6c9e_11e8_97ef_0010c6b1e647row6_col5\" class=\"data row6 col5\" >0.923196</td> \n",
       "        <td id=\"T_f42eaaf6_6c9e_11e8_97ef_0010c6b1e647row6_col6\" class=\"data row6 col6\" >0.428159</td> \n",
       "        <td id=\"T_f42eaaf6_6c9e_11e8_97ef_0010c6b1e647row6_col7\" class=\"data row6 col7\" >6.85714</td> \n",
       "    </tr>    <tr> \n",
       "        <th id=\"T_f42eaaf6_6c9e_11e8_97ef_0010c6b1e647level0_row7\" class=\"row_heading level0 row7\" >lda_full_oversample</th> \n",
       "        <td id=\"T_f42eaaf6_6c9e_11e8_97ef_0010c6b1e647row7_col0\" class=\"data row7 col0\" >0.815948</td> \n",
       "        <td id=\"T_f42eaaf6_6c9e_11e8_97ef_0010c6b1e647row7_col1\" class=\"data row7 col1\" >0.8906</td> \n",
       "        <td id=\"T_f42eaaf6_6c9e_11e8_97ef_0010c6b1e647row7_col2\" class=\"data row7 col2\" >0.375087</td> \n",
       "        <td id=\"T_f42eaaf6_6c9e_11e8_97ef_0010c6b1e647row7_col3\" class=\"data row7 col3\" >0.52786</td> \n",
       "        <td id=\"T_f42eaaf6_6c9e_11e8_97ef_0010c6b1e647row7_col4\" class=\"data row7 col4\" >0.424324</td> \n",
       "        <td id=\"T_f42eaaf6_6c9e_11e8_97ef_0010c6b1e647row7_col5\" class=\"data row7 col5\" >0.921219</td> \n",
       "        <td id=\"T_f42eaaf6_6c9e_11e8_97ef_0010c6b1e647row7_col6\" class=\"data row7 col6\" >0.408593</td> \n",
       "        <td id=\"T_f42eaaf6_6c9e_11e8_97ef_0010c6b1e647row7_col7\" class=\"data row7 col7\" >8.28571</td> \n",
       "    </tr>    <tr> \n",
       "        <th id=\"T_f42eaaf6_6c9e_11e8_97ef_0010c6b1e647level0_row8\" class=\"row_heading level0 row8\" >mlp_full_undersample</th> \n",
       "        <td id=\"T_f42eaaf6_6c9e_11e8_97ef_0010c6b1e647row8_col0\" class=\"data row8 col0\" >0.82712</td> \n",
       "        <td id=\"T_f42eaaf6_6c9e_11e8_97ef_0010c6b1e647row8_col1\" class=\"data row8 col1\" >0.857794</td> \n",
       "        <td id=\"T_f42eaaf6_6c9e_11e8_97ef_0010c6b1e647row8_col2\" class=\"data row8 col2\" >0.387781</td> \n",
       "        <td id=\"T_f42eaaf6_6c9e_11e8_97ef_0010c6b1e647row8_col3\" class=\"data row8 col3\" >0.534109</td> \n",
       "        <td id=\"T_f42eaaf6_6c9e_11e8_97ef_0010c6b1e647row8_col4\" class=\"data row8 col4\" >0.831168</td> \n",
       "        <td id=\"T_f42eaaf6_6c9e_11e8_97ef_0010c6b1e647row8_col5\" class=\"data row8 col5\" >0.919972</td> \n",
       "        <td id=\"T_f42eaaf6_6c9e_11e8_97ef_0010c6b1e647row8_col6\" class=\"data row8 col6\" >0.441922</td> \n",
       "        <td id=\"T_f42eaaf6_6c9e_11e8_97ef_0010c6b1e647row8_col7\" class=\"data row8 col7\" >8.71429</td> \n",
       "    </tr>    <tr> \n",
       "        <th id=\"T_f42eaaf6_6c9e_11e8_97ef_0010c6b1e647level0_row9\" class=\"row_heading level0 row9\" >lda_full_oversample_cv</th> \n",
       "        <td id=\"T_f42eaaf6_6c9e_11e8_97ef_0010c6b1e647row9_col0\" class=\"data row9 col0\" >0.813904</td> \n",
       "        <td id=\"T_f42eaaf6_6c9e_11e8_97ef_0010c6b1e647row9_col1\" class=\"data row9 col1\" >0.886697</td> \n",
       "        <td id=\"T_f42eaaf6_6c9e_11e8_97ef_0010c6b1e647row9_col2\" class=\"data row9 col2\" >0.371896</td> \n",
       "        <td id=\"T_f42eaaf6_6c9e_11e8_97ef_0010c6b1e647row9_col3\" class=\"data row9 col3\" >0.524012</td> \n",
       "        <td id=\"T_f42eaaf6_6c9e_11e8_97ef_0010c6b1e647row9_col4\" class=\"data row9 col4\" >0.426183</td> \n",
       "        <td id=\"T_f42eaaf6_6c9e_11e8_97ef_0010c6b1e647row9_col5\" class=\"data row9 col5\" >0.92172</td> \n",
       "        <td id=\"T_f42eaaf6_6c9e_11e8_97ef_0010c6b1e647row9_col6\" class=\"data row9 col6\" >0.406539</td> \n",
       "        <td id=\"T_f42eaaf6_6c9e_11e8_97ef_0010c6b1e647row9_col7\" class=\"data row9 col7\" >9</td> \n",
       "    </tr>    <tr> \n",
       "        <th id=\"T_f42eaaf6_6c9e_11e8_97ef_0010c6b1e647level0_row10\" class=\"row_heading level0 row10\" >lr_l1_feats_oversample_cv</th> \n",
       "        <td id=\"T_f42eaaf6_6c9e_11e8_97ef_0010c6b1e647row10_col0\" class=\"data row10 col0\" >0.830262</td> \n",
       "        <td id=\"T_f42eaaf6_6c9e_11e8_97ef_0010c6b1e647row10_col1\" class=\"data row10 col1\" >0.833368</td> \n",
       "        <td id=\"T_f42eaaf6_6c9e_11e8_97ef_0010c6b1e647row10_col2\" class=\"data row10 col2\" >0.390151</td> \n",
       "        <td id=\"T_f42eaaf6_6c9e_11e8_97ef_0010c6b1e647row10_col3\" class=\"data row10 col3\" >0.531483</td> \n",
       "        <td id=\"T_f42eaaf6_6c9e_11e8_97ef_0010c6b1e647row10_col4\" class=\"data row10 col4\" >0.381388</td> \n",
       "        <td id=\"T_f42eaaf6_6c9e_11e8_97ef_0010c6b1e647row10_col5\" class=\"data row10 col5\" >0.914608</td> \n",
       "        <td id=\"T_f42eaaf6_6c9e_11e8_97ef_0010c6b1e647row10_col6\" class=\"data row10 col6\" >0.401993</td> \n",
       "        <td id=\"T_f42eaaf6_6c9e_11e8_97ef_0010c6b1e647row10_col7\" class=\"data row10 col7\" >9</td> \n",
       "    </tr></tbody> \n",
       "</table> "
      ],
      "text/plain": [
       "<pandas.io.formats.style.Styler at 0x7fa7d2560358>"
      ]
     },
     "metadata": {},
     "output_type": "display_data"
    }
   ],
   "source": [
    "metrics = [evaluation.load_model_metrics(f, COUNTRY) for f in top_10  + ['ensemble_simple']]\n",
    "result = visualize.display_model_comparison(metrics, rank_order=True, transpose=True)"
   ]
  },
  {
   "cell_type": "markdown",
   "metadata": {},
   "source": [
    "When we compare the ensemble to _all_ of its component models, we see that its rank outperforms its components on average. "
   ]
  },
  {
   "cell_type": "markdown",
   "metadata": {},
   "source": [
    "# Summary <a class=\"anchor\" id=\"summary\"></a>\n",
    "\n",
    "If you already have a collection of trained models for some data set, the simple ensemble average is a relatively easy way to probably improve the overall performance of your classification pipeline."
   ]
  }
 ],
 "metadata": {
  "kernelspec": {
   "display_name": "Python 3",
   "language": "python",
   "name": "python3"
  },
  "language_info": {
   "codemirror_mode": {
    "name": "ipython",
    "version": 3
   },
   "file_extension": ".py",
   "mimetype": "text/x-python",
   "name": "python",
   "nbconvert_exporter": "python",
   "pygments_lexer": "ipython3",
   "version": "3.6.0"
  }
 },
 "nbformat": 4,
 "nbformat_minor": 2
}
