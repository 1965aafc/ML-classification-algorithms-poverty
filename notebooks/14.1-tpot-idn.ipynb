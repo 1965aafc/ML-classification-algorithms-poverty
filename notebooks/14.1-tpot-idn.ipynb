{
 "cells": [
  {
   "cell_type": "markdown",
   "metadata": {},
   "source": [
    "<h1 style=\"text-align: center;\" markdown=\"1\">Machine Learning Algorithms for Poverty Prediction</h1> \n",
    "<h2 style=\"text-align: center;\" markdown=\"2\">A project of the World Bank's Knowledge for Change Program</h2>\n",
    "<h3 style=\"text-align: center;\" markdown=\"3\">(KCP, Grant TF0A4534)</h3>\n",
    "\n",
    "\n",
    "> *This notebook is part of a series that has been developed as an empirical comparative assessment of machine learning classification algorithms applied to poverty prediction. The objectives of this project are to explore how well machine learning algorithms perform when given the task to identify the poor in a given population, and to provide a resource of machine learning techniques for researchers, data scientists, and statisticians in developing countries.*"
   ]
  },
  {
   "cell_type": "markdown",
   "metadata": {},
   "source": [
    "<h1 style=\"text-align: center;\" markdown=\"3\">Advanced Algorithm 3: Automated Machine Learning Classifier</h1> \n",
    "<h2 style=\"text-align: center;\" markdown=\"3\">Indonesia Poverty Prediction</h2> "
   ]
  },
  {
   "cell_type": "markdown",
   "metadata": {},
   "source": [
    "# Table of Contents\n",
    "[Introduction](#introduction)\n",
    "\n",
    "&nbsp;&nbsp;&nbsp;[Explanation and Theory](#introduction-theory)\n",
    "\n",
    "&nbsp;&nbsp;&nbsp;[Considerations](#introduction-considerations)\n",
    "\n",
    "[Data Setup](#setup)\n",
    "\n",
    "[TPOT Classifier Genetic Algorithm](#tpot-classifier-genetic-algorithm)\n",
    "\n",
    "&nbsp;&nbsp;&nbsp;[Set Parameters and Train](#set-parameters-and-train) \n",
    "\n",
    "&nbsp;&nbsp;&nbsp;[Export Best Pipeline](#export-best-pipeline)  \n",
    "\n",
    "[Executing and Evaluating the Pipeline](#eval)\n",
    "\n",
    "[Compare to Ensemble Models](#compare)  \n",
    "\n",
    "[Summary](#summary)"
   ]
  },
  {
   "cell_type": "markdown",
   "metadata": {},
   "source": [
    "# Automated Machine Learning Classification Introduction <a class=\"anchor\" id=\"introduction\"></a>\n",
    "\n",
    "Automated machine learning (AutoML) is an old idea that has been given new momentum thanks to increased computational power and optimization techniques. In AutoML, the the entire machine learning pipeline–from preliminary processing of the data to model selection and training—is framed as a [minimax](https://en.wikipedia.org/wiki/Minimax) optimization problem that seeks to maximize model performance while minimizing the complexity of the pipeline. This means that cumbersome steps such as feature engineering and model selection, which typically require subject matter experts, do not need to be performed manually. However, AutoML has its drawbacks. Because the space of solutions is composed of computer programs which much be executed to be tested, AutoML can be very computationally intensive. Further, the resulting pipeline found by an AutoML approach, either after a certain condition is met or after a certain amount of time, can be hard to interpret or explain in a principled way."
   ]
  },
  {
   "cell_type": "markdown",
   "metadata": {},
   "source": [
    "## Explanation and Theory <a class=\"anchor\" id=\"introduction-theory\"></a>\n",
    "\n",
    "<img alt=\"automl pic\" src=\"img/automl.png\"/>\n",
    "\n",
    "The optimization approach used here is an instance of genetic programming, a technique inspired by evolutionary biology to search the space of solutions. While genetic programming was first introduced in the 1973, it has not been widely used in the machine learning community until recently. To implement AutoML for the Indonesia data, we used an open source python framework called TPOT. The TPOT authors [explain how it uses a genetic (GP) algorithm in this way](https://arxiv.org/pdf/1607.08878.pdf):\n",
    "\n",
    ">The GP algorithm generates 100 random tree-based pipelines and evaluates their accuracy on the data set. For every generation of the GP algorithm, the algorithm selects the top 20 pipelines in the population according to the NSGA-II selection scheme, where pipelines are selected to simultaneously maximize classification accuracy on the data set while minimizing the number of operators in the pipeline. Each of the top 20 selected pipelines produce five offspring into the next generation’s population, 5 of those offspring experience crossover with another offspring, then 90 percent of the remaining unaffected offspring experience random mutations. Every generation, the algorithm updates a Pareto front of the non-dominated solutions discovered at any point in the GP run. The algorithm repeats this evaluate-select-crossover-mutate process for 100 generations—adding and tuning pipeline operators that improve classification accuracy and pruning operators that degrade classification accuracy—at which point the algorithm selects the highest accuracy pipeline from the Pareto front as the representative “best” pipeline from the run."
   ]
  },
  {
   "cell_type": "markdown",
   "metadata": {},
   "source": [
    "## Considerations <a class=\"anchor\" id=\"introduction-considerations\"></a>\n",
    "\n",
    "This algorithm can be very computationally intensive (e.g., multiple days on very powerful machines), depending on the number of generations trained, the offspring per generation, and other parameters. For this reason, the current notebook has been editied to avoid an automatic training of the algortihm. Some sections have flags that you can set in order to run the full end-to-end pipeline."
   ]
  },
  {
   "cell_type": "markdown",
   "metadata": {},
   "source": [
    "# Data setup <a class=\"anchor\" id=\"setup\"></a>\n",
    "\n",
    "As always, we start with loading our standard libraries and the Indonesia data"
   ]
  },
  {
   "cell_type": "code",
   "execution_count": 1,
   "metadata": {
    "collapsed": false
   },
   "outputs": [
    {
     "name": "stderr",
     "output_type": "stream",
     "text": [
      "/home/bull/miniconda3/envs/worldbank-poverty-test/lib/python3.6/site-packages/h5py/__init__.py:36: FutureWarning: Conversion of the second argument of issubdtype from `float` to `np.floating` is deprecated. In future, it will be treated as `np.float64 == np.dtype(float).type`.\n",
      "  from ._conv import register_converters as _register_converters\n",
      "Using TensorFlow backend.\n"
     ]
    }
   ],
   "source": [
    "%matplotlib inline\n",
    "\n",
    "# this must be done first to set the context for tpot (not on Windows)\n",
    "import sys\n",
    "if not sys.platform.startswith('win'):\n",
    "    import multiprocessing\n",
    "    multiprocessing.set_start_method('forkserver')\n",
    "\n",
    "import os\n",
    "from pathlib import Path\n",
    "import json\n",
    "\n",
    "import numpy as np\n",
    "import pandas as pd\n",
    "\n",
    "from matplotlib import pyplot as plt\n",
    "from IPython.display import display\n",
    "import seaborn as sns\n",
    "sns.set()\n",
    "\n",
    "# Add our local functions to the path\n",
    "sys.path.append(os.path.join(os.pardir, 'src'))\n",
    "from models import evaluation\n",
    "from data.load_data import (get_country_filepaths, \n",
    "                            split_features_labels_weights, \n",
    "                            load_data)\n",
    "from data.sampler import Sampler\n",
    "from features.process_features import get_vif, standardize\n",
    "\n",
    "ALGORITHM_NAME = 'automl'\n",
    "COUNTRY = 'idn'\n",
    "TRAIN_PATH, TEST_PATH, QUESTIONS_PATH = get_country_filepaths(COUNTRY)\n",
    "TPOT_DIR = Path('..', 'src', 'models', 'tpot')"
   ]
  },
  {
   "cell_type": "code",
   "execution_count": 2,
   "metadata": {
    "collapsed": true
   },
   "outputs": [],
   "source": [
    "import warnings\n",
    "warnings.filterwarnings('ignore')"
   ]
  },
  {
   "cell_type": "markdown",
   "metadata": {},
   "source": [
    "### Reduce to Sample and/or Change Generation Count for Speed\n",
    "\n",
    "As mentioned above, TPOT is a computationally expensive framework. For that reason, we only run the optimizer for 2 generations in this notebook - the intent is simply to show how to instantiate a TPOT object, choose parameters, and fit the model. **For the evaluation phase below, we use the exported pipeline that resulted from 100 generations of training.** The optimal pipeline of this two generation \"sample run\" is not used.\n",
    "\n",
    "The parameter `SUBSAMPLE` reduces the size of the dataset so this notebook can be executed in a reasonable amount of time. To use the entire dataset, set the variable `SUBSAMPLE` to `1`."
   ]
  },
  {
   "cell_type": "code",
   "execution_count": 3,
   "metadata": {
    "collapsed": true
   },
   "outputs": [],
   "source": [
    "SUBSAMPLE = 0.1\n",
    "\n",
    "def subsample(X, y, w, stratify=True, seed=566):\n",
    "    n_samples = int(SUBSAMPLE * X.shape[0])\n",
    "    \n",
    "    rng = np.random.RandomState(seed)\n",
    "    \n",
    "    if stratify:\n",
    "        y_rate = y.mean()\n",
    "        n_true = int(n_samples * y_rate)\n",
    "        n_false = n_samples - n_true\n",
    "        \n",
    "        true_idx = rng.choice(np.where(y)[0], n_true, replace=False)\n",
    "        false_idx = rng.choice(np.where(~y)[0], n_false, replace=False)\n",
    "        \n",
    "        sample_idx = np.union1d(true_idx, false_idx)\n",
    "    else:\n",
    "        sample_idx = rng.choice(np.arange(X.shape[0]), n_samples, replace=False)\n",
    "    \n",
    "    return X.iloc[sample_idx, :], y[sample_idx], w[sample_idx]"
   ]
  },
  {
   "cell_type": "code",
   "execution_count": 4,
   "metadata": {
    "collapsed": true
   },
   "outputs": [],
   "source": [
    "# Load and transform the training data\n",
    "X_train, y_train, w_train = load_data(TRAIN_PATH)\n",
    "X_train, y_train, w_train = subsample(X_train, y_train, w_train)\n",
    "\n",
    "# Load and transform the test data\n",
    "X_test, y_test, w_test = load_data(TEST_PATH)\n",
    "X_test, y_test, w_test = subsample(X_test, y_test, w_test)\n",
    "\n",
    "# Assert consistency before training\n",
    "assert X_train.shape[1] == X_test.shape[1]\n",
    "\n",
    "\n",
    "# TPOT expects series for y and w\n",
    "y_train = pd.Series(y_train, index=X_train.index)\n",
    "y_test = pd.Series(y_test, index=X_test.index)\n",
    "\n",
    "w_train = pd.Series(w_train, index=X_train.index)\n",
    "w_test = pd.Series(w_test, index=X_test.index)"
   ]
  },
  {
   "cell_type": "markdown",
   "metadata": {},
   "source": [
    "# TPOT Classifier Genetic Algorithm <a class=\"anchor\" id=\"tpot-classifier-genetic-algorithm\"></a>\n",
    "\n",
    "Now that the data is ready, we can instantiate the model. TPOT uses mostly scikit-learn models, along with XGBoost, and follows the scikit-learn api. Therefore, after instantiating the model, we need only call the `.fit` method to train.\n",
    "\n",
    "First, import the model and set parameters. As mentioned in the introduction, the most important paramters here are the number of generations `gens` to \"evolve\" the pipepine, and the `population_size` which controls the size of a generation.\n",
    "\n",
    "In order to encourage the selection of a pipeline with good precision _and_ recall, we select the f1 scoring method for ranking pipelines. Again, we set `gens` to `2` and `pop_size` to `5` by default. This will not produce a good model, and instead larger values such as `100` generations and a population of `100` models should be used."
   ]
  },
  {
   "cell_type": "code",
   "execution_count": 5,
   "metadata": {
    "collapsed": true
   },
   "outputs": [],
   "source": [
    "from tpot import TPOTClassifier\n",
    "\n",
    "# set parameters\n",
    "gens = 2                                              # 100 gens is default, takes 2 days on 32 cores\n",
    "pop_size = 5                                          # population size per gen\n",
    "max_time_mins = None                                  # cap on training time\n",
    "\n",
    "# Instantiate tpot classifier\n",
    "tpot = TPOTClassifier(generations=gens,               # number of generations to run\n",
    "                      population_size=pop_size,       # number of models in a generation\n",
    "                      max_time_mins=max_time_mins,    # maximum time to train\n",
    "                      scoring='f1',                   # score with respect to f1\n",
    "                      verbosity=2,                    # verbosity of the model \n",
    "                      n_jobs=-1,                      # this tells the model to use as many cores as it can find!\n",
    "                      random_state=2017)              # random state\n"
   ]
  },
  {
   "cell_type": "code",
   "execution_count": 6,
   "metadata": {
    "collapsed": false
   },
   "outputs": [
    {
     "name": "stderr",
     "output_type": "stream",
     "text": [
      "Optimization Progress:  67%|██████▋   | 10/15 [03:57<07:47, 93.57s/pipeline]"
     ]
    },
    {
     "name": "stdout",
     "output_type": "stream",
     "text": [
      "Generation 1 - Current best internal CV score: 0.353750940254837\n"
     ]
    },
    {
     "name": "stderr",
     "output_type": "stream",
     "text": [
      "                                                                            \r"
     ]
    },
    {
     "name": "stdout",
     "output_type": "stream",
     "text": [
      "Generation 2 - Current best internal CV score: 0.3758848500207842\n",
      "\n",
      "Best pipeline: RandomForestClassifier(RandomForestClassifier(SelectFwe(input_matrix, alpha=0.045), bootstrap=False, criterion=gini, max_features=0.9000000000000001, min_samples_leaf=10, min_samples_split=2, n_estimators=100), bootstrap=False, criterion=gini, max_features=0.6500000000000001, min_samples_leaf=16, min_samples_split=9, n_estimators=100)\n"
     ]
    },
    {
     "data": {
      "text/plain": [
       "TPOTClassifier(config_dict={'sklearn.naive_bayes.GaussianNB': {}, 'sklearn.naive_bayes.BernoulliNB': {'alpha': [0.001, 0.01, 0.1, 1.0, 10.0, 100.0], 'fit_prior': [True, False]}, 'sklearn.naive_bayes.MultinomialNB': {'alpha': [0.001, 0.01, 0.1, 1.0, 10.0, 100.0], 'fit_prior': [True, False]}, 'sklearn.tree.DecisionT....3 , 0.35, 0.4 , 0.45, 0.5 , 0.55,\n",
       "       0.6 , 0.65, 0.7 , 0.75, 0.8 , 0.85, 0.9 , 0.95, 1.  ])}}}},\n",
       "        crossover_rate=0.1, cv=5, disable_update_check=False,\n",
       "        early_stop=None, generations=2, max_eval_time_mins=5,\n",
       "        max_time_mins=None, memory=None, mutation_rate=0.9, n_jobs=32,\n",
       "        offspring_size=5, periodic_checkpoint_folder=None,\n",
       "        population_size=5, random_state=2017, scoring=None, subsample=1.0,\n",
       "        verbosity=2, warm_start=False)"
      ]
     },
     "execution_count": 6,
     "metadata": {},
     "output_type": "execute_result"
    }
   ],
   "source": [
    "tpot.fit(X_train, y_train, w_train)"
   ]
  },
  {
   "cell_type": "markdown",
   "metadata": {},
   "source": [
    "#### F1 score on the test set with this model."
   ]
  },
  {
   "cell_type": "code",
   "execution_count": 7,
   "metadata": {
    "collapsed": false
   },
   "outputs": [
    {
     "name": "stdout",
     "output_type": "stream",
     "text": [
      "Test f1 score:\t0.35\n"
     ]
    }
   ],
   "source": [
    "print(f\"Test f1 score:\\t{tpot.score(X_test, y_test)}\")"
   ]
  },
  {
   "cell_type": "markdown",
   "metadata": {},
   "source": [
    "## Export Best Pipeline <a class=\"anchor\" id=\"export-best-pipeline\"></a>\n",
    "\n",
    "TPOT can automatically generate a python script with the best pipeline, if we choose to. We include the pipline generated by a longer run in this repository, so `export_best_pipeline` is set to `False` so it will not be overwritten."
   ]
  },
  {
   "cell_type": "code",
   "execution_count": 8,
   "metadata": {
    "collapsed": true
   },
   "outputs": [],
   "source": [
    "export_best_pipeline = False\n",
    "\n",
    "if export_best_pipeline:\n",
    "    tpot.export(TPOT_DIR / 'tpot_idn_pipeline.py')"
   ]
  },
  {
   "cell_type": "markdown",
   "metadata": {},
   "source": [
    "# Executing and Evaluating the Pipeline <a class=\"anchor\" id=\"eval\"></a>\n",
    "\n",
    "\n",
    "The full pipeline from a 100 generation training has been saved to `src/models/tpot/tpot_idn_pipeline.py`. We can now run that script, or just paste its contents (which we do below for clarity).\n",
    "\n",
    "Since our data is already loaded, all we have to do is import the components of the pipeline, fit, and evaluate!\n",
    "\n",
    "***Properties of the \"Best\" Pipeline*** After 200 generations of training on a 32 core machine (about 2 days) the best performing TPOT pipeline used an XGBoost classifier with 6 preprocessing steps. It is worth noting that conveniently, at the end of an optimization **the TPOT software exports fully executable python code that implements the winning pipeline**. This is very useful in cases where the programmer may want to tweak the pipeline manually to improve performance further. In the current case, the optimal preprocessing steps were not all standard transformations such as normalization and interaction terms; preprocessing included use of a TPOT transformation called the StackingEstimator. The StackingEstimator uses other classifiers--in this case logistic regression and XGBoost--to produce synthetic features, comprised of predictions and class probabilities, similar to the stacking techniques described in previous notebooks. The particular pipeline output from the search _augments_ the feature space with two StackingEstimators using $l_2$ penalties before normalizing the features, then passing them through two more StackingEstimators using $l_1$ penalties and finally binarizing the features based on a $0.25$ threshold. The result is passed into an XGBoost classifier.\n",
    "\n",
    "This pipeline is demonstrates both the strength and weakness of AutoML approaches: seemingly creative solutions may lead to better performance, but the reason for each step in the pipeline--normally justified by the human modeling the problem--is not apparent."
   ]
  },
  {
   "cell_type": "code",
   "execution_count": 9,
   "metadata": {
    "collapsed": true
   },
   "outputs": [],
   "source": [
    "# imports from the winning TPOT pipeline\n",
    "# note that all imports are from sklearn or xgboost\n",
    "from sklearn.linear_model import LogisticRegression\n",
    "from sklearn.model_selection import train_test_split\n",
    "from sklearn.pipeline import make_pipeline, make_union\n",
    "from sklearn.preprocessing import Binarizer, Normalizer\n",
    "from tpot.builtins import StackingEstimator\n",
    "from xgboost import XGBClassifier\n",
    "\n",
    "model = make_pipeline(\n",
    "    StackingEstimator(estimator=LogisticRegression(C=5.0, dual=False, penalty=\"l2\")),\n",
    "    StackingEstimator(estimator=XGBClassifier(learning_rate=1.0, max_depth=1, min_child_weight=12, n_estimators=100, nthread=1, subsample=0.7500000000000001)),\n",
    "    Normalizer(norm=\"max\"),\n",
    "    StackingEstimator(estimator=LogisticRegression(C=0.5, dual=False, penalty=\"l1\")),\n",
    "    StackingEstimator(estimator=LogisticRegression(C=0.5, dual=False, penalty=\"l1\")),\n",
    "    Binarizer(threshold=0.25),\n",
    "    XGBClassifier(learning_rate=0.001, max_depth=1, min_child_weight=10, n_estimators=100, nthread=1, subsample=1.0)\n",
    ")"
   ]
  },
  {
   "cell_type": "markdown",
   "metadata": {},
   "source": [
    "This pipeline is fully implemented with scikit learn objects (and XGBoost). The job of TPOT is to find the best combination of elements from these libraries to construct a pipeline, and that's what it's done here. Now we just fit the model as usual!"
   ]
  },
  {
   "cell_type": "code",
   "execution_count": 10,
   "metadata": {
    "collapsed": false
   },
   "outputs": [
    {
     "data": {
      "text/plain": [
       "Pipeline(memory=None,\n",
       "     steps=[('stackingestimator-1', StackingEstimator(estimator=LogisticRegression(C=5.0, class_weight=None, dual=False, fit_intercept=True,\n",
       "          intercept_scaling=1, max_iter=100, multi_class='ovr', n_jobs=1,\n",
       "          penalty='l2', random_state=None, solver='liblinear', tol=0.0001,\n",
       "          verbo...      reg_alpha=0, reg_lambda=1, scale_pos_weight=1, seed=None,\n",
       "       silent=True, subsample=1.0))])"
      ]
     },
     "execution_count": 10,
     "metadata": {},
     "output_type": "execute_result"
    }
   ],
   "source": [
    "model.fit(X_train, y_train)"
   ]
  },
  {
   "cell_type": "markdown",
   "metadata": {},
   "source": [
    "## Compare to Ensemble Methods"
   ]
  },
  {
   "cell_type": "code",
   "execution_count": 11,
   "metadata": {
    "collapsed": true
   },
   "outputs": [],
   "source": [
    "y_pred = model.predict(X_test)\n",
    "y_prob = model.predict_proba(X_test)[:, 1]"
   ]
  },
  {
   "cell_type": "code",
   "execution_count": 12,
   "metadata": {
    "collapsed": false
   },
   "outputs": [
    {
     "data": {
      "image/png": "[encoded data removed]",
      "text/plain": [
       "<Figure size 720x288 with 3 Axes>"
      ]
     },
     "metadata": {},
     "output_type": "display_data"
    },
    {
     "data": {
      "text/html": [
       "<style  type=\"text/css\" >\n",
       "    #T_dbc81b62_6ca0_11e8_97ef_0010c6b1e647row0_col0 {\n",
       "            background-color:  steelblue;\n",
       "        }    #T_dbc81b62_6ca0_11e8_97ef_0010c6b1e647row1_col2 {\n",
       "            background-color:  steelblue;\n",
       "        }    #T_dbc81b62_6ca0_11e8_97ef_0010c6b1e647row2_col0 {\n",
       "            background-color:  steelblue;\n",
       "        }    #T_dbc81b62_6ca0_11e8_97ef_0010c6b1e647row3_col0 {\n",
       "            background-color:  steelblue;\n",
       "        }    #T_dbc81b62_6ca0_11e8_97ef_0010c6b1e647row4_col1 {\n",
       "            background-color:  steelblue;\n",
       "        }    #T_dbc81b62_6ca0_11e8_97ef_0010c6b1e647row5_col1 {\n",
       "            background-color:  steelblue;\n",
       "        }    #T_dbc81b62_6ca0_11e8_97ef_0010c6b1e647row6_col0 {\n",
       "            background-color:  steelblue;\n",
       "        }</style>  \n",
       "<table id=\"T_dbc81b62_6ca0_11e8_97ef_0010c6b1e647\" ><caption>Model Scores</caption> \n",
       "<thead>    <tr> \n",
       "        <th class=\"blank level0\" ></th> \n",
       "        <th class=\"col_heading level0 col0\" >automl_tpot</th> \n",
       "        <th class=\"col_heading level0 col1\" >ensemble_simple</th> \n",
       "        <th class=\"col_heading level0 col2\" >ensemble_stacked</th> \n",
       "    </tr></thead> \n",
       "<tbody>    <tr> \n",
       "        <th id=\"T_dbc81b62_6ca0_11e8_97ef_0010c6b1e647level0_row0\" class=\"row_heading level0 row0\" >accuracy</th> \n",
       "        <td id=\"T_dbc81b62_6ca0_11e8_97ef_0010c6b1e647row0_col0\" class=\"data row0 col0\" >0.896794</td> \n",
       "        <td id=\"T_dbc81b62_6ca0_11e8_97ef_0010c6b1e647row0_col1\" class=\"data row0 col1\" >0.845008</td> \n",
       "        <td id=\"T_dbc81b62_6ca0_11e8_97ef_0010c6b1e647row0_col2\" class=\"data row0 col2\" >0.827208</td> \n",
       "    </tr>    <tr> \n",
       "        <th id=\"T_dbc81b62_6ca0_11e8_97ef_0010c6b1e647level0_row1\" class=\"row_heading level0 row1\" >recall</th> \n",
       "        <td id=\"T_dbc81b62_6ca0_11e8_97ef_0010c6b1e647row1_col0\" class=\"data row1 col0\" >0.555481</td> \n",
       "        <td id=\"T_dbc81b62_6ca0_11e8_97ef_0010c6b1e647row1_col1\" class=\"data row1 col1\" >0.873189</td> \n",
       "        <td id=\"T_dbc81b62_6ca0_11e8_97ef_0010c6b1e647row1_col2\" class=\"data row1 col2\" >0.886484</td> \n",
       "    </tr>    <tr> \n",
       "        <th id=\"T_dbc81b62_6ca0_11e8_97ef_0010c6b1e647level0_row2\" class=\"row_heading level0 row2\" >precision</th> \n",
       "        <td id=\"T_dbc81b62_6ca0_11e8_97ef_0010c6b1e647row2_col0\" class=\"data row2 col0\" >0.592262</td> \n",
       "        <td id=\"T_dbc81b62_6ca0_11e8_97ef_0010c6b1e647row2_col1\" class=\"data row2 col1\" >0.418192</td> \n",
       "        <td id=\"T_dbc81b62_6ca0_11e8_97ef_0010c6b1e647row2_col2\" class=\"data row2 col2\" >0.390749</td> \n",
       "    </tr>    <tr> \n",
       "        <th id=\"T_dbc81b62_6ca0_11e8_97ef_0010c6b1e647level0_row3\" class=\"row_heading level0 row3\" >f1</th> \n",
       "        <td id=\"T_dbc81b62_6ca0_11e8_97ef_0010c6b1e647row3_col0\" class=\"data row3 col0\" >0.573282</td> \n",
       "        <td id=\"T_dbc81b62_6ca0_11e8_97ef_0010c6b1e647row3_col1\" class=\"data row3 col1\" >0.565535</td> \n",
       "        <td id=\"T_dbc81b62_6ca0_11e8_97ef_0010c6b1e647row3_col2\" class=\"data row3 col2\" >0.542411</td> \n",
       "    </tr>    <tr> \n",
       "        <th id=\"T_dbc81b62_6ca0_11e8_97ef_0010c6b1e647level0_row4\" class=\"row_heading level0 row4\" >cross_entropy</th> \n",
       "        <td id=\"T_dbc81b62_6ca0_11e8_97ef_0010c6b1e647row4_col0\" class=\"data row4 col0\" >0.625172</td> \n",
       "        <td id=\"T_dbc81b62_6ca0_11e8_97ef_0010c6b1e647row4_col1\" class=\"data row4 col1\" >0.34436</td> \n",
       "        <td id=\"T_dbc81b62_6ca0_11e8_97ef_0010c6b1e647row4_col2\" class=\"data row4 col2\" >0.352263</td> \n",
       "    </tr>    <tr> \n",
       "        <th id=\"T_dbc81b62_6ca0_11e8_97ef_0010c6b1e647level0_row5\" class=\"row_heading level0 row5\" >roc_auc</th> \n",
       "        <td id=\"T_dbc81b62_6ca0_11e8_97ef_0010c6b1e647row5_col0\" class=\"data row5 col0\" >0.750474</td> \n",
       "        <td id=\"T_dbc81b62_6ca0_11e8_97ef_0010c6b1e647row5_col1\" class=\"data row5 col1\" >0.93394</td> \n",
       "        <td id=\"T_dbc81b62_6ca0_11e8_97ef_0010c6b1e647row5_col2\" class=\"data row5 col2\" >0.929823</td> \n",
       "    </tr>    <tr> \n",
       "        <th id=\"T_dbc81b62_6ca0_11e8_97ef_0010c6b1e647level0_row6\" class=\"row_heading level0 row6\" >cohen_kappa</th> \n",
       "        <td id=\"T_dbc81b62_6ca0_11e8_97ef_0010c6b1e647row6_col0\" class=\"data row6 col0\" >0.472997</td> \n",
       "        <td id=\"T_dbc81b62_6ca0_11e8_97ef_0010c6b1e647row6_col1\" class=\"data row6 col1\" >0.464792</td> \n",
       "        <td id=\"T_dbc81b62_6ca0_11e8_97ef_0010c6b1e647row6_col2\" class=\"data row6 col2\" >0.44074</td> \n",
       "    </tr></tbody> \n",
       "</table> "
      ],
      "text/plain": [
       "<pandas.io.formats.style.Styler at 0x7f33669d6668>"
      ]
     },
     "metadata": {},
     "output_type": "display_data"
    },
    {
     "name": "stdout",
     "output_type": "stream",
     "text": [
      "Actual poverty rate: 11.38% \n",
      "Predicted poverty rate: 11.65% \n"
     ]
    }
   ],
   "source": [
    "metrics = evaluation.evaluate_model(y_test,\n",
    "                                    y_pred, \n",
    "                                    y_prob,\n",
    "                                    w_test,\n",
    "                                    compare_models=['ensemble_simple', 'ensemble_stacked'],\n",
    "                                    prefix=ALGORITHM_NAME,\n",
    "                                    model_name='tpot', \n",
    "                                    country=COUNTRY,\n",
    "                                    predict_pov_rate=True,\n",
    "                                    store_model=True,\n",
    "                                    show=True,\n",
    "                                    model=model)"
   ]
  },
  {
   "cell_type": "markdown",
   "metadata": {},
   "source": [
    "The TPOT model appears to perform well in many metrics, but its ROC area and cross entropy are particularly bad. Recall that the ROC curve calculation is a function of the\n",
    "\n",
    "1. predicted class probabilites\n",
    "2. the threshold used to map the probabilties to classes\n",
    "\n",
    "The axes, \"true positive rate\" and \"false positive rate\" depend on the threshold used to round the probabilties. The piecewise constant appearance of the ROC curve above sugggests that varying this threshold has little impact on the rounded classes. That implies that the class probabilities are likely clustered around just a few values. In other words, the model's confidence is consistent, and likely close to 50%.\n",
    "\n",
    "We can check this claim by inspecting the class probabilities `y_prob`. First, convert the probabilities to a Pandas Series for easier manipulation."
   ]
  },
  {
   "cell_type": "code",
   "execution_count": 13,
   "metadata": {
    "collapsed": true
   },
   "outputs": [],
   "source": [
    "y_prob_series = pd.Series(y_prob)"
   ]
  },
  {
   "cell_type": "code",
   "execution_count": 14,
   "metadata": {
    "collapsed": false
   },
   "outputs": [
    {
     "data": {
      "text/plain": [
       "count    1771.000000\n",
       "mean        0.460739\n",
       "std         0.020079\n",
       "min         0.454262\n",
       "25%         0.454262\n",
       "50%         0.454262\n",
       "75%         0.454262\n",
       "max         0.522949\n",
       "dtype: float64"
      ]
     },
     "execution_count": 14,
     "metadata": {},
     "output_type": "execute_result"
    }
   ],
   "source": [
    "y_prob_series.describe()"
   ]
  },
  {
   "cell_type": "markdown",
   "metadata": {},
   "source": [
    "Indeed, it appears the the class probabilities cluster very tightly from about 0.45 to just over 0.5, with a relatively small standard deviation.\n",
    "\n",
    "Check the number of unique predicted probabilties"
   ]
  },
  {
   "cell_type": "code",
   "execution_count": 15,
   "metadata": {
    "collapsed": false
   },
   "outputs": [
    {
     "data": {
      "text/plain": [
       "2"
      ]
     },
     "execution_count": 15,
     "metadata": {},
     "output_type": "execute_result"
    }
   ],
   "source": [
    "y_prob_series.nunique()"
   ]
  },
  {
   "cell_type": "markdown",
   "metadata": {},
   "source": [
    "Just 3 values! The model isn't very confident at all. We can see a histogram of those predictions here:"
   ]
  },
  {
   "cell_type": "code",
   "execution_count": 16,
   "metadata": {
    "collapsed": false
   },
   "outputs": [
    {
     "data": {
      "text/plain": [
       "<matplotlib.axes._subplots.AxesSubplot at 0x7f3369373470>"
      ]
     },
     "execution_count": 16,
     "metadata": {},
     "output_type": "execute_result"
    },
    {
     "data": {
      "image/png": "[encoded data removed]",
      "text/plain": [
       "<Figure size 432x288 with 1 Axes>"
      ]
     },
     "metadata": {},
     "output_type": "display_data"
    }
   ],
   "source": [
    "y_prob_series.plot.hist()"
   ]
  },
  {
   "cell_type": "markdown",
   "metadata": {},
   "source": [
    "It looks like optimization with respect to f1 led the model to only predict very specific probabilities. While we can't be sure why this is the case, it is possible that the genetic algorithm is getting stuck in a local minimum during optimization."
   ]
  },
  {
   "cell_type": "markdown",
   "metadata": {},
   "source": [
    "# Summary <a class=\"anchor\" id=\"summary\"></a>\n",
    "\n",
    "The TPOT package is certainly easy to use, and it produced OK results against some metrics given the very little effort required to train the model. However, the oprtimization process not only led to a strange, hard-to-interpret pipeline, but also a very biased classifier that only predicts 3 unique values. It is possible that other TPOT configurations could help improve the metrics. The purpose of this exercise was to see how AutoML performs \"out of the box,\" and it seems that given the comnputational power needed to obtain these results, we are perhaps better off relying on simpler models."
   ]
  }
 ],
 "metadata": {
  "kernelspec": {
   "display_name": "Python 3",
   "language": "python",
   "name": "python3"
  },
  "language_info": {
   "codemirror_mode": {
    "name": "ipython",
    "version": 3
   },
   "file_extension": ".py",
   "mimetype": "text/x-python",
   "name": "python",
   "nbconvert_exporter": "python",
   "pygments_lexer": "ipython3",
   "version": "3.6.0"
  }
 },
 "nbformat": 4,
 "nbformat_minor": 2
}
